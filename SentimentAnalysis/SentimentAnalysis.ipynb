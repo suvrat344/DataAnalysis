{
 "cells": [
  {
   "cell_type": "markdown",
   "id": "93164759",
   "metadata": {},
   "source": [
    "## SentimentAnalysis"
   ]
  },
  {
   "cell_type": "code",
   "execution_count": null,
   "id": "61ff0749",
   "metadata": {},
   "outputs": [],
   "source": [
    "# pip install spacy\n",
    "# pip install textblob\n",
    "# pip install vadersentiment"
   ]
  },
  {
   "cell_type": "markdown",
   "id": "5b05df32",
   "metadata": {},
   "source": [
    "Subjectivity: Subjectivity measures how subjective or objective a piece of text is. A subjective sentence expresses someone's \n",
    "opinion, emotion, or judgment, while an objective sentence states a fact. Subjectivity is typically measured on a scale from 0 \n",
    "to 1, where 0 indicates complete objectivity (fact-based) and 1 indicates complete subjectivity (opinion-based).\n",
    "\n",
    "Polarity: Polarity measures the sentiment expressed in a piece of text. It indicates whether the text expresses a positive, \n",
    "negative, or neutral sentiment. Polarity is typically measured on a scale from -1 to 1, where -1 indicates a highly negative \n",
    "sentiment, 0 indicates a neutral sentiment, and 1 indicates a highly positive sentiment.\n",
    "\n",
    "When you analyze text using TextBlob, it can provide you with these metrics for each piece of text you analyze. For example, if \n",
    "you analyze a sentence like \"I love this product!\", TextBlob might output a polarity score close to 1 (indicating a positive \n",
    "sentiment) and a subjectivity score close to 1 (indicating a highly subjective statement). Conversely, for a sentence like \n",
    "\"The sky is blue,\" TextBlob might output a polarity score close to 0 (indicating a neutral sentiment) and a subjectivity score \n",
    "close to 0 (indicating an objective statement)."
   ]
  },
  {
   "cell_type": "code",
   "execution_count": null,
   "id": "817ce7c5",
   "metadata": {},
   "outputs": [],
   "source": [
    "# Importing Packages\n",
    "\n",
    "import pandas as pd\n",
    "import numpy as np\n",
    "import spacy\n",
    "from textblob import TextBlob\n",
    "from sklearn.metrics import classification_report\n",
    "from vaderSentiment.vaderSentiment import SentimentIntensityAnalyzer"
   ]
  },
  {
   "cell_type": "code",
   "execution_count": null,
   "id": "105be0a9",
   "metadata": {},
   "outputs": [],
   "source": [
    "# importing Dataset\n",
    "\n",
    "df = pd.read_csv(\"IMDBDataset.csv\",nrows=1000)"
   ]
  },
  {
   "cell_type": "code",
   "execution_count": null,
   "id": "d6523aea",
   "metadata": {},
   "outputs": [],
   "source": [
    "# Display Top 5 Rows\n",
    "\n",
    "df.head()"
   ]
  },
  {
   "cell_type": "code",
   "execution_count": null,
   "id": "1594fb20",
   "metadata": {},
   "outputs": [],
   "source": [
    "# Calculate Polarity And Subjectivity\n",
    "\n",
    "df[\"TextBlob_Subjectivity\"] = df[\"review\"].apply(lambda x:TextBlob(x).sentiment.subjectivity)\n",
    "df[\"TextBlob_Polarity\"] = df[\"review\"].apply(lambda x:TextBlob(x).sentiment.polarity)"
   ]
  },
  {
   "cell_type": "code",
   "execution_count": null,
   "id": "7e86cf02",
   "metadata": {},
   "outputs": [],
   "source": [
    "# Sentiment Analysis\n",
    "\n",
    "df[\"Textblob_Analysis\"] = df[\"TextBlob_Polarity\"].apply(lambda x: 'Negative' if x<0 else \"Positive\")\n",
    "df"
   ]
  },
  {
   "cell_type": "code",
   "execution_count": null,
   "id": "5eac1360",
   "metadata": {},
   "outputs": [],
   "source": [
    "# Display Classification Report\n",
    "\n",
    "print(classification_report(df[\"sentiment\"],df[\"Textblob_Analysis\"]))"
   ]
  },
  {
   "cell_type": "code",
   "execution_count": null,
   "id": "76d61faf",
   "metadata": {},
   "outputs": [],
   "source": [
    "# Sentiment Analysis\n",
    "\n",
    "analysis = TextBlob(\"TextBlob sure looks like it has some interesting features!\")\n",
    "analysis.sentiment"
   ]
  },
  {
   "cell_type": "code",
   "execution_count": null,
   "id": "d856e830",
   "metadata": {},
   "outputs": [],
   "source": [
    "# Sentiment Analysis Using TextBlob\n",
    "\n",
    "pos_count = 0\n",
    "pos_correct = 0\n",
    "\n",
    "with open(\"PositiveSentiment.txt\",\"r\") as f:\n",
    "    for line in f.read().split('\\n'):\n",
    "        analysis = TextBlob(line)\n",
    "\n",
    "        if analysis.sentiment.polarity >= 0.5:\n",
    "            if analysis.sentiment.polarity > 0:\n",
    "                pos_correct += 1\n",
    "            pos_count +=1\n",
    "\n",
    "\n",
    "neg_count = 0\n",
    "neg_correct = 0\n",
    "\n",
    "with open(\"NegativeSentiment.txt\",\"r\") as f:\n",
    "    for line in f.read().split('\\n'):\n",
    "        analysis = TextBlob(line)\n",
    "        if analysis.sentiment.polarity <= -0.5:\n",
    "            if analysis.sentiment.polarity <= 0:\n",
    "                neg_correct += 1\n",
    "            neg_count +=1\n",
    "\n",
    "print(\"Positive accuracy = {}% via {} samples\".format(pos_correct/pos_count*100.0, pos_count))\n",
    "print(\"Negative accuracy = {}% via {} samples\".format(neg_correct/neg_count*100.0, neg_count))"
   ]
  },
  {
   "cell_type": "code",
   "execution_count": null,
   "id": "eeca63d6",
   "metadata": {},
   "outputs": [],
   "source": [
    "# Sentiment Analysis Using VaderSentiment\n",
    "\n",
    "analyzer = SentimentIntensityAnalyzer()\n",
    "\n",
    "pos_count = 0\n",
    "pos_correct = 0\n",
    "\n",
    "with open(\"PositiveSentiment.txt\",\"r\") as f:\n",
    "    for line in f.read().split('\\n'):\n",
    "        vs = analyzer.polarity_scores(line)\n",
    "        if not vs['neg'] > 0.1:\n",
    "            if vs['pos']-vs['neg'] > 0:\n",
    "                pos_correct += 1\n",
    "            pos_count +=1\n",
    "\n",
    "\n",
    "neg_count = 0\n",
    "neg_correct = 0\n",
    "\n",
    "with open(\"NegativeSentiment.txt\",\"r\") as f:\n",
    "    for line in f.read().split('\\n'):\n",
    "        vs = analyzer.polarity_scores(line)\n",
    "        if not vs['pos'] > 0.1:\n",
    "            if vs['pos']-vs['neg'] <= 0:\n",
    "                neg_correct += 1\n",
    "            neg_count +=1\n",
    "\n",
    "print(\"Positive accuracy = {}% via {} samples\".format(pos_correct/pos_count*100.0, pos_count))\n",
    "print(\"Negative accuracy = {}% via {} samples\".format(neg_correct/neg_count*100.0, neg_count))"
   ]
  }
 ],
 "metadata": {
  "kernelspec": {
   "display_name": "Python 3 (ipykernel)",
   "language": "python",
   "name": "python3"
  },
  "language_info": {
   "codemirror_mode": {
    "name": "ipython",
    "version": 3
   },
   "file_extension": ".py",
   "mimetype": "text/x-python",
   "name": "python",
   "nbconvert_exporter": "python",
   "pygments_lexer": "ipython3",
   "version": "3.11.5"
  }
 },
 "nbformat": 4,
 "nbformat_minor": 5
}
