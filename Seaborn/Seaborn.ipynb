{
 "cells": [
  {
   "cell_type": "markdown",
   "id": "8182585d",
   "metadata": {},
   "source": [
    "## Seaborn1"
   ]
  },
  {
   "cell_type": "code",
   "execution_count": null,
   "id": "c36cb119",
   "metadata": {},
   "outputs": [],
   "source": [
    "# Importing Packages\n",
    "\n",
    "import numpy as np\n",
    "import pandas as pd\n",
    "import seaborn as sns\n",
    "import matplotlib.pyplot as plt\n",
    "import plotly.express as px"
   ]
  },
  {
   "cell_type": "code",
   "execution_count": null,
   "id": "f0d73bbb",
   "metadata": {},
   "outputs": [],
   "source": [
    "# Importing Dataset\n",
    "\n",
    "tips = sns.load_dataset(\"tips\")\n",
    "tips"
   ]
  },
  {
   "cell_type": "code",
   "execution_count": null,
   "id": "05af1029",
   "metadata": {},
   "outputs": [],
   "source": [
    "# Scatter Plot -> Axes level Function\n",
    "\n",
    "sns.scatterplot(data = tips,x = 'total_bill',y = 'tip',hue=\"sex\",style=\"time\",size=\"size\")\n",
    "plt.show()"
   ]
  },
  {
   "cell_type": "code",
   "execution_count": null,
   "id": "6d2e8be5",
   "metadata": {},
   "outputs": [],
   "source": [
    "# Scatter Plot -> Figure Level Function\n",
    "\n",
    "sns.relplot(data = tips,x = 'total_bill',y = 'tip',kind = 'scatter',hue='sex',style=\"time\",size=\"size\")\n",
    "plt.show()"
   ]
  },
  {
   "cell_type": "code",
   "execution_count": null,
   "id": "b8540adb",
   "metadata": {},
   "outputs": [],
   "source": [
    "# Importing Dataset\n",
    "\n",
    "gap = px.data.gapminder()\n",
    "gap"
   ]
  },
  {
   "cell_type": "code",
   "execution_count": null,
   "id": "13d747a2",
   "metadata": {},
   "outputs": [],
   "source": [
    "# Lineplot -> Axes Level Function\n",
    "\n",
    "temp_df = gap[gap['country']=='India']\n",
    "sns.lineplot(data=temp_df,x=\"year\",y=\"lifeExp\")\n",
    "plt.show()"
   ]
  },
  {
   "cell_type": "code",
   "execution_count": null,
   "id": "f6687fea",
   "metadata": {},
   "outputs": [],
   "source": [
    "# Lineplot -> Figure Level Function\n",
    "\n",
    "temp_df = gap[gap[\"country\"].isin([\"India\",\"Pakistan\",\"China\"])]\n",
    "sns.relplot(data=temp_df,x=\"year\",y=\"lifeExp\",kind=\"line\",hue=\"country\")"
   ]
  },
  {
   "cell_type": "code",
   "execution_count": null,
   "id": "54d888dc",
   "metadata": {},
   "outputs": [],
   "source": [
    "# Lineplot \n",
    "\n",
    "temp_df = gap[gap[\"country\"].isin([\"India\",\"Brazil\",\"Germany\"])]\n",
    "sns.relplot(data=temp_df,x=\"year\",y=\"lifeExp\",kind=\"line\",hue=\"country\",style=\"continent\",size='continent')"
   ]
  },
  {
   "cell_type": "code",
   "execution_count": null,
   "id": "c415ab1e",
   "metadata": {},
   "outputs": [],
   "source": [
    "# Facetplot -> Figure Level Function -> Work With Relplot\n",
    "\n",
    "sns.relplot(data=tips,x=\"total_bill\",y=\"tip\",kind=\"scatter\",col=\"sex\")"
   ]
  },
  {
   "cell_type": "code",
   "execution_count": null,
   "id": "54cc17d9",
   "metadata": {},
   "outputs": [],
   "source": [
    "# Facetplot\n",
    "\n",
    "sns.relplot(data=tips,x=\"total_bill\",y=\"tip\",kind=\"scatter\",row=\"sex\")"
   ]
  },
  {
   "cell_type": "code",
   "execution_count": null,
   "id": "1d383b16",
   "metadata": {},
   "outputs": [],
   "source": [
    "# Facetplot\n",
    "\n",
    "sns.relplot(data=tips,x=\"total_bill\",y=\"tip\",kind=\"scatter\",col=\"smoker\",row=\"sex\")"
   ]
  },
  {
   "cell_type": "code",
   "execution_count": null,
   "id": "aa1d0d9b",
   "metadata": {},
   "outputs": [],
   "source": [
    "# Facetplot\n",
    "\n",
    "sns.relplot(data=gap,x=\"lifeExp\",y=\"gdpPercap\",kind=\"scatter\",col=\"year\",col_wrap=3)"
   ]
  },
  {
   "cell_type": "code",
   "execution_count": null,
   "id": "27dad649",
   "metadata": {},
   "outputs": [],
   "source": [
    "# Histogram -> Axes Level Function\n",
    "\n",
    "sns.histplot(data=tips,x='total_bill')\n",
    "plt.show()"
   ]
  },
  {
   "cell_type": "code",
   "execution_count": null,
   "id": "d79f7e32",
   "metadata": {},
   "outputs": [],
   "source": [
    "# Histogram -> Figure Level Function\n",
    "\n",
    "sns.displot(data=tips,x='total_bill',kind=\"hist\",bins=20,hue=\"sex\")"
   ]
  },
  {
   "cell_type": "code",
   "execution_count": null,
   "id": "42b0d874",
   "metadata": {},
   "outputs": [],
   "source": [
    "# Importing Dataset\n",
    "\n",
    "titanic = sns.load_dataset(\"titanic\")\n",
    "titanic"
   ]
  },
  {
   "cell_type": "code",
   "execution_count": null,
   "id": "a39500fd",
   "metadata": {},
   "outputs": [],
   "source": [
    "# Histogram -> Figure Level Function\n",
    "\n",
    "sns.displot(data=titanic,x='age',kind=\"hist\",bins=20,element=\"step\",col=\"sex\")"
   ]
  },
  {
   "cell_type": "code",
   "execution_count": null,
   "id": "19c56129",
   "metadata": {},
   "outputs": [],
   "source": [
    "# KdePlot -> Axes level Function\n",
    "\n",
    "sns.kdeplot(data=tips,x=\"total_bill\")\n",
    "plt.show()"
   ]
  },
  {
   "cell_type": "code",
   "execution_count": null,
   "id": "aa41f9a6",
   "metadata": {},
   "outputs": [],
   "source": [
    "# KdePlot -> Figure level Function\n",
    "\n",
    "sns.displot(data=tips,x=\"total_bill\",kind='kde',hue='sex',fill=True)"
   ]
  },
  {
   "cell_type": "code",
   "execution_count": null,
   "id": "ca29f2d4",
   "metadata": {},
   "outputs": [],
   "source": [
    "# RugPlot -> Axes Level Function\n",
    "\n",
    "sns.kdeplot(data=tips,x=\"total_bill\")\n",
    "sns.rugplot(data=tips,x=\"total_bill\")"
   ]
  },
  {
   "cell_type": "code",
   "execution_count": null,
   "id": "5a6a5f72",
   "metadata": {},
   "outputs": [],
   "source": [
    "# Bivariate Histogram\n",
    "\n",
    "#sns.histplot(data=tips,x='total_bill',y='tip')\n",
    "sns.displot(data=tips,x='total_bill',y='tip',kind='hist')"
   ]
  },
  {
   "cell_type": "code",
   "execution_count": null,
   "id": "5ab40148",
   "metadata": {},
   "outputs": [],
   "source": [
    "# Bivariate KdePlot\n",
    "\n",
    "sns.kdeplot(data=tips,x='total_bill',y='tip')"
   ]
  },
  {
   "cell_type": "code",
   "execution_count": null,
   "id": "286c349c",
   "metadata": {},
   "outputs": [],
   "source": [
    "# Heatmap -> Axes Level Function\n",
    "\n",
    "plt.figure(figsize=(15,15))\n",
    "temp_df = gap.pivot(index='country',columns='year',values='lifeExp')\n",
    "sns.heatmap(data=temp_df)"
   ]
  },
  {
   "cell_type": "code",
   "execution_count": null,
   "id": "8a31b7c8",
   "metadata": {},
   "outputs": [],
   "source": [
    "# Heapmap\n",
    "\n",
    "temp_df = gap[gap['continent'] == 'Europe'].pivot(index='country',columns='year',values='lifeExp')\n",
    "plt.figure(figsize=(15,15))\n",
    "sns.heatmap(data=temp_df,annot=True,linewidth=0.5,cmap='viridis')"
   ]
  },
  {
   "cell_type": "code",
   "execution_count": null,
   "id": "b1389e58",
   "metadata": {},
   "outputs": [],
   "source": [
    "# Importing Dataset\n",
    "\n",
    "iris = px.data.iris()\n",
    "iris"
   ]
  },
  {
   "cell_type": "code",
   "execution_count": null,
   "id": "a7d76397",
   "metadata": {},
   "outputs": [],
   "source": [
    "# Clustermap\n",
    "\n",
    "sns.clustermap(data=iris.iloc[:,[0,1,2,3]])"
   ]
  },
  {
   "cell_type": "markdown",
   "id": "306394ac",
   "metadata": {},
   "source": [
    "## Question Based On Seaborn1"
   ]
  },
  {
   "cell_type": "code",
   "execution_count": null,
   "id": "c8793acf",
   "metadata": {},
   "outputs": [],
   "source": [
    "# Using Gapminder Data\n",
    "# 1. Create a scatter plot of 'gdpPercap' against 'lifeExp' for the year 2007, with the size of the markers determined by 'pop'\n",
    "# and the color determined by 'continent'."
   ]
  },
  {
   "cell_type": "code",
   "execution_count": null,
   "id": "614f3f05",
   "metadata": {},
   "outputs": [],
   "source": [
    "# Using flights dataset of seaborn.\n",
    "# 2. Using the \"flights\" dataset that comes with seaborn, create a heatmap that shows the average number of passengers per month\n",
    "# for each year."
   ]
  },
  {
   "cell_type": "code",
   "execution_count": null,
   "id": "9c57a517",
   "metadata": {},
   "outputs": [],
   "source": [
    "# 3. Using the seaborn's flight dataset, create a clustermap to visualize the relationship between the number of passengers, \n",
    "# months, and year."
   ]
  },
  {
   "cell_type": "code",
   "execution_count": null,
   "id": "dfc68dd1",
   "metadata": {},
   "outputs": [],
   "source": [
    "# 4. Draw a scatter plot based on the below conditions:\n",
    "# a) x-axis should be \"age\" and y-axis should be \"bmi\".\n",
    "# b) For hue, size and style parameters use \"diabetic\", \"gender\" and \"smoker\" column respectively.\n",
    "# c) Add title to your chart.\n",
    "# d) Age should be less than 70 percentiles.\n",
    "# e) BMI should be greater than the average value of the filtered age dataset."
   ]
  },
  {
   "cell_type": "code",
   "execution_count": null,
   "id": "7a998f07",
   "metadata": {},
   "outputs": [],
   "source": [
    "# 5. Draw a line plot by using the below informations\n",
    "# a) bloodpressure vs children\n",
    "# b) Blood-pressure values should be between 90 and 100. The upper and lower limit are included.\n",
    "# c) Show the details of \"smoker\"."
   ]
  },
  {
   "cell_type": "code",
   "execution_count": null,
   "id": "a951a7ad",
   "metadata": {},
   "outputs": [],
   "source": [
    "# 6. Draw a histogram using displot\n",
    "# a) based on \"age\" column.\n",
    "# b) Show details of \"smoker\" (hue).\n",
    "# c) Create 2 separate charts for the above 2 conditions based on \"gender\" side-by-side."
   ]
  },
  {
   "cell_type": "code",
   "execution_count": null,
   "id": "38fad01a",
   "metadata": {},
   "outputs": [],
   "source": [
    "# 7. Draw a kde plot between \"age\" and \"bloodpressure\"."
   ]
  },
  {
   "cell_type": "code",
   "execution_count": null,
   "id": "83d9dc21",
   "metadata": {},
   "outputs": [],
   "source": [
    "# 8. Draw a clustermap between between \"age\", \"bmi\" and \"bloodpressure\"."
   ]
  },
  {
   "cell_type": "markdown",
   "id": "2edd1f10",
   "metadata": {},
   "source": [
    "## Seaborn2"
   ]
  },
  {
   "cell_type": "code",
   "execution_count": null,
   "id": "a15e67b9",
   "metadata": {},
   "outputs": [],
   "source": [
    "# Categorical Plot\n",
    "## Categorical Scatter Plot\n",
    "#     . Strip Plot\n",
    "#     . Swarm Plot\n",
    "## Categorical Distribution Plot\n",
    "#     . Box Plot\n",
    "#     . Violin Plot\n",
    "## Categorical Estimate Plot\n",
    "#     . Bar Plot\n",
    "#     . Point Plot\n",
    "#     . Count Plot\n",
    "# Figure Level Function -> Cat Plot"
   ]
  },
  {
   "cell_type": "code",
   "execution_count": null,
   "id": "8ca02f45",
   "metadata": {},
   "outputs": [],
   "source": [
    "# Strip Plot -> Axis Level Function\n",
    "\n",
    "sns.stripplot(data=tips,x='day',y='total_bill',jitter=False,hue=\"sex\")\n",
    "plt.show()"
   ]
  },
  {
   "cell_type": "code",
   "execution_count": null,
   "id": "68b1214c",
   "metadata": {},
   "outputs": [],
   "source": [
    "# Strip Plot -> Figure Level Function\n",
    "\n",
    "sns.catplot(data=tips,x='day',y='total_bill',kind='strip',jitter=False,hue=\"sex\")\n",
    "plt.show()"
   ]
  },
  {
   "cell_type": "code",
   "execution_count": null,
   "id": "bfe85221",
   "metadata": {},
   "outputs": [],
   "source": [
    "# Swarm Plot -> Axis level Function\n",
    "\n",
    "sns.swarmplot(data=tips,x='day',y='total_bill',hue='sex')"
   ]
  },
  {
   "cell_type": "code",
   "execution_count": null,
   "id": "34a13864",
   "metadata": {},
   "outputs": [],
   "source": [
    "# Swarm Plot -> Figure Level Function\n",
    "\n",
    "sns.catplot(data=tips,x='day',y='total_bill',kind='swarm',hue='sex')"
   ]
  },
  {
   "cell_type": "code",
   "execution_count": null,
   "id": "e885aacd",
   "metadata": {},
   "outputs": [],
   "source": [
    "# Box Plot -> Axis Level Function\n",
    "\n",
    "sns.boxplot(data=tips,x='day',y='total_bill',hue='sex')"
   ]
  },
  {
   "cell_type": "code",
   "execution_count": null,
   "id": "43fd1219",
   "metadata": {},
   "outputs": [],
   "source": [
    "# Box Plot -> Figure Level Function\n",
    "\n",
    "sns.catplot(data=tips,x='day',y='total_bill',kind='box',hue='sex')"
   ]
  },
  {
   "cell_type": "code",
   "execution_count": null,
   "id": "71db9c9c",
   "metadata": {},
   "outputs": [],
   "source": [
    "# Boxplot\n",
    "\n",
    "sns.boxplot(data=tips,y='total_bill')"
   ]
  },
  {
   "cell_type": "code",
   "execution_count": null,
   "id": "035d52e7",
   "metadata": {},
   "outputs": [],
   "source": [
    "# Violin PLot -> Axes Level Function\n",
    "\n",
    "sns.violinplot(data=tips,x='day',y='total_bill',hue='sex',split=True)"
   ]
  },
  {
   "cell_type": "code",
   "execution_count": null,
   "id": "f157decb",
   "metadata": {},
   "outputs": [],
   "source": [
    "# Violin PLot -> Figure Level Function\n",
    "\n",
    "sns.catplot(data=tips,x='day',y='total_bill',kind='violin',hue='sex',split=True)"
   ]
  },
  {
   "cell_type": "code",
   "execution_count": null,
   "id": "153091d9",
   "metadata": {},
   "outputs": [],
   "source": [
    "# Bar Plot -> Axes level Function\n",
    "\n",
    "sns.barplot(data=tips,x='sex',y='total_bill',hue='smoker')\n",
    "plt.show()"
   ]
  },
  {
   "cell_type": "code",
   "execution_count": null,
   "id": "5d78f12d",
   "metadata": {},
   "outputs": [],
   "source": [
    "# Bar Plot -> Figure level Function\n",
    "\n",
    "sns.catplot(data=tips,x='sex',y='total_bill',kind='bar',hue='smoker',estimator=np.std,errorbar=None)"
   ]
  },
  {
   "cell_type": "code",
   "execution_count": null,
   "id": "2daba7b0",
   "metadata": {},
   "outputs": [],
   "source": [
    "# Point Plot -> Axes Level Function\n",
    "\n",
    "sns.pointplot(data=tips,x='sex',y='total_bill',hue='smoker',estimator=np.std)"
   ]
  },
  {
   "cell_type": "code",
   "execution_count": null,
   "id": "9a77536f",
   "metadata": {},
   "outputs": [],
   "source": [
    "# Count Plot -> Axes level Function\n",
    "\n",
    "sns.countplot(data=tips,x='sex',hue='day')"
   ]
  },
  {
   "cell_type": "code",
   "execution_count": null,
   "id": "ccb9759d",
   "metadata": {},
   "outputs": [],
   "source": [
    "# Facet Plot\n",
    "\n",
    "sns.catplot(data = tips,x='sex',y='total_bill',col = 'smoker',row = 'time',kind='box')"
   ]
  },
  {
   "cell_type": "code",
   "execution_count": null,
   "id": "36b2e9c4",
   "metadata": {},
   "outputs": [],
   "source": [
    "## Regression Plot \n",
    "#    . Reg Plot\n",
    "#    . Lm Plot"
   ]
  },
  {
   "cell_type": "code",
   "execution_count": null,
   "id": "9653e495",
   "metadata": {},
   "outputs": [],
   "source": [
    "# Reg Plot -> Axes Level Function\n",
    "\n",
    "sns.regplot(data=tips,x='total_bill',y='tip')\n",
    "plt.show()"
   ]
  },
  {
   "cell_type": "code",
   "execution_count": null,
   "id": "69a3bf72",
   "metadata": {},
   "outputs": [],
   "source": [
    "# Reg Plot -> Figure Level Function\n",
    "\n",
    "sns.lmplot(data=tips,x='total_bill',y='tip',hue='sex')"
   ]
  },
  {
   "cell_type": "code",
   "execution_count": null,
   "id": "37902754",
   "metadata": {},
   "outputs": [],
   "source": [
    "# Resid Plot\n",
    "\n",
    "sns.residplot(data=tips,x='total_bill',y='tip')"
   ]
  },
  {
   "cell_type": "code",
   "execution_count": null,
   "id": "6df84f6c",
   "metadata": {},
   "outputs": [],
   "source": [
    "# Facet Grid\n",
    "\n",
    "g = sns.FacetGrid(data=tips,col='day',row='time')\n",
    "g.map(sns.violinplot,'sex','total_bill')"
   ]
  },
  {
   "cell_type": "code",
   "execution_count": null,
   "id": "45f214d3",
   "metadata": {},
   "outputs": [],
   "source": [
    "# Pair Plot\n",
    "\n",
    "sns.pairplot(data=iris,hue='species')"
   ]
  },
  {
   "cell_type": "code",
   "execution_count": null,
   "id": "549dfed4",
   "metadata": {},
   "outputs": [],
   "source": [
    "# Pair Grid\n",
    "\n",
    "g = sns.PairGrid(data=iris,hue='species')\n",
    "g.map(sns.scatterplot)"
   ]
  },
  {
   "cell_type": "code",
   "execution_count": null,
   "id": "55cf7ef2",
   "metadata": {},
   "outputs": [],
   "source": [
    "# Pair Grid\n",
    "\n",
    "g = sns.PairGrid(data=iris,hue='species')\n",
    "g.map_diag(sns.violinplot)\n",
    "g.map_offdiag(sns.scatterplot)"
   ]
  },
  {
   "cell_type": "code",
   "execution_count": null,
   "id": "76137418",
   "metadata": {},
   "outputs": [],
   "source": [
    "# Pair Grid\n",
    "\n",
    "g = sns.PairGrid(data=iris,hue='species',vars=['sepal_width','petal_width'])\n",
    "g.map_diag(sns.histplot)\n",
    "g.map_upper(sns.kdeplot)\n",
    "g.map_lower(sns.scatterplot)"
   ]
  },
  {
   "cell_type": "code",
   "execution_count": null,
   "id": "f1cc331c",
   "metadata": {},
   "outputs": [],
   "source": [
    "# Joint Plot\n",
    "\n",
    "sns.jointplot(data=tips,x='total_bill',y='tip',kind='kde',hue='sex')\n",
    "plt.show()"
   ]
  },
  {
   "cell_type": "code",
   "execution_count": null,
   "id": "56afe4d0",
   "metadata": {},
   "outputs": [],
   "source": [
    "# Joint Grid\n",
    "\n",
    "g = sns.JointGrid(data=tips,x='total_bill',y='tip')\n",
    "g.plot(sns.scatterplot,sns.violinplot)"
   ]
  },
  {
   "cell_type": "code",
   "execution_count": null,
   "id": "59e68810",
   "metadata": {},
   "outputs": [],
   "source": [
    "# Get All Dataset Present In Seaborn\n",
    "\n",
    "sns.get_dataset_names()"
   ]
  },
  {
   "cell_type": "markdown",
   "id": "a15baa25",
   "metadata": {},
   "source": [
    "##  Question Based On Seaborn2"
   ]
  },
  {
   "cell_type": "code",
   "execution_count": null,
   "id": "d42b5a44",
   "metadata": {},
   "outputs": [],
   "source": [
    "# Using the 'diamonds' dataset - sns.load_dataset('diamonds') -> Question 1 to 3 \n",
    "# 1. Create a violinplot of 'price' grouped by 'cut'."
   ]
  },
  {
   "cell_type": "code",
   "execution_count": null,
   "id": "b2453d3c",
   "metadata": {},
   "outputs": [],
   "source": [
    "# 2. Create regplot on carat vs price. and give hue on 'cut'"
   ]
  },
  {
   "cell_type": "code",
   "execution_count": null,
   "id": "5a926ec4",
   "metadata": {},
   "outputs": [],
   "source": [
    "# 3. Create boxplot on 'color' and 'price'"
   ]
  },
  {
   "cell_type": "code",
   "execution_count": null,
   "id": "49c76a01",
   "metadata": {},
   "outputs": [],
   "source": [
    "# 4. Using the 'Taxis' dataset - sns.load_dataset('taxis')\n",
    "# a) Create a categorical estimate plot of the totl fare - 'total' for each payment type - 'payment'.\n",
    "# b) Create a regression plot on time of ride vs total fare. You will need to calculate ride time using pickup and dropoff \n",
    "# column.\n",
    "# c) Give hue on payment type. and Another plot hue on taxi 'color'. Observe the plot."
   ]
  },
  {
   "cell_type": "code",
   "execution_count": null,
   "id": "52926486",
   "metadata": {},
   "outputs": [],
   "source": [
    "# 5. Draw a strip plot and swarm plot between \"gender\" and \"bloodpressure\" w.r.t \"smoker\" (use as hue parameter). Also add title\n",
    "# to the charts."
   ]
  },
  {
   "cell_type": "code",
   "execution_count": null,
   "id": "c21da5cf",
   "metadata": {},
   "outputs": [],
   "source": [
    "# 6. Draw a Box-plot and a Violin plot of which x-axis represents the \"region\" and the y-axis represents the \"bmi\". Also add \n",
    "# extra information of the column \"diabetic\"."
   ]
  },
  {
   "cell_type": "code",
   "execution_count": null,
   "id": "907ee2f5",
   "metadata": {},
   "outputs": [],
   "source": [
    "# 7. Draw a bar plot and point plot of which x-axis represents the \"gender\" and y-axis represents \"claim\". Also add extra \n",
    "# information about \"smoker\" column."
   ]
  },
  {
   "cell_type": "code",
   "execution_count": null,
   "id": "a682f90c",
   "metadata": {},
   "outputs": [],
   "source": [
    "# 8. Draw a reg plot between \"age\" and \"bmi\" columns."
   ]
  },
  {
   "cell_type": "code",
   "execution_count": null,
   "id": "b31a843e",
   "metadata": {},
   "outputs": [],
   "source": [
    "# 9. Draw a pair plot of the insurance data. Use \"gender\" as hue parameter."
   ]
  },
  {
   "cell_type": "code",
   "execution_count": null,
   "id": "7e1af3c0",
   "metadata": {},
   "outputs": [],
   "source": [
    "# 10. Draw a pair grid of the insurance data and use \"diabetic\" column as a hue parameter. Also, make the diagonal plots as \n",
    "# box-plot, upper parts as scatter plot and the lower parts as kde plot."
   ]
  },
  {
   "cell_type": "code",
   "execution_count": null,
   "id": "eee0dcc7",
   "metadata": {},
   "outputs": [],
   "source": [
    "# 11. Draw a joint plot as scatter between \"bloodpressure\" and \"bmi\". Use \"smoker\" as hue parameter."
   ]
  },
  {
   "cell_type": "code",
   "execution_count": null,
   "id": "8226c32e",
   "metadata": {},
   "outputs": [],
   "source": [
    "# 12. Draw a joint grid of which x-axis represents \"age\" and y-axis represents \"claim\". Draw"
   ]
  }
 ],
 "metadata": {
  "kernelspec": {
   "display_name": "Python 3 (ipykernel)",
   "language": "python",
   "name": "python3"
  },
  "language_info": {
   "codemirror_mode": {
    "name": "ipython",
    "version": 3
   },
   "file_extension": ".py",
   "mimetype": "text/x-python",
   "name": "python",
   "nbconvert_exporter": "python",
   "pygments_lexer": "ipython3",
   "version": "3.11.5"
  }
 },
 "nbformat": 4,
 "nbformat_minor": 5
}
