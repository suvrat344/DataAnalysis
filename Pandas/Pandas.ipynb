{
 "cells": [
  {
   "cell_type": "markdown",
   "id": "64a4ca5c",
   "metadata": {},
   "source": [
    "# Introduction to Pandas\n",
    "[*pandas*](http://pandas.pydata.org/) is a column-oriented data analysis API.It's a great tool for handling and analyzing input data, and many ML frameworks support *pandas* data structure as input. "
   ]
  },
  {
   "cell_type": "markdown",
   "id": "da52d352",
   "metadata": {},
   "source": [
    "Let's import ```pandas``` library"
   ]
  },
  {
   "cell_type": "code",
   "execution_count": 1,
   "id": "b8f50ca5",
   "metadata": {},
   "outputs": [
    {
     "name": "stderr",
     "output_type": "stream",
     "text": [
      "C:\\Users\\ASUS\\anaconda3\\Lib\\site-packages\\pandas\\core\\arrays\\masked.py:60: UserWarning: Pandas requires version '1.3.6' or newer of 'bottleneck' (version '1.3.5' currently installed).\n",
      "  from pandas.core import (\n"
     ]
    }
   ],
   "source": [
    "import pandas as pd\n",
    "import numpy as np\n",
    "from textblob import TextBlob"
   ]
  },
  {
   "cell_type": "code",
   "execution_count": 2,
   "id": "44bcc15b",
   "metadata": {},
   "outputs": [
    {
     "name": "stdout",
     "output_type": "stream",
     "text": [
      "Pandas Version :  2.2.2\n"
     ]
    }
   ],
   "source": [
    "print(\"Pandas Version : \",pd.__version__)"
   ]
  },
  {
   "cell_type": "markdown",
   "id": "01a10b01",
   "metadata": {},
   "source": [
    "The primary data structures in *pandas* are implemented as two classes:\n",
    " * **`DataFrame`**, which you can imagine as a relational data table, with rows and named columns.\n",
    " * **`Series`**, which is a single column. Each row can be labeled via an index. A DataFrame contains one or more Series and a name for each Series.\n",
    " \n",
    "The data frame is a commonly used common abstraction for data manipulation.Simple implementations exist is spark and R."
   ]
  },
  {
   "cell_type": "code",
   "execution_count": 3,
   "id": "ae159e22",
   "metadata": {},
   "outputs": [
    {
     "name": "stdout",
     "output_type": "stream",
     "text": [
      "<class 'pandas.core.frame.DataFrame'>\n"
     ]
    }
   ],
   "source": [
    "from sklearn.datasets import load_diabetes\n",
    "\n",
    "diabetes = load_diabetes(as_frame=True)\n",
    "print(type(diabetes[\"data\"]))"
   ]
  },
  {
   "cell_type": "code",
   "execution_count": 4,
   "id": "264a64ed",
   "metadata": {},
   "outputs": [],
   "source": [
    "?load_diabetes"
   ]
  },
  {
   "cell_type": "code",
   "execution_count": 5,
   "id": "9b91145d",
   "metadata": {},
   "outputs": [
    {
     "name": "stdout",
     "output_type": "stream",
     "text": [
      ".. _diabetes_dataset:\n",
      "\n",
      "Diabetes dataset\n",
      "----------------\n",
      "\n",
      "Ten baseline variables, age, sex, body mass index, average blood\n",
      "pressure, and six blood serum measurements were obtained for each of n =\n",
      "442 diabetes patients, as well as the response of interest, a\n",
      "quantitative measure of disease progression one year after baseline.\n",
      "\n",
      "**Data Set Characteristics:**\n",
      "\n",
      ":Number of Instances: 442\n",
      "\n",
      ":Number of Attributes: First 10 columns are numeric predictive values\n",
      "\n",
      ":Target: Column 11 is a quantitative measure of disease progression one year after baseline\n",
      "\n",
      ":Attribute Information:\n",
      "    - age     age in years\n",
      "    - sex\n",
      "    - bmi     body mass index\n",
      "    - bp      average blood pressure\n",
      "    - s1      tc, total serum cholesterol\n",
      "    - s2      ldl, low-density lipoproteins\n",
      "    - s3      hdl, high-density lipoproteins\n",
      "    - s4      tch, total cholesterol / HDL\n",
      "    - s5      ltg, possibly log of serum triglycerides level\n",
      "    - s6      glu, blood sugar level\n",
      "\n",
      "Note: Each of these 10 feature variables have been mean centered and scaled by the standard deviation times the square root of `n_samples` (i.e. the sum of squares of each column totals 1).\n",
      "\n",
      "Source URL:\n",
      "https://www4.stat.ncsu.edu/~boos/var.select/diabetes.html\n",
      "\n",
      "For more information see:\n",
      "Bradley Efron, Trevor Hastie, Iain Johnstone and Robert Tibshirani (2004) \"Least Angle Regression,\" Annals of Statistics (with discussion), 407-499.\n",
      "(https://web.stanford.edu/~hastie/Papers/LARS/LeastAngle_2002.pdf)\n",
      "\n"
     ]
    }
   ],
   "source": [
    "print(diabetes.DESCR)"
   ]
  },
  {
   "cell_type": "code",
   "execution_count": 6,
   "id": "fda8966e",
   "metadata": {},
   "outputs": [],
   "source": [
    "df = diabetes[\"data\"]"
   ]
  },
  {
   "cell_type": "markdown",
   "id": "0273037d",
   "metadata": {},
   "source": [
    "## Creating pandas dataframe from series"
   ]
  },
  {
   "cell_type": "code",
   "execution_count": 7,
   "id": "49b66af1",
   "metadata": {},
   "outputs": [],
   "source": [
    "cities = pd.Series([\"Mumbai\",\"Bangalore\",\"Chennai\",\"Delhi\"])\n",
    "population = pd.Series([17000000,13000000,6000000])"
   ]
  },
  {
   "cell_type": "code",
   "execution_count": 8,
   "id": "1b1a0b4e",
   "metadata": {},
   "outputs": [],
   "source": [
    "city_info_df = pd.DataFrame({\"City\":cities,\"Population\":population})"
   ]
  },
  {
   "cell_type": "code",
   "execution_count": 9,
   "id": "de898358",
   "metadata": {},
   "outputs": [
    {
     "data": {
      "text/plain": [
       "pandas.core.frame.DataFrame"
      ]
     },
     "execution_count": 9,
     "metadata": {},
     "output_type": "execute_result"
    }
   ],
   "source": [
    "type(city_info_df)"
   ]
  },
  {
   "cell_type": "code",
   "execution_count": 10,
   "id": "af427721",
   "metadata": {},
   "outputs": [
    {
     "data": {
      "text/html": [
       "<div>\n",
       "<style scoped>\n",
       "    .dataframe tbody tr th:only-of-type {\n",
       "        vertical-align: middle;\n",
       "    }\n",
       "\n",
       "    .dataframe tbody tr th {\n",
       "        vertical-align: top;\n",
       "    }\n",
       "\n",
       "    .dataframe thead th {\n",
       "        text-align: right;\n",
       "    }\n",
       "</style>\n",
       "<table border=\"1\" class=\"dataframe\">\n",
       "  <thead>\n",
       "    <tr style=\"text-align: right;\">\n",
       "      <th></th>\n",
       "      <th>City</th>\n",
       "      <th>Population</th>\n",
       "    </tr>\n",
       "  </thead>\n",
       "  <tbody>\n",
       "    <tr>\n",
       "      <th>0</th>\n",
       "      <td>Mumbai</td>\n",
       "      <td>17000000.0</td>\n",
       "    </tr>\n",
       "    <tr>\n",
       "      <th>1</th>\n",
       "      <td>Bangalore</td>\n",
       "      <td>13000000.0</td>\n",
       "    </tr>\n",
       "    <tr>\n",
       "      <th>2</th>\n",
       "      <td>Chennai</td>\n",
       "      <td>6000000.0</td>\n",
       "    </tr>\n",
       "    <tr>\n",
       "      <th>3</th>\n",
       "      <td>Delhi</td>\n",
       "      <td>NaN</td>\n",
       "    </tr>\n",
       "  </tbody>\n",
       "</table>\n",
       "</div>"
      ],
      "text/plain": [
       "        City  Population\n",
       "0     Mumbai  17000000.0\n",
       "1  Bangalore  13000000.0\n",
       "2    Chennai   6000000.0\n",
       "3      Delhi         NaN"
      ]
     },
     "execution_count": 10,
     "metadata": {},
     "output_type": "execute_result"
    }
   ],
   "source": [
    "city_info_df"
   ]
  },
  {
   "cell_type": "markdown",
   "id": "e2f03655",
   "metadata": {},
   "source": [
    "## Exploring data in dataframe"
   ]
  },
  {
   "cell_type": "markdown",
   "id": "954ef33d",
   "metadata": {},
   "source": [
    "Find out the number of rows and columns in the dataframe."
   ]
  },
  {
   "cell_type": "code",
   "execution_count": 11,
   "id": "7d879223",
   "metadata": {},
   "outputs": [
    {
     "data": {
      "text/plain": [
       "(442, 10)"
      ]
     },
     "execution_count": 11,
     "metadata": {},
     "output_type": "execute_result"
    }
   ],
   "source": [
    "df.shape"
   ]
  },
  {
   "cell_type": "markdown",
   "id": "d4e5e214",
   "metadata": {},
   "source": [
    "Name of the columns"
   ]
  },
  {
   "cell_type": "code",
   "execution_count": 12,
   "id": "f8e2232d",
   "metadata": {},
   "outputs": [
    {
     "data": {
      "text/plain": [
       "Index(['age', 'sex', 'bmi', 'bp', 's1', 's2', 's3', 's4', 's5', 's6'], dtype='object')"
      ]
     },
     "execution_count": 12,
     "metadata": {},
     "output_type": "execute_result"
    }
   ],
   "source": [
    "df.columns"
   ]
  },
  {
   "cell_type": "code",
   "execution_count": 13,
   "id": "0449e5cf",
   "metadata": {},
   "outputs": [
    {
     "data": {
      "text/plain": [
       "['age', 'sex', 'bmi', 'bp', 's1', 's2', 's3', 's4', 's5', 's6']"
      ]
     },
     "execution_count": 13,
     "metadata": {},
     "output_type": "execute_result"
    }
   ],
   "source": [
    "list(df.columns)"
   ]
  },
  {
   "cell_type": "code",
   "execution_count": 14,
   "id": "877103c2",
   "metadata": {},
   "outputs": [
    {
     "name": "stdout",
     "output_type": "stream",
     "text": [
      "<class 'pandas.core.frame.DataFrame'>\n",
      "RangeIndex: 442 entries, 0 to 441\n",
      "Data columns (total 10 columns):\n",
      " #   Column  Non-Null Count  Dtype  \n",
      "---  ------  --------------  -----  \n",
      " 0   age     442 non-null    float64\n",
      " 1   sex     442 non-null    float64\n",
      " 2   bmi     442 non-null    float64\n",
      " 3   bp      442 non-null    float64\n",
      " 4   s1      442 non-null    float64\n",
      " 5   s2      442 non-null    float64\n",
      " 6   s3      442 non-null    float64\n",
      " 7   s4      442 non-null    float64\n",
      " 8   s5      442 non-null    float64\n",
      " 9   s6      442 non-null    float64\n",
      "dtypes: float64(10)\n",
      "memory usage: 34.7 KB\n"
     ]
    }
   ],
   "source": [
    "df.info()"
   ]
  },
  {
   "cell_type": "markdown",
   "id": "86d6ff88",
   "metadata": {},
   "source": [
    "Quickly examine a few entries in the dataframe.Say first 5 and last 5."
   ]
  },
  {
   "cell_type": "code",
   "execution_count": 15,
   "id": "3d056a3b",
   "metadata": {},
   "outputs": [],
   "source": [
    "? df.head"
   ]
  },
  {
   "cell_type": "code",
   "execution_count": 16,
   "id": "0fe22a89",
   "metadata": {},
   "outputs": [
    {
     "data": {
      "text/html": [
       "<div>\n",
       "<style scoped>\n",
       "    .dataframe tbody tr th:only-of-type {\n",
       "        vertical-align: middle;\n",
       "    }\n",
       "\n",
       "    .dataframe tbody tr th {\n",
       "        vertical-align: top;\n",
       "    }\n",
       "\n",
       "    .dataframe thead th {\n",
       "        text-align: right;\n",
       "    }\n",
       "</style>\n",
       "<table border=\"1\" class=\"dataframe\">\n",
       "  <thead>\n",
       "    <tr style=\"text-align: right;\">\n",
       "      <th></th>\n",
       "      <th>age</th>\n",
       "      <th>sex</th>\n",
       "      <th>bmi</th>\n",
       "      <th>bp</th>\n",
       "      <th>s1</th>\n",
       "      <th>s2</th>\n",
       "      <th>s3</th>\n",
       "      <th>s4</th>\n",
       "      <th>s5</th>\n",
       "      <th>s6</th>\n",
       "    </tr>\n",
       "  </thead>\n",
       "  <tbody>\n",
       "    <tr>\n",
       "      <th>0</th>\n",
       "      <td>0.038076</td>\n",
       "      <td>0.050680</td>\n",
       "      <td>0.061696</td>\n",
       "      <td>0.021872</td>\n",
       "      <td>-0.044223</td>\n",
       "      <td>-0.034821</td>\n",
       "      <td>-0.043401</td>\n",
       "      <td>-0.002592</td>\n",
       "      <td>0.019907</td>\n",
       "      <td>-0.017646</td>\n",
       "    </tr>\n",
       "    <tr>\n",
       "      <th>1</th>\n",
       "      <td>-0.001882</td>\n",
       "      <td>-0.044642</td>\n",
       "      <td>-0.051474</td>\n",
       "      <td>-0.026328</td>\n",
       "      <td>-0.008449</td>\n",
       "      <td>-0.019163</td>\n",
       "      <td>0.074412</td>\n",
       "      <td>-0.039493</td>\n",
       "      <td>-0.068332</td>\n",
       "      <td>-0.092204</td>\n",
       "    </tr>\n",
       "    <tr>\n",
       "      <th>2</th>\n",
       "      <td>0.085299</td>\n",
       "      <td>0.050680</td>\n",
       "      <td>0.044451</td>\n",
       "      <td>-0.005670</td>\n",
       "      <td>-0.045599</td>\n",
       "      <td>-0.034194</td>\n",
       "      <td>-0.032356</td>\n",
       "      <td>-0.002592</td>\n",
       "      <td>0.002861</td>\n",
       "      <td>-0.025930</td>\n",
       "    </tr>\n",
       "    <tr>\n",
       "      <th>3</th>\n",
       "      <td>-0.089063</td>\n",
       "      <td>-0.044642</td>\n",
       "      <td>-0.011595</td>\n",
       "      <td>-0.036656</td>\n",
       "      <td>0.012191</td>\n",
       "      <td>0.024991</td>\n",
       "      <td>-0.036038</td>\n",
       "      <td>0.034309</td>\n",
       "      <td>0.022688</td>\n",
       "      <td>-0.009362</td>\n",
       "    </tr>\n",
       "    <tr>\n",
       "      <th>4</th>\n",
       "      <td>0.005383</td>\n",
       "      <td>-0.044642</td>\n",
       "      <td>-0.036385</td>\n",
       "      <td>0.021872</td>\n",
       "      <td>0.003935</td>\n",
       "      <td>0.015596</td>\n",
       "      <td>0.008142</td>\n",
       "      <td>-0.002592</td>\n",
       "      <td>-0.031988</td>\n",
       "      <td>-0.046641</td>\n",
       "    </tr>\n",
       "  </tbody>\n",
       "</table>\n",
       "</div>"
      ],
      "text/plain": [
       "        age       sex       bmi        bp        s1        s2        s3  \\\n",
       "0  0.038076  0.050680  0.061696  0.021872 -0.044223 -0.034821 -0.043401   \n",
       "1 -0.001882 -0.044642 -0.051474 -0.026328 -0.008449 -0.019163  0.074412   \n",
       "2  0.085299  0.050680  0.044451 -0.005670 -0.045599 -0.034194 -0.032356   \n",
       "3 -0.089063 -0.044642 -0.011595 -0.036656  0.012191  0.024991 -0.036038   \n",
       "4  0.005383 -0.044642 -0.036385  0.021872  0.003935  0.015596  0.008142   \n",
       "\n",
       "         s4        s5        s6  \n",
       "0 -0.002592  0.019907 -0.017646  \n",
       "1 -0.039493 -0.068332 -0.092204  \n",
       "2 -0.002592  0.002861 -0.025930  \n",
       "3  0.034309  0.022688 -0.009362  \n",
       "4 -0.002592 -0.031988 -0.046641  "
      ]
     },
     "execution_count": 16,
     "metadata": {},
     "output_type": "execute_result"
    }
   ],
   "source": [
    "df.head()"
   ]
  },
  {
   "cell_type": "code",
   "execution_count": 17,
   "id": "782000d9",
   "metadata": {},
   "outputs": [
    {
     "data": {
      "text/html": [
       "<div>\n",
       "<style scoped>\n",
       "    .dataframe tbody tr th:only-of-type {\n",
       "        vertical-align: middle;\n",
       "    }\n",
       "\n",
       "    .dataframe tbody tr th {\n",
       "        vertical-align: top;\n",
       "    }\n",
       "\n",
       "    .dataframe thead th {\n",
       "        text-align: right;\n",
       "    }\n",
       "</style>\n",
       "<table border=\"1\" class=\"dataframe\">\n",
       "  <thead>\n",
       "    <tr style=\"text-align: right;\">\n",
       "      <th></th>\n",
       "      <th>age</th>\n",
       "      <th>sex</th>\n",
       "      <th>bmi</th>\n",
       "      <th>bp</th>\n",
       "      <th>s1</th>\n",
       "      <th>s2</th>\n",
       "      <th>s3</th>\n",
       "      <th>s4</th>\n",
       "      <th>s5</th>\n",
       "      <th>s6</th>\n",
       "    </tr>\n",
       "  </thead>\n",
       "  <tbody>\n",
       "    <tr>\n",
       "      <th>437</th>\n",
       "      <td>0.041708</td>\n",
       "      <td>0.050680</td>\n",
       "      <td>0.019662</td>\n",
       "      <td>0.059744</td>\n",
       "      <td>-0.005697</td>\n",
       "      <td>-0.002566</td>\n",
       "      <td>-0.028674</td>\n",
       "      <td>-0.002592</td>\n",
       "      <td>0.031193</td>\n",
       "      <td>0.007207</td>\n",
       "    </tr>\n",
       "    <tr>\n",
       "      <th>438</th>\n",
       "      <td>-0.005515</td>\n",
       "      <td>0.050680</td>\n",
       "      <td>-0.015906</td>\n",
       "      <td>-0.067642</td>\n",
       "      <td>0.049341</td>\n",
       "      <td>0.079165</td>\n",
       "      <td>-0.028674</td>\n",
       "      <td>0.034309</td>\n",
       "      <td>-0.018114</td>\n",
       "      <td>0.044485</td>\n",
       "    </tr>\n",
       "    <tr>\n",
       "      <th>439</th>\n",
       "      <td>0.041708</td>\n",
       "      <td>0.050680</td>\n",
       "      <td>-0.015906</td>\n",
       "      <td>0.017293</td>\n",
       "      <td>-0.037344</td>\n",
       "      <td>-0.013840</td>\n",
       "      <td>-0.024993</td>\n",
       "      <td>-0.011080</td>\n",
       "      <td>-0.046883</td>\n",
       "      <td>0.015491</td>\n",
       "    </tr>\n",
       "    <tr>\n",
       "      <th>440</th>\n",
       "      <td>-0.045472</td>\n",
       "      <td>-0.044642</td>\n",
       "      <td>0.039062</td>\n",
       "      <td>0.001215</td>\n",
       "      <td>0.016318</td>\n",
       "      <td>0.015283</td>\n",
       "      <td>-0.028674</td>\n",
       "      <td>0.026560</td>\n",
       "      <td>0.044529</td>\n",
       "      <td>-0.025930</td>\n",
       "    </tr>\n",
       "    <tr>\n",
       "      <th>441</th>\n",
       "      <td>-0.045472</td>\n",
       "      <td>-0.044642</td>\n",
       "      <td>-0.073030</td>\n",
       "      <td>-0.081413</td>\n",
       "      <td>0.083740</td>\n",
       "      <td>0.027809</td>\n",
       "      <td>0.173816</td>\n",
       "      <td>-0.039493</td>\n",
       "      <td>-0.004222</td>\n",
       "      <td>0.003064</td>\n",
       "    </tr>\n",
       "  </tbody>\n",
       "</table>\n",
       "</div>"
      ],
      "text/plain": [
       "          age       sex       bmi        bp        s1        s2        s3  \\\n",
       "437  0.041708  0.050680  0.019662  0.059744 -0.005697 -0.002566 -0.028674   \n",
       "438 -0.005515  0.050680 -0.015906 -0.067642  0.049341  0.079165 -0.028674   \n",
       "439  0.041708  0.050680 -0.015906  0.017293 -0.037344 -0.013840 -0.024993   \n",
       "440 -0.045472 -0.044642  0.039062  0.001215  0.016318  0.015283 -0.028674   \n",
       "441 -0.045472 -0.044642 -0.073030 -0.081413  0.083740  0.027809  0.173816   \n",
       "\n",
       "           s4        s5        s6  \n",
       "437 -0.002592  0.031193  0.007207  \n",
       "438  0.034309 -0.018114  0.044485  \n",
       "439 -0.011080 -0.046883  0.015491  \n",
       "440  0.026560  0.044529 -0.025930  \n",
       "441 -0.039493 -0.004222  0.003064  "
      ]
     },
     "execution_count": 17,
     "metadata": {},
     "output_type": "execute_result"
    }
   ],
   "source": [
    "df.tail()"
   ]
  },
  {
   "cell_type": "markdown",
   "id": "6e365362",
   "metadata": {},
   "source": [
    "Let's get summary statistics on the dataframe"
   ]
  },
  {
   "cell_type": "code",
   "execution_count": 18,
   "id": "c0043ed5",
   "metadata": {},
   "outputs": [
    {
     "data": {
      "text/html": [
       "<div>\n",
       "<style scoped>\n",
       "    .dataframe tbody tr th:only-of-type {\n",
       "        vertical-align: middle;\n",
       "    }\n",
       "\n",
       "    .dataframe tbody tr th {\n",
       "        vertical-align: top;\n",
       "    }\n",
       "\n",
       "    .dataframe thead th {\n",
       "        text-align: right;\n",
       "    }\n",
       "</style>\n",
       "<table border=\"1\" class=\"dataframe\">\n",
       "  <thead>\n",
       "    <tr style=\"text-align: right;\">\n",
       "      <th></th>\n",
       "      <th>age</th>\n",
       "      <th>sex</th>\n",
       "      <th>bmi</th>\n",
       "      <th>bp</th>\n",
       "      <th>s1</th>\n",
       "      <th>s2</th>\n",
       "      <th>s3</th>\n",
       "      <th>s4</th>\n",
       "      <th>s5</th>\n",
       "      <th>s6</th>\n",
       "    </tr>\n",
       "  </thead>\n",
       "  <tbody>\n",
       "    <tr>\n",
       "      <th>count</th>\n",
       "      <td>4.420000e+02</td>\n",
       "      <td>4.420000e+02</td>\n",
       "      <td>4.420000e+02</td>\n",
       "      <td>4.420000e+02</td>\n",
       "      <td>4.420000e+02</td>\n",
       "      <td>4.420000e+02</td>\n",
       "      <td>4.420000e+02</td>\n",
       "      <td>4.420000e+02</td>\n",
       "      <td>4.420000e+02</td>\n",
       "      <td>4.420000e+02</td>\n",
       "    </tr>\n",
       "    <tr>\n",
       "      <th>mean</th>\n",
       "      <td>-2.511817e-19</td>\n",
       "      <td>1.230790e-17</td>\n",
       "      <td>-2.245564e-16</td>\n",
       "      <td>-4.797570e-17</td>\n",
       "      <td>-1.381499e-17</td>\n",
       "      <td>3.918434e-17</td>\n",
       "      <td>-5.777179e-18</td>\n",
       "      <td>-9.042540e-18</td>\n",
       "      <td>9.293722e-17</td>\n",
       "      <td>1.130318e-17</td>\n",
       "    </tr>\n",
       "    <tr>\n",
       "      <th>std</th>\n",
       "      <td>4.761905e-02</td>\n",
       "      <td>4.761905e-02</td>\n",
       "      <td>4.761905e-02</td>\n",
       "      <td>4.761905e-02</td>\n",
       "      <td>4.761905e-02</td>\n",
       "      <td>4.761905e-02</td>\n",
       "      <td>4.761905e-02</td>\n",
       "      <td>4.761905e-02</td>\n",
       "      <td>4.761905e-02</td>\n",
       "      <td>4.761905e-02</td>\n",
       "    </tr>\n",
       "    <tr>\n",
       "      <th>min</th>\n",
       "      <td>-1.072256e-01</td>\n",
       "      <td>-4.464164e-02</td>\n",
       "      <td>-9.027530e-02</td>\n",
       "      <td>-1.123988e-01</td>\n",
       "      <td>-1.267807e-01</td>\n",
       "      <td>-1.156131e-01</td>\n",
       "      <td>-1.023071e-01</td>\n",
       "      <td>-7.639450e-02</td>\n",
       "      <td>-1.260971e-01</td>\n",
       "      <td>-1.377672e-01</td>\n",
       "    </tr>\n",
       "    <tr>\n",
       "      <th>25%</th>\n",
       "      <td>-3.729927e-02</td>\n",
       "      <td>-4.464164e-02</td>\n",
       "      <td>-3.422907e-02</td>\n",
       "      <td>-3.665608e-02</td>\n",
       "      <td>-3.424784e-02</td>\n",
       "      <td>-3.035840e-02</td>\n",
       "      <td>-3.511716e-02</td>\n",
       "      <td>-3.949338e-02</td>\n",
       "      <td>-3.324559e-02</td>\n",
       "      <td>-3.317903e-02</td>\n",
       "    </tr>\n",
       "    <tr>\n",
       "      <th>50%</th>\n",
       "      <td>5.383060e-03</td>\n",
       "      <td>-4.464164e-02</td>\n",
       "      <td>-7.283766e-03</td>\n",
       "      <td>-5.670422e-03</td>\n",
       "      <td>-4.320866e-03</td>\n",
       "      <td>-3.819065e-03</td>\n",
       "      <td>-6.584468e-03</td>\n",
       "      <td>-2.592262e-03</td>\n",
       "      <td>-1.947171e-03</td>\n",
       "      <td>-1.077698e-03</td>\n",
       "    </tr>\n",
       "    <tr>\n",
       "      <th>75%</th>\n",
       "      <td>3.807591e-02</td>\n",
       "      <td>5.068012e-02</td>\n",
       "      <td>3.124802e-02</td>\n",
       "      <td>3.564379e-02</td>\n",
       "      <td>2.835801e-02</td>\n",
       "      <td>2.984439e-02</td>\n",
       "      <td>2.931150e-02</td>\n",
       "      <td>3.430886e-02</td>\n",
       "      <td>3.243232e-02</td>\n",
       "      <td>2.791705e-02</td>\n",
       "    </tr>\n",
       "    <tr>\n",
       "      <th>max</th>\n",
       "      <td>1.107267e-01</td>\n",
       "      <td>5.068012e-02</td>\n",
       "      <td>1.705552e-01</td>\n",
       "      <td>1.320436e-01</td>\n",
       "      <td>1.539137e-01</td>\n",
       "      <td>1.987880e-01</td>\n",
       "      <td>1.811791e-01</td>\n",
       "      <td>1.852344e-01</td>\n",
       "      <td>1.335973e-01</td>\n",
       "      <td>1.356118e-01</td>\n",
       "    </tr>\n",
       "  </tbody>\n",
       "</table>\n",
       "</div>"
      ],
      "text/plain": [
       "                age           sex           bmi            bp            s1  \\\n",
       "count  4.420000e+02  4.420000e+02  4.420000e+02  4.420000e+02  4.420000e+02   \n",
       "mean  -2.511817e-19  1.230790e-17 -2.245564e-16 -4.797570e-17 -1.381499e-17   \n",
       "std    4.761905e-02  4.761905e-02  4.761905e-02  4.761905e-02  4.761905e-02   \n",
       "min   -1.072256e-01 -4.464164e-02 -9.027530e-02 -1.123988e-01 -1.267807e-01   \n",
       "25%   -3.729927e-02 -4.464164e-02 -3.422907e-02 -3.665608e-02 -3.424784e-02   \n",
       "50%    5.383060e-03 -4.464164e-02 -7.283766e-03 -5.670422e-03 -4.320866e-03   \n",
       "75%    3.807591e-02  5.068012e-02  3.124802e-02  3.564379e-02  2.835801e-02   \n",
       "max    1.107267e-01  5.068012e-02  1.705552e-01  1.320436e-01  1.539137e-01   \n",
       "\n",
       "                 s2            s3            s4            s5            s6  \n",
       "count  4.420000e+02  4.420000e+02  4.420000e+02  4.420000e+02  4.420000e+02  \n",
       "mean   3.918434e-17 -5.777179e-18 -9.042540e-18  9.293722e-17  1.130318e-17  \n",
       "std    4.761905e-02  4.761905e-02  4.761905e-02  4.761905e-02  4.761905e-02  \n",
       "min   -1.156131e-01 -1.023071e-01 -7.639450e-02 -1.260971e-01 -1.377672e-01  \n",
       "25%   -3.035840e-02 -3.511716e-02 -3.949338e-02 -3.324559e-02 -3.317903e-02  \n",
       "50%   -3.819065e-03 -6.584468e-03 -2.592262e-03 -1.947171e-03 -1.077698e-03  \n",
       "75%    2.984439e-02  2.931150e-02  3.430886e-02  3.243232e-02  2.791705e-02  \n",
       "max    1.987880e-01  1.811791e-01  1.852344e-01  1.335973e-01  1.356118e-01  "
      ]
     },
     "execution_count": 18,
     "metadata": {},
     "output_type": "execute_result"
    }
   ],
   "source": [
    "df.describe()"
   ]
  },
  {
   "cell_type": "code",
   "execution_count": 19,
   "id": "0e591d12",
   "metadata": {},
   "outputs": [
    {
     "data": {
      "text/html": [
       "<div>\n",
       "<style scoped>\n",
       "    .dataframe tbody tr th:only-of-type {\n",
       "        vertical-align: middle;\n",
       "    }\n",
       "\n",
       "    .dataframe tbody tr th {\n",
       "        vertical-align: top;\n",
       "    }\n",
       "\n",
       "    .dataframe thead th {\n",
       "        text-align: right;\n",
       "    }\n",
       "</style>\n",
       "<table border=\"1\" class=\"dataframe\">\n",
       "  <thead>\n",
       "    <tr style=\"text-align: right;\">\n",
       "      <th></th>\n",
       "      <th>age</th>\n",
       "      <th>sex</th>\n",
       "      <th>bmi</th>\n",
       "      <th>bp</th>\n",
       "      <th>s1</th>\n",
       "      <th>s2</th>\n",
       "      <th>s3</th>\n",
       "      <th>s4</th>\n",
       "      <th>s5</th>\n",
       "      <th>s6</th>\n",
       "    </tr>\n",
       "  </thead>\n",
       "  <tbody>\n",
       "    <tr>\n",
       "      <th>count</th>\n",
       "      <td>4.420000e+02</td>\n",
       "      <td>4.420000e+02</td>\n",
       "      <td>4.420000e+02</td>\n",
       "      <td>4.420000e+02</td>\n",
       "      <td>4.420000e+02</td>\n",
       "      <td>4.420000e+02</td>\n",
       "      <td>4.420000e+02</td>\n",
       "      <td>4.420000e+02</td>\n",
       "      <td>4.420000e+02</td>\n",
       "      <td>4.420000e+02</td>\n",
       "    </tr>\n",
       "    <tr>\n",
       "      <th>mean</th>\n",
       "      <td>-2.511817e-19</td>\n",
       "      <td>1.230790e-17</td>\n",
       "      <td>-2.245564e-16</td>\n",
       "      <td>-4.797570e-17</td>\n",
       "      <td>-1.381499e-17</td>\n",
       "      <td>3.918434e-17</td>\n",
       "      <td>-5.777179e-18</td>\n",
       "      <td>-9.042540e-18</td>\n",
       "      <td>9.293722e-17</td>\n",
       "      <td>1.130318e-17</td>\n",
       "    </tr>\n",
       "    <tr>\n",
       "      <th>std</th>\n",
       "      <td>4.761905e-02</td>\n",
       "      <td>4.761905e-02</td>\n",
       "      <td>4.761905e-02</td>\n",
       "      <td>4.761905e-02</td>\n",
       "      <td>4.761905e-02</td>\n",
       "      <td>4.761905e-02</td>\n",
       "      <td>4.761905e-02</td>\n",
       "      <td>4.761905e-02</td>\n",
       "      <td>4.761905e-02</td>\n",
       "      <td>4.761905e-02</td>\n",
       "    </tr>\n",
       "    <tr>\n",
       "      <th>min</th>\n",
       "      <td>-1.072256e-01</td>\n",
       "      <td>-4.464164e-02</td>\n",
       "      <td>-9.027530e-02</td>\n",
       "      <td>-1.123988e-01</td>\n",
       "      <td>-1.267807e-01</td>\n",
       "      <td>-1.156131e-01</td>\n",
       "      <td>-1.023071e-01</td>\n",
       "      <td>-7.639450e-02</td>\n",
       "      <td>-1.260971e-01</td>\n",
       "      <td>-1.377672e-01</td>\n",
       "    </tr>\n",
       "    <tr>\n",
       "      <th>20%</th>\n",
       "      <td>-4.547248e-02</td>\n",
       "      <td>-4.464164e-02</td>\n",
       "      <td>-4.048038e-02</td>\n",
       "      <td>-4.009893e-02</td>\n",
       "      <td>-3.871969e-02</td>\n",
       "      <td>-3.695017e-02</td>\n",
       "      <td>-3.971921e-02</td>\n",
       "      <td>-3.949338e-02</td>\n",
       "      <td>-4.117617e-02</td>\n",
       "      <td>-3.835666e-02</td>\n",
       "    </tr>\n",
       "    <tr>\n",
       "      <th>50%</th>\n",
       "      <td>5.383060e-03</td>\n",
       "      <td>-4.464164e-02</td>\n",
       "      <td>-7.283766e-03</td>\n",
       "      <td>-5.670422e-03</td>\n",
       "      <td>-4.320866e-03</td>\n",
       "      <td>-3.819065e-03</td>\n",
       "      <td>-6.584468e-03</td>\n",
       "      <td>-2.592262e-03</td>\n",
       "      <td>-1.947171e-03</td>\n",
       "      <td>-1.077698e-03</td>\n",
       "    </tr>\n",
       "    <tr>\n",
       "      <th>60%</th>\n",
       "      <td>1.628068e-02</td>\n",
       "      <td>5.068012e-02</td>\n",
       "      <td>5.218854e-03</td>\n",
       "      <td>8.100982e-03</td>\n",
       "      <td>8.062710e-03</td>\n",
       "      <td>8.706873e-03</td>\n",
       "      <td>8.142084e-03</td>\n",
       "      <td>-2.592262e-03</td>\n",
       "      <td>1.255119e-02</td>\n",
       "      <td>7.206516e-03</td>\n",
       "    </tr>\n",
       "    <tr>\n",
       "      <th>80%</th>\n",
       "      <td>4.170844e-02</td>\n",
       "      <td>5.068012e-02</td>\n",
       "      <td>4.229559e-02</td>\n",
       "      <td>4.941519e-02</td>\n",
       "      <td>3.943444e-02</td>\n",
       "      <td>3.952068e-02</td>\n",
       "      <td>3.759519e-02</td>\n",
       "      <td>3.430886e-02</td>\n",
       "      <td>3.885335e-02</td>\n",
       "      <td>3.620126e-02</td>\n",
       "    </tr>\n",
       "    <tr>\n",
       "      <th>max</th>\n",
       "      <td>1.107267e-01</td>\n",
       "      <td>5.068012e-02</td>\n",
       "      <td>1.705552e-01</td>\n",
       "      <td>1.320436e-01</td>\n",
       "      <td>1.539137e-01</td>\n",
       "      <td>1.987880e-01</td>\n",
       "      <td>1.811791e-01</td>\n",
       "      <td>1.852344e-01</td>\n",
       "      <td>1.335973e-01</td>\n",
       "      <td>1.356118e-01</td>\n",
       "    </tr>\n",
       "  </tbody>\n",
       "</table>\n",
       "</div>"
      ],
      "text/plain": [
       "                age           sex           bmi            bp            s1  \\\n",
       "count  4.420000e+02  4.420000e+02  4.420000e+02  4.420000e+02  4.420000e+02   \n",
       "mean  -2.511817e-19  1.230790e-17 -2.245564e-16 -4.797570e-17 -1.381499e-17   \n",
       "std    4.761905e-02  4.761905e-02  4.761905e-02  4.761905e-02  4.761905e-02   \n",
       "min   -1.072256e-01 -4.464164e-02 -9.027530e-02 -1.123988e-01 -1.267807e-01   \n",
       "20%   -4.547248e-02 -4.464164e-02 -4.048038e-02 -4.009893e-02 -3.871969e-02   \n",
       "50%    5.383060e-03 -4.464164e-02 -7.283766e-03 -5.670422e-03 -4.320866e-03   \n",
       "60%    1.628068e-02  5.068012e-02  5.218854e-03  8.100982e-03  8.062710e-03   \n",
       "80%    4.170844e-02  5.068012e-02  4.229559e-02  4.941519e-02  3.943444e-02   \n",
       "max    1.107267e-01  5.068012e-02  1.705552e-01  1.320436e-01  1.539137e-01   \n",
       "\n",
       "                 s2            s3            s4            s5            s6  \n",
       "count  4.420000e+02  4.420000e+02  4.420000e+02  4.420000e+02  4.420000e+02  \n",
       "mean   3.918434e-17 -5.777179e-18 -9.042540e-18  9.293722e-17  1.130318e-17  \n",
       "std    4.761905e-02  4.761905e-02  4.761905e-02  4.761905e-02  4.761905e-02  \n",
       "min   -1.156131e-01 -1.023071e-01 -7.639450e-02 -1.260971e-01 -1.377672e-01  \n",
       "20%   -3.695017e-02 -3.971921e-02 -3.949338e-02 -4.117617e-02 -3.835666e-02  \n",
       "50%   -3.819065e-03 -6.584468e-03 -2.592262e-03 -1.947171e-03 -1.077698e-03  \n",
       "60%    8.706873e-03  8.142084e-03 -2.592262e-03  1.255119e-02  7.206516e-03  \n",
       "80%    3.952068e-02  3.759519e-02  3.430886e-02  3.885335e-02  3.620126e-02  \n",
       "max    1.987880e-01  1.811791e-01  1.852344e-01  1.335973e-01  1.356118e-01  "
      ]
     },
     "execution_count": 19,
     "metadata": {},
     "output_type": "execute_result"
    }
   ],
   "source": [
    "df.describe(percentiles=[0.2,0.6,0.8])"
   ]
  },
  {
   "cell_type": "code",
   "execution_count": 20,
   "id": "509b530d",
   "metadata": {},
   "outputs": [
    {
     "data": {
      "text/html": [
       "<div>\n",
       "<style scoped>\n",
       "    .dataframe tbody tr th:only-of-type {\n",
       "        vertical-align: middle;\n",
       "    }\n",
       "\n",
       "    .dataframe tbody tr th {\n",
       "        vertical-align: top;\n",
       "    }\n",
       "\n",
       "    .dataframe thead th {\n",
       "        text-align: right;\n",
       "    }\n",
       "</style>\n",
       "<table border=\"1\" class=\"dataframe\">\n",
       "  <thead>\n",
       "    <tr style=\"text-align: right;\">\n",
       "      <th></th>\n",
       "      <th>count</th>\n",
       "      <th>mean</th>\n",
       "      <th>std</th>\n",
       "      <th>min</th>\n",
       "      <th>25%</th>\n",
       "      <th>50%</th>\n",
       "      <th>75%</th>\n",
       "      <th>max</th>\n",
       "    </tr>\n",
       "  </thead>\n",
       "  <tbody>\n",
       "    <tr>\n",
       "      <th>age</th>\n",
       "      <td>442.0</td>\n",
       "      <td>-2.511817e-19</td>\n",
       "      <td>0.047619</td>\n",
       "      <td>-0.107226</td>\n",
       "      <td>-0.037299</td>\n",
       "      <td>0.005383</td>\n",
       "      <td>0.038076</td>\n",
       "      <td>0.110727</td>\n",
       "    </tr>\n",
       "    <tr>\n",
       "      <th>sex</th>\n",
       "      <td>442.0</td>\n",
       "      <td>1.230790e-17</td>\n",
       "      <td>0.047619</td>\n",
       "      <td>-0.044642</td>\n",
       "      <td>-0.044642</td>\n",
       "      <td>-0.044642</td>\n",
       "      <td>0.050680</td>\n",
       "      <td>0.050680</td>\n",
       "    </tr>\n",
       "    <tr>\n",
       "      <th>bmi</th>\n",
       "      <td>442.0</td>\n",
       "      <td>-2.245564e-16</td>\n",
       "      <td>0.047619</td>\n",
       "      <td>-0.090275</td>\n",
       "      <td>-0.034229</td>\n",
       "      <td>-0.007284</td>\n",
       "      <td>0.031248</td>\n",
       "      <td>0.170555</td>\n",
       "    </tr>\n",
       "    <tr>\n",
       "      <th>bp</th>\n",
       "      <td>442.0</td>\n",
       "      <td>-4.797570e-17</td>\n",
       "      <td>0.047619</td>\n",
       "      <td>-0.112399</td>\n",
       "      <td>-0.036656</td>\n",
       "      <td>-0.005670</td>\n",
       "      <td>0.035644</td>\n",
       "      <td>0.132044</td>\n",
       "    </tr>\n",
       "    <tr>\n",
       "      <th>s1</th>\n",
       "      <td>442.0</td>\n",
       "      <td>-1.381499e-17</td>\n",
       "      <td>0.047619</td>\n",
       "      <td>-0.126781</td>\n",
       "      <td>-0.034248</td>\n",
       "      <td>-0.004321</td>\n",
       "      <td>0.028358</td>\n",
       "      <td>0.153914</td>\n",
       "    </tr>\n",
       "    <tr>\n",
       "      <th>s2</th>\n",
       "      <td>442.0</td>\n",
       "      <td>3.918434e-17</td>\n",
       "      <td>0.047619</td>\n",
       "      <td>-0.115613</td>\n",
       "      <td>-0.030358</td>\n",
       "      <td>-0.003819</td>\n",
       "      <td>0.029844</td>\n",
       "      <td>0.198788</td>\n",
       "    </tr>\n",
       "    <tr>\n",
       "      <th>s3</th>\n",
       "      <td>442.0</td>\n",
       "      <td>-5.777179e-18</td>\n",
       "      <td>0.047619</td>\n",
       "      <td>-0.102307</td>\n",
       "      <td>-0.035117</td>\n",
       "      <td>-0.006584</td>\n",
       "      <td>0.029312</td>\n",
       "      <td>0.181179</td>\n",
       "    </tr>\n",
       "    <tr>\n",
       "      <th>s4</th>\n",
       "      <td>442.0</td>\n",
       "      <td>-9.042540e-18</td>\n",
       "      <td>0.047619</td>\n",
       "      <td>-0.076395</td>\n",
       "      <td>-0.039493</td>\n",
       "      <td>-0.002592</td>\n",
       "      <td>0.034309</td>\n",
       "      <td>0.185234</td>\n",
       "    </tr>\n",
       "    <tr>\n",
       "      <th>s5</th>\n",
       "      <td>442.0</td>\n",
       "      <td>9.293722e-17</td>\n",
       "      <td>0.047619</td>\n",
       "      <td>-0.126097</td>\n",
       "      <td>-0.033246</td>\n",
       "      <td>-0.001947</td>\n",
       "      <td>0.032432</td>\n",
       "      <td>0.133597</td>\n",
       "    </tr>\n",
       "    <tr>\n",
       "      <th>s6</th>\n",
       "      <td>442.0</td>\n",
       "      <td>1.130318e-17</td>\n",
       "      <td>0.047619</td>\n",
       "      <td>-0.137767</td>\n",
       "      <td>-0.033179</td>\n",
       "      <td>-0.001078</td>\n",
       "      <td>0.027917</td>\n",
       "      <td>0.135612</td>\n",
       "    </tr>\n",
       "  </tbody>\n",
       "</table>\n",
       "</div>"
      ],
      "text/plain": [
       "     count          mean       std       min       25%       50%       75%  \\\n",
       "age  442.0 -2.511817e-19  0.047619 -0.107226 -0.037299  0.005383  0.038076   \n",
       "sex  442.0  1.230790e-17  0.047619 -0.044642 -0.044642 -0.044642  0.050680   \n",
       "bmi  442.0 -2.245564e-16  0.047619 -0.090275 -0.034229 -0.007284  0.031248   \n",
       "bp   442.0 -4.797570e-17  0.047619 -0.112399 -0.036656 -0.005670  0.035644   \n",
       "s1   442.0 -1.381499e-17  0.047619 -0.126781 -0.034248 -0.004321  0.028358   \n",
       "s2   442.0  3.918434e-17  0.047619 -0.115613 -0.030358 -0.003819  0.029844   \n",
       "s3   442.0 -5.777179e-18  0.047619 -0.102307 -0.035117 -0.006584  0.029312   \n",
       "s4   442.0 -9.042540e-18  0.047619 -0.076395 -0.039493 -0.002592  0.034309   \n",
       "s5   442.0  9.293722e-17  0.047619 -0.126097 -0.033246 -0.001947  0.032432   \n",
       "s6   442.0  1.130318e-17  0.047619 -0.137767 -0.033179 -0.001078  0.027917   \n",
       "\n",
       "          max  \n",
       "age  0.110727  \n",
       "sex  0.050680  \n",
       "bmi  0.170555  \n",
       "bp   0.132044  \n",
       "s1   0.153914  \n",
       "s2   0.198788  \n",
       "s3   0.181179  \n",
       "s4   0.185234  \n",
       "s5   0.133597  \n",
       "s6   0.135612  "
      ]
     },
     "execution_count": 20,
     "metadata": {},
     "output_type": "execute_result"
    }
   ],
   "source": [
    "df.describe().T"
   ]
  },
  {
   "cell_type": "markdown",
   "id": "26383562",
   "metadata": {},
   "source": [
    "## Selection"
   ]
  },
  {
   "cell_type": "code",
   "execution_count": 21,
   "id": "cdf15dc1",
   "metadata": {},
   "outputs": [
    {
     "data": {
      "text/plain": [
       "0      0.038076\n",
       "1     -0.001882\n",
       "2      0.085299\n",
       "3     -0.089063\n",
       "4      0.005383\n",
       "         ...   \n",
       "437    0.041708\n",
       "438   -0.005515\n",
       "439    0.041708\n",
       "440   -0.045472\n",
       "441   -0.045472\n",
       "Name: age, Length: 442, dtype: float64"
      ]
     },
     "execution_count": 21,
     "metadata": {},
     "output_type": "execute_result"
    }
   ],
   "source": [
    "df[\"age\"]"
   ]
  },
  {
   "cell_type": "code",
   "execution_count": 22,
   "id": "07c4a219",
   "metadata": {},
   "outputs": [
    {
     "data": {
      "text/plain": [
       "pandas.core.series.Series"
      ]
     },
     "execution_count": 22,
     "metadata": {},
     "output_type": "execute_result"
    }
   ],
   "source": [
    "type(df[\"age\"])"
   ]
  },
  {
   "cell_type": "code",
   "execution_count": 23,
   "id": "9de5e105",
   "metadata": {},
   "outputs": [
    {
     "data": {
      "text/plain": [
       "0.038075906433423026"
      ]
     },
     "execution_count": 23,
     "metadata": {},
     "output_type": "execute_result"
    }
   ],
   "source": [
    "df[\"age\"][0]"
   ]
  },
  {
   "cell_type": "code",
   "execution_count": 24,
   "id": "7d8c6822",
   "metadata": {},
   "outputs": [
    {
     "data": {
      "text/plain": [
       "0    0.038076\n",
       "1   -0.001882\n",
       "2    0.085299\n",
       "3   -0.089063\n",
       "4    0.005383\n",
       "Name: age, dtype: float64"
      ]
     },
     "execution_count": 24,
     "metadata": {},
     "output_type": "execute_result"
    }
   ],
   "source": [
    "df[\"age\"][:5]"
   ]
  },
  {
   "cell_type": "code",
   "execution_count": 25,
   "id": "708ca377",
   "metadata": {},
   "outputs": [
    {
     "data": {
      "text/plain": [
       "437    0.041708\n",
       "438   -0.005515\n",
       "439    0.041708\n",
       "440   -0.045472\n",
       "441   -0.045472\n",
       "Name: age, dtype: float64"
      ]
     },
     "execution_count": 25,
     "metadata": {},
     "output_type": "execute_result"
    }
   ],
   "source": [
    "df[\"age\"][-5:]"
   ]
  },
  {
   "cell_type": "code",
   "execution_count": 26,
   "id": "70764999",
   "metadata": {},
   "outputs": [
    {
     "data": {
      "text/plain": [
       "100    0.016281\n",
       "101    0.016281\n",
       "102   -0.092695\n",
       "103    0.059871\n",
       "104   -0.027310\n",
       "         ...   \n",
       "195    0.027178\n",
       "196   -0.023677\n",
       "197    0.048974\n",
       "198   -0.052738\n",
       "199    0.041708\n",
       "Name: age, Length: 100, dtype: float64"
      ]
     },
     "execution_count": 26,
     "metadata": {},
     "output_type": "execute_result"
    }
   ],
   "source": [
    "df[\"age\"][100:200]"
   ]
  },
  {
   "cell_type": "code",
   "execution_count": 27,
   "id": "f845e572",
   "metadata": {},
   "outputs": [
    {
     "data": {
      "text/html": [
       "<div>\n",
       "<style scoped>\n",
       "    .dataframe tbody tr th:only-of-type {\n",
       "        vertical-align: middle;\n",
       "    }\n",
       "\n",
       "    .dataframe tbody tr th {\n",
       "        vertical-align: top;\n",
       "    }\n",
       "\n",
       "    .dataframe thead th {\n",
       "        text-align: right;\n",
       "    }\n",
       "</style>\n",
       "<table border=\"1\" class=\"dataframe\">\n",
       "  <thead>\n",
       "    <tr style=\"text-align: right;\">\n",
       "      <th></th>\n",
       "      <th>age</th>\n",
       "      <th>sex</th>\n",
       "    </tr>\n",
       "  </thead>\n",
       "  <tbody>\n",
       "    <tr>\n",
       "      <th>0</th>\n",
       "      <td>0.038076</td>\n",
       "      <td>0.050680</td>\n",
       "    </tr>\n",
       "    <tr>\n",
       "      <th>1</th>\n",
       "      <td>-0.001882</td>\n",
       "      <td>-0.044642</td>\n",
       "    </tr>\n",
       "    <tr>\n",
       "      <th>2</th>\n",
       "      <td>0.085299</td>\n",
       "      <td>0.050680</td>\n",
       "    </tr>\n",
       "    <tr>\n",
       "      <th>3</th>\n",
       "      <td>-0.089063</td>\n",
       "      <td>-0.044642</td>\n",
       "    </tr>\n",
       "    <tr>\n",
       "      <th>4</th>\n",
       "      <td>0.005383</td>\n",
       "      <td>-0.044642</td>\n",
       "    </tr>\n",
       "    <tr>\n",
       "      <th>...</th>\n",
       "      <td>...</td>\n",
       "      <td>...</td>\n",
       "    </tr>\n",
       "    <tr>\n",
       "      <th>437</th>\n",
       "      <td>0.041708</td>\n",
       "      <td>0.050680</td>\n",
       "    </tr>\n",
       "    <tr>\n",
       "      <th>438</th>\n",
       "      <td>-0.005515</td>\n",
       "      <td>0.050680</td>\n",
       "    </tr>\n",
       "    <tr>\n",
       "      <th>439</th>\n",
       "      <td>0.041708</td>\n",
       "      <td>0.050680</td>\n",
       "    </tr>\n",
       "    <tr>\n",
       "      <th>440</th>\n",
       "      <td>-0.045472</td>\n",
       "      <td>-0.044642</td>\n",
       "    </tr>\n",
       "    <tr>\n",
       "      <th>441</th>\n",
       "      <td>-0.045472</td>\n",
       "      <td>-0.044642</td>\n",
       "    </tr>\n",
       "  </tbody>\n",
       "</table>\n",
       "<p>442 rows × 2 columns</p>\n",
       "</div>"
      ],
      "text/plain": [
       "          age       sex\n",
       "0    0.038076  0.050680\n",
       "1   -0.001882 -0.044642\n",
       "2    0.085299  0.050680\n",
       "3   -0.089063 -0.044642\n",
       "4    0.005383 -0.044642\n",
       "..        ...       ...\n",
       "437  0.041708  0.050680\n",
       "438 -0.005515  0.050680\n",
       "439  0.041708  0.050680\n",
       "440 -0.045472 -0.044642\n",
       "441 -0.045472 -0.044642\n",
       "\n",
       "[442 rows x 2 columns]"
      ]
     },
     "execution_count": 27,
     "metadata": {},
     "output_type": "execute_result"
    }
   ],
   "source": [
    "df[[\"age\",\"sex\"]]"
   ]
  },
  {
   "cell_type": "code",
   "execution_count": 28,
   "id": "5e65f6d9",
   "metadata": {},
   "outputs": [
    {
     "data": {
      "text/html": [
       "<div>\n",
       "<style scoped>\n",
       "    .dataframe tbody tr th:only-of-type {\n",
       "        vertical-align: middle;\n",
       "    }\n",
       "\n",
       "    .dataframe tbody tr th {\n",
       "        vertical-align: top;\n",
       "    }\n",
       "\n",
       "    .dataframe thead th {\n",
       "        text-align: right;\n",
       "    }\n",
       "</style>\n",
       "<table border=\"1\" class=\"dataframe\">\n",
       "  <thead>\n",
       "    <tr style=\"text-align: right;\">\n",
       "      <th></th>\n",
       "      <th>age</th>\n",
       "      <th>sex</th>\n",
       "    </tr>\n",
       "  </thead>\n",
       "  <tbody>\n",
       "    <tr>\n",
       "      <th>0</th>\n",
       "      <td>0.038076</td>\n",
       "      <td>0.050680</td>\n",
       "    </tr>\n",
       "    <tr>\n",
       "      <th>1</th>\n",
       "      <td>-0.001882</td>\n",
       "      <td>-0.044642</td>\n",
       "    </tr>\n",
       "    <tr>\n",
       "      <th>2</th>\n",
       "      <td>0.085299</td>\n",
       "      <td>0.050680</td>\n",
       "    </tr>\n",
       "    <tr>\n",
       "      <th>3</th>\n",
       "      <td>-0.089063</td>\n",
       "      <td>-0.044642</td>\n",
       "    </tr>\n",
       "    <tr>\n",
       "      <th>4</th>\n",
       "      <td>0.005383</td>\n",
       "      <td>-0.044642</td>\n",
       "    </tr>\n",
       "  </tbody>\n",
       "</table>\n",
       "</div>"
      ],
      "text/plain": [
       "        age       sex\n",
       "0  0.038076  0.050680\n",
       "1 -0.001882 -0.044642\n",
       "2  0.085299  0.050680\n",
       "3 -0.089063 -0.044642\n",
       "4  0.005383 -0.044642"
      ]
     },
     "execution_count": 28,
     "metadata": {},
     "output_type": "execute_result"
    }
   ],
   "source": [
    "df[[\"age\",\"sex\"]][:5]"
   ]
  },
  {
   "cell_type": "code",
   "execution_count": 29,
   "id": "5fa3e425",
   "metadata": {},
   "outputs": [
    {
     "data": {
      "text/html": [
       "<div>\n",
       "<style scoped>\n",
       "    .dataframe tbody tr th:only-of-type {\n",
       "        vertical-align: middle;\n",
       "    }\n",
       "\n",
       "    .dataframe tbody tr th {\n",
       "        vertical-align: top;\n",
       "    }\n",
       "\n",
       "    .dataframe thead th {\n",
       "        text-align: right;\n",
       "    }\n",
       "</style>\n",
       "<table border=\"1\" class=\"dataframe\">\n",
       "  <thead>\n",
       "    <tr style=\"text-align: right;\">\n",
       "      <th></th>\n",
       "      <th>age</th>\n",
       "      <th>sex</th>\n",
       "    </tr>\n",
       "  </thead>\n",
       "  <tbody>\n",
       "    <tr>\n",
       "      <th>437</th>\n",
       "      <td>0.041708</td>\n",
       "      <td>0.050680</td>\n",
       "    </tr>\n",
       "    <tr>\n",
       "      <th>438</th>\n",
       "      <td>-0.005515</td>\n",
       "      <td>0.050680</td>\n",
       "    </tr>\n",
       "    <tr>\n",
       "      <th>439</th>\n",
       "      <td>0.041708</td>\n",
       "      <td>0.050680</td>\n",
       "    </tr>\n",
       "    <tr>\n",
       "      <th>440</th>\n",
       "      <td>-0.045472</td>\n",
       "      <td>-0.044642</td>\n",
       "    </tr>\n",
       "    <tr>\n",
       "      <th>441</th>\n",
       "      <td>-0.045472</td>\n",
       "      <td>-0.044642</td>\n",
       "    </tr>\n",
       "  </tbody>\n",
       "</table>\n",
       "</div>"
      ],
      "text/plain": [
       "          age       sex\n",
       "437  0.041708  0.050680\n",
       "438 -0.005515  0.050680\n",
       "439  0.041708  0.050680\n",
       "440 -0.045472 -0.044642\n",
       "441 -0.045472 -0.044642"
      ]
     },
     "execution_count": 29,
     "metadata": {},
     "output_type": "execute_result"
    }
   ],
   "source": [
    "df[[\"age\",\"sex\"]][-5:]"
   ]
  },
  {
   "cell_type": "markdown",
   "id": "19fac0a7",
   "metadata": {},
   "source": [
    "* loc\n",
    "* iloc"
   ]
  },
  {
   "cell_type": "code",
   "execution_count": 30,
   "id": "88d314dc",
   "metadata": {},
   "outputs": [
    {
     "data": {
      "text/plain": [
       "age   -0.045472\n",
       "sex   -0.044642\n",
       "bmi   -0.073030\n",
       "bp    -0.081413\n",
       "s1     0.083740\n",
       "s2     0.027809\n",
       "s3     0.173816\n",
       "s4    -0.039493\n",
       "s5    -0.004222\n",
       "s6     0.003064\n",
       "Name: 441, dtype: float64"
      ]
     },
     "execution_count": 30,
     "metadata": {},
     "output_type": "execute_result"
    }
   ],
   "source": [
    "df.iloc[441]"
   ]
  },
  {
   "cell_type": "code",
   "execution_count": 31,
   "id": "f7d8e471",
   "metadata": {},
   "outputs": [
    {
     "data": {
      "text/plain": [
       "age    0.038076\n",
       "sex    0.050680\n",
       "bmi    0.061696\n",
       "bp     0.021872\n",
       "s1    -0.044223\n",
       "s2    -0.034821\n",
       "s3    -0.043401\n",
       "s4    -0.002592\n",
       "s5     0.019907\n",
       "s6    -0.017646\n",
       "Name: 0, dtype: float64"
      ]
     },
     "execution_count": 31,
     "metadata": {},
     "output_type": "execute_result"
    }
   ],
   "source": [
    "df.iloc[0]"
   ]
  },
  {
   "cell_type": "code",
   "execution_count": 32,
   "id": "24c45f4e",
   "metadata": {},
   "outputs": [
    {
     "data": {
      "text/plain": [
       "age    0.038076\n",
       "sex    0.050680\n",
       "bmi    0.061696\n",
       "bp     0.021872\n",
       "s1    -0.044223\n",
       "s2    -0.034821\n",
       "s3    -0.043401\n",
       "s4    -0.002592\n",
       "s5     0.019907\n",
       "s6    -0.017646\n",
       "Name: 0, dtype: float64"
      ]
     },
     "execution_count": 32,
     "metadata": {},
     "output_type": "execute_result"
    }
   ],
   "source": [
    "df.loc[0]"
   ]
  },
  {
   "cell_type": "code",
   "execution_count": 33,
   "id": "c726052c",
   "metadata": {},
   "outputs": [
    {
     "data": {
      "text/plain": [
       "0.005383060374248237"
      ]
     },
     "execution_count": 33,
     "metadata": {},
     "output_type": "execute_result"
    }
   ],
   "source": [
    "df.loc[4,\"age\"]"
   ]
  },
  {
   "cell_type": "code",
   "execution_count": 34,
   "id": "29707917",
   "metadata": {},
   "outputs": [
    {
     "data": {
      "text/plain": [
       "age    0.005383\n",
       "sex   -0.044642\n",
       "Name: 4, dtype: float64"
      ]
     },
     "execution_count": 34,
     "metadata": {},
     "output_type": "execute_result"
    }
   ],
   "source": [
    "df.loc[4,[\"age\",\"sex\"]]"
   ]
  },
  {
   "cell_type": "code",
   "execution_count": 35,
   "id": "bb11dc1f",
   "metadata": {},
   "outputs": [
    {
     "data": {
      "text/plain": [
       "sex   -0.044642\n",
       "s2     0.015596\n",
       "s4    -0.002592\n",
       "s6    -0.046641\n",
       "Name: 4, dtype: float64"
      ]
     },
     "execution_count": 35,
     "metadata": {},
     "output_type": "execute_result"
    }
   ],
   "source": [
    "df.iloc[4,[1,5,7,9]]"
   ]
  },
  {
   "cell_type": "code",
   "execution_count": 36,
   "id": "9e304e8b",
   "metadata": {},
   "outputs": [],
   "source": [
    "row_conditions_met = df.age > 5.383060e-03"
   ]
  },
  {
   "cell_type": "code",
   "execution_count": 37,
   "id": "270314e8",
   "metadata": {},
   "outputs": [
    {
     "data": {
      "text/html": [
       "<div>\n",
       "<style scoped>\n",
       "    .dataframe tbody tr th:only-of-type {\n",
       "        vertical-align: middle;\n",
       "    }\n",
       "\n",
       "    .dataframe tbody tr th {\n",
       "        vertical-align: top;\n",
       "    }\n",
       "\n",
       "    .dataframe thead th {\n",
       "        text-align: right;\n",
       "    }\n",
       "</style>\n",
       "<table border=\"1\" class=\"dataframe\">\n",
       "  <thead>\n",
       "    <tr style=\"text-align: right;\">\n",
       "      <th></th>\n",
       "      <th>age</th>\n",
       "      <th>sex</th>\n",
       "      <th>bmi</th>\n",
       "      <th>bp</th>\n",
       "      <th>s1</th>\n",
       "      <th>s2</th>\n",
       "      <th>s3</th>\n",
       "      <th>s4</th>\n",
       "      <th>s5</th>\n",
       "      <th>s6</th>\n",
       "    </tr>\n",
       "  </thead>\n",
       "  <tbody>\n",
       "    <tr>\n",
       "      <th>0</th>\n",
       "      <td>0.038076</td>\n",
       "      <td>0.050680</td>\n",
       "      <td>0.061696</td>\n",
       "      <td>0.021872</td>\n",
       "      <td>-0.044223</td>\n",
       "      <td>-0.034821</td>\n",
       "      <td>-0.043401</td>\n",
       "      <td>-0.002592</td>\n",
       "      <td>0.019907</td>\n",
       "      <td>-0.017646</td>\n",
       "    </tr>\n",
       "    <tr>\n",
       "      <th>2</th>\n",
       "      <td>0.085299</td>\n",
       "      <td>0.050680</td>\n",
       "      <td>0.044451</td>\n",
       "      <td>-0.005670</td>\n",
       "      <td>-0.045599</td>\n",
       "      <td>-0.034194</td>\n",
       "      <td>-0.032356</td>\n",
       "      <td>-0.002592</td>\n",
       "      <td>0.002861</td>\n",
       "      <td>-0.025930</td>\n",
       "    </tr>\n",
       "    <tr>\n",
       "      <th>4</th>\n",
       "      <td>0.005383</td>\n",
       "      <td>-0.044642</td>\n",
       "      <td>-0.036385</td>\n",
       "      <td>0.021872</td>\n",
       "      <td>0.003935</td>\n",
       "      <td>0.015596</td>\n",
       "      <td>0.008142</td>\n",
       "      <td>-0.002592</td>\n",
       "      <td>-0.031988</td>\n",
       "      <td>-0.046641</td>\n",
       "    </tr>\n",
       "    <tr>\n",
       "      <th>7</th>\n",
       "      <td>0.063504</td>\n",
       "      <td>0.050680</td>\n",
       "      <td>-0.001895</td>\n",
       "      <td>0.066629</td>\n",
       "      <td>0.090620</td>\n",
       "      <td>0.108914</td>\n",
       "      <td>0.022869</td>\n",
       "      <td>0.017703</td>\n",
       "      <td>-0.035816</td>\n",
       "      <td>0.003064</td>\n",
       "    </tr>\n",
       "    <tr>\n",
       "      <th>8</th>\n",
       "      <td>0.041708</td>\n",
       "      <td>0.050680</td>\n",
       "      <td>0.061696</td>\n",
       "      <td>-0.040099</td>\n",
       "      <td>-0.013953</td>\n",
       "      <td>0.006202</td>\n",
       "      <td>-0.028674</td>\n",
       "      <td>-0.002592</td>\n",
       "      <td>-0.014960</td>\n",
       "      <td>0.011349</td>\n",
       "    </tr>\n",
       "    <tr>\n",
       "      <th>...</th>\n",
       "      <td>...</td>\n",
       "      <td>...</td>\n",
       "      <td>...</td>\n",
       "      <td>...</td>\n",
       "      <td>...</td>\n",
       "      <td>...</td>\n",
       "      <td>...</td>\n",
       "      <td>...</td>\n",
       "      <td>...</td>\n",
       "      <td>...</td>\n",
       "    </tr>\n",
       "    <tr>\n",
       "      <th>431</th>\n",
       "      <td>0.070769</td>\n",
       "      <td>0.050680</td>\n",
       "      <td>-0.030996</td>\n",
       "      <td>0.021872</td>\n",
       "      <td>-0.037344</td>\n",
       "      <td>-0.047034</td>\n",
       "      <td>0.033914</td>\n",
       "      <td>-0.039493</td>\n",
       "      <td>-0.014960</td>\n",
       "      <td>-0.001078</td>\n",
       "    </tr>\n",
       "    <tr>\n",
       "      <th>432</th>\n",
       "      <td>0.009016</td>\n",
       "      <td>-0.044642</td>\n",
       "      <td>0.055229</td>\n",
       "      <td>-0.005670</td>\n",
       "      <td>0.057597</td>\n",
       "      <td>0.044719</td>\n",
       "      <td>-0.002903</td>\n",
       "      <td>0.023239</td>\n",
       "      <td>0.055686</td>\n",
       "      <td>0.106617</td>\n",
       "    </tr>\n",
       "    <tr>\n",
       "      <th>434</th>\n",
       "      <td>0.016281</td>\n",
       "      <td>-0.044642</td>\n",
       "      <td>0.001339</td>\n",
       "      <td>0.008101</td>\n",
       "      <td>0.005311</td>\n",
       "      <td>0.010899</td>\n",
       "      <td>0.030232</td>\n",
       "      <td>-0.039493</td>\n",
       "      <td>-0.045424</td>\n",
       "      <td>0.032059</td>\n",
       "    </tr>\n",
       "    <tr>\n",
       "      <th>437</th>\n",
       "      <td>0.041708</td>\n",
       "      <td>0.050680</td>\n",
       "      <td>0.019662</td>\n",
       "      <td>0.059744</td>\n",
       "      <td>-0.005697</td>\n",
       "      <td>-0.002566</td>\n",
       "      <td>-0.028674</td>\n",
       "      <td>-0.002592</td>\n",
       "      <td>0.031193</td>\n",
       "      <td>0.007207</td>\n",
       "    </tr>\n",
       "    <tr>\n",
       "      <th>439</th>\n",
       "      <td>0.041708</td>\n",
       "      <td>0.050680</td>\n",
       "      <td>-0.015906</td>\n",
       "      <td>0.017293</td>\n",
       "      <td>-0.037344</td>\n",
       "      <td>-0.013840</td>\n",
       "      <td>-0.024993</td>\n",
       "      <td>-0.011080</td>\n",
       "      <td>-0.046883</td>\n",
       "      <td>0.015491</td>\n",
       "    </tr>\n",
       "  </tbody>\n",
       "</table>\n",
       "<p>228 rows × 10 columns</p>\n",
       "</div>"
      ],
      "text/plain": [
       "          age       sex       bmi        bp        s1        s2        s3  \\\n",
       "0    0.038076  0.050680  0.061696  0.021872 -0.044223 -0.034821 -0.043401   \n",
       "2    0.085299  0.050680  0.044451 -0.005670 -0.045599 -0.034194 -0.032356   \n",
       "4    0.005383 -0.044642 -0.036385  0.021872  0.003935  0.015596  0.008142   \n",
       "7    0.063504  0.050680 -0.001895  0.066629  0.090620  0.108914  0.022869   \n",
       "8    0.041708  0.050680  0.061696 -0.040099 -0.013953  0.006202 -0.028674   \n",
       "..        ...       ...       ...       ...       ...       ...       ...   \n",
       "431  0.070769  0.050680 -0.030996  0.021872 -0.037344 -0.047034  0.033914   \n",
       "432  0.009016 -0.044642  0.055229 -0.005670  0.057597  0.044719 -0.002903   \n",
       "434  0.016281 -0.044642  0.001339  0.008101  0.005311  0.010899  0.030232   \n",
       "437  0.041708  0.050680  0.019662  0.059744 -0.005697 -0.002566 -0.028674   \n",
       "439  0.041708  0.050680 -0.015906  0.017293 -0.037344 -0.013840 -0.024993   \n",
       "\n",
       "           s4        s5        s6  \n",
       "0   -0.002592  0.019907 -0.017646  \n",
       "2   -0.002592  0.002861 -0.025930  \n",
       "4   -0.002592 -0.031988 -0.046641  \n",
       "7    0.017703 -0.035816  0.003064  \n",
       "8   -0.002592 -0.014960  0.011349  \n",
       "..        ...       ...       ...  \n",
       "431 -0.039493 -0.014960 -0.001078  \n",
       "432  0.023239  0.055686  0.106617  \n",
       "434 -0.039493 -0.045424  0.032059  \n",
       "437 -0.002592  0.031193  0.007207  \n",
       "439 -0.011080 -0.046883  0.015491  \n",
       "\n",
       "[228 rows x 10 columns]"
      ]
     },
     "execution_count": 37,
     "metadata": {},
     "output_type": "execute_result"
    }
   ],
   "source": [
    "df.loc[row_conditions_met]"
   ]
  },
  {
   "cell_type": "code",
   "execution_count": 38,
   "id": "ec139a24",
   "metadata": {},
   "outputs": [
    {
     "data": {
      "text/html": [
       "<div>\n",
       "<style scoped>\n",
       "    .dataframe tbody tr th:only-of-type {\n",
       "        vertical-align: middle;\n",
       "    }\n",
       "\n",
       "    .dataframe tbody tr th {\n",
       "        vertical-align: top;\n",
       "    }\n",
       "\n",
       "    .dataframe thead th {\n",
       "        text-align: right;\n",
       "    }\n",
       "</style>\n",
       "<table border=\"1\" class=\"dataframe\">\n",
       "  <thead>\n",
       "    <tr style=\"text-align: right;\">\n",
       "      <th></th>\n",
       "      <th>age</th>\n",
       "      <th>sex</th>\n",
       "      <th>bmi</th>\n",
       "      <th>bp</th>\n",
       "      <th>s1</th>\n",
       "      <th>s2</th>\n",
       "      <th>s3</th>\n",
       "      <th>s4</th>\n",
       "      <th>s5</th>\n",
       "      <th>s6</th>\n",
       "    </tr>\n",
       "  </thead>\n",
       "  <tbody>\n",
       "    <tr>\n",
       "      <th>0</th>\n",
       "      <td>0.038076</td>\n",
       "      <td>0.050680</td>\n",
       "      <td>0.061696</td>\n",
       "      <td>0.021872</td>\n",
       "      <td>-0.044223</td>\n",
       "      <td>-0.034821</td>\n",
       "      <td>-0.043401</td>\n",
       "      <td>-0.002592</td>\n",
       "      <td>0.019907</td>\n",
       "      <td>-0.017646</td>\n",
       "    </tr>\n",
       "    <tr>\n",
       "      <th>2</th>\n",
       "      <td>0.085299</td>\n",
       "      <td>0.050680</td>\n",
       "      <td>0.044451</td>\n",
       "      <td>-0.005670</td>\n",
       "      <td>-0.045599</td>\n",
       "      <td>-0.034194</td>\n",
       "      <td>-0.032356</td>\n",
       "      <td>-0.002592</td>\n",
       "      <td>0.002861</td>\n",
       "      <td>-0.025930</td>\n",
       "    </tr>\n",
       "    <tr>\n",
       "      <th>4</th>\n",
       "      <td>0.005383</td>\n",
       "      <td>-0.044642</td>\n",
       "      <td>-0.036385</td>\n",
       "      <td>0.021872</td>\n",
       "      <td>0.003935</td>\n",
       "      <td>0.015596</td>\n",
       "      <td>0.008142</td>\n",
       "      <td>-0.002592</td>\n",
       "      <td>-0.031988</td>\n",
       "      <td>-0.046641</td>\n",
       "    </tr>\n",
       "    <tr>\n",
       "      <th>7</th>\n",
       "      <td>0.063504</td>\n",
       "      <td>0.050680</td>\n",
       "      <td>-0.001895</td>\n",
       "      <td>0.066629</td>\n",
       "      <td>0.090620</td>\n",
       "      <td>0.108914</td>\n",
       "      <td>0.022869</td>\n",
       "      <td>0.017703</td>\n",
       "      <td>-0.035816</td>\n",
       "      <td>0.003064</td>\n",
       "    </tr>\n",
       "    <tr>\n",
       "      <th>8</th>\n",
       "      <td>0.041708</td>\n",
       "      <td>0.050680</td>\n",
       "      <td>0.061696</td>\n",
       "      <td>-0.040099</td>\n",
       "      <td>-0.013953</td>\n",
       "      <td>0.006202</td>\n",
       "      <td>-0.028674</td>\n",
       "      <td>-0.002592</td>\n",
       "      <td>-0.014960</td>\n",
       "      <td>0.011349</td>\n",
       "    </tr>\n",
       "    <tr>\n",
       "      <th>...</th>\n",
       "      <td>...</td>\n",
       "      <td>...</td>\n",
       "      <td>...</td>\n",
       "      <td>...</td>\n",
       "      <td>...</td>\n",
       "      <td>...</td>\n",
       "      <td>...</td>\n",
       "      <td>...</td>\n",
       "      <td>...</td>\n",
       "      <td>...</td>\n",
       "    </tr>\n",
       "    <tr>\n",
       "      <th>431</th>\n",
       "      <td>0.070769</td>\n",
       "      <td>0.050680</td>\n",
       "      <td>-0.030996</td>\n",
       "      <td>0.021872</td>\n",
       "      <td>-0.037344</td>\n",
       "      <td>-0.047034</td>\n",
       "      <td>0.033914</td>\n",
       "      <td>-0.039493</td>\n",
       "      <td>-0.014960</td>\n",
       "      <td>-0.001078</td>\n",
       "    </tr>\n",
       "    <tr>\n",
       "      <th>432</th>\n",
       "      <td>0.009016</td>\n",
       "      <td>-0.044642</td>\n",
       "      <td>0.055229</td>\n",
       "      <td>-0.005670</td>\n",
       "      <td>0.057597</td>\n",
       "      <td>0.044719</td>\n",
       "      <td>-0.002903</td>\n",
       "      <td>0.023239</td>\n",
       "      <td>0.055686</td>\n",
       "      <td>0.106617</td>\n",
       "    </tr>\n",
       "    <tr>\n",
       "      <th>434</th>\n",
       "      <td>0.016281</td>\n",
       "      <td>-0.044642</td>\n",
       "      <td>0.001339</td>\n",
       "      <td>0.008101</td>\n",
       "      <td>0.005311</td>\n",
       "      <td>0.010899</td>\n",
       "      <td>0.030232</td>\n",
       "      <td>-0.039493</td>\n",
       "      <td>-0.045424</td>\n",
       "      <td>0.032059</td>\n",
       "    </tr>\n",
       "    <tr>\n",
       "      <th>437</th>\n",
       "      <td>0.041708</td>\n",
       "      <td>0.050680</td>\n",
       "      <td>0.019662</td>\n",
       "      <td>0.059744</td>\n",
       "      <td>-0.005697</td>\n",
       "      <td>-0.002566</td>\n",
       "      <td>-0.028674</td>\n",
       "      <td>-0.002592</td>\n",
       "      <td>0.031193</td>\n",
       "      <td>0.007207</td>\n",
       "    </tr>\n",
       "    <tr>\n",
       "      <th>439</th>\n",
       "      <td>0.041708</td>\n",
       "      <td>0.050680</td>\n",
       "      <td>-0.015906</td>\n",
       "      <td>0.017293</td>\n",
       "      <td>-0.037344</td>\n",
       "      <td>-0.013840</td>\n",
       "      <td>-0.024993</td>\n",
       "      <td>-0.011080</td>\n",
       "      <td>-0.046883</td>\n",
       "      <td>0.015491</td>\n",
       "    </tr>\n",
       "  </tbody>\n",
       "</table>\n",
       "<p>228 rows × 10 columns</p>\n",
       "</div>"
      ],
      "text/plain": [
       "          age       sex       bmi        bp        s1        s2        s3  \\\n",
       "0    0.038076  0.050680  0.061696  0.021872 -0.044223 -0.034821 -0.043401   \n",
       "2    0.085299  0.050680  0.044451 -0.005670 -0.045599 -0.034194 -0.032356   \n",
       "4    0.005383 -0.044642 -0.036385  0.021872  0.003935  0.015596  0.008142   \n",
       "7    0.063504  0.050680 -0.001895  0.066629  0.090620  0.108914  0.022869   \n",
       "8    0.041708  0.050680  0.061696 -0.040099 -0.013953  0.006202 -0.028674   \n",
       "..        ...       ...       ...       ...       ...       ...       ...   \n",
       "431  0.070769  0.050680 -0.030996  0.021872 -0.037344 -0.047034  0.033914   \n",
       "432  0.009016 -0.044642  0.055229 -0.005670  0.057597  0.044719 -0.002903   \n",
       "434  0.016281 -0.044642  0.001339  0.008101  0.005311  0.010899  0.030232   \n",
       "437  0.041708  0.050680  0.019662  0.059744 -0.005697 -0.002566 -0.028674   \n",
       "439  0.041708  0.050680 -0.015906  0.017293 -0.037344 -0.013840 -0.024993   \n",
       "\n",
       "           s4        s5        s6  \n",
       "0   -0.002592  0.019907 -0.017646  \n",
       "2   -0.002592  0.002861 -0.025930  \n",
       "4   -0.002592 -0.031988 -0.046641  \n",
       "7    0.017703 -0.035816  0.003064  \n",
       "8   -0.002592 -0.014960  0.011349  \n",
       "..        ...       ...       ...  \n",
       "431 -0.039493 -0.014960 -0.001078  \n",
       "432  0.023239  0.055686  0.106617  \n",
       "434 -0.039493 -0.045424  0.032059  \n",
       "437 -0.002592  0.031193  0.007207  \n",
       "439 -0.011080 -0.046883  0.015491  \n",
       "\n",
       "[228 rows x 10 columns]"
      ]
     },
     "execution_count": 38,
     "metadata": {},
     "output_type": "execute_result"
    }
   ],
   "source": [
    "df.loc[df.age > 5.383060e-03]"
   ]
  },
  {
   "cell_type": "code",
   "execution_count": 39,
   "id": "e6448294",
   "metadata": {},
   "outputs": [],
   "source": [
    "age_df_temp = df.loc[df.age < 5.383060e-03]"
   ]
  },
  {
   "cell_type": "code",
   "execution_count": 40,
   "id": "965005a7",
   "metadata": {},
   "outputs": [],
   "source": [
    "age_df_temp = df[df.age < 5.383060e-03]"
   ]
  },
  {
   "cell_type": "code",
   "execution_count": 41,
   "id": "2603627f",
   "metadata": {},
   "outputs": [
    {
     "data": {
      "text/plain": [
       "age   -0.092695\n",
       "sex   -0.044642\n",
       "bmi   -0.040696\n",
       "bp    -0.019442\n",
       "s1    -0.068991\n",
       "s2    -0.079288\n",
       "s3     0.041277\n",
       "s4    -0.076395\n",
       "s5    -0.041176\n",
       "s6    -0.096346\n",
       "Name: 5, dtype: float64"
      ]
     },
     "execution_count": 41,
     "metadata": {},
     "output_type": "execute_result"
    }
   ],
   "source": [
    "age_df_temp.iloc[2]"
   ]
  },
  {
   "cell_type": "code",
   "execution_count": 42,
   "id": "805c885e",
   "metadata": {},
   "outputs": [
    {
     "data": {
      "text/plain": [
       "age   -0.089063\n",
       "sex   -0.044642\n",
       "bmi   -0.011595\n",
       "bp    -0.036656\n",
       "s1     0.012191\n",
       "s2     0.024991\n",
       "s3    -0.036038\n",
       "s4     0.034309\n",
       "s5     0.022688\n",
       "s6    -0.009362\n",
       "Name: 3, dtype: float64"
      ]
     },
     "execution_count": 42,
     "metadata": {},
     "output_type": "execute_result"
    }
   ],
   "source": [
    "age_df_temp.iloc[1]"
   ]
  },
  {
   "cell_type": "code",
   "execution_count": 43,
   "id": "e0fbe85e",
   "metadata": {},
   "outputs": [],
   "source": [
    "age_df_temp = df.loc[(df.age < 5.383060e-03) & (df.sex > -4.464164e-02)]"
   ]
  },
  {
   "cell_type": "code",
   "execution_count": 44,
   "id": "845cf724",
   "metadata": {},
   "outputs": [
    {
     "data": {
      "text/plain": [
       "(214, 10)"
      ]
     },
     "execution_count": 44,
     "metadata": {},
     "output_type": "execute_result"
    }
   ],
   "source": [
    "age_df_temp.shape"
   ]
  },
  {
   "cell_type": "code",
   "execution_count": 45,
   "id": "1ad76443",
   "metadata": {},
   "outputs": [],
   "source": [
    "another_df = pd.DataFrame(np.random.rand(100,4),index=range(10,110),columns=list(\"ABCD\"))"
   ]
  },
  {
   "cell_type": "code",
   "execution_count": 46,
   "id": "8ab573d8",
   "metadata": {},
   "outputs": [
    {
     "data": {
      "text/html": [
       "<div>\n",
       "<style scoped>\n",
       "    .dataframe tbody tr th:only-of-type {\n",
       "        vertical-align: middle;\n",
       "    }\n",
       "\n",
       "    .dataframe tbody tr th {\n",
       "        vertical-align: top;\n",
       "    }\n",
       "\n",
       "    .dataframe thead th {\n",
       "        text-align: right;\n",
       "    }\n",
       "</style>\n",
       "<table border=\"1\" class=\"dataframe\">\n",
       "  <thead>\n",
       "    <tr style=\"text-align: right;\">\n",
       "      <th></th>\n",
       "      <th>A</th>\n",
       "      <th>B</th>\n",
       "      <th>C</th>\n",
       "      <th>D</th>\n",
       "    </tr>\n",
       "  </thead>\n",
       "  <tbody>\n",
       "    <tr>\n",
       "      <th>10</th>\n",
       "      <td>0.629736</td>\n",
       "      <td>0.496812</td>\n",
       "      <td>0.537075</td>\n",
       "      <td>0.892206</td>\n",
       "    </tr>\n",
       "    <tr>\n",
       "      <th>11</th>\n",
       "      <td>0.653070</td>\n",
       "      <td>0.494680</td>\n",
       "      <td>0.988615</td>\n",
       "      <td>0.900284</td>\n",
       "    </tr>\n",
       "    <tr>\n",
       "      <th>12</th>\n",
       "      <td>0.621110</td>\n",
       "      <td>0.338209</td>\n",
       "      <td>0.748794</td>\n",
       "      <td>0.476407</td>\n",
       "    </tr>\n",
       "    <tr>\n",
       "      <th>13</th>\n",
       "      <td>0.218984</td>\n",
       "      <td>0.506596</td>\n",
       "      <td>0.458413</td>\n",
       "      <td>0.050306</td>\n",
       "    </tr>\n",
       "    <tr>\n",
       "      <th>14</th>\n",
       "      <td>0.616715</td>\n",
       "      <td>0.559104</td>\n",
       "      <td>0.011708</td>\n",
       "      <td>0.778805</td>\n",
       "    </tr>\n",
       "  </tbody>\n",
       "</table>\n",
       "</div>"
      ],
      "text/plain": [
       "           A         B         C         D\n",
       "10  0.629736  0.496812  0.537075  0.892206\n",
       "11  0.653070  0.494680  0.988615  0.900284\n",
       "12  0.621110  0.338209  0.748794  0.476407\n",
       "13  0.218984  0.506596  0.458413  0.050306\n",
       "14  0.616715  0.559104  0.011708  0.778805"
      ]
     },
     "execution_count": 46,
     "metadata": {},
     "output_type": "execute_result"
    }
   ],
   "source": [
    "another_df.head()"
   ]
  },
  {
   "cell_type": "code",
   "execution_count": 47,
   "id": "3a987b84",
   "metadata": {},
   "outputs": [
    {
     "data": {
      "text/html": [
       "<div>\n",
       "<style scoped>\n",
       "    .dataframe tbody tr th:only-of-type {\n",
       "        vertical-align: middle;\n",
       "    }\n",
       "\n",
       "    .dataframe tbody tr th {\n",
       "        vertical-align: top;\n",
       "    }\n",
       "\n",
       "    .dataframe thead th {\n",
       "        text-align: right;\n",
       "    }\n",
       "</style>\n",
       "<table border=\"1\" class=\"dataframe\">\n",
       "  <thead>\n",
       "    <tr style=\"text-align: right;\">\n",
       "      <th></th>\n",
       "      <th>A</th>\n",
       "      <th>B</th>\n",
       "      <th>C</th>\n",
       "      <th>D</th>\n",
       "    </tr>\n",
       "  </thead>\n",
       "  <tbody>\n",
       "    <tr>\n",
       "      <th>105</th>\n",
       "      <td>0.554279</td>\n",
       "      <td>0.189217</td>\n",
       "      <td>0.413295</td>\n",
       "      <td>0.100523</td>\n",
       "    </tr>\n",
       "    <tr>\n",
       "      <th>106</th>\n",
       "      <td>0.077615</td>\n",
       "      <td>0.946503</td>\n",
       "      <td>0.414424</td>\n",
       "      <td>0.819756</td>\n",
       "    </tr>\n",
       "    <tr>\n",
       "      <th>107</th>\n",
       "      <td>0.891108</td>\n",
       "      <td>0.230109</td>\n",
       "      <td>0.259210</td>\n",
       "      <td>0.232938</td>\n",
       "    </tr>\n",
       "    <tr>\n",
       "      <th>108</th>\n",
       "      <td>0.019531</td>\n",
       "      <td>0.900690</td>\n",
       "      <td>0.064298</td>\n",
       "      <td>0.851255</td>\n",
       "    </tr>\n",
       "    <tr>\n",
       "      <th>109</th>\n",
       "      <td>0.580491</td>\n",
       "      <td>0.038972</td>\n",
       "      <td>0.936041</td>\n",
       "      <td>0.352150</td>\n",
       "    </tr>\n",
       "  </tbody>\n",
       "</table>\n",
       "</div>"
      ],
      "text/plain": [
       "            A         B         C         D\n",
       "105  0.554279  0.189217  0.413295  0.100523\n",
       "106  0.077615  0.946503  0.414424  0.819756\n",
       "107  0.891108  0.230109  0.259210  0.232938\n",
       "108  0.019531  0.900690  0.064298  0.851255\n",
       "109  0.580491  0.038972  0.936041  0.352150"
      ]
     },
     "execution_count": 47,
     "metadata": {},
     "output_type": "execute_result"
    }
   ],
   "source": [
    "another_df.tail()"
   ]
  },
  {
   "cell_type": "code",
   "execution_count": 48,
   "id": "f7a86f8a",
   "metadata": {},
   "outputs": [],
   "source": [
    "df = pd.DataFrame(np.random.rand(9,4),index=list(\"abcdefghi\"),columns=list(\"ABCD\"))"
   ]
  },
  {
   "cell_type": "code",
   "execution_count": 49,
   "id": "1f2df35d",
   "metadata": {},
   "outputs": [
    {
     "data": {
      "text/plain": [
       "(9, 4)"
      ]
     },
     "execution_count": 49,
     "metadata": {},
     "output_type": "execute_result"
    }
   ],
   "source": [
    "df.shape"
   ]
  },
  {
   "cell_type": "code",
   "execution_count": 50,
   "id": "3144e4cd",
   "metadata": {},
   "outputs": [
    {
     "data": {
      "text/plain": [
       "Index(['A', 'B', 'C', 'D'], dtype='object')"
      ]
     },
     "execution_count": 50,
     "metadata": {},
     "output_type": "execute_result"
    }
   ],
   "source": [
    "df.columns"
   ]
  },
  {
   "cell_type": "code",
   "execution_count": 51,
   "id": "7656a076",
   "metadata": {},
   "outputs": [
    {
     "name": "stdout",
     "output_type": "stream",
     "text": [
      "<class 'pandas.core.frame.DataFrame'>\n",
      "Index: 9 entries, a to i\n",
      "Data columns (total 4 columns):\n",
      " #   Column  Non-Null Count  Dtype  \n",
      "---  ------  --------------  -----  \n",
      " 0   A       9 non-null      float64\n",
      " 1   B       9 non-null      float64\n",
      " 2   C       9 non-null      float64\n",
      " 3   D       9 non-null      float64\n",
      "dtypes: float64(4)\n",
      "memory usage: 360.0+ bytes\n"
     ]
    }
   ],
   "source": [
    "df.info()"
   ]
  },
  {
   "cell_type": "code",
   "execution_count": 52,
   "id": "d1e92854",
   "metadata": {},
   "outputs": [
    {
     "data": {
      "text/html": [
       "<div>\n",
       "<style scoped>\n",
       "    .dataframe tbody tr th:only-of-type {\n",
       "        vertical-align: middle;\n",
       "    }\n",
       "\n",
       "    .dataframe tbody tr th {\n",
       "        vertical-align: top;\n",
       "    }\n",
       "\n",
       "    .dataframe thead th {\n",
       "        text-align: right;\n",
       "    }\n",
       "</style>\n",
       "<table border=\"1\" class=\"dataframe\">\n",
       "  <thead>\n",
       "    <tr style=\"text-align: right;\">\n",
       "      <th></th>\n",
       "      <th>A</th>\n",
       "      <th>B</th>\n",
       "      <th>C</th>\n",
       "      <th>D</th>\n",
       "    </tr>\n",
       "  </thead>\n",
       "  <tbody>\n",
       "    <tr>\n",
       "      <th>a</th>\n",
       "      <td>0.648890</td>\n",
       "      <td>0.297853</td>\n",
       "      <td>0.865321</td>\n",
       "      <td>0.135309</td>\n",
       "    </tr>\n",
       "    <tr>\n",
       "      <th>b</th>\n",
       "      <td>0.859188</td>\n",
       "      <td>0.698994</td>\n",
       "      <td>0.811888</td>\n",
       "      <td>0.065638</td>\n",
       "    </tr>\n",
       "    <tr>\n",
       "      <th>c</th>\n",
       "      <td>0.162187</td>\n",
       "      <td>0.497991</td>\n",
       "      <td>0.591337</td>\n",
       "      <td>0.467226</td>\n",
       "    </tr>\n",
       "    <tr>\n",
       "      <th>d</th>\n",
       "      <td>0.396985</td>\n",
       "      <td>0.917962</td>\n",
       "      <td>0.561148</td>\n",
       "      <td>0.603864</td>\n",
       "    </tr>\n",
       "    <tr>\n",
       "      <th>e</th>\n",
       "      <td>0.047729</td>\n",
       "      <td>0.533211</td>\n",
       "      <td>0.454251</td>\n",
       "      <td>0.481114</td>\n",
       "    </tr>\n",
       "  </tbody>\n",
       "</table>\n",
       "</div>"
      ],
      "text/plain": [
       "          A         B         C         D\n",
       "a  0.648890  0.297853  0.865321  0.135309\n",
       "b  0.859188  0.698994  0.811888  0.065638\n",
       "c  0.162187  0.497991  0.591337  0.467226\n",
       "d  0.396985  0.917962  0.561148  0.603864\n",
       "e  0.047729  0.533211  0.454251  0.481114"
      ]
     },
     "execution_count": 52,
     "metadata": {},
     "output_type": "execute_result"
    }
   ],
   "source": [
    "df.head()"
   ]
  },
  {
   "cell_type": "code",
   "execution_count": 53,
   "id": "bbc91afe",
   "metadata": {},
   "outputs": [
    {
     "data": {
      "text/plain": [
       "Index(['a', 'b', 'c', 'd', 'e', 'f', 'g', 'h', 'i'], dtype='object')"
      ]
     },
     "execution_count": 53,
     "metadata": {},
     "output_type": "execute_result"
    }
   ],
   "source": [
    "df.index"
   ]
  },
  {
   "cell_type": "code",
   "execution_count": 54,
   "id": "ad490cc2",
   "metadata": {},
   "outputs": [
    {
     "data": {
      "text/plain": [
       "A    0.648890\n",
       "B    0.297853\n",
       "C    0.865321\n",
       "D    0.135309\n",
       "Name: a, dtype: float64"
      ]
     },
     "execution_count": 54,
     "metadata": {},
     "output_type": "execute_result"
    }
   ],
   "source": [
    "df.loc['a']"
   ]
  },
  {
   "cell_type": "code",
   "execution_count": 55,
   "id": "c96f4019",
   "metadata": {},
   "outputs": [
    {
     "data": {
      "text/plain": [
       "A    0.648890\n",
       "B    0.297853\n",
       "C    0.865321\n",
       "D    0.135309\n",
       "Name: a, dtype: float64"
      ]
     },
     "execution_count": 55,
     "metadata": {},
     "output_type": "execute_result"
    }
   ],
   "source": [
    "df.loc['a','A':'D']"
   ]
  },
  {
   "cell_type": "code",
   "execution_count": 56,
   "id": "2f05b4ee",
   "metadata": {},
   "outputs": [
    {
     "data": {
      "text/html": [
       "<div>\n",
       "<style scoped>\n",
       "    .dataframe tbody tr th:only-of-type {\n",
       "        vertical-align: middle;\n",
       "    }\n",
       "\n",
       "    .dataframe tbody tr th {\n",
       "        vertical-align: top;\n",
       "    }\n",
       "\n",
       "    .dataframe thead th {\n",
       "        text-align: right;\n",
       "    }\n",
       "</style>\n",
       "<table border=\"1\" class=\"dataframe\">\n",
       "  <thead>\n",
       "    <tr style=\"text-align: right;\">\n",
       "      <th></th>\n",
       "      <th>A</th>\n",
       "      <th>B</th>\n",
       "      <th>C</th>\n",
       "      <th>D</th>\n",
       "    </tr>\n",
       "  </thead>\n",
       "  <tbody>\n",
       "    <tr>\n",
       "      <th>a</th>\n",
       "      <td>0.648890</td>\n",
       "      <td>0.297853</td>\n",
       "      <td>0.865321</td>\n",
       "      <td>0.135309</td>\n",
       "    </tr>\n",
       "    <tr>\n",
       "      <th>b</th>\n",
       "      <td>0.859188</td>\n",
       "      <td>0.698994</td>\n",
       "      <td>0.811888</td>\n",
       "      <td>0.065638</td>\n",
       "    </tr>\n",
       "    <tr>\n",
       "      <th>c</th>\n",
       "      <td>0.162187</td>\n",
       "      <td>0.497991</td>\n",
       "      <td>0.591337</td>\n",
       "      <td>0.467226</td>\n",
       "    </tr>\n",
       "    <tr>\n",
       "      <th>d</th>\n",
       "      <td>0.396985</td>\n",
       "      <td>0.917962</td>\n",
       "      <td>0.561148</td>\n",
       "      <td>0.603864</td>\n",
       "    </tr>\n",
       "  </tbody>\n",
       "</table>\n",
       "</div>"
      ],
      "text/plain": [
       "          A         B         C         D\n",
       "a  0.648890  0.297853  0.865321  0.135309\n",
       "b  0.859188  0.698994  0.811888  0.065638\n",
       "c  0.162187  0.497991  0.591337  0.467226\n",
       "d  0.396985  0.917962  0.561148  0.603864"
      ]
     },
     "execution_count": 56,
     "metadata": {},
     "output_type": "execute_result"
    }
   ],
   "source": [
    "df.loc['a':'d',:]"
   ]
  },
  {
   "cell_type": "code",
   "execution_count": 57,
   "id": "440dfdac",
   "metadata": {},
   "outputs": [
    {
     "data": {
      "text/html": [
       "<div>\n",
       "<style scoped>\n",
       "    .dataframe tbody tr th:only-of-type {\n",
       "        vertical-align: middle;\n",
       "    }\n",
       "\n",
       "    .dataframe tbody tr th {\n",
       "        vertical-align: top;\n",
       "    }\n",
       "\n",
       "    .dataframe thead th {\n",
       "        text-align: right;\n",
       "    }\n",
       "</style>\n",
       "<table border=\"1\" class=\"dataframe\">\n",
       "  <thead>\n",
       "    <tr style=\"text-align: right;\">\n",
       "      <th></th>\n",
       "      <th>A</th>\n",
       "      <th>B</th>\n",
       "      <th>C</th>\n",
       "    </tr>\n",
       "  </thead>\n",
       "  <tbody>\n",
       "    <tr>\n",
       "      <th>a</th>\n",
       "      <td>0.648890</td>\n",
       "      <td>0.297853</td>\n",
       "      <td>0.865321</td>\n",
       "    </tr>\n",
       "    <tr>\n",
       "      <th>b</th>\n",
       "      <td>0.859188</td>\n",
       "      <td>0.698994</td>\n",
       "      <td>0.811888</td>\n",
       "    </tr>\n",
       "    <tr>\n",
       "      <th>c</th>\n",
       "      <td>0.162187</td>\n",
       "      <td>0.497991</td>\n",
       "      <td>0.591337</td>\n",
       "    </tr>\n",
       "    <tr>\n",
       "      <th>d</th>\n",
       "      <td>0.396985</td>\n",
       "      <td>0.917962</td>\n",
       "      <td>0.561148</td>\n",
       "    </tr>\n",
       "  </tbody>\n",
       "</table>\n",
       "</div>"
      ],
      "text/plain": [
       "          A         B         C\n",
       "a  0.648890  0.297853  0.865321\n",
       "b  0.859188  0.698994  0.811888\n",
       "c  0.162187  0.497991  0.591337\n",
       "d  0.396985  0.917962  0.561148"
      ]
     },
     "execution_count": 57,
     "metadata": {},
     "output_type": "execute_result"
    }
   ],
   "source": [
    "df.iloc[:4,0:3]"
   ]
  },
  {
   "cell_type": "code",
   "execution_count": 58,
   "id": "41cdb89e",
   "metadata": {},
   "outputs": [
    {
     "data": {
      "text/html": [
       "<div>\n",
       "<style scoped>\n",
       "    .dataframe tbody tr th:only-of-type {\n",
       "        vertical-align: middle;\n",
       "    }\n",
       "\n",
       "    .dataframe tbody tr th {\n",
       "        vertical-align: top;\n",
       "    }\n",
       "\n",
       "    .dataframe thead th {\n",
       "        text-align: right;\n",
       "    }\n",
       "</style>\n",
       "<table border=\"1\" class=\"dataframe\">\n",
       "  <thead>\n",
       "    <tr style=\"text-align: right;\">\n",
       "      <th></th>\n",
       "      <th>B</th>\n",
       "      <th>C</th>\n",
       "    </tr>\n",
       "  </thead>\n",
       "  <tbody>\n",
       "    <tr>\n",
       "      <th>a</th>\n",
       "      <td>0.297853</td>\n",
       "      <td>0.865321</td>\n",
       "    </tr>\n",
       "    <tr>\n",
       "      <th>b</th>\n",
       "      <td>0.698994</td>\n",
       "      <td>0.811888</td>\n",
       "    </tr>\n",
       "    <tr>\n",
       "      <th>c</th>\n",
       "      <td>0.497991</td>\n",
       "      <td>0.591337</td>\n",
       "    </tr>\n",
       "    <tr>\n",
       "      <th>d</th>\n",
       "      <td>0.917962</td>\n",
       "      <td>0.561148</td>\n",
       "    </tr>\n",
       "  </tbody>\n",
       "</table>\n",
       "</div>"
      ],
      "text/plain": [
       "          B         C\n",
       "a  0.297853  0.865321\n",
       "b  0.698994  0.811888\n",
       "c  0.497991  0.591337\n",
       "d  0.917962  0.561148"
      ]
     },
     "execution_count": 58,
     "metadata": {},
     "output_type": "execute_result"
    }
   ],
   "source": [
    "df.iloc[:4,1:3]"
   ]
  },
  {
   "cell_type": "code",
   "execution_count": 59,
   "id": "bf67ca66",
   "metadata": {},
   "outputs": [
    {
     "data": {
      "text/html": [
       "<div>\n",
       "<style scoped>\n",
       "    .dataframe tbody tr th:only-of-type {\n",
       "        vertical-align: middle;\n",
       "    }\n",
       "\n",
       "    .dataframe tbody tr th {\n",
       "        vertical-align: top;\n",
       "    }\n",
       "\n",
       "    .dataframe thead th {\n",
       "        text-align: right;\n",
       "    }\n",
       "</style>\n",
       "<table border=\"1\" class=\"dataframe\">\n",
       "  <thead>\n",
       "    <tr style=\"text-align: right;\">\n",
       "      <th></th>\n",
       "      <th>A</th>\n",
       "      <th>B</th>\n",
       "      <th>C</th>\n",
       "      <th>D</th>\n",
       "    </tr>\n",
       "  </thead>\n",
       "  <tbody>\n",
       "    <tr>\n",
       "      <th>a</th>\n",
       "      <td>0.648890</td>\n",
       "      <td>0.297853</td>\n",
       "      <td>0.865321</td>\n",
       "      <td>0.135309</td>\n",
       "    </tr>\n",
       "    <tr>\n",
       "      <th>b</th>\n",
       "      <td>0.859188</td>\n",
       "      <td>0.698994</td>\n",
       "      <td>0.811888</td>\n",
       "      <td>0.065638</td>\n",
       "    </tr>\n",
       "    <tr>\n",
       "      <th>c</th>\n",
       "      <td>0.162187</td>\n",
       "      <td>0.497991</td>\n",
       "      <td>0.591337</td>\n",
       "      <td>0.467226</td>\n",
       "    </tr>\n",
       "    <tr>\n",
       "      <th>d</th>\n",
       "      <td>0.396985</td>\n",
       "      <td>0.917962</td>\n",
       "      <td>0.561148</td>\n",
       "      <td>0.603864</td>\n",
       "    </tr>\n",
       "  </tbody>\n",
       "</table>\n",
       "</div>"
      ],
      "text/plain": [
       "          A         B         C         D\n",
       "a  0.648890  0.297853  0.865321  0.135309\n",
       "b  0.859188  0.698994  0.811888  0.065638\n",
       "c  0.162187  0.497991  0.591337  0.467226\n",
       "d  0.396985  0.917962  0.561148  0.603864"
      ]
     },
     "execution_count": 59,
     "metadata": {},
     "output_type": "execute_result"
    }
   ],
   "source": [
    "df.iloc[0:4,:]"
   ]
  },
  {
   "cell_type": "code",
   "execution_count": 60,
   "id": "48404a80",
   "metadata": {},
   "outputs": [
    {
     "data": {
      "text/html": [
       "<div>\n",
       "<style scoped>\n",
       "    .dataframe tbody tr th:only-of-type {\n",
       "        vertical-align: middle;\n",
       "    }\n",
       "\n",
       "    .dataframe tbody tr th {\n",
       "        vertical-align: top;\n",
       "    }\n",
       "\n",
       "    .dataframe thead th {\n",
       "        text-align: right;\n",
       "    }\n",
       "</style>\n",
       "<table border=\"1\" class=\"dataframe\">\n",
       "  <thead>\n",
       "    <tr style=\"text-align: right;\">\n",
       "      <th></th>\n",
       "      <th>A</th>\n",
       "      <th>B</th>\n",
       "      <th>C</th>\n",
       "      <th>D</th>\n",
       "    </tr>\n",
       "  </thead>\n",
       "  <tbody>\n",
       "    <tr>\n",
       "      <th>a</th>\n",
       "      <td>0.648890</td>\n",
       "      <td>0.297853</td>\n",
       "      <td>0.865321</td>\n",
       "      <td>0.135309</td>\n",
       "    </tr>\n",
       "    <tr>\n",
       "      <th>b</th>\n",
       "      <td>0.859188</td>\n",
       "      <td>0.698994</td>\n",
       "      <td>0.811888</td>\n",
       "      <td>0.065638</td>\n",
       "    </tr>\n",
       "    <tr>\n",
       "      <th>c</th>\n",
       "      <td>0.162187</td>\n",
       "      <td>0.497991</td>\n",
       "      <td>0.591337</td>\n",
       "      <td>0.467226</td>\n",
       "    </tr>\n",
       "    <tr>\n",
       "      <th>d</th>\n",
       "      <td>0.396985</td>\n",
       "      <td>0.917962</td>\n",
       "      <td>0.561148</td>\n",
       "      <td>0.603864</td>\n",
       "    </tr>\n",
       "  </tbody>\n",
       "</table>\n",
       "</div>"
      ],
      "text/plain": [
       "          A         B         C         D\n",
       "a  0.648890  0.297853  0.865321  0.135309\n",
       "b  0.859188  0.698994  0.811888  0.065638\n",
       "c  0.162187  0.497991  0.591337  0.467226\n",
       "d  0.396985  0.917962  0.561148  0.603864"
      ]
     },
     "execution_count": 60,
     "metadata": {},
     "output_type": "execute_result"
    }
   ],
   "source": [
    "df.iloc[0:4]"
   ]
  },
  {
   "cell_type": "code",
   "execution_count": 61,
   "id": "4b2c73d1",
   "metadata": {},
   "outputs": [
    {
     "data": {
      "text/plain": [
       "a    0.297853\n",
       "b    0.698994\n",
       "c    0.497991\n",
       "d    0.917962\n",
       "e    0.533211\n",
       "f    0.002531\n",
       "g    0.714178\n",
       "h    0.606367\n",
       "i    0.994767\n",
       "Name: B, dtype: float64"
      ]
     },
     "execution_count": 61,
     "metadata": {},
     "output_type": "execute_result"
    }
   ],
   "source": [
    "df.iloc[:,1]"
   ]
  },
  {
   "cell_type": "code",
   "execution_count": 62,
   "id": "9d973dac",
   "metadata": {},
   "outputs": [],
   "source": [
    "selector = lambda df:df['A'] > 0"
   ]
  },
  {
   "cell_type": "code",
   "execution_count": 63,
   "id": "cffcb06c",
   "metadata": {},
   "outputs": [
    {
     "data": {
      "text/html": [
       "<div>\n",
       "<style scoped>\n",
       "    .dataframe tbody tr th:only-of-type {\n",
       "        vertical-align: middle;\n",
       "    }\n",
       "\n",
       "    .dataframe tbody tr th {\n",
       "        vertical-align: top;\n",
       "    }\n",
       "\n",
       "    .dataframe thead th {\n",
       "        text-align: right;\n",
       "    }\n",
       "</style>\n",
       "<table border=\"1\" class=\"dataframe\">\n",
       "  <thead>\n",
       "    <tr style=\"text-align: right;\">\n",
       "      <th></th>\n",
       "      <th>A</th>\n",
       "      <th>B</th>\n",
       "      <th>C</th>\n",
       "      <th>D</th>\n",
       "    </tr>\n",
       "  </thead>\n",
       "  <tbody>\n",
       "    <tr>\n",
       "      <th>a</th>\n",
       "      <td>0.648890</td>\n",
       "      <td>0.297853</td>\n",
       "      <td>0.865321</td>\n",
       "      <td>0.135309</td>\n",
       "    </tr>\n",
       "    <tr>\n",
       "      <th>b</th>\n",
       "      <td>0.859188</td>\n",
       "      <td>0.698994</td>\n",
       "      <td>0.811888</td>\n",
       "      <td>0.065638</td>\n",
       "    </tr>\n",
       "    <tr>\n",
       "      <th>c</th>\n",
       "      <td>0.162187</td>\n",
       "      <td>0.497991</td>\n",
       "      <td>0.591337</td>\n",
       "      <td>0.467226</td>\n",
       "    </tr>\n",
       "    <tr>\n",
       "      <th>d</th>\n",
       "      <td>0.396985</td>\n",
       "      <td>0.917962</td>\n",
       "      <td>0.561148</td>\n",
       "      <td>0.603864</td>\n",
       "    </tr>\n",
       "    <tr>\n",
       "      <th>e</th>\n",
       "      <td>0.047729</td>\n",
       "      <td>0.533211</td>\n",
       "      <td>0.454251</td>\n",
       "      <td>0.481114</td>\n",
       "    </tr>\n",
       "    <tr>\n",
       "      <th>f</th>\n",
       "      <td>0.493856</td>\n",
       "      <td>0.002531</td>\n",
       "      <td>0.169714</td>\n",
       "      <td>0.034338</td>\n",
       "    </tr>\n",
       "    <tr>\n",
       "      <th>g</th>\n",
       "      <td>0.361638</td>\n",
       "      <td>0.714178</td>\n",
       "      <td>0.637812</td>\n",
       "      <td>0.741574</td>\n",
       "    </tr>\n",
       "    <tr>\n",
       "      <th>h</th>\n",
       "      <td>0.503260</td>\n",
       "      <td>0.606367</td>\n",
       "      <td>0.819930</td>\n",
       "      <td>0.070676</td>\n",
       "    </tr>\n",
       "    <tr>\n",
       "      <th>i</th>\n",
       "      <td>0.828112</td>\n",
       "      <td>0.994767</td>\n",
       "      <td>0.565624</td>\n",
       "      <td>0.313292</td>\n",
       "    </tr>\n",
       "  </tbody>\n",
       "</table>\n",
       "</div>"
      ],
      "text/plain": [
       "          A         B         C         D\n",
       "a  0.648890  0.297853  0.865321  0.135309\n",
       "b  0.859188  0.698994  0.811888  0.065638\n",
       "c  0.162187  0.497991  0.591337  0.467226\n",
       "d  0.396985  0.917962  0.561148  0.603864\n",
       "e  0.047729  0.533211  0.454251  0.481114\n",
       "f  0.493856  0.002531  0.169714  0.034338\n",
       "g  0.361638  0.714178  0.637812  0.741574\n",
       "h  0.503260  0.606367  0.819930  0.070676\n",
       "i  0.828112  0.994767  0.565624  0.313292"
      ]
     },
     "execution_count": 63,
     "metadata": {},
     "output_type": "execute_result"
    }
   ],
   "source": [
    "df.loc[selector]"
   ]
  },
  {
   "cell_type": "code",
   "execution_count": 64,
   "id": "c6c8a8f1",
   "metadata": {},
   "outputs": [],
   "source": [
    "selector = lambda df:df[\"A\"] > 0.5"
   ]
  },
  {
   "cell_type": "code",
   "execution_count": 65,
   "id": "caf83ff1",
   "metadata": {},
   "outputs": [
    {
     "data": {
      "text/html": [
       "<div>\n",
       "<style scoped>\n",
       "    .dataframe tbody tr th:only-of-type {\n",
       "        vertical-align: middle;\n",
       "    }\n",
       "\n",
       "    .dataframe tbody tr th {\n",
       "        vertical-align: top;\n",
       "    }\n",
       "\n",
       "    .dataframe thead th {\n",
       "        text-align: right;\n",
       "    }\n",
       "</style>\n",
       "<table border=\"1\" class=\"dataframe\">\n",
       "  <thead>\n",
       "    <tr style=\"text-align: right;\">\n",
       "      <th></th>\n",
       "      <th>A</th>\n",
       "      <th>B</th>\n",
       "      <th>C</th>\n",
       "      <th>D</th>\n",
       "    </tr>\n",
       "  </thead>\n",
       "  <tbody>\n",
       "    <tr>\n",
       "      <th>a</th>\n",
       "      <td>0.648890</td>\n",
       "      <td>0.297853</td>\n",
       "      <td>0.865321</td>\n",
       "      <td>0.135309</td>\n",
       "    </tr>\n",
       "    <tr>\n",
       "      <th>b</th>\n",
       "      <td>0.859188</td>\n",
       "      <td>0.698994</td>\n",
       "      <td>0.811888</td>\n",
       "      <td>0.065638</td>\n",
       "    </tr>\n",
       "    <tr>\n",
       "      <th>h</th>\n",
       "      <td>0.503260</td>\n",
       "      <td>0.606367</td>\n",
       "      <td>0.819930</td>\n",
       "      <td>0.070676</td>\n",
       "    </tr>\n",
       "    <tr>\n",
       "      <th>i</th>\n",
       "      <td>0.828112</td>\n",
       "      <td>0.994767</td>\n",
       "      <td>0.565624</td>\n",
       "      <td>0.313292</td>\n",
       "    </tr>\n",
       "  </tbody>\n",
       "</table>\n",
       "</div>"
      ],
      "text/plain": [
       "          A         B         C         D\n",
       "a  0.648890  0.297853  0.865321  0.135309\n",
       "b  0.859188  0.698994  0.811888  0.065638\n",
       "h  0.503260  0.606367  0.819930  0.070676\n",
       "i  0.828112  0.994767  0.565624  0.313292"
      ]
     },
     "execution_count": 65,
     "metadata": {},
     "output_type": "execute_result"
    }
   ],
   "source": [
    "df.loc[selector]"
   ]
  },
  {
   "cell_type": "code",
   "execution_count": 66,
   "id": "bccc2a6e",
   "metadata": {},
   "outputs": [],
   "source": [
    "condition_for_selection = lambda df : (df[\"A\"] > 0.5) & (df[\"B\"] < 0.4)"
   ]
  },
  {
   "cell_type": "code",
   "execution_count": 67,
   "id": "5ed81e09",
   "metadata": {},
   "outputs": [
    {
     "data": {
      "text/html": [
       "<div>\n",
       "<style scoped>\n",
       "    .dataframe tbody tr th:only-of-type {\n",
       "        vertical-align: middle;\n",
       "    }\n",
       "\n",
       "    .dataframe tbody tr th {\n",
       "        vertical-align: top;\n",
       "    }\n",
       "\n",
       "    .dataframe thead th {\n",
       "        text-align: right;\n",
       "    }\n",
       "</style>\n",
       "<table border=\"1\" class=\"dataframe\">\n",
       "  <thead>\n",
       "    <tr style=\"text-align: right;\">\n",
       "      <th></th>\n",
       "      <th>A</th>\n",
       "      <th>B</th>\n",
       "      <th>C</th>\n",
       "      <th>D</th>\n",
       "    </tr>\n",
       "  </thead>\n",
       "  <tbody>\n",
       "    <tr>\n",
       "      <th>a</th>\n",
       "      <td>0.64889</td>\n",
       "      <td>0.297853</td>\n",
       "      <td>0.865321</td>\n",
       "      <td>0.135309</td>\n",
       "    </tr>\n",
       "  </tbody>\n",
       "</table>\n",
       "</div>"
      ],
      "text/plain": [
       "         A         B         C         D\n",
       "a  0.64889  0.297853  0.865321  0.135309"
      ]
     },
     "execution_count": 67,
     "metadata": {},
     "output_type": "execute_result"
    }
   ],
   "source": [
    "df.loc[condition_for_selection]"
   ]
  },
  {
   "cell_type": "code",
   "execution_count": 68,
   "id": "f8b600c8",
   "metadata": {},
   "outputs": [
    {
     "data": {
      "text/html": [
       "<div>\n",
       "<style scoped>\n",
       "    .dataframe tbody tr th:only-of-type {\n",
       "        vertical-align: middle;\n",
       "    }\n",
       "\n",
       "    .dataframe tbody tr th {\n",
       "        vertical-align: top;\n",
       "    }\n",
       "\n",
       "    .dataframe thead th {\n",
       "        text-align: right;\n",
       "    }\n",
       "</style>\n",
       "<table border=\"1\" class=\"dataframe\">\n",
       "  <thead>\n",
       "    <tr style=\"text-align: right;\">\n",
       "      <th></th>\n",
       "      <th>A</th>\n",
       "      <th>B</th>\n",
       "      <th>C</th>\n",
       "      <th>D</th>\n",
       "    </tr>\n",
       "  </thead>\n",
       "  <tbody>\n",
       "    <tr>\n",
       "      <th>a</th>\n",
       "      <td>0.64889</td>\n",
       "      <td>0.297853</td>\n",
       "      <td>0.865321</td>\n",
       "      <td>0.135309</td>\n",
       "    </tr>\n",
       "  </tbody>\n",
       "</table>\n",
       "</div>"
      ],
      "text/plain": [
       "         A         B         C         D\n",
       "a  0.64889  0.297853  0.865321  0.135309"
      ]
     },
     "execution_count": 68,
     "metadata": {},
     "output_type": "execute_result"
    }
   ],
   "source": [
    "df[condition_for_selection]"
   ]
  },
  {
   "cell_type": "code",
   "execution_count": 69,
   "id": "4bc3808f",
   "metadata": {},
   "outputs": [],
   "source": [
    "condition_for_selection = (df[\"A\"] > 0.5) | ~(df[\"B\"] < 0.2)"
   ]
  },
  {
   "cell_type": "code",
   "execution_count": 70,
   "id": "6c3a708a",
   "metadata": {},
   "outputs": [
    {
     "data": {
      "text/html": [
       "<div>\n",
       "<style scoped>\n",
       "    .dataframe tbody tr th:only-of-type {\n",
       "        vertical-align: middle;\n",
       "    }\n",
       "\n",
       "    .dataframe tbody tr th {\n",
       "        vertical-align: top;\n",
       "    }\n",
       "\n",
       "    .dataframe thead th {\n",
       "        text-align: right;\n",
       "    }\n",
       "</style>\n",
       "<table border=\"1\" class=\"dataframe\">\n",
       "  <thead>\n",
       "    <tr style=\"text-align: right;\">\n",
       "      <th></th>\n",
       "      <th>A</th>\n",
       "      <th>B</th>\n",
       "      <th>C</th>\n",
       "      <th>D</th>\n",
       "    </tr>\n",
       "  </thead>\n",
       "  <tbody>\n",
       "    <tr>\n",
       "      <th>a</th>\n",
       "      <td>0.648890</td>\n",
       "      <td>0.297853</td>\n",
       "      <td>0.865321</td>\n",
       "      <td>0.135309</td>\n",
       "    </tr>\n",
       "    <tr>\n",
       "      <th>b</th>\n",
       "      <td>0.859188</td>\n",
       "      <td>0.698994</td>\n",
       "      <td>0.811888</td>\n",
       "      <td>0.065638</td>\n",
       "    </tr>\n",
       "    <tr>\n",
       "      <th>c</th>\n",
       "      <td>0.162187</td>\n",
       "      <td>0.497991</td>\n",
       "      <td>0.591337</td>\n",
       "      <td>0.467226</td>\n",
       "    </tr>\n",
       "    <tr>\n",
       "      <th>d</th>\n",
       "      <td>0.396985</td>\n",
       "      <td>0.917962</td>\n",
       "      <td>0.561148</td>\n",
       "      <td>0.603864</td>\n",
       "    </tr>\n",
       "    <tr>\n",
       "      <th>e</th>\n",
       "      <td>0.047729</td>\n",
       "      <td>0.533211</td>\n",
       "      <td>0.454251</td>\n",
       "      <td>0.481114</td>\n",
       "    </tr>\n",
       "    <tr>\n",
       "      <th>g</th>\n",
       "      <td>0.361638</td>\n",
       "      <td>0.714178</td>\n",
       "      <td>0.637812</td>\n",
       "      <td>0.741574</td>\n",
       "    </tr>\n",
       "    <tr>\n",
       "      <th>h</th>\n",
       "      <td>0.503260</td>\n",
       "      <td>0.606367</td>\n",
       "      <td>0.819930</td>\n",
       "      <td>0.070676</td>\n",
       "    </tr>\n",
       "    <tr>\n",
       "      <th>i</th>\n",
       "      <td>0.828112</td>\n",
       "      <td>0.994767</td>\n",
       "      <td>0.565624</td>\n",
       "      <td>0.313292</td>\n",
       "    </tr>\n",
       "  </tbody>\n",
       "</table>\n",
       "</div>"
      ],
      "text/plain": [
       "          A         B         C         D\n",
       "a  0.648890  0.297853  0.865321  0.135309\n",
       "b  0.859188  0.698994  0.811888  0.065638\n",
       "c  0.162187  0.497991  0.591337  0.467226\n",
       "d  0.396985  0.917962  0.561148  0.603864\n",
       "e  0.047729  0.533211  0.454251  0.481114\n",
       "g  0.361638  0.714178  0.637812  0.741574\n",
       "h  0.503260  0.606367  0.819930  0.070676\n",
       "i  0.828112  0.994767  0.565624  0.313292"
      ]
     },
     "execution_count": 70,
     "metadata": {},
     "output_type": "execute_result"
    }
   ],
   "source": [
    "df[condition_for_selection]"
   ]
  },
  {
   "cell_type": "markdown",
   "id": "ef1a371c",
   "metadata": {},
   "source": [
    "## Adding a column in the dataframe"
   ]
  },
  {
   "cell_type": "code",
   "execution_count": 71,
   "id": "27071e5f",
   "metadata": {},
   "outputs": [
    {
     "data": {
      "text/html": [
       "<div>\n",
       "<style scoped>\n",
       "    .dataframe tbody tr th:only-of-type {\n",
       "        vertical-align: middle;\n",
       "    }\n",
       "\n",
       "    .dataframe tbody tr th {\n",
       "        vertical-align: top;\n",
       "    }\n",
       "\n",
       "    .dataframe thead th {\n",
       "        text-align: right;\n",
       "    }\n",
       "</style>\n",
       "<table border=\"1\" class=\"dataframe\">\n",
       "  <thead>\n",
       "    <tr style=\"text-align: right;\">\n",
       "      <th></th>\n",
       "      <th>A</th>\n",
       "      <th>B</th>\n",
       "      <th>C</th>\n",
       "      <th>D</th>\n",
       "      <th>E</th>\n",
       "    </tr>\n",
       "  </thead>\n",
       "  <tbody>\n",
       "    <tr>\n",
       "      <th>a</th>\n",
       "      <td>0.648890</td>\n",
       "      <td>0.297853</td>\n",
       "      <td>0.865321</td>\n",
       "      <td>0.135309</td>\n",
       "      <td>64.889036</td>\n",
       "    </tr>\n",
       "    <tr>\n",
       "      <th>b</th>\n",
       "      <td>0.859188</td>\n",
       "      <td>0.698994</td>\n",
       "      <td>0.811888</td>\n",
       "      <td>0.065638</td>\n",
       "      <td>85.918831</td>\n",
       "    </tr>\n",
       "    <tr>\n",
       "      <th>c</th>\n",
       "      <td>0.162187</td>\n",
       "      <td>0.497991</td>\n",
       "      <td>0.591337</td>\n",
       "      <td>0.467226</td>\n",
       "      <td>16.218707</td>\n",
       "    </tr>\n",
       "    <tr>\n",
       "      <th>d</th>\n",
       "      <td>0.396985</td>\n",
       "      <td>0.917962</td>\n",
       "      <td>0.561148</td>\n",
       "      <td>0.603864</td>\n",
       "      <td>39.698512</td>\n",
       "    </tr>\n",
       "    <tr>\n",
       "      <th>e</th>\n",
       "      <td>0.047729</td>\n",
       "      <td>0.533211</td>\n",
       "      <td>0.454251</td>\n",
       "      <td>0.481114</td>\n",
       "      <td>4.772925</td>\n",
       "    </tr>\n",
       "    <tr>\n",
       "      <th>f</th>\n",
       "      <td>0.493856</td>\n",
       "      <td>0.002531</td>\n",
       "      <td>0.169714</td>\n",
       "      <td>0.034338</td>\n",
       "      <td>49.385611</td>\n",
       "    </tr>\n",
       "    <tr>\n",
       "      <th>g</th>\n",
       "      <td>0.361638</td>\n",
       "      <td>0.714178</td>\n",
       "      <td>0.637812</td>\n",
       "      <td>0.741574</td>\n",
       "      <td>36.163817</td>\n",
       "    </tr>\n",
       "    <tr>\n",
       "      <th>h</th>\n",
       "      <td>0.503260</td>\n",
       "      <td>0.606367</td>\n",
       "      <td>0.819930</td>\n",
       "      <td>0.070676</td>\n",
       "      <td>50.325951</td>\n",
       "    </tr>\n",
       "    <tr>\n",
       "      <th>i</th>\n",
       "      <td>0.828112</td>\n",
       "      <td>0.994767</td>\n",
       "      <td>0.565624</td>\n",
       "      <td>0.313292</td>\n",
       "      <td>82.811242</td>\n",
       "    </tr>\n",
       "  </tbody>\n",
       "</table>\n",
       "</div>"
      ],
      "text/plain": [
       "          A         B         C         D          E\n",
       "a  0.648890  0.297853  0.865321  0.135309  64.889036\n",
       "b  0.859188  0.698994  0.811888  0.065638  85.918831\n",
       "c  0.162187  0.497991  0.591337  0.467226  16.218707\n",
       "d  0.396985  0.917962  0.561148  0.603864  39.698512\n",
       "e  0.047729  0.533211  0.454251  0.481114   4.772925\n",
       "f  0.493856  0.002531  0.169714  0.034338  49.385611\n",
       "g  0.361638  0.714178  0.637812  0.741574  36.163817\n",
       "h  0.503260  0.606367  0.819930  0.070676  50.325951\n",
       "i  0.828112  0.994767  0.565624  0.313292  82.811242"
      ]
     },
     "execution_count": 71,
     "metadata": {},
     "output_type": "execute_result"
    }
   ],
   "source": [
    "df[\"E\"] = df[\"A\"] * 100\n",
    "df"
   ]
  },
  {
   "cell_type": "code",
   "execution_count": 72,
   "id": "98b13e75",
   "metadata": {},
   "outputs": [
    {
     "data": {
      "text/html": [
       "<div>\n",
       "<style scoped>\n",
       "    .dataframe tbody tr th:only-of-type {\n",
       "        vertical-align: middle;\n",
       "    }\n",
       "\n",
       "    .dataframe tbody tr th {\n",
       "        vertical-align: top;\n",
       "    }\n",
       "\n",
       "    .dataframe thead th {\n",
       "        text-align: right;\n",
       "    }\n",
       "</style>\n",
       "<table border=\"1\" class=\"dataframe\">\n",
       "  <thead>\n",
       "    <tr style=\"text-align: right;\">\n",
       "      <th></th>\n",
       "      <th>A</th>\n",
       "      <th>B</th>\n",
       "      <th>C</th>\n",
       "      <th>D</th>\n",
       "      <th>E</th>\n",
       "      <th>F</th>\n",
       "    </tr>\n",
       "  </thead>\n",
       "  <tbody>\n",
       "    <tr>\n",
       "      <th>a</th>\n",
       "      <td>0.648890</td>\n",
       "      <td>0.297853</td>\n",
       "      <td>0.865321</td>\n",
       "      <td>0.135309</td>\n",
       "      <td>64.889036</td>\n",
       "      <td>1.514211</td>\n",
       "    </tr>\n",
       "    <tr>\n",
       "      <th>b</th>\n",
       "      <td>0.859188</td>\n",
       "      <td>0.698994</td>\n",
       "      <td>0.811888</td>\n",
       "      <td>0.065638</td>\n",
       "      <td>85.918831</td>\n",
       "      <td>1.671076</td>\n",
       "    </tr>\n",
       "    <tr>\n",
       "      <th>c</th>\n",
       "      <td>0.162187</td>\n",
       "      <td>0.497991</td>\n",
       "      <td>0.591337</td>\n",
       "      <td>0.467226</td>\n",
       "      <td>16.218707</td>\n",
       "      <td>0.753524</td>\n",
       "    </tr>\n",
       "    <tr>\n",
       "      <th>d</th>\n",
       "      <td>0.396985</td>\n",
       "      <td>0.917962</td>\n",
       "      <td>0.561148</td>\n",
       "      <td>0.603864</td>\n",
       "      <td>39.698512</td>\n",
       "      <td>0.958133</td>\n",
       "    </tr>\n",
       "    <tr>\n",
       "      <th>e</th>\n",
       "      <td>0.047729</td>\n",
       "      <td>0.533211</td>\n",
       "      <td>0.454251</td>\n",
       "      <td>0.481114</td>\n",
       "      <td>4.772925</td>\n",
       "      <td>0.501980</td>\n",
       "    </tr>\n",
       "    <tr>\n",
       "      <th>f</th>\n",
       "      <td>0.493856</td>\n",
       "      <td>0.002531</td>\n",
       "      <td>0.169714</td>\n",
       "      <td>0.034338</td>\n",
       "      <td>49.385611</td>\n",
       "      <td>0.663570</td>\n",
       "    </tr>\n",
       "    <tr>\n",
       "      <th>g</th>\n",
       "      <td>0.361638</td>\n",
       "      <td>0.714178</td>\n",
       "      <td>0.637812</td>\n",
       "      <td>0.741574</td>\n",
       "      <td>36.163817</td>\n",
       "      <td>0.999450</td>\n",
       "    </tr>\n",
       "    <tr>\n",
       "      <th>h</th>\n",
       "      <td>0.503260</td>\n",
       "      <td>0.606367</td>\n",
       "      <td>0.819930</td>\n",
       "      <td>0.070676</td>\n",
       "      <td>50.325951</td>\n",
       "      <td>1.323190</td>\n",
       "    </tr>\n",
       "    <tr>\n",
       "      <th>i</th>\n",
       "      <td>0.828112</td>\n",
       "      <td>0.994767</td>\n",
       "      <td>0.565624</td>\n",
       "      <td>0.313292</td>\n",
       "      <td>82.811242</td>\n",
       "      <td>1.393737</td>\n",
       "    </tr>\n",
       "  </tbody>\n",
       "</table>\n",
       "</div>"
      ],
      "text/plain": [
       "          A         B         C         D          E         F\n",
       "a  0.648890  0.297853  0.865321  0.135309  64.889036  1.514211\n",
       "b  0.859188  0.698994  0.811888  0.065638  85.918831  1.671076\n",
       "c  0.162187  0.497991  0.591337  0.467226  16.218707  0.753524\n",
       "d  0.396985  0.917962  0.561148  0.603864  39.698512  0.958133\n",
       "e  0.047729  0.533211  0.454251  0.481114   4.772925  0.501980\n",
       "f  0.493856  0.002531  0.169714  0.034338  49.385611  0.663570\n",
       "g  0.361638  0.714178  0.637812  0.741574  36.163817  0.999450\n",
       "h  0.503260  0.606367  0.819930  0.070676  50.325951  1.323190\n",
       "i  0.828112  0.994767  0.565624  0.313292  82.811242  1.393737"
      ]
     },
     "execution_count": 72,
     "metadata": {},
     "output_type": "execute_result"
    }
   ],
   "source": [
    "df[\"F\"] = df[\"A\"] + df[\"C\"]\n",
    "df"
   ]
  },
  {
   "cell_type": "code",
   "execution_count": 73,
   "id": "de3f668a",
   "metadata": {},
   "outputs": [],
   "source": [
    "criteria = df[\"A\"] < 0.2"
   ]
  },
  {
   "cell_type": "code",
   "execution_count": 74,
   "id": "37e889f2",
   "metadata": {},
   "outputs": [
    {
     "data": {
      "text/html": [
       "<div>\n",
       "<style scoped>\n",
       "    .dataframe tbody tr th:only-of-type {\n",
       "        vertical-align: middle;\n",
       "    }\n",
       "\n",
       "    .dataframe tbody tr th {\n",
       "        vertical-align: top;\n",
       "    }\n",
       "\n",
       "    .dataframe thead th {\n",
       "        text-align: right;\n",
       "    }\n",
       "</style>\n",
       "<table border=\"1\" class=\"dataframe\">\n",
       "  <thead>\n",
       "    <tr style=\"text-align: right;\">\n",
       "      <th></th>\n",
       "      <th>A</th>\n",
       "      <th>B</th>\n",
       "      <th>C</th>\n",
       "      <th>D</th>\n",
       "      <th>E</th>\n",
       "      <th>F</th>\n",
       "    </tr>\n",
       "  </thead>\n",
       "  <tbody>\n",
       "    <tr>\n",
       "      <th>a</th>\n",
       "      <td>0.648890</td>\n",
       "      <td>0.297853</td>\n",
       "      <td>0.865321</td>\n",
       "      <td>0.135309</td>\n",
       "      <td>64.889036</td>\n",
       "      <td>1.514211</td>\n",
       "    </tr>\n",
       "    <tr>\n",
       "      <th>b</th>\n",
       "      <td>0.859188</td>\n",
       "      <td>0.698994</td>\n",
       "      <td>0.811888</td>\n",
       "      <td>0.065638</td>\n",
       "      <td>85.918831</td>\n",
       "      <td>1.671076</td>\n",
       "    </tr>\n",
       "    <tr>\n",
       "      <th>c</th>\n",
       "      <td>0.000000</td>\n",
       "      <td>0.497991</td>\n",
       "      <td>0.591337</td>\n",
       "      <td>0.467226</td>\n",
       "      <td>16.218707</td>\n",
       "      <td>0.753524</td>\n",
       "    </tr>\n",
       "    <tr>\n",
       "      <th>d</th>\n",
       "      <td>0.396985</td>\n",
       "      <td>0.917962</td>\n",
       "      <td>0.561148</td>\n",
       "      <td>0.603864</td>\n",
       "      <td>39.698512</td>\n",
       "      <td>0.958133</td>\n",
       "    </tr>\n",
       "    <tr>\n",
       "      <th>e</th>\n",
       "      <td>0.000000</td>\n",
       "      <td>0.533211</td>\n",
       "      <td>0.454251</td>\n",
       "      <td>0.481114</td>\n",
       "      <td>4.772925</td>\n",
       "      <td>0.501980</td>\n",
       "    </tr>\n",
       "    <tr>\n",
       "      <th>f</th>\n",
       "      <td>0.493856</td>\n",
       "      <td>0.002531</td>\n",
       "      <td>0.169714</td>\n",
       "      <td>0.034338</td>\n",
       "      <td>49.385611</td>\n",
       "      <td>0.663570</td>\n",
       "    </tr>\n",
       "    <tr>\n",
       "      <th>g</th>\n",
       "      <td>0.361638</td>\n",
       "      <td>0.714178</td>\n",
       "      <td>0.637812</td>\n",
       "      <td>0.741574</td>\n",
       "      <td>36.163817</td>\n",
       "      <td>0.999450</td>\n",
       "    </tr>\n",
       "    <tr>\n",
       "      <th>h</th>\n",
       "      <td>0.503260</td>\n",
       "      <td>0.606367</td>\n",
       "      <td>0.819930</td>\n",
       "      <td>0.070676</td>\n",
       "      <td>50.325951</td>\n",
       "      <td>1.323190</td>\n",
       "    </tr>\n",
       "    <tr>\n",
       "      <th>i</th>\n",
       "      <td>0.828112</td>\n",
       "      <td>0.994767</td>\n",
       "      <td>0.565624</td>\n",
       "      <td>0.313292</td>\n",
       "      <td>82.811242</td>\n",
       "      <td>1.393737</td>\n",
       "    </tr>\n",
       "  </tbody>\n",
       "</table>\n",
       "</div>"
      ],
      "text/plain": [
       "          A         B         C         D          E         F\n",
       "a  0.648890  0.297853  0.865321  0.135309  64.889036  1.514211\n",
       "b  0.859188  0.698994  0.811888  0.065638  85.918831  1.671076\n",
       "c  0.000000  0.497991  0.591337  0.467226  16.218707  0.753524\n",
       "d  0.396985  0.917962  0.561148  0.603864  39.698512  0.958133\n",
       "e  0.000000  0.533211  0.454251  0.481114   4.772925  0.501980\n",
       "f  0.493856  0.002531  0.169714  0.034338  49.385611  0.663570\n",
       "g  0.361638  0.714178  0.637812  0.741574  36.163817  0.999450\n",
       "h  0.503260  0.606367  0.819930  0.070676  50.325951  1.323190\n",
       "i  0.828112  0.994767  0.565624  0.313292  82.811242  1.393737"
      ]
     },
     "execution_count": 74,
     "metadata": {},
     "output_type": "execute_result"
    }
   ],
   "source": [
    "df.loc[criteria,\"A\"] = 0\n",
    "df"
   ]
  },
  {
   "cell_type": "code",
   "execution_count": 75,
   "id": "133061be",
   "metadata": {},
   "outputs": [],
   "source": [
    "cities = [\"Mumbai\",\"Delhi\",\"Chennai\",\"Kolkata\",\"Bengalure\",\"Hyderabad\",\"Pune\",\"Ahmedabad\",\"Indore\"]"
   ]
  },
  {
   "cell_type": "code",
   "execution_count": 76,
   "id": "04273070",
   "metadata": {},
   "outputs": [
    {
     "data": {
      "text/html": [
       "<div>\n",
       "<style scoped>\n",
       "    .dataframe tbody tr th:only-of-type {\n",
       "        vertical-align: middle;\n",
       "    }\n",
       "\n",
       "    .dataframe tbody tr th {\n",
       "        vertical-align: top;\n",
       "    }\n",
       "\n",
       "    .dataframe thead th {\n",
       "        text-align: right;\n",
       "    }\n",
       "</style>\n",
       "<table border=\"1\" class=\"dataframe\">\n",
       "  <thead>\n",
       "    <tr style=\"text-align: right;\">\n",
       "      <th></th>\n",
       "      <th>A</th>\n",
       "      <th>B</th>\n",
       "      <th>C</th>\n",
       "      <th>D</th>\n",
       "      <th>E</th>\n",
       "      <th>F</th>\n",
       "      <th>city</th>\n",
       "    </tr>\n",
       "  </thead>\n",
       "  <tbody>\n",
       "    <tr>\n",
       "      <th>a</th>\n",
       "      <td>0.648890</td>\n",
       "      <td>0.297853</td>\n",
       "      <td>0.865321</td>\n",
       "      <td>0.135309</td>\n",
       "      <td>64.889036</td>\n",
       "      <td>1.514211</td>\n",
       "      <td>Mumbai</td>\n",
       "    </tr>\n",
       "    <tr>\n",
       "      <th>b</th>\n",
       "      <td>0.859188</td>\n",
       "      <td>0.698994</td>\n",
       "      <td>0.811888</td>\n",
       "      <td>0.065638</td>\n",
       "      <td>85.918831</td>\n",
       "      <td>1.671076</td>\n",
       "      <td>Delhi</td>\n",
       "    </tr>\n",
       "    <tr>\n",
       "      <th>c</th>\n",
       "      <td>0.000000</td>\n",
       "      <td>0.497991</td>\n",
       "      <td>0.591337</td>\n",
       "      <td>0.467226</td>\n",
       "      <td>16.218707</td>\n",
       "      <td>0.753524</td>\n",
       "      <td>Chennai</td>\n",
       "    </tr>\n",
       "    <tr>\n",
       "      <th>d</th>\n",
       "      <td>0.396985</td>\n",
       "      <td>0.917962</td>\n",
       "      <td>0.561148</td>\n",
       "      <td>0.603864</td>\n",
       "      <td>39.698512</td>\n",
       "      <td>0.958133</td>\n",
       "      <td>Kolkata</td>\n",
       "    </tr>\n",
       "    <tr>\n",
       "      <th>e</th>\n",
       "      <td>0.000000</td>\n",
       "      <td>0.533211</td>\n",
       "      <td>0.454251</td>\n",
       "      <td>0.481114</td>\n",
       "      <td>4.772925</td>\n",
       "      <td>0.501980</td>\n",
       "      <td>Bengalure</td>\n",
       "    </tr>\n",
       "    <tr>\n",
       "      <th>f</th>\n",
       "      <td>0.493856</td>\n",
       "      <td>0.002531</td>\n",
       "      <td>0.169714</td>\n",
       "      <td>0.034338</td>\n",
       "      <td>49.385611</td>\n",
       "      <td>0.663570</td>\n",
       "      <td>Hyderabad</td>\n",
       "    </tr>\n",
       "    <tr>\n",
       "      <th>g</th>\n",
       "      <td>0.361638</td>\n",
       "      <td>0.714178</td>\n",
       "      <td>0.637812</td>\n",
       "      <td>0.741574</td>\n",
       "      <td>36.163817</td>\n",
       "      <td>0.999450</td>\n",
       "      <td>Pune</td>\n",
       "    </tr>\n",
       "    <tr>\n",
       "      <th>h</th>\n",
       "      <td>0.503260</td>\n",
       "      <td>0.606367</td>\n",
       "      <td>0.819930</td>\n",
       "      <td>0.070676</td>\n",
       "      <td>50.325951</td>\n",
       "      <td>1.323190</td>\n",
       "      <td>Ahmedabad</td>\n",
       "    </tr>\n",
       "    <tr>\n",
       "      <th>i</th>\n",
       "      <td>0.828112</td>\n",
       "      <td>0.994767</td>\n",
       "      <td>0.565624</td>\n",
       "      <td>0.313292</td>\n",
       "      <td>82.811242</td>\n",
       "      <td>1.393737</td>\n",
       "      <td>Indore</td>\n",
       "    </tr>\n",
       "  </tbody>\n",
       "</table>\n",
       "</div>"
      ],
      "text/plain": [
       "          A         B         C         D          E         F       city\n",
       "a  0.648890  0.297853  0.865321  0.135309  64.889036  1.514211     Mumbai\n",
       "b  0.859188  0.698994  0.811888  0.065638  85.918831  1.671076      Delhi\n",
       "c  0.000000  0.497991  0.591337  0.467226  16.218707  0.753524    Chennai\n",
       "d  0.396985  0.917962  0.561148  0.603864  39.698512  0.958133    Kolkata\n",
       "e  0.000000  0.533211  0.454251  0.481114   4.772925  0.501980  Bengalure\n",
       "f  0.493856  0.002531  0.169714  0.034338  49.385611  0.663570  Hyderabad\n",
       "g  0.361638  0.714178  0.637812  0.741574  36.163817  0.999450       Pune\n",
       "h  0.503260  0.606367  0.819930  0.070676  50.325951  1.323190  Ahmedabad\n",
       "i  0.828112  0.994767  0.565624  0.313292  82.811242  1.393737     Indore"
      ]
     },
     "execution_count": 76,
     "metadata": {},
     "output_type": "execute_result"
    }
   ],
   "source": [
    "df[\"city\"] = cities\n",
    "df"
   ]
  },
  {
   "cell_type": "code",
   "execution_count": 77,
   "id": "f2f29e1d",
   "metadata": {},
   "outputs": [
    {
     "data": {
      "text/html": [
       "<div>\n",
       "<style scoped>\n",
       "    .dataframe tbody tr th:only-of-type {\n",
       "        vertical-align: middle;\n",
       "    }\n",
       "\n",
       "    .dataframe tbody tr th {\n",
       "        vertical-align: top;\n",
       "    }\n",
       "\n",
       "    .dataframe thead th {\n",
       "        text-align: right;\n",
       "    }\n",
       "</style>\n",
       "<table border=\"1\" class=\"dataframe\">\n",
       "  <thead>\n",
       "    <tr style=\"text-align: right;\">\n",
       "      <th></th>\n",
       "      <th>A</th>\n",
       "      <th>B</th>\n",
       "      <th>C</th>\n",
       "      <th>D</th>\n",
       "      <th>E</th>\n",
       "      <th>F</th>\n",
       "      <th>city</th>\n",
       "    </tr>\n",
       "  </thead>\n",
       "  <tbody>\n",
       "    <tr>\n",
       "      <th>a</th>\n",
       "      <td>0.648890</td>\n",
       "      <td>0.297853</td>\n",
       "      <td>0.865321</td>\n",
       "      <td>0.135309</td>\n",
       "      <td>64.889036</td>\n",
       "      <td>1.514211</td>\n",
       "      <td>Mumbai</td>\n",
       "    </tr>\n",
       "    <tr>\n",
       "      <th>b</th>\n",
       "      <td>0.859188</td>\n",
       "      <td>0.698994</td>\n",
       "      <td>0.811888</td>\n",
       "      <td>0.065638</td>\n",
       "      <td>85.918831</td>\n",
       "      <td>1.671076</td>\n",
       "      <td>Delhi</td>\n",
       "    </tr>\n",
       "    <tr>\n",
       "      <th>c</th>\n",
       "      <td>0.000000</td>\n",
       "      <td>0.497991</td>\n",
       "      <td>0.591337</td>\n",
       "      <td>0.467226</td>\n",
       "      <td>16.218707</td>\n",
       "      <td>0.753524</td>\n",
       "      <td>Chennai</td>\n",
       "    </tr>\n",
       "    <tr>\n",
       "      <th>d</th>\n",
       "      <td>0.396985</td>\n",
       "      <td>0.917962</td>\n",
       "      <td>0.561148</td>\n",
       "      <td>0.603864</td>\n",
       "      <td>39.698512</td>\n",
       "      <td>0.958133</td>\n",
       "      <td>Kolkata</td>\n",
       "    </tr>\n",
       "    <tr>\n",
       "      <th>e</th>\n",
       "      <td>0.000000</td>\n",
       "      <td>0.533211</td>\n",
       "      <td>0.454251</td>\n",
       "      <td>0.481114</td>\n",
       "      <td>4.772925</td>\n",
       "      <td>0.501980</td>\n",
       "      <td>Bengalure</td>\n",
       "    </tr>\n",
       "    <tr>\n",
       "      <th>f</th>\n",
       "      <td>0.493856</td>\n",
       "      <td>0.002531</td>\n",
       "      <td>0.169714</td>\n",
       "      <td>0.034338</td>\n",
       "      <td>49.385611</td>\n",
       "      <td>0.663570</td>\n",
       "      <td>Hyderabad</td>\n",
       "    </tr>\n",
       "    <tr>\n",
       "      <th>g</th>\n",
       "      <td>0.361638</td>\n",
       "      <td>0.714178</td>\n",
       "      <td>0.637812</td>\n",
       "      <td>0.741574</td>\n",
       "      <td>36.163817</td>\n",
       "      <td>0.999450</td>\n",
       "      <td>Pune</td>\n",
       "    </tr>\n",
       "    <tr>\n",
       "      <th>h</th>\n",
       "      <td>0.503260</td>\n",
       "      <td>0.606367</td>\n",
       "      <td>0.819930</td>\n",
       "      <td>0.070676</td>\n",
       "      <td>50.325951</td>\n",
       "      <td>1.323190</td>\n",
       "      <td>Ahmedabad</td>\n",
       "    </tr>\n",
       "    <tr>\n",
       "      <th>i</th>\n",
       "      <td>0.828112</td>\n",
       "      <td>0.994767</td>\n",
       "      <td>0.565624</td>\n",
       "      <td>0.313292</td>\n",
       "      <td>82.811242</td>\n",
       "      <td>1.393737</td>\n",
       "      <td>Indore</td>\n",
       "    </tr>\n",
       "  </tbody>\n",
       "</table>\n",
       "</div>"
      ],
      "text/plain": [
       "          A         B         C         D          E         F       city\n",
       "a  0.648890  0.297853  0.865321  0.135309  64.889036  1.514211     Mumbai\n",
       "b  0.859188  0.698994  0.811888  0.065638  85.918831  1.671076      Delhi\n",
       "c  0.000000  0.497991  0.591337  0.467226  16.218707  0.753524    Chennai\n",
       "d  0.396985  0.917962  0.561148  0.603864  39.698512  0.958133    Kolkata\n",
       "e  0.000000  0.533211  0.454251  0.481114   4.772925  0.501980  Bengalure\n",
       "f  0.493856  0.002531  0.169714  0.034338  49.385611  0.663570  Hyderabad\n",
       "g  0.361638  0.714178  0.637812  0.741574  36.163817  0.999450       Pune\n",
       "h  0.503260  0.606367  0.819930  0.070676  50.325951  1.323190  Ahmedabad\n",
       "i  0.828112  0.994767  0.565624  0.313292  82.811242  1.393737     Indore"
      ]
     },
     "execution_count": 77,
     "metadata": {},
     "output_type": "execute_result"
    }
   ],
   "source": [
    "df_copy = df.copy()\n",
    "df"
   ]
  },
  {
   "cell_type": "code",
   "execution_count": 78,
   "id": "617484f1",
   "metadata": {},
   "outputs": [],
   "source": [
    "cities_new = [\"Mumbai\",\"Delhi\",\"Chennai\",\"Kolkata\",\"Bengalure\",\"Hyderabad\",\"Pune\",\"Ahmedabad\",\"Guwahati\"]"
   ]
  },
  {
   "cell_type": "code",
   "execution_count": 79,
   "id": "a235ca00",
   "metadata": {},
   "outputs": [
    {
     "data": {
      "text/html": [
       "<div>\n",
       "<style scoped>\n",
       "    .dataframe tbody tr th:only-of-type {\n",
       "        vertical-align: middle;\n",
       "    }\n",
       "\n",
       "    .dataframe tbody tr th {\n",
       "        vertical-align: top;\n",
       "    }\n",
       "\n",
       "    .dataframe thead th {\n",
       "        text-align: right;\n",
       "    }\n",
       "</style>\n",
       "<table border=\"1\" class=\"dataframe\">\n",
       "  <thead>\n",
       "    <tr style=\"text-align: right;\">\n",
       "      <th></th>\n",
       "      <th>A</th>\n",
       "      <th>B</th>\n",
       "      <th>C</th>\n",
       "      <th>D</th>\n",
       "      <th>E</th>\n",
       "      <th>F</th>\n",
       "      <th>city</th>\n",
       "      <th>new_city</th>\n",
       "    </tr>\n",
       "  </thead>\n",
       "  <tbody>\n",
       "    <tr>\n",
       "      <th>a</th>\n",
       "      <td>0.648890</td>\n",
       "      <td>0.297853</td>\n",
       "      <td>0.865321</td>\n",
       "      <td>0.135309</td>\n",
       "      <td>64.889036</td>\n",
       "      <td>1.514211</td>\n",
       "      <td>Mumbai</td>\n",
       "      <td>Mumbai</td>\n",
       "    </tr>\n",
       "    <tr>\n",
       "      <th>b</th>\n",
       "      <td>0.859188</td>\n",
       "      <td>0.698994</td>\n",
       "      <td>0.811888</td>\n",
       "      <td>0.065638</td>\n",
       "      <td>85.918831</td>\n",
       "      <td>1.671076</td>\n",
       "      <td>Delhi</td>\n",
       "      <td>Delhi</td>\n",
       "    </tr>\n",
       "    <tr>\n",
       "      <th>c</th>\n",
       "      <td>0.000000</td>\n",
       "      <td>0.497991</td>\n",
       "      <td>0.591337</td>\n",
       "      <td>0.467226</td>\n",
       "      <td>16.218707</td>\n",
       "      <td>0.753524</td>\n",
       "      <td>Chennai</td>\n",
       "      <td>Chennai</td>\n",
       "    </tr>\n",
       "    <tr>\n",
       "      <th>d</th>\n",
       "      <td>0.396985</td>\n",
       "      <td>0.917962</td>\n",
       "      <td>0.561148</td>\n",
       "      <td>0.603864</td>\n",
       "      <td>39.698512</td>\n",
       "      <td>0.958133</td>\n",
       "      <td>Kolkata</td>\n",
       "      <td>Kolkata</td>\n",
       "    </tr>\n",
       "    <tr>\n",
       "      <th>e</th>\n",
       "      <td>0.000000</td>\n",
       "      <td>0.533211</td>\n",
       "      <td>0.454251</td>\n",
       "      <td>0.481114</td>\n",
       "      <td>4.772925</td>\n",
       "      <td>0.501980</td>\n",
       "      <td>Bengalure</td>\n",
       "      <td>Bengalure</td>\n",
       "    </tr>\n",
       "    <tr>\n",
       "      <th>f</th>\n",
       "      <td>0.493856</td>\n",
       "      <td>0.002531</td>\n",
       "      <td>0.169714</td>\n",
       "      <td>0.034338</td>\n",
       "      <td>49.385611</td>\n",
       "      <td>0.663570</td>\n",
       "      <td>Hyderabad</td>\n",
       "      <td>Hyderabad</td>\n",
       "    </tr>\n",
       "    <tr>\n",
       "      <th>g</th>\n",
       "      <td>0.361638</td>\n",
       "      <td>0.714178</td>\n",
       "      <td>0.637812</td>\n",
       "      <td>0.741574</td>\n",
       "      <td>36.163817</td>\n",
       "      <td>0.999450</td>\n",
       "      <td>Pune</td>\n",
       "      <td>Pune</td>\n",
       "    </tr>\n",
       "    <tr>\n",
       "      <th>h</th>\n",
       "      <td>0.503260</td>\n",
       "      <td>0.606367</td>\n",
       "      <td>0.819930</td>\n",
       "      <td>0.070676</td>\n",
       "      <td>50.325951</td>\n",
       "      <td>1.323190</td>\n",
       "      <td>Ahmedabad</td>\n",
       "      <td>Ahmedabad</td>\n",
       "    </tr>\n",
       "    <tr>\n",
       "      <th>i</th>\n",
       "      <td>0.828112</td>\n",
       "      <td>0.994767</td>\n",
       "      <td>0.565624</td>\n",
       "      <td>0.313292</td>\n",
       "      <td>82.811242</td>\n",
       "      <td>1.393737</td>\n",
       "      <td>Indore</td>\n",
       "      <td>Guwahati</td>\n",
       "    </tr>\n",
       "  </tbody>\n",
       "</table>\n",
       "</div>"
      ],
      "text/plain": [
       "          A         B         C         D          E         F       city  \\\n",
       "a  0.648890  0.297853  0.865321  0.135309  64.889036  1.514211     Mumbai   \n",
       "b  0.859188  0.698994  0.811888  0.065638  85.918831  1.671076      Delhi   \n",
       "c  0.000000  0.497991  0.591337  0.467226  16.218707  0.753524    Chennai   \n",
       "d  0.396985  0.917962  0.561148  0.603864  39.698512  0.958133    Kolkata   \n",
       "e  0.000000  0.533211  0.454251  0.481114   4.772925  0.501980  Bengalure   \n",
       "f  0.493856  0.002531  0.169714  0.034338  49.385611  0.663570  Hyderabad   \n",
       "g  0.361638  0.714178  0.637812  0.741574  36.163817  0.999450       Pune   \n",
       "h  0.503260  0.606367  0.819930  0.070676  50.325951  1.323190  Ahmedabad   \n",
       "i  0.828112  0.994767  0.565624  0.313292  82.811242  1.393737     Indore   \n",
       "\n",
       "    new_city  \n",
       "a     Mumbai  \n",
       "b      Delhi  \n",
       "c    Chennai  \n",
       "d    Kolkata  \n",
       "e  Bengalure  \n",
       "f  Hyderabad  \n",
       "g       Pune  \n",
       "h  Ahmedabad  \n",
       "i   Guwahati  "
      ]
     },
     "execution_count": 79,
     "metadata": {},
     "output_type": "execute_result"
    }
   ],
   "source": [
    "df_copy[\"new_city\"] = cities_new\n",
    "df_copy"
   ]
  },
  {
   "cell_type": "code",
   "execution_count": 80,
   "id": "e1c5de32",
   "metadata": {},
   "outputs": [],
   "source": [
    "criteria = df_copy[\"city\"].isin([\"Pune\",\"Bengaluru\",\"Hyderabad\"])"
   ]
  },
  {
   "cell_type": "code",
   "execution_count": 81,
   "id": "5b3faec5",
   "metadata": {},
   "outputs": [
    {
     "data": {
      "text/html": [
       "<div>\n",
       "<style scoped>\n",
       "    .dataframe tbody tr th:only-of-type {\n",
       "        vertical-align: middle;\n",
       "    }\n",
       "\n",
       "    .dataframe tbody tr th {\n",
       "        vertical-align: top;\n",
       "    }\n",
       "\n",
       "    .dataframe thead th {\n",
       "        text-align: right;\n",
       "    }\n",
       "</style>\n",
       "<table border=\"1\" class=\"dataframe\">\n",
       "  <thead>\n",
       "    <tr style=\"text-align: right;\">\n",
       "      <th></th>\n",
       "      <th>A</th>\n",
       "      <th>B</th>\n",
       "      <th>C</th>\n",
       "      <th>D</th>\n",
       "      <th>E</th>\n",
       "      <th>F</th>\n",
       "      <th>city</th>\n",
       "      <th>new_city</th>\n",
       "    </tr>\n",
       "  </thead>\n",
       "  <tbody>\n",
       "    <tr>\n",
       "      <th>a</th>\n",
       "      <td>0.648890</td>\n",
       "      <td>0.297853</td>\n",
       "      <td>0.865321</td>\n",
       "      <td>0.135309</td>\n",
       "      <td>64.889036</td>\n",
       "      <td>1.514211</td>\n",
       "      <td>Mumbai</td>\n",
       "      <td>Mumbai</td>\n",
       "    </tr>\n",
       "    <tr>\n",
       "      <th>b</th>\n",
       "      <td>0.859188</td>\n",
       "      <td>0.698994</td>\n",
       "      <td>0.811888</td>\n",
       "      <td>0.065638</td>\n",
       "      <td>85.918831</td>\n",
       "      <td>1.671076</td>\n",
       "      <td>Delhi</td>\n",
       "      <td>Delhi</td>\n",
       "    </tr>\n",
       "    <tr>\n",
       "      <th>c</th>\n",
       "      <td>0.000000</td>\n",
       "      <td>0.497991</td>\n",
       "      <td>0.591337</td>\n",
       "      <td>0.467226</td>\n",
       "      <td>16.218707</td>\n",
       "      <td>0.753524</td>\n",
       "      <td>Chennai</td>\n",
       "      <td>Chennai</td>\n",
       "    </tr>\n",
       "    <tr>\n",
       "      <th>d</th>\n",
       "      <td>0.396985</td>\n",
       "      <td>0.917962</td>\n",
       "      <td>0.561148</td>\n",
       "      <td>0.603864</td>\n",
       "      <td>39.698512</td>\n",
       "      <td>0.958133</td>\n",
       "      <td>Kolkata</td>\n",
       "      <td>Kolkata</td>\n",
       "    </tr>\n",
       "    <tr>\n",
       "      <th>e</th>\n",
       "      <td>0.000000</td>\n",
       "      <td>0.533211</td>\n",
       "      <td>0.454251</td>\n",
       "      <td>0.481114</td>\n",
       "      <td>4.772925</td>\n",
       "      <td>0.501980</td>\n",
       "      <td>Bengaluru</td>\n",
       "      <td>Bengaluru</td>\n",
       "    </tr>\n",
       "    <tr>\n",
       "      <th>f</th>\n",
       "      <td>0.493856</td>\n",
       "      <td>0.002531</td>\n",
       "      <td>0.169714</td>\n",
       "      <td>0.034338</td>\n",
       "      <td>49.385611</td>\n",
       "      <td>0.663570</td>\n",
       "      <td>Hyderabad</td>\n",
       "      <td>Hyderabad</td>\n",
       "    </tr>\n",
       "    <tr>\n",
       "      <th>g</th>\n",
       "      <td>0.361638</td>\n",
       "      <td>0.714178</td>\n",
       "      <td>0.637812</td>\n",
       "      <td>0.741574</td>\n",
       "      <td>36.163817</td>\n",
       "      <td>0.999450</td>\n",
       "      <td>Pune</td>\n",
       "      <td>Pune</td>\n",
       "    </tr>\n",
       "    <tr>\n",
       "      <th>h</th>\n",
       "      <td>0.503260</td>\n",
       "      <td>0.606367</td>\n",
       "      <td>0.819930</td>\n",
       "      <td>0.070676</td>\n",
       "      <td>50.325951</td>\n",
       "      <td>1.323190</td>\n",
       "      <td>Ahmedabad</td>\n",
       "      <td>Ahmedabad</td>\n",
       "    </tr>\n",
       "    <tr>\n",
       "      <th>i</th>\n",
       "      <td>0.828112</td>\n",
       "      <td>0.994767</td>\n",
       "      <td>0.565624</td>\n",
       "      <td>0.313292</td>\n",
       "      <td>82.811242</td>\n",
       "      <td>1.393737</td>\n",
       "      <td>Indore</td>\n",
       "      <td>Guwahati</td>\n",
       "    </tr>\n",
       "  </tbody>\n",
       "</table>\n",
       "</div>"
      ],
      "text/plain": [
       "          A         B         C         D          E         F       city  \\\n",
       "a  0.648890  0.297853  0.865321  0.135309  64.889036  1.514211     Mumbai   \n",
       "b  0.859188  0.698994  0.811888  0.065638  85.918831  1.671076      Delhi   \n",
       "c  0.000000  0.497991  0.591337  0.467226  16.218707  0.753524    Chennai   \n",
       "d  0.396985  0.917962  0.561148  0.603864  39.698512  0.958133    Kolkata   \n",
       "e  0.000000  0.533211  0.454251  0.481114   4.772925  0.501980  Bengaluru   \n",
       "f  0.493856  0.002531  0.169714  0.034338  49.385611  0.663570  Hyderabad   \n",
       "g  0.361638  0.714178  0.637812  0.741574  36.163817  0.999450       Pune   \n",
       "h  0.503260  0.606367  0.819930  0.070676  50.325951  1.323190  Ahmedabad   \n",
       "i  0.828112  0.994767  0.565624  0.313292  82.811242  1.393737     Indore   \n",
       "\n",
       "    new_city  \n",
       "a     Mumbai  \n",
       "b      Delhi  \n",
       "c    Chennai  \n",
       "d    Kolkata  \n",
       "e  Bengaluru  \n",
       "f  Hyderabad  \n",
       "g       Pune  \n",
       "h  Ahmedabad  \n",
       "i   Guwahati  "
      ]
     },
     "execution_count": 81,
     "metadata": {},
     "output_type": "execute_result"
    }
   ],
   "source": [
    "df_copy.loc[df.city==\"Bengalure\",[\"city\",\"new_city\"]] = \"Bengaluru\"\n",
    "df_copy"
   ]
  },
  {
   "cell_type": "code",
   "execution_count": 82,
   "id": "6d702a14",
   "metadata": {},
   "outputs": [
    {
     "data": {
      "text/html": [
       "<div>\n",
       "<style scoped>\n",
       "    .dataframe tbody tr th:only-of-type {\n",
       "        vertical-align: middle;\n",
       "    }\n",
       "\n",
       "    .dataframe tbody tr th {\n",
       "        vertical-align: top;\n",
       "    }\n",
       "\n",
       "    .dataframe thead th {\n",
       "        text-align: right;\n",
       "    }\n",
       "</style>\n",
       "<table border=\"1\" class=\"dataframe\">\n",
       "  <thead>\n",
       "    <tr style=\"text-align: right;\">\n",
       "      <th></th>\n",
       "      <th>A</th>\n",
       "      <th>B</th>\n",
       "      <th>C</th>\n",
       "      <th>D</th>\n",
       "      <th>E</th>\n",
       "      <th>F</th>\n",
       "      <th>city</th>\n",
       "    </tr>\n",
       "  </thead>\n",
       "  <tbody>\n",
       "    <tr>\n",
       "      <th>a</th>\n",
       "      <td>0.648890</td>\n",
       "      <td>0.297853</td>\n",
       "      <td>0.865321</td>\n",
       "      <td>0.135309</td>\n",
       "      <td>64.889036</td>\n",
       "      <td>1.514211</td>\n",
       "      <td>Mumbai</td>\n",
       "    </tr>\n",
       "    <tr>\n",
       "      <th>b</th>\n",
       "      <td>0.859188</td>\n",
       "      <td>0.698994</td>\n",
       "      <td>0.811888</td>\n",
       "      <td>0.065638</td>\n",
       "      <td>85.918831</td>\n",
       "      <td>1.671076</td>\n",
       "      <td>Delhi</td>\n",
       "    </tr>\n",
       "    <tr>\n",
       "      <th>c</th>\n",
       "      <td>0.000000</td>\n",
       "      <td>0.497991</td>\n",
       "      <td>0.591337</td>\n",
       "      <td>0.467226</td>\n",
       "      <td>16.218707</td>\n",
       "      <td>0.753524</td>\n",
       "      <td>Chennai</td>\n",
       "    </tr>\n",
       "    <tr>\n",
       "      <th>d</th>\n",
       "      <td>0.396985</td>\n",
       "      <td>0.917962</td>\n",
       "      <td>0.561148</td>\n",
       "      <td>0.603864</td>\n",
       "      <td>39.698512</td>\n",
       "      <td>0.958133</td>\n",
       "      <td>Kolkata</td>\n",
       "    </tr>\n",
       "    <tr>\n",
       "      <th>e</th>\n",
       "      <td>0.000000</td>\n",
       "      <td>0.533211</td>\n",
       "      <td>0.454251</td>\n",
       "      <td>0.481114</td>\n",
       "      <td>4.772925</td>\n",
       "      <td>0.501980</td>\n",
       "      <td>Bengaluru</td>\n",
       "    </tr>\n",
       "    <tr>\n",
       "      <th>f</th>\n",
       "      <td>0.493856</td>\n",
       "      <td>0.002531</td>\n",
       "      <td>0.169714</td>\n",
       "      <td>0.034338</td>\n",
       "      <td>49.385611</td>\n",
       "      <td>0.663570</td>\n",
       "      <td>Hyderabad</td>\n",
       "    </tr>\n",
       "    <tr>\n",
       "      <th>g</th>\n",
       "      <td>0.361638</td>\n",
       "      <td>0.714178</td>\n",
       "      <td>0.637812</td>\n",
       "      <td>0.741574</td>\n",
       "      <td>36.163817</td>\n",
       "      <td>0.999450</td>\n",
       "      <td>Pune</td>\n",
       "    </tr>\n",
       "    <tr>\n",
       "      <th>h</th>\n",
       "      <td>0.503260</td>\n",
       "      <td>0.606367</td>\n",
       "      <td>0.819930</td>\n",
       "      <td>0.070676</td>\n",
       "      <td>50.325951</td>\n",
       "      <td>1.323190</td>\n",
       "      <td>Ahmedabad</td>\n",
       "    </tr>\n",
       "    <tr>\n",
       "      <th>i</th>\n",
       "      <td>0.828112</td>\n",
       "      <td>0.994767</td>\n",
       "      <td>0.565624</td>\n",
       "      <td>0.313292</td>\n",
       "      <td>82.811242</td>\n",
       "      <td>1.393737</td>\n",
       "      <td>Indore</td>\n",
       "    </tr>\n",
       "  </tbody>\n",
       "</table>\n",
       "</div>"
      ],
      "text/plain": [
       "          A         B         C         D          E         F       city\n",
       "a  0.648890  0.297853  0.865321  0.135309  64.889036  1.514211     Mumbai\n",
       "b  0.859188  0.698994  0.811888  0.065638  85.918831  1.671076      Delhi\n",
       "c  0.000000  0.497991  0.591337  0.467226  16.218707  0.753524    Chennai\n",
       "d  0.396985  0.917962  0.561148  0.603864  39.698512  0.958133    Kolkata\n",
       "e  0.000000  0.533211  0.454251  0.481114   4.772925  0.501980  Bengaluru\n",
       "f  0.493856  0.002531  0.169714  0.034338  49.385611  0.663570  Hyderabad\n",
       "g  0.361638  0.714178  0.637812  0.741574  36.163817  0.999450       Pune\n",
       "h  0.503260  0.606367  0.819930  0.070676  50.325951  1.323190  Ahmedabad\n",
       "i  0.828112  0.994767  0.565624  0.313292  82.811242  1.393737     Indore"
      ]
     },
     "execution_count": 82,
     "metadata": {},
     "output_type": "execute_result"
    }
   ],
   "source": [
    "df_copy.drop([\"new_city\"],axis=1)"
   ]
  },
  {
   "cell_type": "code",
   "execution_count": 83,
   "id": "1c1f0c8c",
   "metadata": {},
   "outputs": [],
   "source": [
    "df_copy.loc[:,\"city\"] = \"Chennai\""
   ]
  },
  {
   "cell_type": "code",
   "execution_count": 84,
   "id": "f064847a",
   "metadata": {},
   "outputs": [],
   "source": [
    "df_copy = df_copy.drop(['city'],axis=1)"
   ]
  },
  {
   "cell_type": "code",
   "execution_count": 85,
   "id": "ffe71091",
   "metadata": {},
   "outputs": [],
   "source": [
    "?df_copy.sample"
   ]
  },
  {
   "cell_type": "code",
   "execution_count": 86,
   "id": "62008881",
   "metadata": {},
   "outputs": [
    {
     "data": {
      "text/html": [
       "<div>\n",
       "<style scoped>\n",
       "    .dataframe tbody tr th:only-of-type {\n",
       "        vertical-align: middle;\n",
       "    }\n",
       "\n",
       "    .dataframe tbody tr th {\n",
       "        vertical-align: top;\n",
       "    }\n",
       "\n",
       "    .dataframe thead th {\n",
       "        text-align: right;\n",
       "    }\n",
       "</style>\n",
       "<table border=\"1\" class=\"dataframe\">\n",
       "  <thead>\n",
       "    <tr style=\"text-align: right;\">\n",
       "      <th></th>\n",
       "      <th>A</th>\n",
       "      <th>B</th>\n",
       "      <th>C</th>\n",
       "      <th>D</th>\n",
       "      <th>E</th>\n",
       "      <th>F</th>\n",
       "      <th>new_city</th>\n",
       "    </tr>\n",
       "  </thead>\n",
       "  <tbody>\n",
       "    <tr>\n",
       "      <th>h</th>\n",
       "      <td>0.503260</td>\n",
       "      <td>0.606367</td>\n",
       "      <td>0.819930</td>\n",
       "      <td>0.070676</td>\n",
       "      <td>50.325951</td>\n",
       "      <td>1.323190</td>\n",
       "      <td>Ahmedabad</td>\n",
       "    </tr>\n",
       "    <tr>\n",
       "      <th>b</th>\n",
       "      <td>0.859188</td>\n",
       "      <td>0.698994</td>\n",
       "      <td>0.811888</td>\n",
       "      <td>0.065638</td>\n",
       "      <td>85.918831</td>\n",
       "      <td>1.671076</td>\n",
       "      <td>Delhi</td>\n",
       "    </tr>\n",
       "    <tr>\n",
       "      <th>i</th>\n",
       "      <td>0.828112</td>\n",
       "      <td>0.994767</td>\n",
       "      <td>0.565624</td>\n",
       "      <td>0.313292</td>\n",
       "      <td>82.811242</td>\n",
       "      <td>1.393737</td>\n",
       "      <td>Guwahati</td>\n",
       "    </tr>\n",
       "  </tbody>\n",
       "</table>\n",
       "</div>"
      ],
      "text/plain": [
       "          A         B         C         D          E         F   new_city\n",
       "h  0.503260  0.606367  0.819930  0.070676  50.325951  1.323190  Ahmedabad\n",
       "b  0.859188  0.698994  0.811888  0.065638  85.918831  1.671076      Delhi\n",
       "i  0.828112  0.994767  0.565624  0.313292  82.811242  1.393737   Guwahati"
      ]
     },
     "execution_count": 86,
     "metadata": {},
     "output_type": "execute_result"
    }
   ],
   "source": [
    "df_copy.sample(3)"
   ]
  },
  {
   "cell_type": "code",
   "execution_count": 87,
   "id": "1994fa9d",
   "metadata": {},
   "outputs": [
    {
     "data": {
      "text/html": [
       "<div>\n",
       "<style scoped>\n",
       "    .dataframe tbody tr th:only-of-type {\n",
       "        vertical-align: middle;\n",
       "    }\n",
       "\n",
       "    .dataframe tbody tr th {\n",
       "        vertical-align: top;\n",
       "    }\n",
       "\n",
       "    .dataframe thead th {\n",
       "        text-align: right;\n",
       "    }\n",
       "</style>\n",
       "<table border=\"1\" class=\"dataframe\">\n",
       "  <thead>\n",
       "    <tr style=\"text-align: right;\">\n",
       "      <th></th>\n",
       "      <th>A</th>\n",
       "      <th>B</th>\n",
       "      <th>C</th>\n",
       "      <th>D</th>\n",
       "      <th>E</th>\n",
       "      <th>F</th>\n",
       "      <th>new_city</th>\n",
       "    </tr>\n",
       "  </thead>\n",
       "  <tbody>\n",
       "    <tr>\n",
       "      <th>h</th>\n",
       "      <td>0.503260</td>\n",
       "      <td>0.606367</td>\n",
       "      <td>0.819930</td>\n",
       "      <td>0.070676</td>\n",
       "      <td>50.325951</td>\n",
       "      <td>1.323190</td>\n",
       "      <td>Ahmedabad</td>\n",
       "    </tr>\n",
       "    <tr>\n",
       "      <th>b</th>\n",
       "      <td>0.859188</td>\n",
       "      <td>0.698994</td>\n",
       "      <td>0.811888</td>\n",
       "      <td>0.065638</td>\n",
       "      <td>85.918831</td>\n",
       "      <td>1.671076</td>\n",
       "      <td>Delhi</td>\n",
       "    </tr>\n",
       "    <tr>\n",
       "      <th>f</th>\n",
       "      <td>0.493856</td>\n",
       "      <td>0.002531</td>\n",
       "      <td>0.169714</td>\n",
       "      <td>0.034338</td>\n",
       "      <td>49.385611</td>\n",
       "      <td>0.663570</td>\n",
       "      <td>Hyderabad</td>\n",
       "    </tr>\n",
       "  </tbody>\n",
       "</table>\n",
       "</div>"
      ],
      "text/plain": [
       "          A         B         C         D          E         F   new_city\n",
       "h  0.503260  0.606367  0.819930  0.070676  50.325951  1.323190  Ahmedabad\n",
       "b  0.859188  0.698994  0.811888  0.065638  85.918831  1.671076      Delhi\n",
       "f  0.493856  0.002531  0.169714  0.034338  49.385611  0.663570  Hyderabad"
      ]
     },
     "execution_count": 87,
     "metadata": {},
     "output_type": "execute_result"
    }
   ],
   "source": [
    "df_copy.sample(3,random_state=42)"
   ]
  },
  {
   "cell_type": "code",
   "execution_count": 88,
   "id": "adcc0456",
   "metadata": {},
   "outputs": [
    {
     "data": {
      "text/html": [
       "<div>\n",
       "<style scoped>\n",
       "    .dataframe tbody tr th:only-of-type {\n",
       "        vertical-align: middle;\n",
       "    }\n",
       "\n",
       "    .dataframe tbody tr th {\n",
       "        vertical-align: top;\n",
       "    }\n",
       "\n",
       "    .dataframe thead th {\n",
       "        text-align: right;\n",
       "    }\n",
       "</style>\n",
       "<table border=\"1\" class=\"dataframe\">\n",
       "  <thead>\n",
       "    <tr style=\"text-align: right;\">\n",
       "      <th></th>\n",
       "      <th>A</th>\n",
       "      <th>B</th>\n",
       "      <th>C</th>\n",
       "      <th>D</th>\n",
       "      <th>E</th>\n",
       "      <th>F</th>\n",
       "      <th>new_city</th>\n",
       "    </tr>\n",
       "  </thead>\n",
       "  <tbody>\n",
       "    <tr>\n",
       "      <th>h</th>\n",
       "      <td>0.503260</td>\n",
       "      <td>0.606367</td>\n",
       "      <td>0.819930</td>\n",
       "      <td>0.070676</td>\n",
       "      <td>50.325951</td>\n",
       "      <td>1.323190</td>\n",
       "      <td>Ahmedabad</td>\n",
       "    </tr>\n",
       "    <tr>\n",
       "      <th>b</th>\n",
       "      <td>0.859188</td>\n",
       "      <td>0.698994</td>\n",
       "      <td>0.811888</td>\n",
       "      <td>0.065638</td>\n",
       "      <td>85.918831</td>\n",
       "      <td>1.671076</td>\n",
       "      <td>Delhi</td>\n",
       "    </tr>\n",
       "    <tr>\n",
       "      <th>f</th>\n",
       "      <td>0.493856</td>\n",
       "      <td>0.002531</td>\n",
       "      <td>0.169714</td>\n",
       "      <td>0.034338</td>\n",
       "      <td>49.385611</td>\n",
       "      <td>0.663570</td>\n",
       "      <td>Hyderabad</td>\n",
       "    </tr>\n",
       "  </tbody>\n",
       "</table>\n",
       "</div>"
      ],
      "text/plain": [
       "          A         B         C         D          E         F   new_city\n",
       "h  0.503260  0.606367  0.819930  0.070676  50.325951  1.323190  Ahmedabad\n",
       "b  0.859188  0.698994  0.811888  0.065638  85.918831  1.671076      Delhi\n",
       "f  0.493856  0.002531  0.169714  0.034338  49.385611  0.663570  Hyderabad"
      ]
     },
     "execution_count": 88,
     "metadata": {},
     "output_type": "execute_result"
    }
   ],
   "source": [
    "df_copy.sample(3,random_state=42)"
   ]
  },
  {
   "cell_type": "code",
   "execution_count": 89,
   "id": "f45a3a70",
   "metadata": {},
   "outputs": [
    {
     "data": {
      "text/html": [
       "<div>\n",
       "<style scoped>\n",
       "    .dataframe tbody tr th:only-of-type {\n",
       "        vertical-align: middle;\n",
       "    }\n",
       "\n",
       "    .dataframe tbody tr th {\n",
       "        vertical-align: top;\n",
       "    }\n",
       "\n",
       "    .dataframe thead th {\n",
       "        text-align: right;\n",
       "    }\n",
       "</style>\n",
       "<table border=\"1\" class=\"dataframe\">\n",
       "  <thead>\n",
       "    <tr style=\"text-align: right;\">\n",
       "      <th></th>\n",
       "      <th>A</th>\n",
       "      <th>B</th>\n",
       "      <th>C</th>\n",
       "      <th>D</th>\n",
       "      <th>E</th>\n",
       "      <th>F</th>\n",
       "      <th>new_city</th>\n",
       "    </tr>\n",
       "  </thead>\n",
       "  <tbody>\n",
       "    <tr>\n",
       "      <th>g</th>\n",
       "      <td>0.361638</td>\n",
       "      <td>0.714178</td>\n",
       "      <td>0.637812</td>\n",
       "      <td>0.741574</td>\n",
       "      <td>36.163817</td>\n",
       "      <td>0.999450</td>\n",
       "      <td>Pune</td>\n",
       "    </tr>\n",
       "    <tr>\n",
       "      <th>d</th>\n",
       "      <td>0.396985</td>\n",
       "      <td>0.917962</td>\n",
       "      <td>0.561148</td>\n",
       "      <td>0.603864</td>\n",
       "      <td>39.698512</td>\n",
       "      <td>0.958133</td>\n",
       "      <td>Kolkata</td>\n",
       "    </tr>\n",
       "    <tr>\n",
       "      <th>h</th>\n",
       "      <td>0.503260</td>\n",
       "      <td>0.606367</td>\n",
       "      <td>0.819930</td>\n",
       "      <td>0.070676</td>\n",
       "      <td>50.325951</td>\n",
       "      <td>1.323190</td>\n",
       "      <td>Ahmedabad</td>\n",
       "    </tr>\n",
       "  </tbody>\n",
       "</table>\n",
       "</div>"
      ],
      "text/plain": [
       "          A         B         C         D          E         F   new_city\n",
       "g  0.361638  0.714178  0.637812  0.741574  36.163817  0.999450       Pune\n",
       "d  0.396985  0.917962  0.561148  0.603864  39.698512  0.958133    Kolkata\n",
       "h  0.503260  0.606367  0.819930  0.070676  50.325951  1.323190  Ahmedabad"
      ]
     },
     "execution_count": 89,
     "metadata": {},
     "output_type": "execute_result"
    }
   ],
   "source": [
    "df_copy.sample(3,random_state=42,replace=True)"
   ]
  },
  {
   "cell_type": "code",
   "execution_count": 90,
   "id": "a129b016",
   "metadata": {},
   "outputs": [
    {
     "data": {
      "text/html": [
       "<div>\n",
       "<style scoped>\n",
       "    .dataframe tbody tr th:only-of-type {\n",
       "        vertical-align: middle;\n",
       "    }\n",
       "\n",
       "    .dataframe tbody tr th {\n",
       "        vertical-align: top;\n",
       "    }\n",
       "\n",
       "    .dataframe thead th {\n",
       "        text-align: right;\n",
       "    }\n",
       "</style>\n",
       "<table border=\"1\" class=\"dataframe\">\n",
       "  <thead>\n",
       "    <tr style=\"text-align: right;\">\n",
       "      <th></th>\n",
       "      <th>0</th>\n",
       "    </tr>\n",
       "  </thead>\n",
       "  <tbody>\n",
       "    <tr>\n",
       "      <th>0</th>\n",
       "      <td>Mumbai</td>\n",
       "    </tr>\n",
       "    <tr>\n",
       "      <th>1</th>\n",
       "      <td>Chennai</td>\n",
       "    </tr>\n",
       "    <tr>\n",
       "      <th>2</th>\n",
       "      <td>Pune</td>\n",
       "    </tr>\n",
       "    <tr>\n",
       "      <th>3</th>\n",
       "      <td>Ahmedabad</td>\n",
       "    </tr>\n",
       "    <tr>\n",
       "      <th>4</th>\n",
       "      <td>Kolkata</td>\n",
       "    </tr>\n",
       "    <tr>\n",
       "      <th>5</th>\n",
       "      <td>Kanpur</td>\n",
       "    </tr>\n",
       "    <tr>\n",
       "      <th>6</th>\n",
       "      <td>Delhi</td>\n",
       "    </tr>\n",
       "  </tbody>\n",
       "</table>\n",
       "</div>"
      ],
      "text/plain": [
       "           0\n",
       "0     Mumbai\n",
       "1    Chennai\n",
       "2       Pune\n",
       "3  Ahmedabad\n",
       "4    Kolkata\n",
       "5     Kanpur\n",
       "6      Delhi"
      ]
     },
     "execution_count": 90,
     "metadata": {},
     "output_type": "execute_result"
    }
   ],
   "source": [
    "cities = [\"Mumbai\",\"Chennai\",\"Pune\",\"Ahmedabad\",\"Kolkata\",\"Kanpur\",\"Delhi\"]\n",
    "city_df = pd.DataFrame(cities)\n",
    "city_df"
   ]
  },
  {
   "cell_type": "code",
   "execution_count": 91,
   "id": "cc9a3059",
   "metadata": {},
   "outputs": [
    {
     "data": {
      "text/html": [
       "<div>\n",
       "<style scoped>\n",
       "    .dataframe tbody tr th:only-of-type {\n",
       "        vertical-align: middle;\n",
       "    }\n",
       "\n",
       "    .dataframe tbody tr th {\n",
       "        vertical-align: top;\n",
       "    }\n",
       "\n",
       "    .dataframe thead th {\n",
       "        text-align: right;\n",
       "    }\n",
       "</style>\n",
       "<table border=\"1\" class=\"dataframe\">\n",
       "  <thead>\n",
       "    <tr style=\"text-align: right;\">\n",
       "      <th></th>\n",
       "      <th>City_Name</th>\n",
       "    </tr>\n",
       "  </thead>\n",
       "  <tbody>\n",
       "    <tr>\n",
       "      <th>0</th>\n",
       "      <td>Mumbai</td>\n",
       "    </tr>\n",
       "    <tr>\n",
       "      <th>1</th>\n",
       "      <td>Chennai</td>\n",
       "    </tr>\n",
       "    <tr>\n",
       "      <th>2</th>\n",
       "      <td>Pune</td>\n",
       "    </tr>\n",
       "    <tr>\n",
       "      <th>3</th>\n",
       "      <td>Ahmedabad</td>\n",
       "    </tr>\n",
       "    <tr>\n",
       "      <th>4</th>\n",
       "      <td>Kolkata</td>\n",
       "    </tr>\n",
       "    <tr>\n",
       "      <th>5</th>\n",
       "      <td>Kanpur</td>\n",
       "    </tr>\n",
       "    <tr>\n",
       "      <th>6</th>\n",
       "      <td>Delhi</td>\n",
       "    </tr>\n",
       "  </tbody>\n",
       "</table>\n",
       "</div>"
      ],
      "text/plain": [
       "   City_Name\n",
       "0     Mumbai\n",
       "1    Chennai\n",
       "2       Pune\n",
       "3  Ahmedabad\n",
       "4    Kolkata\n",
       "5     Kanpur\n",
       "6      Delhi"
      ]
     },
     "execution_count": 91,
     "metadata": {},
     "output_type": "execute_result"
    }
   ],
   "source": [
    "city_df.columns = [\"City_Name\"]\n",
    "city_df"
   ]
  },
  {
   "cell_type": "code",
   "execution_count": 92,
   "id": "7071bb5a",
   "metadata": {},
   "outputs": [
    {
     "data": {
      "text/plain": [
       "pandas.core.series.Series"
      ]
     },
     "execution_count": 92,
     "metadata": {},
     "output_type": "execute_result"
    }
   ],
   "source": [
    "condition_met = city_df.City_Name == \"Mumbai\"\n",
    "type(condition_met)"
   ]
  },
  {
   "cell_type": "code",
   "execution_count": 93,
   "id": "9be862ad",
   "metadata": {},
   "outputs": [
    {
     "data": {
      "text/html": [
       "<div>\n",
       "<style scoped>\n",
       "    .dataframe tbody tr th:only-of-type {\n",
       "        vertical-align: middle;\n",
       "    }\n",
       "\n",
       "    .dataframe tbody tr th {\n",
       "        vertical-align: top;\n",
       "    }\n",
       "\n",
       "    .dataframe thead th {\n",
       "        text-align: right;\n",
       "    }\n",
       "</style>\n",
       "<table border=\"1\" class=\"dataframe\">\n",
       "  <thead>\n",
       "    <tr style=\"text-align: right;\">\n",
       "      <th></th>\n",
       "      <th>City_Name</th>\n",
       "    </tr>\n",
       "  </thead>\n",
       "  <tbody>\n",
       "    <tr>\n",
       "      <th>0</th>\n",
       "      <td>Mumbai</td>\n",
       "    </tr>\n",
       "  </tbody>\n",
       "</table>\n",
       "</div>"
      ],
      "text/plain": [
       "  City_Name\n",
       "0    Mumbai"
      ]
     },
     "execution_count": 93,
     "metadata": {},
     "output_type": "execute_result"
    }
   ],
   "source": [
    "city_df[condition_met]"
   ]
  },
  {
   "cell_type": "code",
   "execution_count": 94,
   "id": "0ce6f23d",
   "metadata": {},
   "outputs": [
    {
     "data": {
      "text/html": [
       "<div>\n",
       "<style scoped>\n",
       "    .dataframe tbody tr th:only-of-type {\n",
       "        vertical-align: middle;\n",
       "    }\n",
       "\n",
       "    .dataframe tbody tr th {\n",
       "        vertical-align: top;\n",
       "    }\n",
       "\n",
       "    .dataframe thead th {\n",
       "        text-align: right;\n",
       "    }\n",
       "</style>\n",
       "<table border=\"1\" class=\"dataframe\">\n",
       "  <thead>\n",
       "    <tr style=\"text-align: right;\">\n",
       "      <th></th>\n",
       "      <th>City_Name</th>\n",
       "    </tr>\n",
       "  </thead>\n",
       "  <tbody>\n",
       "    <tr>\n",
       "      <th>2</th>\n",
       "      <td>Pune</td>\n",
       "    </tr>\n",
       "  </tbody>\n",
       "</table>\n",
       "</div>"
      ],
      "text/plain": [
       "  City_Name\n",
       "2      Pune"
      ]
     },
     "execution_count": 94,
     "metadata": {},
     "output_type": "execute_result"
    }
   ],
   "source": [
    "city_df[city_df.City_Name==\"Pune\"]"
   ]
  },
  {
   "cell_type": "markdown",
   "id": "ed5c8fc7",
   "metadata": {},
   "source": [
    "## Aggregation and Grouping"
   ]
  },
  {
   "cell_type": "code",
   "execution_count": 95,
   "id": "c458041c",
   "metadata": {},
   "outputs": [
    {
     "data": {
      "text/plain": [
       "0    0.543405\n",
       "1    0.278369\n",
       "2    0.424518\n",
       "3    0.844776\n",
       "4    0.004719\n",
       "5    0.121569\n",
       "6    0.670749\n",
       "7    0.825853\n",
       "8    0.136707\n",
       "9    0.575093\n",
       "dtype: float64"
      ]
     },
     "execution_count": 95,
     "metadata": {},
     "output_type": "execute_result"
    }
   ],
   "source": [
    "random_state = np.random.RandomState(100)\n",
    "random_series = pd.Series(random_state.rand(10))\n",
    "random_series"
   ]
  },
  {
   "cell_type": "markdown",
   "id": "f416c9db",
   "metadata": {},
   "source": [
    "Now that the series is created, we can try aggregation functions like `mean`, `std` etc"
   ]
  },
  {
   "cell_type": "code",
   "execution_count": 96,
   "id": "c48e6b51",
   "metadata": {},
   "outputs": [
    {
     "data": {
      "text/plain": [
       "0.4425757785871915"
      ]
     },
     "execution_count": 96,
     "metadata": {},
     "output_type": "execute_result"
    }
   ],
   "source": [
    "random_series.mean()"
   ]
  },
  {
   "cell_type": "code",
   "execution_count": 97,
   "id": "08ee1568",
   "metadata": {},
   "outputs": [
    {
     "data": {
      "text/plain": [
       "4.425757785871915"
      ]
     },
     "execution_count": 97,
     "metadata": {},
     "output_type": "execute_result"
    }
   ],
   "source": [
    "random_series.sum()"
   ]
  },
  {
   "cell_type": "markdown",
   "id": "9672cb21",
   "metadata": {},
   "source": [
    "Let's create a dataframe with 5 rows and 2 columns containing random numbers."
   ]
  },
  {
   "cell_type": "code",
   "execution_count": 98,
   "id": "7d3dcee8",
   "metadata": {},
   "outputs": [
    {
     "data": {
      "text/html": [
       "<div>\n",
       "<style scoped>\n",
       "    .dataframe tbody tr th:only-of-type {\n",
       "        vertical-align: middle;\n",
       "    }\n",
       "\n",
       "    .dataframe tbody tr th {\n",
       "        vertical-align: top;\n",
       "    }\n",
       "\n",
       "    .dataframe thead th {\n",
       "        text-align: right;\n",
       "    }\n",
       "</style>\n",
       "<table border=\"1\" class=\"dataframe\">\n",
       "  <thead>\n",
       "    <tr style=\"text-align: right;\">\n",
       "      <th></th>\n",
       "      <th>A</th>\n",
       "      <th>B</th>\n",
       "    </tr>\n",
       "  </thead>\n",
       "  <tbody>\n",
       "    <tr>\n",
       "      <th>0</th>\n",
       "      <td>0.891322</td>\n",
       "      <td>0.978624</td>\n",
       "    </tr>\n",
       "    <tr>\n",
       "      <th>1</th>\n",
       "      <td>0.209202</td>\n",
       "      <td>0.811683</td>\n",
       "    </tr>\n",
       "    <tr>\n",
       "      <th>2</th>\n",
       "      <td>0.185328</td>\n",
       "      <td>0.171941</td>\n",
       "    </tr>\n",
       "    <tr>\n",
       "      <th>3</th>\n",
       "      <td>0.108377</td>\n",
       "      <td>0.816225</td>\n",
       "    </tr>\n",
       "    <tr>\n",
       "      <th>4</th>\n",
       "      <td>0.219697</td>\n",
       "      <td>0.274074</td>\n",
       "    </tr>\n",
       "  </tbody>\n",
       "</table>\n",
       "</div>"
      ],
      "text/plain": [
       "          A         B\n",
       "0  0.891322  0.978624\n",
       "1  0.209202  0.811683\n",
       "2  0.185328  0.171941\n",
       "3  0.108377  0.816225\n",
       "4  0.219697  0.274074"
      ]
     },
     "execution_count": 98,
     "metadata": {},
     "output_type": "execute_result"
    }
   ],
   "source": [
    "df = pd.DataFrame({\n",
    "    \"A\" : random_state.rand(5),\n",
    "    \"B\" : random_state.rand(5)\n",
    "})\n",
    "df"
   ]
  },
  {
   "cell_type": "code",
   "execution_count": 99,
   "id": "f809dd67",
   "metadata": {},
   "outputs": [
    {
     "data": {
      "text/plain": [
       "A    1.613927\n",
       "B    3.052546\n",
       "dtype: float64"
      ]
     },
     "execution_count": 99,
     "metadata": {},
     "output_type": "execute_result"
    }
   ],
   "source": [
    "df.sum()"
   ]
  },
  {
   "cell_type": "markdown",
   "id": "3afc0d6d",
   "metadata": {},
   "source": [
    "Try these operations row-wise"
   ]
  },
  {
   "cell_type": "code",
   "execution_count": 100,
   "id": "c37e22b8",
   "metadata": {},
   "outputs": [
    {
     "data": {
      "text/plain": [
       "0    0.934973\n",
       "1    0.510443\n",
       "2    0.178635\n",
       "3    0.462301\n",
       "4    0.246886\n",
       "dtype: float64"
      ]
     },
     "execution_count": 100,
     "metadata": {},
     "output_type": "execute_result"
    }
   ],
   "source": [
    "df.mean(axis=1)"
   ]
  },
  {
   "cell_type": "code",
   "execution_count": 101,
   "id": "de15e93a",
   "metadata": {},
   "outputs": [
    {
     "data": {
      "text/plain": [
       "0    1.869946\n",
       "1    1.020885\n",
       "2    0.357269\n",
       "3    0.924602\n",
       "4    0.493771\n",
       "dtype: float64"
      ]
     },
     "execution_count": 101,
     "metadata": {},
     "output_type": "execute_result"
    }
   ],
   "source": [
    "df.sum(axis=1)"
   ]
  },
  {
   "cell_type": "markdown",
   "id": "6c613dac",
   "metadata": {},
   "source": [
    "## GroupBy"
   ]
  },
  {
   "cell_type": "markdown",
   "id": "74601a6d",
   "metadata": {},
   "source": [
    "Three Stages \n",
    "* Split - we split dataframe into multiple smaller dataframe based on the values of keys\n",
    "* Apply - we apply desired aggregation/transformation on each dataframe.\n",
    "* Combine - we combine results from apply state into a dataframe"
   ]
  },
  {
   "cell_type": "code",
   "execution_count": 102,
   "id": "cb88b135",
   "metadata": {},
   "outputs": [
    {
     "data": {
      "text/html": [
       "<div>\n",
       "<style scoped>\n",
       "    .dataframe tbody tr th:only-of-type {\n",
       "        vertical-align: middle;\n",
       "    }\n",
       "\n",
       "    .dataframe tbody tr th {\n",
       "        vertical-align: top;\n",
       "    }\n",
       "\n",
       "    .dataframe thead th {\n",
       "        text-align: right;\n",
       "    }\n",
       "</style>\n",
       "<table border=\"1\" class=\"dataframe\">\n",
       "  <thead>\n",
       "    <tr style=\"text-align: right;\">\n",
       "      <th></th>\n",
       "      <th>key</th>\n",
       "      <th>data</th>\n",
       "    </tr>\n",
       "  </thead>\n",
       "  <tbody>\n",
       "    <tr>\n",
       "      <th>0</th>\n",
       "      <td>A</td>\n",
       "      <td>0</td>\n",
       "    </tr>\n",
       "    <tr>\n",
       "      <th>1</th>\n",
       "      <td>B</td>\n",
       "      <td>1</td>\n",
       "    </tr>\n",
       "    <tr>\n",
       "      <th>2</th>\n",
       "      <td>C</td>\n",
       "      <td>2</td>\n",
       "    </tr>\n",
       "    <tr>\n",
       "      <th>3</th>\n",
       "      <td>A</td>\n",
       "      <td>3</td>\n",
       "    </tr>\n",
       "    <tr>\n",
       "      <th>4</th>\n",
       "      <td>B</td>\n",
       "      <td>4</td>\n",
       "    </tr>\n",
       "    <tr>\n",
       "      <th>5</th>\n",
       "      <td>C</td>\n",
       "      <td>5</td>\n",
       "    </tr>\n",
       "  </tbody>\n",
       "</table>\n",
       "</div>"
      ],
      "text/plain": [
       "  key  data\n",
       "0   A     0\n",
       "1   B     1\n",
       "2   C     2\n",
       "3   A     3\n",
       "4   B     4\n",
       "5   C     5"
      ]
     },
     "execution_count": 102,
     "metadata": {},
     "output_type": "execute_result"
    }
   ],
   "source": [
    "df = pd.DataFrame({'key' : [\"A\",\"B\",\"C\"]*2,\"data\":range(6)})\n",
    "df"
   ]
  },
  {
   "cell_type": "code",
   "execution_count": 103,
   "id": "5793d259",
   "metadata": {},
   "outputs": [
    {
     "data": {
      "text/html": [
       "<div>\n",
       "<style scoped>\n",
       "    .dataframe tbody tr th:only-of-type {\n",
       "        vertical-align: middle;\n",
       "    }\n",
       "\n",
       "    .dataframe tbody tr th {\n",
       "        vertical-align: top;\n",
       "    }\n",
       "\n",
       "    .dataframe thead th {\n",
       "        text-align: right;\n",
       "    }\n",
       "</style>\n",
       "<table border=\"1\" class=\"dataframe\">\n",
       "  <thead>\n",
       "    <tr style=\"text-align: right;\">\n",
       "      <th></th>\n",
       "      <th>data</th>\n",
       "    </tr>\n",
       "    <tr>\n",
       "      <th>key</th>\n",
       "      <th></th>\n",
       "    </tr>\n",
       "  </thead>\n",
       "  <tbody>\n",
       "    <tr>\n",
       "      <th>A</th>\n",
       "      <td>3</td>\n",
       "    </tr>\n",
       "    <tr>\n",
       "      <th>B</th>\n",
       "      <td>5</td>\n",
       "    </tr>\n",
       "    <tr>\n",
       "      <th>C</th>\n",
       "      <td>7</td>\n",
       "    </tr>\n",
       "  </tbody>\n",
       "</table>\n",
       "</div>"
      ],
      "text/plain": [
       "     data\n",
       "key      \n",
       "A       3\n",
       "B       5\n",
       "C       7"
      ]
     },
     "execution_count": 103,
     "metadata": {},
     "output_type": "execute_result"
    }
   ],
   "source": [
    "df.groupby(\"key\").sum()"
   ]
  },
  {
   "cell_type": "markdown",
   "id": "a54bf2fe",
   "metadata": {},
   "source": [
    "## Apply and Map"
   ]
  },
  {
   "cell_type": "code",
   "execution_count": 104,
   "id": "3807c162",
   "metadata": {},
   "outputs": [
    {
     "name": "stdout",
     "output_type": "stream",
     "text": [
      "<class 'pandas.core.series.Series'>\n"
     ]
    }
   ],
   "source": [
    "students = pd.Series(data = [180,175,168,190],index=[\"A\",\"B\",\"C\",\"D\"])\n",
    "print(type(students))"
   ]
  },
  {
   "cell_type": "code",
   "execution_count": 105,
   "id": "53b1e82c",
   "metadata": {},
   "outputs": [],
   "source": [
    "def cm_to_feet(h):\n",
    "    return np.round(h/30.48,2)"
   ]
  },
  {
   "cell_type": "code",
   "execution_count": 106,
   "id": "f6473b0b",
   "metadata": {},
   "outputs": [
    {
     "data": {
      "text/plain": [
       "A    5.91\n",
       "B    5.74\n",
       "C    5.51\n",
       "D    6.23\n",
       "dtype: float64"
      ]
     },
     "execution_count": 106,
     "metadata": {},
     "output_type": "execute_result"
    }
   ],
   "source": [
    "students.apply(cm_to_feet)"
   ]
  },
  {
   "cell_type": "code",
   "execution_count": 107,
   "id": "e52ca9bc",
   "metadata": {},
   "outputs": [
    {
     "data": {
      "text/html": [
       "<div>\n",
       "<style scoped>\n",
       "    .dataframe tbody tr th:only-of-type {\n",
       "        vertical-align: middle;\n",
       "    }\n",
       "\n",
       "    .dataframe tbody tr th {\n",
       "        vertical-align: top;\n",
       "    }\n",
       "\n",
       "    .dataframe thead th {\n",
       "        text-align: right;\n",
       "    }\n",
       "</style>\n",
       "<table border=\"1\" class=\"dataframe\">\n",
       "  <thead>\n",
       "    <tr style=\"text-align: right;\">\n",
       "      <th></th>\n",
       "      <th>EmployeeName</th>\n",
       "      <th>Department</th>\n",
       "      <th>HireDate</th>\n",
       "      <th>Sex</th>\n",
       "      <th>Birthdate</th>\n",
       "      <th>Weight</th>\n",
       "      <th>Height</th>\n",
       "      <th>Kids</th>\n",
       "    </tr>\n",
       "  </thead>\n",
       "  <tbody>\n",
       "    <tr>\n",
       "      <th>0</th>\n",
       "      <td>Callen Dunkley</td>\n",
       "      <td>Accounting</td>\n",
       "      <td>2010</td>\n",
       "      <td>M</td>\n",
       "      <td>04/09/1982</td>\n",
       "      <td>78</td>\n",
       "      <td>176</td>\n",
       "      <td>2</td>\n",
       "    </tr>\n",
       "    <tr>\n",
       "      <th>1</th>\n",
       "      <td>Sarah Rayner</td>\n",
       "      <td>Engineering</td>\n",
       "      <td>2018</td>\n",
       "      <td>F</td>\n",
       "      <td>14/04/1981</td>\n",
       "      <td>80</td>\n",
       "      <td>160</td>\n",
       "      <td>1</td>\n",
       "    </tr>\n",
       "    <tr>\n",
       "      <th>2</th>\n",
       "      <td>Jeanette Sloan</td>\n",
       "      <td>Engineering</td>\n",
       "      <td>2012</td>\n",
       "      <td>F</td>\n",
       "      <td>06/05/1997</td>\n",
       "      <td>66</td>\n",
       "      <td>169</td>\n",
       "      <td>0</td>\n",
       "    </tr>\n",
       "    <tr>\n",
       "      <th>3</th>\n",
       "      <td>Kaycee Acosta</td>\n",
       "      <td>HR</td>\n",
       "      <td>2014</td>\n",
       "      <td>F</td>\n",
       "      <td>08/01/1986</td>\n",
       "      <td>67</td>\n",
       "      <td>157</td>\n",
       "      <td>1</td>\n",
       "    </tr>\n",
       "    <tr>\n",
       "      <th>4</th>\n",
       "      <td>Henri Conroy</td>\n",
       "      <td>HR</td>\n",
       "      <td>2014</td>\n",
       "      <td>M</td>\n",
       "      <td>10/10/1988</td>\n",
       "      <td>90</td>\n",
       "      <td>185</td>\n",
       "      <td>1</td>\n",
       "    </tr>\n",
       "    <tr>\n",
       "      <th>5</th>\n",
       "      <td>Emma Peralta</td>\n",
       "      <td>HR</td>\n",
       "      <td>2018</td>\n",
       "      <td>F</td>\n",
       "      <td>12/11/1992</td>\n",
       "      <td>57</td>\n",
       "      <td>164</td>\n",
       "      <td>0</td>\n",
       "    </tr>\n",
       "    <tr>\n",
       "      <th>6</th>\n",
       "      <td>Martin Butt</td>\n",
       "      <td>Data Science</td>\n",
       "      <td>2020</td>\n",
       "      <td>M</td>\n",
       "      <td>10/04/1991</td>\n",
       "      <td>115</td>\n",
       "      <td>195</td>\n",
       "      <td>2</td>\n",
       "    </tr>\n",
       "    <tr>\n",
       "      <th>7</th>\n",
       "      <td>Alex Jensen</td>\n",
       "      <td>Data Science</td>\n",
       "      <td>2018</td>\n",
       "      <td>M</td>\n",
       "      <td>16/07/1995</td>\n",
       "      <td>87</td>\n",
       "      <td>180</td>\n",
       "      <td>0</td>\n",
       "    </tr>\n",
       "    <tr>\n",
       "      <th>8</th>\n",
       "      <td>Kim Howarth</td>\n",
       "      <td>Accounting</td>\n",
       "      <td>2020</td>\n",
       "      <td>M</td>\n",
       "      <td>08/10/1992</td>\n",
       "      <td>95</td>\n",
       "      <td>174</td>\n",
       "      <td>3</td>\n",
       "    </tr>\n",
       "    <tr>\n",
       "      <th>9</th>\n",
       "      <td>Jane Burnett</td>\n",
       "      <td>Data Science</td>\n",
       "      <td>2012</td>\n",
       "      <td>F</td>\n",
       "      <td>11/10/1979</td>\n",
       "      <td>57</td>\n",
       "      <td>165</td>\n",
       "      <td>1</td>\n",
       "    </tr>\n",
       "  </tbody>\n",
       "</table>\n",
       "</div>"
      ],
      "text/plain": [
       "     EmployeeName    Department  HireDate Sex   Birthdate  Weight  Height  \\\n",
       "0  Callen Dunkley    Accounting      2010   M  04/09/1982      78     176   \n",
       "1    Sarah Rayner   Engineering      2018   F  14/04/1981      80     160   \n",
       "2  Jeanette Sloan   Engineering      2012   F  06/05/1997      66     169   \n",
       "3   Kaycee Acosta            HR      2014   F  08/01/1986      67     157   \n",
       "4    Henri Conroy            HR      2014   M  10/10/1988      90     185   \n",
       "5    Emma Peralta            HR      2018   F  12/11/1992      57     164   \n",
       "6     Martin Butt  Data Science      2020   M  10/04/1991     115     195   \n",
       "7     Alex Jensen  Data Science      2018   M  16/07/1995      87     180   \n",
       "8     Kim Howarth    Accounting      2020   M  08/10/1992      95     174   \n",
       "9    Jane Burnett  Data Science      2012   F  11/10/1979      57     165   \n",
       "\n",
       "   Kids  \n",
       "0     2  \n",
       "1     1  \n",
       "2     0  \n",
       "3     1  \n",
       "4     1  \n",
       "5     0  \n",
       "6     2  \n",
       "7     0  \n",
       "8     3  \n",
       "9     1  "
      ]
     },
     "execution_count": 107,
     "metadata": {},
     "output_type": "execute_result"
    }
   ],
   "source": [
    "data1 = pd.DataFrame({'EmployeeName': ['Callen Dunkley', 'Sarah Rayner', 'Jeanette Sloan', 'Kaycee Acosta', 'Henri Conroy', 'Emma Peralta', 'Martin Butt', 'Alex Jensen', 'Kim Howarth', 'Jane Burnett'],\n",
    "                    'Department': ['Accounting', 'Engineering', 'Engineering', 'HR', 'HR', 'HR', 'Data Science', 'Data Science', 'Accounting', 'Data Science'],\n",
    "                    'HireDate': [2010, 2018, 2012, 2014, 2014, 2018, 2020, 2018, 2020, 2012],\n",
    "                    'Sex': ['M', 'F', 'F', 'F', 'M', 'F', 'M', 'M', 'M', 'F'],\n",
    "                    'Birthdate': ['04/09/1982', '14/04/1981', '06/05/1997', '08/01/1986', '10/10/1988', '12/11/1992', '10/04/1991', '16/07/1995', '08/10/1992', '11/10/1979'],\n",
    "                    'Weight': [78, 80, 66, 67, 90, 57, 115, 87, 95, 57],\n",
    "                    'Height': [176, 160, 169, 157, 185, 164, 195, 180, 174, 165],\n",
    "                    'Kids': [2, 1, 0, 1, 1, 0, 2, 0, 3, 1]\n",
    "                    })\n",
    "data1"
   ]
  },
  {
   "cell_type": "code",
   "execution_count": 108,
   "id": "41b0fe4a",
   "metadata": {},
   "outputs": [],
   "source": [
    "def first_name(s):\n",
    "    return s.split()[0]"
   ]
  },
  {
   "cell_type": "code",
   "execution_count": 109,
   "id": "0755cf2a",
   "metadata": {},
   "outputs": [],
   "source": [
    "def last_name(s):\n",
    "    return s.split()[1]"
   ]
  },
  {
   "cell_type": "code",
   "execution_count": 110,
   "id": "a88fa161",
   "metadata": {},
   "outputs": [
    {
     "data": {
      "text/html": [
       "<div>\n",
       "<style scoped>\n",
       "    .dataframe tbody tr th:only-of-type {\n",
       "        vertical-align: middle;\n",
       "    }\n",
       "\n",
       "    .dataframe tbody tr th {\n",
       "        vertical-align: top;\n",
       "    }\n",
       "\n",
       "    .dataframe thead th {\n",
       "        text-align: right;\n",
       "    }\n",
       "</style>\n",
       "<table border=\"1\" class=\"dataframe\">\n",
       "  <thead>\n",
       "    <tr style=\"text-align: right;\">\n",
       "      <th></th>\n",
       "      <th>EmployeeName</th>\n",
       "      <th>Department</th>\n",
       "      <th>HireDate</th>\n",
       "      <th>Sex</th>\n",
       "      <th>Birthdate</th>\n",
       "      <th>Weight</th>\n",
       "      <th>Height</th>\n",
       "      <th>Kids</th>\n",
       "      <th>first_name</th>\n",
       "      <th>last_name</th>\n",
       "    </tr>\n",
       "  </thead>\n",
       "  <tbody>\n",
       "    <tr>\n",
       "      <th>0</th>\n",
       "      <td>Callen Dunkley</td>\n",
       "      <td>Accounting</td>\n",
       "      <td>2010</td>\n",
       "      <td>M</td>\n",
       "      <td>04/09/1982</td>\n",
       "      <td>78</td>\n",
       "      <td>176</td>\n",
       "      <td>2</td>\n",
       "      <td>Callen</td>\n",
       "      <td>Dunkley</td>\n",
       "    </tr>\n",
       "    <tr>\n",
       "      <th>1</th>\n",
       "      <td>Sarah Rayner</td>\n",
       "      <td>Engineering</td>\n",
       "      <td>2018</td>\n",
       "      <td>F</td>\n",
       "      <td>14/04/1981</td>\n",
       "      <td>80</td>\n",
       "      <td>160</td>\n",
       "      <td>1</td>\n",
       "      <td>Sarah</td>\n",
       "      <td>Rayner</td>\n",
       "    </tr>\n",
       "    <tr>\n",
       "      <th>2</th>\n",
       "      <td>Jeanette Sloan</td>\n",
       "      <td>Engineering</td>\n",
       "      <td>2012</td>\n",
       "      <td>F</td>\n",
       "      <td>06/05/1997</td>\n",
       "      <td>66</td>\n",
       "      <td>169</td>\n",
       "      <td>0</td>\n",
       "      <td>Jeanette</td>\n",
       "      <td>Sloan</td>\n",
       "    </tr>\n",
       "    <tr>\n",
       "      <th>3</th>\n",
       "      <td>Kaycee Acosta</td>\n",
       "      <td>HR</td>\n",
       "      <td>2014</td>\n",
       "      <td>F</td>\n",
       "      <td>08/01/1986</td>\n",
       "      <td>67</td>\n",
       "      <td>157</td>\n",
       "      <td>1</td>\n",
       "      <td>Kaycee</td>\n",
       "      <td>Acosta</td>\n",
       "    </tr>\n",
       "    <tr>\n",
       "      <th>4</th>\n",
       "      <td>Henri Conroy</td>\n",
       "      <td>HR</td>\n",
       "      <td>2014</td>\n",
       "      <td>M</td>\n",
       "      <td>10/10/1988</td>\n",
       "      <td>90</td>\n",
       "      <td>185</td>\n",
       "      <td>1</td>\n",
       "      <td>Henri</td>\n",
       "      <td>Conroy</td>\n",
       "    </tr>\n",
       "    <tr>\n",
       "      <th>5</th>\n",
       "      <td>Emma Peralta</td>\n",
       "      <td>HR</td>\n",
       "      <td>2018</td>\n",
       "      <td>F</td>\n",
       "      <td>12/11/1992</td>\n",
       "      <td>57</td>\n",
       "      <td>164</td>\n",
       "      <td>0</td>\n",
       "      <td>Emma</td>\n",
       "      <td>Peralta</td>\n",
       "    </tr>\n",
       "    <tr>\n",
       "      <th>6</th>\n",
       "      <td>Martin Butt</td>\n",
       "      <td>Data Science</td>\n",
       "      <td>2020</td>\n",
       "      <td>M</td>\n",
       "      <td>10/04/1991</td>\n",
       "      <td>115</td>\n",
       "      <td>195</td>\n",
       "      <td>2</td>\n",
       "      <td>Martin</td>\n",
       "      <td>Butt</td>\n",
       "    </tr>\n",
       "    <tr>\n",
       "      <th>7</th>\n",
       "      <td>Alex Jensen</td>\n",
       "      <td>Data Science</td>\n",
       "      <td>2018</td>\n",
       "      <td>M</td>\n",
       "      <td>16/07/1995</td>\n",
       "      <td>87</td>\n",
       "      <td>180</td>\n",
       "      <td>0</td>\n",
       "      <td>Alex</td>\n",
       "      <td>Jensen</td>\n",
       "    </tr>\n",
       "    <tr>\n",
       "      <th>8</th>\n",
       "      <td>Kim Howarth</td>\n",
       "      <td>Accounting</td>\n",
       "      <td>2020</td>\n",
       "      <td>M</td>\n",
       "      <td>08/10/1992</td>\n",
       "      <td>95</td>\n",
       "      <td>174</td>\n",
       "      <td>3</td>\n",
       "      <td>Kim</td>\n",
       "      <td>Howarth</td>\n",
       "    </tr>\n",
       "    <tr>\n",
       "      <th>9</th>\n",
       "      <td>Jane Burnett</td>\n",
       "      <td>Data Science</td>\n",
       "      <td>2012</td>\n",
       "      <td>F</td>\n",
       "      <td>11/10/1979</td>\n",
       "      <td>57</td>\n",
       "      <td>165</td>\n",
       "      <td>1</td>\n",
       "      <td>Jane</td>\n",
       "      <td>Burnett</td>\n",
       "    </tr>\n",
       "  </tbody>\n",
       "</table>\n",
       "</div>"
      ],
      "text/plain": [
       "     EmployeeName    Department  HireDate Sex   Birthdate  Weight  Height  \\\n",
       "0  Callen Dunkley    Accounting      2010   M  04/09/1982      78     176   \n",
       "1    Sarah Rayner   Engineering      2018   F  14/04/1981      80     160   \n",
       "2  Jeanette Sloan   Engineering      2012   F  06/05/1997      66     169   \n",
       "3   Kaycee Acosta            HR      2014   F  08/01/1986      67     157   \n",
       "4    Henri Conroy            HR      2014   M  10/10/1988      90     185   \n",
       "5    Emma Peralta            HR      2018   F  12/11/1992      57     164   \n",
       "6     Martin Butt  Data Science      2020   M  10/04/1991     115     195   \n",
       "7     Alex Jensen  Data Science      2018   M  16/07/1995      87     180   \n",
       "8     Kim Howarth    Accounting      2020   M  08/10/1992      95     174   \n",
       "9    Jane Burnett  Data Science      2012   F  11/10/1979      57     165   \n",
       "\n",
       "   Kids first_name last_name  \n",
       "0     2     Callen   Dunkley  \n",
       "1     1      Sarah    Rayner  \n",
       "2     0   Jeanette     Sloan  \n",
       "3     1     Kaycee    Acosta  \n",
       "4     1      Henri    Conroy  \n",
       "5     0       Emma   Peralta  \n",
       "6     2     Martin      Butt  \n",
       "7     0       Alex    Jensen  \n",
       "8     3        Kim   Howarth  \n",
       "9     1       Jane   Burnett  "
      ]
     },
     "execution_count": 110,
     "metadata": {},
     "output_type": "execute_result"
    }
   ],
   "source": [
    "data1[\"first_name\"] = data1[\"EmployeeName\"].apply(first_name)\n",
    "data1[\"last_name\"] = data1[\"EmployeeName\"].apply(last_name)\n",
    "data1"
   ]
  },
  {
   "cell_type": "code",
   "execution_count": 111,
   "id": "050e4905",
   "metadata": {},
   "outputs": [
    {
     "data": {
      "text/html": [
       "<div>\n",
       "<style scoped>\n",
       "    .dataframe tbody tr th:only-of-type {\n",
       "        vertical-align: middle;\n",
       "    }\n",
       "\n",
       "    .dataframe tbody tr th {\n",
       "        vertical-align: top;\n",
       "    }\n",
       "\n",
       "    .dataframe thead th {\n",
       "        text-align: right;\n",
       "    }\n",
       "</style>\n",
       "<table border=\"1\" class=\"dataframe\">\n",
       "  <thead>\n",
       "    <tr style=\"text-align: right;\">\n",
       "      <th></th>\n",
       "      <th>Airline</th>\n",
       "      <th>Duration</th>\n",
       "      <th>Arrival Time</th>\n",
       "      <th>Departure Time</th>\n",
       "      <th>Distance (km)</th>\n",
       "    </tr>\n",
       "  </thead>\n",
       "  <tbody>\n",
       "    <tr>\n",
       "      <th>0</th>\n",
       "      <td>IndiGo</td>\n",
       "      <td>2h 5m</td>\n",
       "      <td>21:45</td>\n",
       "      <td>19:40</td>\n",
       "      <td>2050</td>\n",
       "    </tr>\n",
       "    <tr>\n",
       "      <th>1</th>\n",
       "      <td>Air India</td>\n",
       "      <td>2h</td>\n",
       "      <td>10:00</td>\n",
       "      <td>07:55</td>\n",
       "      <td>2000</td>\n",
       "    </tr>\n",
       "    <tr>\n",
       "      <th>2</th>\n",
       "      <td>Jet Airways</td>\n",
       "      <td>50m</td>\n",
       "      <td>00:50</td>\n",
       "      <td>00:44</td>\n",
       "      <td>220</td>\n",
       "    </tr>\n",
       "    <tr>\n",
       "      <th>3</th>\n",
       "      <td>SpiceJet</td>\n",
       "      <td>1h 30m</td>\n",
       "      <td>15:30</td>\n",
       "      <td>14:00</td>\n",
       "      <td>800</td>\n",
       "    </tr>\n",
       "    <tr>\n",
       "      <th>4</th>\n",
       "      <td>Vistara</td>\n",
       "      <td>3h 20m</td>\n",
       "      <td>19:15</td>\n",
       "      <td>15:55</td>\n",
       "      <td>3000</td>\n",
       "    </tr>\n",
       "  </tbody>\n",
       "</table>\n",
       "</div>"
      ],
      "text/plain": [
       "       Airline Duration Arrival Time Departure Time  Distance (km)\n",
       "0       IndiGo    2h 5m        21:45          19:40           2050\n",
       "1    Air India       2h        10:00          07:55           2000\n",
       "2  Jet Airways      50m        00:50          00:44            220\n",
       "3     SpiceJet   1h 30m        15:30          14:00            800\n",
       "4      Vistara   3h 20m        19:15          15:55           3000"
      ]
     },
     "execution_count": 111,
     "metadata": {},
     "output_type": "execute_result"
    }
   ],
   "source": [
    "airline_series = pd.Series(['IndiGo', 'Air India', 'Jet Airways', 'SpiceJet', 'Vistara'])\n",
    "duration_series = pd.Series(['2h 5m', '2h', '50m', '1h 30m', '3h 20m'])\n",
    "arrival_time_series = pd.Series(['21:45', '10:00', '00:50', '15:30', '19:15'])\n",
    "departure_time_series = pd.Series(['19:40', '07:55', '00:44', '14:00', '15:55'])\n",
    "distance_series = pd.Series([2050, 2000, 220, 800, 3000])\n",
    "\n",
    "df = pd.DataFrame({\n",
    "    'Airline': airline_series,\n",
    "    'Duration': duration_series,\n",
    "    'Arrival Time': arrival_time_series,\n",
    "    'Departure Time': departure_time_series,\n",
    "    'Distance (km)': distance_series\n",
    "})\n",
    "\n",
    "df"
   ]
  },
  {
   "cell_type": "code",
   "execution_count": 112,
   "id": "0c5a00ec",
   "metadata": {},
   "outputs": [],
   "source": [
    "def duration_min(s):\n",
    "    min = 0\n",
    "    a = s.split(\" \")\n",
    "    for i in range(len(a)):\n",
    "        if \"h\" in a[i]:\n",
    "            min += int(a[i][:-1])*60\n",
    "            \n",
    "        if \"m\" in a[i]:\n",
    "            min += int(a[i][:-1])\n",
    "    return min"
   ]
  },
  {
   "cell_type": "code",
   "execution_count": 113,
   "id": "f2bcdcb8",
   "metadata": {},
   "outputs": [
    {
     "data": {
      "text/html": [
       "<div>\n",
       "<style scoped>\n",
       "    .dataframe tbody tr th:only-of-type {\n",
       "        vertical-align: middle;\n",
       "    }\n",
       "\n",
       "    .dataframe tbody tr th {\n",
       "        vertical-align: top;\n",
       "    }\n",
       "\n",
       "    .dataframe thead th {\n",
       "        text-align: right;\n",
       "    }\n",
       "</style>\n",
       "<table border=\"1\" class=\"dataframe\">\n",
       "  <thead>\n",
       "    <tr style=\"text-align: right;\">\n",
       "      <th></th>\n",
       "      <th>Airline</th>\n",
       "      <th>Duration</th>\n",
       "      <th>Arrival Time</th>\n",
       "      <th>Departure Time</th>\n",
       "      <th>Distance (km)</th>\n",
       "    </tr>\n",
       "  </thead>\n",
       "  <tbody>\n",
       "    <tr>\n",
       "      <th>0</th>\n",
       "      <td>IndiGo</td>\n",
       "      <td>125</td>\n",
       "      <td>21:45</td>\n",
       "      <td>19:40</td>\n",
       "      <td>2050</td>\n",
       "    </tr>\n",
       "    <tr>\n",
       "      <th>1</th>\n",
       "      <td>Air India</td>\n",
       "      <td>120</td>\n",
       "      <td>10:00</td>\n",
       "      <td>07:55</td>\n",
       "      <td>2000</td>\n",
       "    </tr>\n",
       "    <tr>\n",
       "      <th>2</th>\n",
       "      <td>Jet Airways</td>\n",
       "      <td>50</td>\n",
       "      <td>00:50</td>\n",
       "      <td>00:44</td>\n",
       "      <td>220</td>\n",
       "    </tr>\n",
       "    <tr>\n",
       "      <th>3</th>\n",
       "      <td>SpiceJet</td>\n",
       "      <td>90</td>\n",
       "      <td>15:30</td>\n",
       "      <td>14:00</td>\n",
       "      <td>800</td>\n",
       "    </tr>\n",
       "    <tr>\n",
       "      <th>4</th>\n",
       "      <td>Vistara</td>\n",
       "      <td>200</td>\n",
       "      <td>19:15</td>\n",
       "      <td>15:55</td>\n",
       "      <td>3000</td>\n",
       "    </tr>\n",
       "  </tbody>\n",
       "</table>\n",
       "</div>"
      ],
      "text/plain": [
       "       Airline  Duration Arrival Time Departure Time  Distance (km)\n",
       "0       IndiGo       125        21:45          19:40           2050\n",
       "1    Air India       120        10:00          07:55           2000\n",
       "2  Jet Airways        50        00:50          00:44            220\n",
       "3     SpiceJet        90        15:30          14:00            800\n",
       "4      Vistara       200        19:15          15:55           3000"
      ]
     },
     "execution_count": 113,
     "metadata": {},
     "output_type": "execute_result"
    }
   ],
   "source": [
    "df[\"Duration\"] = df[\"Duration\"].apply(duration_min)\n",
    "df"
   ]
  },
  {
   "cell_type": "code",
   "execution_count": 114,
   "id": "25bae562",
   "metadata": {},
   "outputs": [],
   "source": [
    "def hr(time):\n",
    "    time = time.split(\":\")\n",
    "    hour = int(time[0])\n",
    "    if(hour >= 5 and hour < 12):\n",
    "        return \"Morning\"\n",
    "    if(hour >= 12 and hour < 17):\n",
    "        return \"Afternoon\"\n",
    "    if(hour >= 17 and hour < 20):\n",
    "        return \"Evening\"\n",
    "    if(hour >= 20 or hour < 5):\n",
    "        return \"Night\""
   ]
  },
  {
   "cell_type": "code",
   "execution_count": 115,
   "id": "a6980c51",
   "metadata": {},
   "outputs": [
    {
     "data": {
      "text/html": [
       "<div>\n",
       "<style scoped>\n",
       "    .dataframe tbody tr th:only-of-type {\n",
       "        vertical-align: middle;\n",
       "    }\n",
       "\n",
       "    .dataframe tbody tr th {\n",
       "        vertical-align: top;\n",
       "    }\n",
       "\n",
       "    .dataframe thead th {\n",
       "        text-align: right;\n",
       "    }\n",
       "</style>\n",
       "<table border=\"1\" class=\"dataframe\">\n",
       "  <thead>\n",
       "    <tr style=\"text-align: right;\">\n",
       "      <th></th>\n",
       "      <th>Airline</th>\n",
       "      <th>Duration</th>\n",
       "      <th>Arrival Time</th>\n",
       "      <th>Departure Time</th>\n",
       "      <th>Distance (km)</th>\n",
       "      <th>Shift</th>\n",
       "    </tr>\n",
       "  </thead>\n",
       "  <tbody>\n",
       "    <tr>\n",
       "      <th>0</th>\n",
       "      <td>IndiGo</td>\n",
       "      <td>125</td>\n",
       "      <td>21:45</td>\n",
       "      <td>19:40</td>\n",
       "      <td>2050</td>\n",
       "      <td>Night</td>\n",
       "    </tr>\n",
       "    <tr>\n",
       "      <th>1</th>\n",
       "      <td>Air India</td>\n",
       "      <td>120</td>\n",
       "      <td>10:00</td>\n",
       "      <td>07:55</td>\n",
       "      <td>2000</td>\n",
       "      <td>Morning</td>\n",
       "    </tr>\n",
       "    <tr>\n",
       "      <th>2</th>\n",
       "      <td>Jet Airways</td>\n",
       "      <td>50</td>\n",
       "      <td>00:50</td>\n",
       "      <td>00:44</td>\n",
       "      <td>220</td>\n",
       "      <td>Night</td>\n",
       "    </tr>\n",
       "    <tr>\n",
       "      <th>3</th>\n",
       "      <td>SpiceJet</td>\n",
       "      <td>90</td>\n",
       "      <td>15:30</td>\n",
       "      <td>14:00</td>\n",
       "      <td>800</td>\n",
       "      <td>Afternoon</td>\n",
       "    </tr>\n",
       "    <tr>\n",
       "      <th>4</th>\n",
       "      <td>Vistara</td>\n",
       "      <td>200</td>\n",
       "      <td>19:15</td>\n",
       "      <td>15:55</td>\n",
       "      <td>3000</td>\n",
       "      <td>Evening</td>\n",
       "    </tr>\n",
       "  </tbody>\n",
       "</table>\n",
       "</div>"
      ],
      "text/plain": [
       "       Airline  Duration Arrival Time Departure Time  Distance (km)      Shift\n",
       "0       IndiGo       125        21:45          19:40           2050      Night\n",
       "1    Air India       120        10:00          07:55           2000    Morning\n",
       "2  Jet Airways        50        00:50          00:44            220      Night\n",
       "3     SpiceJet        90        15:30          14:00            800  Afternoon\n",
       "4      Vistara       200        19:15          15:55           3000    Evening"
      ]
     },
     "execution_count": 115,
     "metadata": {},
     "output_type": "execute_result"
    }
   ],
   "source": [
    "df[\"Shift\"] = df[\"Arrival Time\"].apply(hr)\n",
    "df"
   ]
  },
  {
   "cell_type": "code",
   "execution_count": 116,
   "id": "8cacdd07",
   "metadata": {},
   "outputs": [
    {
     "data": {
      "text/html": [
       "<div>\n",
       "<style scoped>\n",
       "    .dataframe tbody tr th:only-of-type {\n",
       "        vertical-align: middle;\n",
       "    }\n",
       "\n",
       "    .dataframe tbody tr th {\n",
       "        vertical-align: top;\n",
       "    }\n",
       "\n",
       "    .dataframe thead th {\n",
       "        text-align: right;\n",
       "    }\n",
       "</style>\n",
       "<table border=\"1\" class=\"dataframe\">\n",
       "  <thead>\n",
       "    <tr style=\"text-align: right;\">\n",
       "      <th></th>\n",
       "      <th>Name</th>\n",
       "      <th>Age</th>\n",
       "      <th>Mapped_Name</th>\n",
       "    </tr>\n",
       "  </thead>\n",
       "  <tbody>\n",
       "    <tr>\n",
       "      <th>0</th>\n",
       "      <td>Alice</td>\n",
       "      <td>25</td>\n",
       "      <td>A</td>\n",
       "    </tr>\n",
       "    <tr>\n",
       "      <th>1</th>\n",
       "      <td>Bob</td>\n",
       "      <td>30</td>\n",
       "      <td>B</td>\n",
       "    </tr>\n",
       "    <tr>\n",
       "      <th>2</th>\n",
       "      <td>Charlie</td>\n",
       "      <td>35</td>\n",
       "      <td>C</td>\n",
       "    </tr>\n",
       "    <tr>\n",
       "      <th>3</th>\n",
       "      <td>David</td>\n",
       "      <td>40</td>\n",
       "      <td>D</td>\n",
       "    </tr>\n",
       "  </tbody>\n",
       "</table>\n",
       "</div>"
      ],
      "text/plain": [
       "      Name  Age Mapped_Name\n",
       "0    Alice   25           A\n",
       "1      Bob   30           B\n",
       "2  Charlie   35           C\n",
       "3    David   40           D"
      ]
     },
     "execution_count": 116,
     "metadata": {},
     "output_type": "execute_result"
    }
   ],
   "source": [
    "data_map = {\"Name\":[\"Alice\",\"Bob\",\"Charlie\",\"David\"],\"Age\":[25,30,35,40]}\n",
    "df = pd.DataFrame(data_map)\n",
    "\n",
    "mapping = {\"Alice\":\"A\",\"Bob\":\"B\",\"Charlie\":\"C\",\"David\":\"D\"}\n",
    "df[\"Mapped_Name\"] = df[\"Name\"].map(mapping)\n",
    "df"
   ]
  },
  {
   "cell_type": "code",
   "execution_count": 117,
   "id": "8e7e6cfa",
   "metadata": {},
   "outputs": [],
   "source": [
    "def map_age(age):\n",
    "    if(age<30):\n",
    "        return \"Young\"\n",
    "    elif(age >= 30 and age < 40):\n",
    "        return \"Middle-aged\"\n",
    "    else:\n",
    "        return \"Senior\""
   ]
  },
  {
   "cell_type": "code",
   "execution_count": 118,
   "id": "ef8e1003",
   "metadata": {},
   "outputs": [
    {
     "data": {
      "text/html": [
       "<div>\n",
       "<style scoped>\n",
       "    .dataframe tbody tr th:only-of-type {\n",
       "        vertical-align: middle;\n",
       "    }\n",
       "\n",
       "    .dataframe tbody tr th {\n",
       "        vertical-align: top;\n",
       "    }\n",
       "\n",
       "    .dataframe thead th {\n",
       "        text-align: right;\n",
       "    }\n",
       "</style>\n",
       "<table border=\"1\" class=\"dataframe\">\n",
       "  <thead>\n",
       "    <tr style=\"text-align: right;\">\n",
       "      <th></th>\n",
       "      <th>Name</th>\n",
       "      <th>Age</th>\n",
       "      <th>Mapped_Name</th>\n",
       "      <th>Age_Group</th>\n",
       "    </tr>\n",
       "  </thead>\n",
       "  <tbody>\n",
       "    <tr>\n",
       "      <th>0</th>\n",
       "      <td>Alice</td>\n",
       "      <td>25</td>\n",
       "      <td>A</td>\n",
       "      <td>Young</td>\n",
       "    </tr>\n",
       "    <tr>\n",
       "      <th>1</th>\n",
       "      <td>Bob</td>\n",
       "      <td>30</td>\n",
       "      <td>B</td>\n",
       "      <td>Middle-aged</td>\n",
       "    </tr>\n",
       "    <tr>\n",
       "      <th>2</th>\n",
       "      <td>Charlie</td>\n",
       "      <td>35</td>\n",
       "      <td>C</td>\n",
       "      <td>Middle-aged</td>\n",
       "    </tr>\n",
       "    <tr>\n",
       "      <th>3</th>\n",
       "      <td>David</td>\n",
       "      <td>40</td>\n",
       "      <td>D</td>\n",
       "      <td>Senior</td>\n",
       "    </tr>\n",
       "  </tbody>\n",
       "</table>\n",
       "</div>"
      ],
      "text/plain": [
       "      Name  Age Mapped_Name    Age_Group\n",
       "0    Alice   25           A        Young\n",
       "1      Bob   30           B  Middle-aged\n",
       "2  Charlie   35           C  Middle-aged\n",
       "3    David   40           D       Senior"
      ]
     },
     "execution_count": 118,
     "metadata": {},
     "output_type": "execute_result"
    }
   ],
   "source": [
    "df[\"Age_Group\"] = df[\"Age\"].map(map_age)\n",
    "df"
   ]
  },
  {
   "cell_type": "markdown",
   "id": "e562ab30",
   "metadata": {},
   "source": [
    "## Concatenate"
   ]
  },
  {
   "cell_type": "code",
   "execution_count": 119,
   "id": "07f714fd",
   "metadata": {},
   "outputs": [],
   "source": [
    "temp_data = pd.DataFrame({\"Date\":['12-02-2023','13-02-2023','14-02-2023','15-02-2023','16-02-2023'],'TempMax':[24.3,26.9,23.4,\n",
    "                                                                                                               15.5,16.1]})\n",
    "rainfall_data = pd.DataFrame({\"Date\":['12-02-2023','13-02-2023','14-02-2023','15-02-2023','16-02-2023'],'Rainfall':[0,3.6,3.6,\n",
    "                                                                                39.8,2.8]})"
   ]
  },
  {
   "cell_type": "code",
   "execution_count": 120,
   "id": "9ba58549",
   "metadata": {},
   "outputs": [
    {
     "data": {
      "text/html": [
       "<div>\n",
       "<style scoped>\n",
       "    .dataframe tbody tr th:only-of-type {\n",
       "        vertical-align: middle;\n",
       "    }\n",
       "\n",
       "    .dataframe tbody tr th {\n",
       "        vertical-align: top;\n",
       "    }\n",
       "\n",
       "    .dataframe thead th {\n",
       "        text-align: right;\n",
       "    }\n",
       "</style>\n",
       "<table border=\"1\" class=\"dataframe\">\n",
       "  <thead>\n",
       "    <tr style=\"text-align: right;\">\n",
       "      <th></th>\n",
       "      <th>Date</th>\n",
       "      <th>TempMax</th>\n",
       "      <th>Rainfall</th>\n",
       "    </tr>\n",
       "  </thead>\n",
       "  <tbody>\n",
       "    <tr>\n",
       "      <th>0</th>\n",
       "      <td>12-02-2023</td>\n",
       "      <td>24.3</td>\n",
       "      <td>NaN</td>\n",
       "    </tr>\n",
       "    <tr>\n",
       "      <th>1</th>\n",
       "      <td>13-02-2023</td>\n",
       "      <td>26.9</td>\n",
       "      <td>NaN</td>\n",
       "    </tr>\n",
       "    <tr>\n",
       "      <th>2</th>\n",
       "      <td>14-02-2023</td>\n",
       "      <td>23.4</td>\n",
       "      <td>NaN</td>\n",
       "    </tr>\n",
       "    <tr>\n",
       "      <th>3</th>\n",
       "      <td>15-02-2023</td>\n",
       "      <td>15.5</td>\n",
       "      <td>NaN</td>\n",
       "    </tr>\n",
       "    <tr>\n",
       "      <th>4</th>\n",
       "      <td>16-02-2023</td>\n",
       "      <td>16.1</td>\n",
       "      <td>NaN</td>\n",
       "    </tr>\n",
       "    <tr>\n",
       "      <th>0</th>\n",
       "      <td>12-02-2023</td>\n",
       "      <td>NaN</td>\n",
       "      <td>0.0</td>\n",
       "    </tr>\n",
       "    <tr>\n",
       "      <th>1</th>\n",
       "      <td>13-02-2023</td>\n",
       "      <td>NaN</td>\n",
       "      <td>3.6</td>\n",
       "    </tr>\n",
       "    <tr>\n",
       "      <th>2</th>\n",
       "      <td>14-02-2023</td>\n",
       "      <td>NaN</td>\n",
       "      <td>3.6</td>\n",
       "    </tr>\n",
       "    <tr>\n",
       "      <th>3</th>\n",
       "      <td>15-02-2023</td>\n",
       "      <td>NaN</td>\n",
       "      <td>39.8</td>\n",
       "    </tr>\n",
       "    <tr>\n",
       "      <th>4</th>\n",
       "      <td>16-02-2023</td>\n",
       "      <td>NaN</td>\n",
       "      <td>2.8</td>\n",
       "    </tr>\n",
       "  </tbody>\n",
       "</table>\n",
       "</div>"
      ],
      "text/plain": [
       "         Date  TempMax  Rainfall\n",
       "0  12-02-2023     24.3       NaN\n",
       "1  13-02-2023     26.9       NaN\n",
       "2  14-02-2023     23.4       NaN\n",
       "3  15-02-2023     15.5       NaN\n",
       "4  16-02-2023     16.1       NaN\n",
       "0  12-02-2023      NaN       0.0\n",
       "1  13-02-2023      NaN       3.6\n",
       "2  14-02-2023      NaN       3.6\n",
       "3  15-02-2023      NaN      39.8\n",
       "4  16-02-2023      NaN       2.8"
      ]
     },
     "execution_count": 120,
     "metadata": {},
     "output_type": "execute_result"
    }
   ],
   "source": [
    "final_concat = pd.concat([temp_data,rainfall_data],axis=0)\n",
    "final_concat"
   ]
  },
  {
   "cell_type": "code",
   "execution_count": 121,
   "id": "1c1dd84e",
   "metadata": {},
   "outputs": [
    {
     "data": {
      "text/html": [
       "<div>\n",
       "<style scoped>\n",
       "    .dataframe tbody tr th:only-of-type {\n",
       "        vertical-align: middle;\n",
       "    }\n",
       "\n",
       "    .dataframe tbody tr th {\n",
       "        vertical-align: top;\n",
       "    }\n",
       "\n",
       "    .dataframe thead th {\n",
       "        text-align: right;\n",
       "    }\n",
       "</style>\n",
       "<table border=\"1\" class=\"dataframe\">\n",
       "  <thead>\n",
       "    <tr style=\"text-align: right;\">\n",
       "      <th></th>\n",
       "      <th>Date</th>\n",
       "      <th>TempMax</th>\n",
       "      <th>Date</th>\n",
       "      <th>Rainfall</th>\n",
       "    </tr>\n",
       "  </thead>\n",
       "  <tbody>\n",
       "    <tr>\n",
       "      <th>0</th>\n",
       "      <td>12-02-2023</td>\n",
       "      <td>24.3</td>\n",
       "      <td>12-02-2023</td>\n",
       "      <td>0.0</td>\n",
       "    </tr>\n",
       "    <tr>\n",
       "      <th>1</th>\n",
       "      <td>13-02-2023</td>\n",
       "      <td>26.9</td>\n",
       "      <td>13-02-2023</td>\n",
       "      <td>3.6</td>\n",
       "    </tr>\n",
       "    <tr>\n",
       "      <th>2</th>\n",
       "      <td>14-02-2023</td>\n",
       "      <td>23.4</td>\n",
       "      <td>14-02-2023</td>\n",
       "      <td>3.6</td>\n",
       "    </tr>\n",
       "    <tr>\n",
       "      <th>3</th>\n",
       "      <td>15-02-2023</td>\n",
       "      <td>15.5</td>\n",
       "      <td>15-02-2023</td>\n",
       "      <td>39.8</td>\n",
       "    </tr>\n",
       "    <tr>\n",
       "      <th>4</th>\n",
       "      <td>16-02-2023</td>\n",
       "      <td>16.1</td>\n",
       "      <td>16-02-2023</td>\n",
       "      <td>2.8</td>\n",
       "    </tr>\n",
       "  </tbody>\n",
       "</table>\n",
       "</div>"
      ],
      "text/plain": [
       "         Date  TempMax        Date  Rainfall\n",
       "0  12-02-2023     24.3  12-02-2023       0.0\n",
       "1  13-02-2023     26.9  13-02-2023       3.6\n",
       "2  14-02-2023     23.4  14-02-2023       3.6\n",
       "3  15-02-2023     15.5  15-02-2023      39.8\n",
       "4  16-02-2023     16.1  16-02-2023       2.8"
      ]
     },
     "execution_count": 121,
     "metadata": {},
     "output_type": "execute_result"
    }
   ],
   "source": [
    "final_concat = pd.concat([temp_data,rainfall_data],axis=1)\n",
    "final_concat"
   ]
  },
  {
   "cell_type": "code",
   "execution_count": 122,
   "id": "fc286a50",
   "metadata": {},
   "outputs": [
    {
     "data": {
      "text/html": [
       "<div>\n",
       "<style scoped>\n",
       "    .dataframe tbody tr th:only-of-type {\n",
       "        vertical-align: middle;\n",
       "    }\n",
       "\n",
       "    .dataframe tbody tr th {\n",
       "        vertical-align: top;\n",
       "    }\n",
       "\n",
       "    .dataframe thead th {\n",
       "        text-align: right;\n",
       "    }\n",
       "</style>\n",
       "<table border=\"1\" class=\"dataframe\">\n",
       "  <thead>\n",
       "    <tr style=\"text-align: right;\">\n",
       "      <th></th>\n",
       "      <th>Date</th>\n",
       "      <th>TempMax</th>\n",
       "      <th>Rainfall</th>\n",
       "    </tr>\n",
       "  </thead>\n",
       "  <tbody>\n",
       "    <tr>\n",
       "      <th>0</th>\n",
       "      <td>12-02-2023</td>\n",
       "      <td>24.3</td>\n",
       "      <td>NaN</td>\n",
       "    </tr>\n",
       "    <tr>\n",
       "      <th>1</th>\n",
       "      <td>13-02-2023</td>\n",
       "      <td>26.9</td>\n",
       "      <td>NaN</td>\n",
       "    </tr>\n",
       "    <tr>\n",
       "      <th>2</th>\n",
       "      <td>14-02-2023</td>\n",
       "      <td>23.4</td>\n",
       "      <td>NaN</td>\n",
       "    </tr>\n",
       "    <tr>\n",
       "      <th>3</th>\n",
       "      <td>15-02-2023</td>\n",
       "      <td>15.5</td>\n",
       "      <td>NaN</td>\n",
       "    </tr>\n",
       "    <tr>\n",
       "      <th>4</th>\n",
       "      <td>16-02-2023</td>\n",
       "      <td>16.1</td>\n",
       "      <td>NaN</td>\n",
       "    </tr>\n",
       "    <tr>\n",
       "      <th>0</th>\n",
       "      <td>12-02-2023</td>\n",
       "      <td>NaN</td>\n",
       "      <td>0.0</td>\n",
       "    </tr>\n",
       "    <tr>\n",
       "      <th>1</th>\n",
       "      <td>13-02-2023</td>\n",
       "      <td>NaN</td>\n",
       "      <td>3.6</td>\n",
       "    </tr>\n",
       "    <tr>\n",
       "      <th>2</th>\n",
       "      <td>14-02-2023</td>\n",
       "      <td>NaN</td>\n",
       "      <td>3.6</td>\n",
       "    </tr>\n",
       "    <tr>\n",
       "      <th>3</th>\n",
       "      <td>15-02-2023</td>\n",
       "      <td>NaN</td>\n",
       "      <td>39.8</td>\n",
       "    </tr>\n",
       "    <tr>\n",
       "      <th>4</th>\n",
       "      <td>16-02-2023</td>\n",
       "      <td>NaN</td>\n",
       "      <td>2.8</td>\n",
       "    </tr>\n",
       "  </tbody>\n",
       "</table>\n",
       "</div>"
      ],
      "text/plain": [
       "         Date  TempMax  Rainfall\n",
       "0  12-02-2023     24.3       NaN\n",
       "1  13-02-2023     26.9       NaN\n",
       "2  14-02-2023     23.4       NaN\n",
       "3  15-02-2023     15.5       NaN\n",
       "4  16-02-2023     16.1       NaN\n",
       "0  12-02-2023      NaN       0.0\n",
       "1  13-02-2023      NaN       3.6\n",
       "2  14-02-2023      NaN       3.6\n",
       "3  15-02-2023      NaN      39.8\n",
       "4  16-02-2023      NaN       2.8"
      ]
     },
     "execution_count": 122,
     "metadata": {},
     "output_type": "execute_result"
    }
   ],
   "source": [
    "final_concat = pd.concat([temp_data,rainfall_data],axis=0,ignore_index=False)\n",
    "final_concat"
   ]
  },
  {
   "cell_type": "code",
   "execution_count": 123,
   "id": "d223b131",
   "metadata": {},
   "outputs": [
    {
     "data": {
      "text/html": [
       "<div>\n",
       "<style scoped>\n",
       "    .dataframe tbody tr th:only-of-type {\n",
       "        vertical-align: middle;\n",
       "    }\n",
       "\n",
       "    .dataframe tbody tr th {\n",
       "        vertical-align: top;\n",
       "    }\n",
       "\n",
       "    .dataframe thead th {\n",
       "        text-align: right;\n",
       "    }\n",
       "</style>\n",
       "<table border=\"1\" class=\"dataframe\">\n",
       "  <thead>\n",
       "    <tr style=\"text-align: right;\">\n",
       "      <th></th>\n",
       "      <th>Date</th>\n",
       "      <th>TempMax</th>\n",
       "      <th>Rainfall</th>\n",
       "    </tr>\n",
       "  </thead>\n",
       "  <tbody>\n",
       "    <tr>\n",
       "      <th>0</th>\n",
       "      <td>12-02-2023</td>\n",
       "      <td>24.3</td>\n",
       "      <td>NaN</td>\n",
       "    </tr>\n",
       "    <tr>\n",
       "      <th>1</th>\n",
       "      <td>13-02-2023</td>\n",
       "      <td>26.9</td>\n",
       "      <td>NaN</td>\n",
       "    </tr>\n",
       "    <tr>\n",
       "      <th>2</th>\n",
       "      <td>14-02-2023</td>\n",
       "      <td>23.4</td>\n",
       "      <td>NaN</td>\n",
       "    </tr>\n",
       "    <tr>\n",
       "      <th>3</th>\n",
       "      <td>15-02-2023</td>\n",
       "      <td>15.5</td>\n",
       "      <td>NaN</td>\n",
       "    </tr>\n",
       "    <tr>\n",
       "      <th>4</th>\n",
       "      <td>16-02-2023</td>\n",
       "      <td>16.1</td>\n",
       "      <td>NaN</td>\n",
       "    </tr>\n",
       "    <tr>\n",
       "      <th>5</th>\n",
       "      <td>12-02-2023</td>\n",
       "      <td>NaN</td>\n",
       "      <td>0.0</td>\n",
       "    </tr>\n",
       "    <tr>\n",
       "      <th>6</th>\n",
       "      <td>13-02-2023</td>\n",
       "      <td>NaN</td>\n",
       "      <td>3.6</td>\n",
       "    </tr>\n",
       "    <tr>\n",
       "      <th>7</th>\n",
       "      <td>14-02-2023</td>\n",
       "      <td>NaN</td>\n",
       "      <td>3.6</td>\n",
       "    </tr>\n",
       "    <tr>\n",
       "      <th>8</th>\n",
       "      <td>15-02-2023</td>\n",
       "      <td>NaN</td>\n",
       "      <td>39.8</td>\n",
       "    </tr>\n",
       "    <tr>\n",
       "      <th>9</th>\n",
       "      <td>16-02-2023</td>\n",
       "      <td>NaN</td>\n",
       "      <td>2.8</td>\n",
       "    </tr>\n",
       "  </tbody>\n",
       "</table>\n",
       "</div>"
      ],
      "text/plain": [
       "         Date  TempMax  Rainfall\n",
       "0  12-02-2023     24.3       NaN\n",
       "1  13-02-2023     26.9       NaN\n",
       "2  14-02-2023     23.4       NaN\n",
       "3  15-02-2023     15.5       NaN\n",
       "4  16-02-2023     16.1       NaN\n",
       "5  12-02-2023      NaN       0.0\n",
       "6  13-02-2023      NaN       3.6\n",
       "7  14-02-2023      NaN       3.6\n",
       "8  15-02-2023      NaN      39.8\n",
       "9  16-02-2023      NaN       2.8"
      ]
     },
     "execution_count": 123,
     "metadata": {},
     "output_type": "execute_result"
    }
   ],
   "source": [
    "final_concat = pd.concat([temp_data,rainfall_data],axis=0,ignore_index=True)\n",
    "final_concat"
   ]
  },
  {
   "cell_type": "code",
   "execution_count": 124,
   "id": "faccee0a",
   "metadata": {},
   "outputs": [
    {
     "data": {
      "text/html": [
       "<div>\n",
       "<style scoped>\n",
       "    .dataframe tbody tr th:only-of-type {\n",
       "        vertical-align: middle;\n",
       "    }\n",
       "\n",
       "    .dataframe tbody tr th {\n",
       "        vertical-align: top;\n",
       "    }\n",
       "\n",
       "    .dataframe thead th {\n",
       "        text-align: right;\n",
       "    }\n",
       "</style>\n",
       "<table border=\"1\" class=\"dataframe\">\n",
       "  <thead>\n",
       "    <tr style=\"text-align: right;\">\n",
       "      <th></th>\n",
       "      <th>Date</th>\n",
       "    </tr>\n",
       "  </thead>\n",
       "  <tbody>\n",
       "    <tr>\n",
       "      <th>0</th>\n",
       "      <td>12-02-2023</td>\n",
       "    </tr>\n",
       "    <tr>\n",
       "      <th>1</th>\n",
       "      <td>13-02-2023</td>\n",
       "    </tr>\n",
       "    <tr>\n",
       "      <th>2</th>\n",
       "      <td>14-02-2023</td>\n",
       "    </tr>\n",
       "    <tr>\n",
       "      <th>3</th>\n",
       "      <td>15-02-2023</td>\n",
       "    </tr>\n",
       "    <tr>\n",
       "      <th>4</th>\n",
       "      <td>16-02-2023</td>\n",
       "    </tr>\n",
       "    <tr>\n",
       "      <th>0</th>\n",
       "      <td>12-02-2023</td>\n",
       "    </tr>\n",
       "    <tr>\n",
       "      <th>1</th>\n",
       "      <td>13-02-2023</td>\n",
       "    </tr>\n",
       "    <tr>\n",
       "      <th>2</th>\n",
       "      <td>14-02-2023</td>\n",
       "    </tr>\n",
       "    <tr>\n",
       "      <th>3</th>\n",
       "      <td>15-02-2023</td>\n",
       "    </tr>\n",
       "    <tr>\n",
       "      <th>4</th>\n",
       "      <td>16-02-2023</td>\n",
       "    </tr>\n",
       "  </tbody>\n",
       "</table>\n",
       "</div>"
      ],
      "text/plain": [
       "         Date\n",
       "0  12-02-2023\n",
       "1  13-02-2023\n",
       "2  14-02-2023\n",
       "3  15-02-2023\n",
       "4  16-02-2023\n",
       "0  12-02-2023\n",
       "1  13-02-2023\n",
       "2  14-02-2023\n",
       "3  15-02-2023\n",
       "4  16-02-2023"
      ]
     },
     "execution_count": 124,
     "metadata": {},
     "output_type": "execute_result"
    }
   ],
   "source": [
    "final_concat = pd.concat([temp_data,rainfall_data],axis=0,join=\"inner\")\n",
    "final_concat"
   ]
  },
  {
   "cell_type": "code",
   "execution_count": 125,
   "id": "01de7089",
   "metadata": {},
   "outputs": [
    {
     "data": {
      "text/html": [
       "<div>\n",
       "<style scoped>\n",
       "    .dataframe tbody tr th:only-of-type {\n",
       "        vertical-align: middle;\n",
       "    }\n",
       "\n",
       "    .dataframe tbody tr th {\n",
       "        vertical-align: top;\n",
       "    }\n",
       "\n",
       "    .dataframe thead th {\n",
       "        text-align: right;\n",
       "    }\n",
       "</style>\n",
       "<table border=\"1\" class=\"dataframe\">\n",
       "  <thead>\n",
       "    <tr style=\"text-align: right;\">\n",
       "      <th></th>\n",
       "      <th>Date</th>\n",
       "      <th>TempMax</th>\n",
       "      <th>Rainfall</th>\n",
       "    </tr>\n",
       "  </thead>\n",
       "  <tbody>\n",
       "    <tr>\n",
       "      <th>0</th>\n",
       "      <td>12-02-2023</td>\n",
       "      <td>24.3</td>\n",
       "      <td>NaN</td>\n",
       "    </tr>\n",
       "    <tr>\n",
       "      <th>1</th>\n",
       "      <td>13-02-2023</td>\n",
       "      <td>26.9</td>\n",
       "      <td>NaN</td>\n",
       "    </tr>\n",
       "    <tr>\n",
       "      <th>2</th>\n",
       "      <td>14-02-2023</td>\n",
       "      <td>23.4</td>\n",
       "      <td>NaN</td>\n",
       "    </tr>\n",
       "    <tr>\n",
       "      <th>3</th>\n",
       "      <td>15-02-2023</td>\n",
       "      <td>15.5</td>\n",
       "      <td>NaN</td>\n",
       "    </tr>\n",
       "    <tr>\n",
       "      <th>4</th>\n",
       "      <td>16-02-2023</td>\n",
       "      <td>16.1</td>\n",
       "      <td>NaN</td>\n",
       "    </tr>\n",
       "    <tr>\n",
       "      <th>0</th>\n",
       "      <td>12-02-2023</td>\n",
       "      <td>NaN</td>\n",
       "      <td>0.0</td>\n",
       "    </tr>\n",
       "    <tr>\n",
       "      <th>1</th>\n",
       "      <td>13-02-2023</td>\n",
       "      <td>NaN</td>\n",
       "      <td>3.6</td>\n",
       "    </tr>\n",
       "    <tr>\n",
       "      <th>2</th>\n",
       "      <td>14-02-2023</td>\n",
       "      <td>NaN</td>\n",
       "      <td>3.6</td>\n",
       "    </tr>\n",
       "    <tr>\n",
       "      <th>3</th>\n",
       "      <td>15-02-2023</td>\n",
       "      <td>NaN</td>\n",
       "      <td>39.8</td>\n",
       "    </tr>\n",
       "    <tr>\n",
       "      <th>4</th>\n",
       "      <td>16-02-2023</td>\n",
       "      <td>NaN</td>\n",
       "      <td>2.8</td>\n",
       "    </tr>\n",
       "  </tbody>\n",
       "</table>\n",
       "</div>"
      ],
      "text/plain": [
       "         Date  TempMax  Rainfall\n",
       "0  12-02-2023     24.3       NaN\n",
       "1  13-02-2023     26.9       NaN\n",
       "2  14-02-2023     23.4       NaN\n",
       "3  15-02-2023     15.5       NaN\n",
       "4  16-02-2023     16.1       NaN\n",
       "0  12-02-2023      NaN       0.0\n",
       "1  13-02-2023      NaN       3.6\n",
       "2  14-02-2023      NaN       3.6\n",
       "3  15-02-2023      NaN      39.8\n",
       "4  16-02-2023      NaN       2.8"
      ]
     },
     "execution_count": 125,
     "metadata": {},
     "output_type": "execute_result"
    }
   ],
   "source": [
    "final_concat = pd.concat([temp_data,rainfall_data],axis=0,join=\"outer\")\n",
    "final_concat"
   ]
  },
  {
   "cell_type": "code",
   "execution_count": 126,
   "id": "7642f585",
   "metadata": {},
   "outputs": [
    {
     "data": {
      "text/html": [
       "<div>\n",
       "<style scoped>\n",
       "    .dataframe tbody tr th:only-of-type {\n",
       "        vertical-align: middle;\n",
       "    }\n",
       "\n",
       "    .dataframe tbody tr th {\n",
       "        vertical-align: top;\n",
       "    }\n",
       "\n",
       "    .dataframe thead th {\n",
       "        text-align: right;\n",
       "    }\n",
       "</style>\n",
       "<table border=\"1\" class=\"dataframe\">\n",
       "  <thead>\n",
       "    <tr style=\"text-align: right;\">\n",
       "      <th></th>\n",
       "      <th></th>\n",
       "      <th>Date</th>\n",
       "      <th>TempMax</th>\n",
       "      <th>Rainfall</th>\n",
       "    </tr>\n",
       "  </thead>\n",
       "  <tbody>\n",
       "    <tr>\n",
       "      <th rowspan=\"5\" valign=\"top\">A</th>\n",
       "      <th>0</th>\n",
       "      <td>12-02-2023</td>\n",
       "      <td>24.3</td>\n",
       "      <td>NaN</td>\n",
       "    </tr>\n",
       "    <tr>\n",
       "      <th>1</th>\n",
       "      <td>13-02-2023</td>\n",
       "      <td>26.9</td>\n",
       "      <td>NaN</td>\n",
       "    </tr>\n",
       "    <tr>\n",
       "      <th>2</th>\n",
       "      <td>14-02-2023</td>\n",
       "      <td>23.4</td>\n",
       "      <td>NaN</td>\n",
       "    </tr>\n",
       "    <tr>\n",
       "      <th>3</th>\n",
       "      <td>15-02-2023</td>\n",
       "      <td>15.5</td>\n",
       "      <td>NaN</td>\n",
       "    </tr>\n",
       "    <tr>\n",
       "      <th>4</th>\n",
       "      <td>16-02-2023</td>\n",
       "      <td>16.1</td>\n",
       "      <td>NaN</td>\n",
       "    </tr>\n",
       "    <tr>\n",
       "      <th rowspan=\"5\" valign=\"top\">B</th>\n",
       "      <th>0</th>\n",
       "      <td>12-02-2023</td>\n",
       "      <td>NaN</td>\n",
       "      <td>0.0</td>\n",
       "    </tr>\n",
       "    <tr>\n",
       "      <th>1</th>\n",
       "      <td>13-02-2023</td>\n",
       "      <td>NaN</td>\n",
       "      <td>3.6</td>\n",
       "    </tr>\n",
       "    <tr>\n",
       "      <th>2</th>\n",
       "      <td>14-02-2023</td>\n",
       "      <td>NaN</td>\n",
       "      <td>3.6</td>\n",
       "    </tr>\n",
       "    <tr>\n",
       "      <th>3</th>\n",
       "      <td>15-02-2023</td>\n",
       "      <td>NaN</td>\n",
       "      <td>39.8</td>\n",
       "    </tr>\n",
       "    <tr>\n",
       "      <th>4</th>\n",
       "      <td>16-02-2023</td>\n",
       "      <td>NaN</td>\n",
       "      <td>2.8</td>\n",
       "    </tr>\n",
       "  </tbody>\n",
       "</table>\n",
       "</div>"
      ],
      "text/plain": [
       "           Date  TempMax  Rainfall\n",
       "A 0  12-02-2023     24.3       NaN\n",
       "  1  13-02-2023     26.9       NaN\n",
       "  2  14-02-2023     23.4       NaN\n",
       "  3  15-02-2023     15.5       NaN\n",
       "  4  16-02-2023     16.1       NaN\n",
       "B 0  12-02-2023      NaN       0.0\n",
       "  1  13-02-2023      NaN       3.6\n",
       "  2  14-02-2023      NaN       3.6\n",
       "  3  15-02-2023      NaN      39.8\n",
       "  4  16-02-2023      NaN       2.8"
      ]
     },
     "execution_count": 126,
     "metadata": {},
     "output_type": "execute_result"
    }
   ],
   "source": [
    "final_concat = pd.concat([temp_data,rainfall_data],keys=(\"A\",\"B\"))\n",
    "final_concat"
   ]
  },
  {
   "cell_type": "code",
   "execution_count": 127,
   "id": "1584f01f",
   "metadata": {},
   "outputs": [
    {
     "data": {
      "text/plain": [
       "26.9"
      ]
     },
     "execution_count": 127,
     "metadata": {},
     "output_type": "execute_result"
    }
   ],
   "source": [
    "final_concat.loc[\"A\"][\"TempMax\"].max()"
   ]
  },
  {
   "cell_type": "code",
   "execution_count": 128,
   "id": "7de697af",
   "metadata": {},
   "outputs": [
    {
     "data": {
      "text/html": [
       "<div>\n",
       "<style scoped>\n",
       "    .dataframe tbody tr th:only-of-type {\n",
       "        vertical-align: middle;\n",
       "    }\n",
       "\n",
       "    .dataframe tbody tr th {\n",
       "        vertical-align: top;\n",
       "    }\n",
       "\n",
       "    .dataframe thead th {\n",
       "        text-align: right;\n",
       "    }\n",
       "</style>\n",
       "<table border=\"1\" class=\"dataframe\">\n",
       "  <thead>\n",
       "    <tr style=\"text-align: right;\">\n",
       "      <th></th>\n",
       "      <th></th>\n",
       "      <th>Date</th>\n",
       "      <th>TempMax</th>\n",
       "      <th>Rainfall</th>\n",
       "    </tr>\n",
       "  </thead>\n",
       "  <tbody>\n",
       "    <tr>\n",
       "      <th rowspan=\"5\" valign=\"top\">Chennai</th>\n",
       "      <th>0</th>\n",
       "      <td>12-02-2023</td>\n",
       "      <td>24.3</td>\n",
       "      <td>NaN</td>\n",
       "    </tr>\n",
       "    <tr>\n",
       "      <th>1</th>\n",
       "      <td>13-02-2023</td>\n",
       "      <td>26.9</td>\n",
       "      <td>NaN</td>\n",
       "    </tr>\n",
       "    <tr>\n",
       "      <th>2</th>\n",
       "      <td>14-02-2023</td>\n",
       "      <td>23.4</td>\n",
       "      <td>NaN</td>\n",
       "    </tr>\n",
       "    <tr>\n",
       "      <th>3</th>\n",
       "      <td>15-02-2023</td>\n",
       "      <td>15.5</td>\n",
       "      <td>NaN</td>\n",
       "    </tr>\n",
       "    <tr>\n",
       "      <th>4</th>\n",
       "      <td>16-02-2023</td>\n",
       "      <td>16.1</td>\n",
       "      <td>NaN</td>\n",
       "    </tr>\n",
       "    <tr>\n",
       "      <th rowspan=\"5\" valign=\"top\">Delhi</th>\n",
       "      <th>0</th>\n",
       "      <td>12-02-2023</td>\n",
       "      <td>NaN</td>\n",
       "      <td>0.0</td>\n",
       "    </tr>\n",
       "    <tr>\n",
       "      <th>1</th>\n",
       "      <td>13-02-2023</td>\n",
       "      <td>NaN</td>\n",
       "      <td>3.6</td>\n",
       "    </tr>\n",
       "    <tr>\n",
       "      <th>2</th>\n",
       "      <td>14-02-2023</td>\n",
       "      <td>NaN</td>\n",
       "      <td>3.6</td>\n",
       "    </tr>\n",
       "    <tr>\n",
       "      <th>3</th>\n",
       "      <td>15-02-2023</td>\n",
       "      <td>NaN</td>\n",
       "      <td>39.8</td>\n",
       "    </tr>\n",
       "    <tr>\n",
       "      <th>4</th>\n",
       "      <td>16-02-2023</td>\n",
       "      <td>NaN</td>\n",
       "      <td>2.8</td>\n",
       "    </tr>\n",
       "  </tbody>\n",
       "</table>\n",
       "</div>"
      ],
      "text/plain": [
       "                 Date  TempMax  Rainfall\n",
       "Chennai 0  12-02-2023     24.3       NaN\n",
       "        1  13-02-2023     26.9       NaN\n",
       "        2  14-02-2023     23.4       NaN\n",
       "        3  15-02-2023     15.5       NaN\n",
       "        4  16-02-2023     16.1       NaN\n",
       "Delhi   0  12-02-2023      NaN       0.0\n",
       "        1  13-02-2023      NaN       3.6\n",
       "        2  14-02-2023      NaN       3.6\n",
       "        3  15-02-2023      NaN      39.8\n",
       "        4  16-02-2023      NaN       2.8"
      ]
     },
     "execution_count": 128,
     "metadata": {},
     "output_type": "execute_result"
    }
   ],
   "source": [
    "final_concat = pd.concat([temp_data,rainfall_data],axis=0,keys=(\"Chennai\",\"Delhi\"))\n",
    "final_concat"
   ]
  },
  {
   "cell_type": "code",
   "execution_count": 129,
   "id": "a57afa88",
   "metadata": {},
   "outputs": [
    {
     "data": {
      "text/html": [
       "<div>\n",
       "<style scoped>\n",
       "    .dataframe tbody tr th:only-of-type {\n",
       "        vertical-align: middle;\n",
       "    }\n",
       "\n",
       "    .dataframe tbody tr th {\n",
       "        vertical-align: top;\n",
       "    }\n",
       "\n",
       "    .dataframe thead th {\n",
       "        text-align: right;\n",
       "    }\n",
       "</style>\n",
       "<table border=\"1\" class=\"dataframe\">\n",
       "  <thead>\n",
       "    <tr style=\"text-align: right;\">\n",
       "      <th></th>\n",
       "      <th>Date</th>\n",
       "      <th>TempMax</th>\n",
       "      <th>Rainfall</th>\n",
       "    </tr>\n",
       "  </thead>\n",
       "  <tbody>\n",
       "    <tr>\n",
       "      <th>0</th>\n",
       "      <td>12-02-2023</td>\n",
       "      <td>NaN</td>\n",
       "      <td>0.0</td>\n",
       "    </tr>\n",
       "    <tr>\n",
       "      <th>1</th>\n",
       "      <td>13-02-2023</td>\n",
       "      <td>NaN</td>\n",
       "      <td>3.6</td>\n",
       "    </tr>\n",
       "    <tr>\n",
       "      <th>2</th>\n",
       "      <td>14-02-2023</td>\n",
       "      <td>NaN</td>\n",
       "      <td>3.6</td>\n",
       "    </tr>\n",
       "    <tr>\n",
       "      <th>3</th>\n",
       "      <td>15-02-2023</td>\n",
       "      <td>NaN</td>\n",
       "      <td>39.8</td>\n",
       "    </tr>\n",
       "    <tr>\n",
       "      <th>4</th>\n",
       "      <td>16-02-2023</td>\n",
       "      <td>NaN</td>\n",
       "      <td>2.8</td>\n",
       "    </tr>\n",
       "  </tbody>\n",
       "</table>\n",
       "</div>"
      ],
      "text/plain": [
       "         Date  TempMax  Rainfall\n",
       "0  12-02-2023      NaN       0.0\n",
       "1  13-02-2023      NaN       3.6\n",
       "2  14-02-2023      NaN       3.6\n",
       "3  15-02-2023      NaN      39.8\n",
       "4  16-02-2023      NaN       2.8"
      ]
     },
     "execution_count": 129,
     "metadata": {},
     "output_type": "execute_result"
    }
   ],
   "source": [
    "final_concat.loc[\"Delhi\"]"
   ]
  },
  {
   "cell_type": "code",
   "execution_count": 130,
   "id": "60dc3217",
   "metadata": {},
   "outputs": [
    {
     "data": {
      "text/plain": [
       "16.1"
      ]
     },
     "execution_count": 130,
     "metadata": {},
     "output_type": "execute_result"
    }
   ],
   "source": [
    "final_concat.loc[\"Chennai\"][\"TempMax\"][4]"
   ]
  },
  {
   "cell_type": "code",
   "execution_count": 131,
   "id": "77b440c0",
   "metadata": {},
   "outputs": [
    {
     "data": {
      "text/html": [
       "<div>\n",
       "<style scoped>\n",
       "    .dataframe tbody tr th:only-of-type {\n",
       "        vertical-align: middle;\n",
       "    }\n",
       "\n",
       "    .dataframe tbody tr th {\n",
       "        vertical-align: top;\n",
       "    }\n",
       "\n",
       "    .dataframe thead tr th {\n",
       "        text-align: left;\n",
       "    }\n",
       "</style>\n",
       "<table border=\"1\" class=\"dataframe\">\n",
       "  <thead>\n",
       "    <tr>\n",
       "      <th></th>\n",
       "      <th colspan=\"2\" halign=\"left\">A</th>\n",
       "      <th colspan=\"2\" halign=\"left\">B</th>\n",
       "    </tr>\n",
       "    <tr>\n",
       "      <th></th>\n",
       "      <th>Date</th>\n",
       "      <th>TempMax</th>\n",
       "      <th>Date</th>\n",
       "      <th>Rainfall</th>\n",
       "    </tr>\n",
       "  </thead>\n",
       "  <tbody>\n",
       "    <tr>\n",
       "      <th>0</th>\n",
       "      <td>12-02-2023</td>\n",
       "      <td>24.3</td>\n",
       "      <td>12-02-2023</td>\n",
       "      <td>0.0</td>\n",
       "    </tr>\n",
       "    <tr>\n",
       "      <th>1</th>\n",
       "      <td>13-02-2023</td>\n",
       "      <td>26.9</td>\n",
       "      <td>13-02-2023</td>\n",
       "      <td>3.6</td>\n",
       "    </tr>\n",
       "    <tr>\n",
       "      <th>2</th>\n",
       "      <td>14-02-2023</td>\n",
       "      <td>23.4</td>\n",
       "      <td>14-02-2023</td>\n",
       "      <td>3.6</td>\n",
       "    </tr>\n",
       "    <tr>\n",
       "      <th>3</th>\n",
       "      <td>15-02-2023</td>\n",
       "      <td>15.5</td>\n",
       "      <td>15-02-2023</td>\n",
       "      <td>39.8</td>\n",
       "    </tr>\n",
       "    <tr>\n",
       "      <th>4</th>\n",
       "      <td>16-02-2023</td>\n",
       "      <td>16.1</td>\n",
       "      <td>16-02-2023</td>\n",
       "      <td>2.8</td>\n",
       "    </tr>\n",
       "  </tbody>\n",
       "</table>\n",
       "</div>"
      ],
      "text/plain": [
       "            A                   B         \n",
       "         Date TempMax        Date Rainfall\n",
       "0  12-02-2023    24.3  12-02-2023      0.0\n",
       "1  13-02-2023    26.9  13-02-2023      3.6\n",
       "2  14-02-2023    23.4  14-02-2023      3.6\n",
       "3  15-02-2023    15.5  15-02-2023     39.8\n",
       "4  16-02-2023    16.1  16-02-2023      2.8"
      ]
     },
     "execution_count": 131,
     "metadata": {},
     "output_type": "execute_result"
    }
   ],
   "source": [
    "final_concat = pd.concat([temp_data,rainfall_data],axis=1,keys=\"AB\")\n",
    "final_concat"
   ]
  },
  {
   "cell_type": "code",
   "execution_count": 132,
   "id": "caaf5244",
   "metadata": {},
   "outputs": [
    {
     "data": {
      "text/plain": [
       "26.9"
      ]
     },
     "execution_count": 132,
     "metadata": {},
     "output_type": "execute_result"
    }
   ],
   "source": [
    "final_concat[\"A\"][\"TempMax\"].max()"
   ]
  },
  {
   "cell_type": "code",
   "execution_count": 133,
   "id": "9973ba84",
   "metadata": {},
   "outputs": [],
   "source": [
    "data1 = {\n",
    "    \"Name\":[\"Alice\",\"Bob\",\"Charlie\"],\n",
    "    \"Age\":[25,30,35],\n",
    "    \"Score\":[85,90,88]\n",
    "}\n",
    "\n",
    "data2 = {\n",
    "    \"Name\":[\"David\",\"Eve\",\"Charlie\"],\n",
    "    \"Age\":[27,32,35],\n",
    "    \"Score\":[82,88,88],\n",
    "    \"Extra\":[100,100,100]\n",
    "}\n",
    "\n",
    "df1 = pd.DataFrame(data1)\n",
    "df2 = pd.DataFrame(data2)"
   ]
  },
  {
   "cell_type": "code",
   "execution_count": 134,
   "id": "85992b3b",
   "metadata": {},
   "outputs": [
    {
     "data": {
      "text/html": [
       "<div>\n",
       "<style scoped>\n",
       "    .dataframe tbody tr th:only-of-type {\n",
       "        vertical-align: middle;\n",
       "    }\n",
       "\n",
       "    .dataframe tbody tr th {\n",
       "        vertical-align: top;\n",
       "    }\n",
       "\n",
       "    .dataframe thead th {\n",
       "        text-align: right;\n",
       "    }\n",
       "</style>\n",
       "<table border=\"1\" class=\"dataframe\">\n",
       "  <thead>\n",
       "    <tr style=\"text-align: right;\">\n",
       "      <th></th>\n",
       "      <th>Name</th>\n",
       "      <th>Age</th>\n",
       "      <th>Score</th>\n",
       "    </tr>\n",
       "  </thead>\n",
       "  <tbody>\n",
       "    <tr>\n",
       "      <th>0</th>\n",
       "      <td>Alice</td>\n",
       "      <td>25</td>\n",
       "      <td>85</td>\n",
       "    </tr>\n",
       "    <tr>\n",
       "      <th>1</th>\n",
       "      <td>Bob</td>\n",
       "      <td>30</td>\n",
       "      <td>90</td>\n",
       "    </tr>\n",
       "    <tr>\n",
       "      <th>2</th>\n",
       "      <td>Charlie</td>\n",
       "      <td>35</td>\n",
       "      <td>88</td>\n",
       "    </tr>\n",
       "    <tr>\n",
       "      <th>3</th>\n",
       "      <td>David</td>\n",
       "      <td>27</td>\n",
       "      <td>82</td>\n",
       "    </tr>\n",
       "    <tr>\n",
       "      <th>4</th>\n",
       "      <td>Eve</td>\n",
       "      <td>32</td>\n",
       "      <td>88</td>\n",
       "    </tr>\n",
       "    <tr>\n",
       "      <th>5</th>\n",
       "      <td>Charlie</td>\n",
       "      <td>35</td>\n",
       "      <td>88</td>\n",
       "    </tr>\n",
       "  </tbody>\n",
       "</table>\n",
       "</div>"
      ],
      "text/plain": [
       "      Name  Age  Score\n",
       "0    Alice   25     85\n",
       "1      Bob   30     90\n",
       "2  Charlie   35     88\n",
       "3    David   27     82\n",
       "4      Eve   32     88\n",
       "5  Charlie   35     88"
      ]
     },
     "execution_count": 134,
     "metadata": {},
     "output_type": "execute_result"
    }
   ],
   "source": [
    "final_concat = pd.concat([df1,df2],axis=0,join=\"inner\",ignore_index=True)\n",
    "final_concat"
   ]
  },
  {
   "cell_type": "code",
   "execution_count": 135,
   "id": "25df21bc",
   "metadata": {},
   "outputs": [
    {
     "data": {
      "text/html": [
       "<div>\n",
       "<style scoped>\n",
       "    .dataframe tbody tr th:only-of-type {\n",
       "        vertical-align: middle;\n",
       "    }\n",
       "\n",
       "    .dataframe tbody tr th {\n",
       "        vertical-align: top;\n",
       "    }\n",
       "\n",
       "    .dataframe thead th {\n",
       "        text-align: right;\n",
       "    }\n",
       "</style>\n",
       "<table border=\"1\" class=\"dataframe\">\n",
       "  <thead>\n",
       "    <tr style=\"text-align: right;\">\n",
       "      <th></th>\n",
       "      <th>0</th>\n",
       "      <th>1</th>\n",
       "      <th>2</th>\n",
       "      <th>3</th>\n",
       "      <th>4</th>\n",
       "      <th>5</th>\n",
       "      <th>6</th>\n",
       "    </tr>\n",
       "  </thead>\n",
       "  <tbody>\n",
       "    <tr>\n",
       "      <th>0</th>\n",
       "      <td>Alice</td>\n",
       "      <td>25</td>\n",
       "      <td>85</td>\n",
       "      <td>David</td>\n",
       "      <td>27</td>\n",
       "      <td>82</td>\n",
       "      <td>100</td>\n",
       "    </tr>\n",
       "    <tr>\n",
       "      <th>1</th>\n",
       "      <td>Bob</td>\n",
       "      <td>30</td>\n",
       "      <td>90</td>\n",
       "      <td>Eve</td>\n",
       "      <td>32</td>\n",
       "      <td>88</td>\n",
       "      <td>100</td>\n",
       "    </tr>\n",
       "    <tr>\n",
       "      <th>2</th>\n",
       "      <td>Charlie</td>\n",
       "      <td>35</td>\n",
       "      <td>88</td>\n",
       "      <td>Charlie</td>\n",
       "      <td>35</td>\n",
       "      <td>88</td>\n",
       "      <td>100</td>\n",
       "    </tr>\n",
       "  </tbody>\n",
       "</table>\n",
       "</div>"
      ],
      "text/plain": [
       "         0   1   2        3   4   5    6\n",
       "0    Alice  25  85    David  27  82  100\n",
       "1      Bob  30  90      Eve  32  88  100\n",
       "2  Charlie  35  88  Charlie  35  88  100"
      ]
     },
     "execution_count": 135,
     "metadata": {},
     "output_type": "execute_result"
    }
   ],
   "source": [
    "final_concat = pd.concat([df1,df2],axis=1,join=\"inner\",ignore_index=True)\n",
    "final_concat"
   ]
  },
  {
   "cell_type": "code",
   "execution_count": 136,
   "id": "094a008e",
   "metadata": {},
   "outputs": [
    {
     "data": {
      "text/html": [
       "<div>\n",
       "<style scoped>\n",
       "    .dataframe tbody tr th:only-of-type {\n",
       "        vertical-align: middle;\n",
       "    }\n",
       "\n",
       "    .dataframe tbody tr th {\n",
       "        vertical-align: top;\n",
       "    }\n",
       "\n",
       "    .dataframe thead tr th {\n",
       "        text-align: left;\n",
       "    }\n",
       "</style>\n",
       "<table border=\"1\" class=\"dataframe\">\n",
       "  <thead>\n",
       "    <tr>\n",
       "      <th></th>\n",
       "      <th colspan=\"3\" halign=\"left\">A</th>\n",
       "      <th colspan=\"4\" halign=\"left\">B</th>\n",
       "    </tr>\n",
       "    <tr>\n",
       "      <th></th>\n",
       "      <th>Name</th>\n",
       "      <th>Age</th>\n",
       "      <th>Score</th>\n",
       "      <th>Name</th>\n",
       "      <th>Age</th>\n",
       "      <th>Score</th>\n",
       "      <th>Extra</th>\n",
       "    </tr>\n",
       "  </thead>\n",
       "  <tbody>\n",
       "    <tr>\n",
       "      <th>0</th>\n",
       "      <td>Alice</td>\n",
       "      <td>25</td>\n",
       "      <td>85</td>\n",
       "      <td>David</td>\n",
       "      <td>27</td>\n",
       "      <td>82</td>\n",
       "      <td>100</td>\n",
       "    </tr>\n",
       "    <tr>\n",
       "      <th>1</th>\n",
       "      <td>Bob</td>\n",
       "      <td>30</td>\n",
       "      <td>90</td>\n",
       "      <td>Eve</td>\n",
       "      <td>32</td>\n",
       "      <td>88</td>\n",
       "      <td>100</td>\n",
       "    </tr>\n",
       "    <tr>\n",
       "      <th>2</th>\n",
       "      <td>Charlie</td>\n",
       "      <td>35</td>\n",
       "      <td>88</td>\n",
       "      <td>Charlie</td>\n",
       "      <td>35</td>\n",
       "      <td>88</td>\n",
       "      <td>100</td>\n",
       "    </tr>\n",
       "  </tbody>\n",
       "</table>\n",
       "</div>"
      ],
      "text/plain": [
       "         A                  B                \n",
       "      Name Age Score     Name Age Score Extra\n",
       "0    Alice  25    85    David  27    82   100\n",
       "1      Bob  30    90      Eve  32    88   100\n",
       "2  Charlie  35    88  Charlie  35    88   100"
      ]
     },
     "execution_count": 136,
     "metadata": {},
     "output_type": "execute_result"
    }
   ],
   "source": [
    "final_concat = pd.concat([df1,df2],axis=1,keys=(\"A\",\"B\"))\n",
    "final_concat"
   ]
  },
  {
   "cell_type": "code",
   "execution_count": 137,
   "id": "c5df5ff4",
   "metadata": {},
   "outputs": [
    {
     "data": {
      "text/plain": [
       "85"
      ]
     },
     "execution_count": 137,
     "metadata": {},
     "output_type": "execute_result"
    }
   ],
   "source": [
    "final_concat[\"A\"][\"Score\"].min()"
   ]
  },
  {
   "cell_type": "code",
   "execution_count": 138,
   "id": "0f5af7f4",
   "metadata": {},
   "outputs": [
    {
     "data": {
      "text/plain": [
       "82"
      ]
     },
     "execution_count": 138,
     "metadata": {},
     "output_type": "execute_result"
    }
   ],
   "source": [
    "final_concat[\"B\"][\"Score\"].min()"
   ]
  },
  {
   "cell_type": "code",
   "execution_count": 139,
   "id": "24f62db3",
   "metadata": {},
   "outputs": [
    {
     "data": {
      "text/html": [
       "<div>\n",
       "<style scoped>\n",
       "    .dataframe tbody tr th:only-of-type {\n",
       "        vertical-align: middle;\n",
       "    }\n",
       "\n",
       "    .dataframe tbody tr th {\n",
       "        vertical-align: top;\n",
       "    }\n",
       "\n",
       "    .dataframe thead th {\n",
       "        text-align: right;\n",
       "    }\n",
       "</style>\n",
       "<table border=\"1\" class=\"dataframe\">\n",
       "  <thead>\n",
       "    <tr style=\"text-align: right;\">\n",
       "      <th></th>\n",
       "      <th>Name</th>\n",
       "      <th>Age</th>\n",
       "      <th>Score</th>\n",
       "    </tr>\n",
       "  </thead>\n",
       "  <tbody>\n",
       "    <tr>\n",
       "      <th>0</th>\n",
       "      <td>Alice</td>\n",
       "      <td>25</td>\n",
       "      <td>85</td>\n",
       "    </tr>\n",
       "    <tr>\n",
       "      <th>1</th>\n",
       "      <td>Bob</td>\n",
       "      <td>30</td>\n",
       "      <td>90</td>\n",
       "    </tr>\n",
       "    <tr>\n",
       "      <th>2</th>\n",
       "      <td>Charlie</td>\n",
       "      <td>35</td>\n",
       "      <td>88</td>\n",
       "    </tr>\n",
       "    <tr>\n",
       "      <th>0</th>\n",
       "      <td>David</td>\n",
       "      <td>27</td>\n",
       "      <td>82</td>\n",
       "    </tr>\n",
       "    <tr>\n",
       "      <th>1</th>\n",
       "      <td>Eve</td>\n",
       "      <td>32</td>\n",
       "      <td>88</td>\n",
       "    </tr>\n",
       "    <tr>\n",
       "      <th>2</th>\n",
       "      <td>Charlie</td>\n",
       "      <td>35</td>\n",
       "      <td>88</td>\n",
       "    </tr>\n",
       "  </tbody>\n",
       "</table>\n",
       "</div>"
      ],
      "text/plain": [
       "      Name  Age  Score\n",
       "0    Alice   25     85\n",
       "1      Bob   30     90\n",
       "2  Charlie   35     88\n",
       "0    David   27     82\n",
       "1      Eve   32     88\n",
       "2  Charlie   35     88"
      ]
     },
     "execution_count": 139,
     "metadata": {},
     "output_type": "execute_result"
    }
   ],
   "source": [
    "final_concat = pd.concat([df1,df2],axis=0,join=\"inner\")\n",
    "final_concat"
   ]
  },
  {
   "cell_type": "markdown",
   "id": "3d0db632",
   "metadata": {},
   "source": [
    "## Compare"
   ]
  },
  {
   "cell_type": "code",
   "execution_count": 140,
   "id": "45da691f",
   "metadata": {},
   "outputs": [
    {
     "data": {
      "text/html": [
       "<div>\n",
       "<style scoped>\n",
       "    .dataframe tbody tr th:only-of-type {\n",
       "        vertical-align: middle;\n",
       "    }\n",
       "\n",
       "    .dataframe tbody tr th {\n",
       "        vertical-align: top;\n",
       "    }\n",
       "\n",
       "    .dataframe thead th {\n",
       "        text-align: right;\n",
       "    }\n",
       "</style>\n",
       "<table border=\"1\" class=\"dataframe\">\n",
       "  <thead>\n",
       "    <tr style=\"text-align: right;\">\n",
       "      <th></th>\n",
       "      <th>col1</th>\n",
       "      <th>col2</th>\n",
       "      <th>col3</th>\n",
       "    </tr>\n",
       "  </thead>\n",
       "  <tbody>\n",
       "    <tr>\n",
       "      <th>0</th>\n",
       "      <td>a</td>\n",
       "      <td>1.0</td>\n",
       "      <td>1</td>\n",
       "    </tr>\n",
       "    <tr>\n",
       "      <th>1</th>\n",
       "      <td>a</td>\n",
       "      <td>2.0</td>\n",
       "      <td>2</td>\n",
       "    </tr>\n",
       "    <tr>\n",
       "      <th>2</th>\n",
       "      <td>b</td>\n",
       "      <td>3.0</td>\n",
       "      <td>3</td>\n",
       "    </tr>\n",
       "    <tr>\n",
       "      <th>3</th>\n",
       "      <td>b</td>\n",
       "      <td>NaN</td>\n",
       "      <td>4</td>\n",
       "    </tr>\n",
       "    <tr>\n",
       "      <th>4</th>\n",
       "      <td>a</td>\n",
       "      <td>5.0</td>\n",
       "      <td>5</td>\n",
       "    </tr>\n",
       "  </tbody>\n",
       "</table>\n",
       "</div>"
      ],
      "text/plain": [
       "  col1  col2  col3\n",
       "0    a   1.0     1\n",
       "1    a   2.0     2\n",
       "2    b   3.0     3\n",
       "3    b   NaN     4\n",
       "4    a   5.0     5"
      ]
     },
     "execution_count": 140,
     "metadata": {},
     "output_type": "execute_result"
    }
   ],
   "source": [
    "df = pd.DataFrame(\n",
    "    {\n",
    "    \"col1\":[\"a\",\"a\",\"b\",\"b\",\"a\"],\n",
    "    \"col2\":[1.0,2.0,3.0,np.nan,5],\n",
    "    \"col3\":[1,2,3,4,5]\n",
    "   },\n",
    "    columns=[\"col1\",\"col2\",\"col3\"]    \n",
    ")\n",
    "df"
   ]
  },
  {
   "cell_type": "code",
   "execution_count": 141,
   "id": "389cc6a0",
   "metadata": {},
   "outputs": [],
   "source": [
    "df2 = df.copy()"
   ]
  },
  {
   "cell_type": "code",
   "execution_count": 142,
   "id": "4ae58bf6",
   "metadata": {},
   "outputs": [
    {
     "data": {
      "text/html": [
       "<div>\n",
       "<style scoped>\n",
       "    .dataframe tbody tr th:only-of-type {\n",
       "        vertical-align: middle;\n",
       "    }\n",
       "\n",
       "    .dataframe tbody tr th {\n",
       "        vertical-align: top;\n",
       "    }\n",
       "\n",
       "    .dataframe thead tr th {\n",
       "        text-align: left;\n",
       "    }\n",
       "</style>\n",
       "<table border=\"1\" class=\"dataframe\">\n",
       "  <thead>\n",
       "  </thead>\n",
       "  <tbody>\n",
       "  </tbody>\n",
       "</table>\n",
       "</div>"
      ],
      "text/plain": [
       "Empty DataFrame\n",
       "Columns: []\n",
       "Index: []"
      ]
     },
     "execution_count": 142,
     "metadata": {},
     "output_type": "execute_result"
    }
   ],
   "source": [
    "df.compare(df2)"
   ]
  },
  {
   "cell_type": "code",
   "execution_count": 143,
   "id": "25a4fc2f",
   "metadata": {},
   "outputs": [
    {
     "data": {
      "text/html": [
       "<div>\n",
       "<style scoped>\n",
       "    .dataframe tbody tr th:only-of-type {\n",
       "        vertical-align: middle;\n",
       "    }\n",
       "\n",
       "    .dataframe tbody tr th {\n",
       "        vertical-align: top;\n",
       "    }\n",
       "\n",
       "    .dataframe thead th {\n",
       "        text-align: right;\n",
       "    }\n",
       "</style>\n",
       "<table border=\"1\" class=\"dataframe\">\n",
       "  <thead>\n",
       "    <tr style=\"text-align: right;\">\n",
       "      <th></th>\n",
       "      <th>col1</th>\n",
       "      <th>col2</th>\n",
       "      <th>col3</th>\n",
       "    </tr>\n",
       "  </thead>\n",
       "  <tbody>\n",
       "    <tr>\n",
       "      <th>0</th>\n",
       "      <td>c</td>\n",
       "      <td>1.0</td>\n",
       "      <td>1</td>\n",
       "    </tr>\n",
       "    <tr>\n",
       "      <th>1</th>\n",
       "      <td>a</td>\n",
       "      <td>2.0</td>\n",
       "      <td>2</td>\n",
       "    </tr>\n",
       "    <tr>\n",
       "      <th>2</th>\n",
       "      <td>b</td>\n",
       "      <td>3.0</td>\n",
       "      <td>4</td>\n",
       "    </tr>\n",
       "    <tr>\n",
       "      <th>3</th>\n",
       "      <td>b</td>\n",
       "      <td>NaN</td>\n",
       "      <td>4</td>\n",
       "    </tr>\n",
       "    <tr>\n",
       "      <th>4</th>\n",
       "      <td>a</td>\n",
       "      <td>5.0</td>\n",
       "      <td>5</td>\n",
       "    </tr>\n",
       "  </tbody>\n",
       "</table>\n",
       "</div>"
      ],
      "text/plain": [
       "  col1  col2  col3\n",
       "0    c   1.0     1\n",
       "1    a   2.0     2\n",
       "2    b   3.0     4\n",
       "3    b   NaN     4\n",
       "4    a   5.0     5"
      ]
     },
     "execution_count": 143,
     "metadata": {},
     "output_type": "execute_result"
    }
   ],
   "source": [
    "df2.loc[0,\"col1\"] = \"c\"\n",
    "df2.loc[2,\"col3\"] = 4\n",
    "df2"
   ]
  },
  {
   "cell_type": "code",
   "execution_count": 144,
   "id": "a9822a7f",
   "metadata": {},
   "outputs": [
    {
     "data": {
      "text/html": [
       "<div>\n",
       "<style scoped>\n",
       "    .dataframe tbody tr th:only-of-type {\n",
       "        vertical-align: middle;\n",
       "    }\n",
       "\n",
       "    .dataframe tbody tr th {\n",
       "        vertical-align: top;\n",
       "    }\n",
       "\n",
       "    .dataframe thead tr th {\n",
       "        text-align: left;\n",
       "    }\n",
       "</style>\n",
       "<table border=\"1\" class=\"dataframe\">\n",
       "  <thead>\n",
       "    <tr>\n",
       "      <th></th>\n",
       "      <th colspan=\"2\" halign=\"left\">col1</th>\n",
       "      <th colspan=\"2\" halign=\"left\">col3</th>\n",
       "    </tr>\n",
       "    <tr>\n",
       "      <th></th>\n",
       "      <th>self</th>\n",
       "      <th>other</th>\n",
       "      <th>self</th>\n",
       "      <th>other</th>\n",
       "    </tr>\n",
       "  </thead>\n",
       "  <tbody>\n",
       "    <tr>\n",
       "      <th>0</th>\n",
       "      <td>a</td>\n",
       "      <td>c</td>\n",
       "      <td>NaN</td>\n",
       "      <td>NaN</td>\n",
       "    </tr>\n",
       "    <tr>\n",
       "      <th>2</th>\n",
       "      <td>NaN</td>\n",
       "      <td>NaN</td>\n",
       "      <td>3.0</td>\n",
       "      <td>4.0</td>\n",
       "    </tr>\n",
       "  </tbody>\n",
       "</table>\n",
       "</div>"
      ],
      "text/plain": [
       "  col1       col3      \n",
       "  self other self other\n",
       "0    a     c  NaN   NaN\n",
       "2  NaN   NaN  3.0   4.0"
      ]
     },
     "execution_count": 144,
     "metadata": {},
     "output_type": "execute_result"
    }
   ],
   "source": [
    "df.compare(df2)  # Default align_axis = 1"
   ]
  },
  {
   "cell_type": "code",
   "execution_count": 145,
   "id": "123f139e",
   "metadata": {},
   "outputs": [
    {
     "data": {
      "text/html": [
       "<div>\n",
       "<style scoped>\n",
       "    .dataframe tbody tr th:only-of-type {\n",
       "        vertical-align: middle;\n",
       "    }\n",
       "\n",
       "    .dataframe tbody tr th {\n",
       "        vertical-align: top;\n",
       "    }\n",
       "\n",
       "    .dataframe thead th {\n",
       "        text-align: right;\n",
       "    }\n",
       "</style>\n",
       "<table border=\"1\" class=\"dataframe\">\n",
       "  <thead>\n",
       "    <tr style=\"text-align: right;\">\n",
       "      <th></th>\n",
       "      <th></th>\n",
       "      <th>col1</th>\n",
       "      <th>col3</th>\n",
       "    </tr>\n",
       "  </thead>\n",
       "  <tbody>\n",
       "    <tr>\n",
       "      <th rowspan=\"2\" valign=\"top\">0</th>\n",
       "      <th>self</th>\n",
       "      <td>a</td>\n",
       "      <td>NaN</td>\n",
       "    </tr>\n",
       "    <tr>\n",
       "      <th>other</th>\n",
       "      <td>c</td>\n",
       "      <td>NaN</td>\n",
       "    </tr>\n",
       "    <tr>\n",
       "      <th rowspan=\"2\" valign=\"top\">2</th>\n",
       "      <th>self</th>\n",
       "      <td>NaN</td>\n",
       "      <td>3.0</td>\n",
       "    </tr>\n",
       "    <tr>\n",
       "      <th>other</th>\n",
       "      <td>NaN</td>\n",
       "      <td>4.0</td>\n",
       "    </tr>\n",
       "  </tbody>\n",
       "</table>\n",
       "</div>"
      ],
      "text/plain": [
       "        col1  col3\n",
       "0 self     a   NaN\n",
       "  other    c   NaN\n",
       "2 self   NaN   3.0\n",
       "  other  NaN   4.0"
      ]
     },
     "execution_count": 145,
     "metadata": {},
     "output_type": "execute_result"
    }
   ],
   "source": [
    "df.compare(df2,align_axis = 0)"
   ]
  },
  {
   "cell_type": "code",
   "execution_count": 146,
   "id": "e9b4d1cd",
   "metadata": {},
   "outputs": [
    {
     "data": {
      "text/html": [
       "<div>\n",
       "<style scoped>\n",
       "    .dataframe tbody tr th:only-of-type {\n",
       "        vertical-align: middle;\n",
       "    }\n",
       "\n",
       "    .dataframe tbody tr th {\n",
       "        vertical-align: top;\n",
       "    }\n",
       "\n",
       "    .dataframe thead th {\n",
       "        text-align: right;\n",
       "    }\n",
       "</style>\n",
       "<table border=\"1\" class=\"dataframe\">\n",
       "  <thead>\n",
       "    <tr style=\"text-align: right;\">\n",
       "      <th></th>\n",
       "      <th>col1</th>\n",
       "      <th>col2</th>\n",
       "      <th>col3</th>\n",
       "    </tr>\n",
       "  </thead>\n",
       "  <tbody>\n",
       "    <tr>\n",
       "      <th>0</th>\n",
       "      <td>c</td>\n",
       "      <td>1.0</td>\n",
       "      <td>1</td>\n",
       "    </tr>\n",
       "    <tr>\n",
       "      <th>1</th>\n",
       "      <td>a</td>\n",
       "      <td>100.0</td>\n",
       "      <td>2</td>\n",
       "    </tr>\n",
       "    <tr>\n",
       "      <th>2</th>\n",
       "      <td>b</td>\n",
       "      <td>3.0</td>\n",
       "      <td>4</td>\n",
       "    </tr>\n",
       "    <tr>\n",
       "      <th>3</th>\n",
       "      <td>b</td>\n",
       "      <td>NaN</td>\n",
       "      <td>4</td>\n",
       "    </tr>\n",
       "    <tr>\n",
       "      <th>4</th>\n",
       "      <td>a</td>\n",
       "      <td>5.0</td>\n",
       "      <td>5</td>\n",
       "    </tr>\n",
       "  </tbody>\n",
       "</table>\n",
       "</div>"
      ],
      "text/plain": [
       "  col1   col2  col3\n",
       "0    c    1.0     1\n",
       "1    a  100.0     2\n",
       "2    b    3.0     4\n",
       "3    b    NaN     4\n",
       "4    a    5.0     5"
      ]
     },
     "execution_count": 146,
     "metadata": {},
     "output_type": "execute_result"
    }
   ],
   "source": [
    "df3 = df.copy()\n",
    "df3.loc[0,\"col1\"] = \"c\"\n",
    "df3.loc[1,\"col2\"] = 100\n",
    "df3.loc[2,\"col3\"] = 4\n",
    "df3"
   ]
  },
  {
   "cell_type": "code",
   "execution_count": 147,
   "id": "985751be",
   "metadata": {},
   "outputs": [
    {
     "data": {
      "text/html": [
       "<div>\n",
       "<style scoped>\n",
       "    .dataframe tbody tr th:only-of-type {\n",
       "        vertical-align: middle;\n",
       "    }\n",
       "\n",
       "    .dataframe tbody tr th {\n",
       "        vertical-align: top;\n",
       "    }\n",
       "\n",
       "    .dataframe thead tr th {\n",
       "        text-align: left;\n",
       "    }\n",
       "</style>\n",
       "<table border=\"1\" class=\"dataframe\">\n",
       "  <thead>\n",
       "    <tr>\n",
       "      <th></th>\n",
       "      <th colspan=\"2\" halign=\"left\">col1</th>\n",
       "      <th colspan=\"2\" halign=\"left\">col2</th>\n",
       "      <th colspan=\"2\" halign=\"left\">col3</th>\n",
       "    </tr>\n",
       "    <tr>\n",
       "      <th></th>\n",
       "      <th>self</th>\n",
       "      <th>other</th>\n",
       "      <th>self</th>\n",
       "      <th>other</th>\n",
       "      <th>self</th>\n",
       "      <th>other</th>\n",
       "    </tr>\n",
       "  </thead>\n",
       "  <tbody>\n",
       "    <tr>\n",
       "      <th>0</th>\n",
       "      <td>a</td>\n",
       "      <td>c</td>\n",
       "      <td>NaN</td>\n",
       "      <td>NaN</td>\n",
       "      <td>NaN</td>\n",
       "      <td>NaN</td>\n",
       "    </tr>\n",
       "    <tr>\n",
       "      <th>1</th>\n",
       "      <td>NaN</td>\n",
       "      <td>NaN</td>\n",
       "      <td>2.0</td>\n",
       "      <td>100.0</td>\n",
       "      <td>NaN</td>\n",
       "      <td>NaN</td>\n",
       "    </tr>\n",
       "    <tr>\n",
       "      <th>2</th>\n",
       "      <td>NaN</td>\n",
       "      <td>NaN</td>\n",
       "      <td>NaN</td>\n",
       "      <td>NaN</td>\n",
       "      <td>3.0</td>\n",
       "      <td>4.0</td>\n",
       "    </tr>\n",
       "  </tbody>\n",
       "</table>\n",
       "</div>"
      ],
      "text/plain": [
       "  col1       col2        col3      \n",
       "  self other self  other self other\n",
       "0    a     c  NaN    NaN  NaN   NaN\n",
       "1  NaN   NaN  2.0  100.0  NaN   NaN\n",
       "2  NaN   NaN  NaN    NaN  3.0   4.0"
      ]
     },
     "execution_count": 147,
     "metadata": {},
     "output_type": "execute_result"
    }
   ],
   "source": [
    "df.compare(df3)"
   ]
  },
  {
   "cell_type": "code",
   "execution_count": 148,
   "id": "40f8f271",
   "metadata": {},
   "outputs": [
    {
     "data": {
      "text/plain": [
       "True"
      ]
     },
     "execution_count": 148,
     "metadata": {},
     "output_type": "execute_result"
    }
   ],
   "source": [
    "df[\"col2\"].equals(df2[\"col2\"])"
   ]
  },
  {
   "cell_type": "code",
   "execution_count": 149,
   "id": "aa2f846e",
   "metadata": {},
   "outputs": [
    {
     "data": {
      "text/plain": [
       "0     True\n",
       "1     True\n",
       "2     True\n",
       "3    False\n",
       "4     True\n",
       "Name: col2, dtype: bool"
      ]
     },
     "execution_count": 149,
     "metadata": {},
     "output_type": "execute_result"
    }
   ],
   "source": [
    "output = pd.Series(df[\"col2\"] == df2[\"col2\"])\n",
    "output"
   ]
  },
  {
   "cell_type": "code",
   "execution_count": 150,
   "id": "1159897b",
   "metadata": {},
   "outputs": [
    {
     "data": {
      "text/html": [
       "<div>\n",
       "<style scoped>\n",
       "    .dataframe tbody tr th:only-of-type {\n",
       "        vertical-align: middle;\n",
       "    }\n",
       "\n",
       "    .dataframe tbody tr th {\n",
       "        vertical-align: top;\n",
       "    }\n",
       "\n",
       "    .dataframe thead th {\n",
       "        text-align: right;\n",
       "    }\n",
       "</style>\n",
       "<table border=\"1\" class=\"dataframe\">\n",
       "  <thead>\n",
       "    <tr style=\"text-align: right;\">\n",
       "      <th></th>\n",
       "      <th>col1</th>\n",
       "      <th>col2</th>\n",
       "      <th>col3</th>\n",
       "    </tr>\n",
       "  </thead>\n",
       "  <tbody>\n",
       "    <tr>\n",
       "      <th>0</th>\n",
       "      <td>a</td>\n",
       "      <td>1.0</td>\n",
       "      <td>1</td>\n",
       "    </tr>\n",
       "    <tr>\n",
       "      <th>1</th>\n",
       "      <td>a</td>\n",
       "      <td>2.0</td>\n",
       "      <td>2</td>\n",
       "    </tr>\n",
       "    <tr>\n",
       "      <th>2</th>\n",
       "      <td>b</td>\n",
       "      <td>3.0</td>\n",
       "      <td>3</td>\n",
       "    </tr>\n",
       "    <tr>\n",
       "      <th>4</th>\n",
       "      <td>a</td>\n",
       "      <td>5.0</td>\n",
       "      <td>5</td>\n",
       "    </tr>\n",
       "  </tbody>\n",
       "</table>\n",
       "</div>"
      ],
      "text/plain": [
       "  col1  col2  col3\n",
       "0    a   1.0     1\n",
       "1    a   2.0     2\n",
       "2    b   3.0     3\n",
       "4    a   5.0     5"
      ]
     },
     "execution_count": 150,
     "metadata": {},
     "output_type": "execute_result"
    }
   ],
   "source": [
    "df.loc[output]"
   ]
  },
  {
   "cell_type": "markdown",
   "id": "08791eae",
   "metadata": {},
   "source": [
    "## Pivot Table"
   ]
  },
  {
   "cell_type": "code",
   "execution_count": 151,
   "id": "3a97a17c",
   "metadata": {},
   "outputs": [
    {
     "data": {
      "text/html": [
       "<div>\n",
       "<style scoped>\n",
       "    .dataframe tbody tr th:only-of-type {\n",
       "        vertical-align: middle;\n",
       "    }\n",
       "\n",
       "    .dataframe tbody tr th {\n",
       "        vertical-align: top;\n",
       "    }\n",
       "\n",
       "    .dataframe thead th {\n",
       "        text-align: right;\n",
       "    }\n",
       "</style>\n",
       "<table border=\"1\" class=\"dataframe\">\n",
       "  <thead>\n",
       "    <tr style=\"text-align: right;\">\n",
       "      <th></th>\n",
       "      <th>Date</th>\n",
       "      <th>Category</th>\n",
       "      <th>Value</th>\n",
       "    </tr>\n",
       "  </thead>\n",
       "  <tbody>\n",
       "    <tr>\n",
       "      <th>0</th>\n",
       "      <td>2022-01-01</td>\n",
       "      <td>A</td>\n",
       "      <td>10</td>\n",
       "    </tr>\n",
       "    <tr>\n",
       "      <th>1</th>\n",
       "      <td>2022-01-01</td>\n",
       "      <td>B</td>\n",
       "      <td>20</td>\n",
       "    </tr>\n",
       "    <tr>\n",
       "      <th>2</th>\n",
       "      <td>2022-01-02</td>\n",
       "      <td>A</td>\n",
       "      <td>30</td>\n",
       "    </tr>\n",
       "    <tr>\n",
       "      <th>3</th>\n",
       "      <td>2022-01-02</td>\n",
       "      <td>B</td>\n",
       "      <td>40</td>\n",
       "    </tr>\n",
       "  </tbody>\n",
       "</table>\n",
       "</div>"
      ],
      "text/plain": [
       "         Date Category  Value\n",
       "0  2022-01-01        A     10\n",
       "1  2022-01-01        B     20\n",
       "2  2022-01-02        A     30\n",
       "3  2022-01-02        B     40"
      ]
     },
     "execution_count": 151,
     "metadata": {},
     "output_type": "execute_result"
    }
   ],
   "source": [
    "data = {\n",
    "    \"Date\" : [\"2022-01-01\",\"2022-01-01\",\"2022-01-02\",\"2022-01-02\"],\n",
    "    \"Category\" : [\"A\",\"B\",\"A\",\"B\"],\n",
    "    \"Value\" : [10,20,30,40]\n",
    "}\n",
    "\n",
    "df = pd.DataFrame(data)\n",
    "df"
   ]
  },
  {
   "cell_type": "code",
   "execution_count": 152,
   "id": "f14439ee",
   "metadata": {},
   "outputs": [
    {
     "data": {
      "text/html": [
       "<div>\n",
       "<style scoped>\n",
       "    .dataframe tbody tr th:only-of-type {\n",
       "        vertical-align: middle;\n",
       "    }\n",
       "\n",
       "    .dataframe tbody tr th {\n",
       "        vertical-align: top;\n",
       "    }\n",
       "\n",
       "    .dataframe thead th {\n",
       "        text-align: right;\n",
       "    }\n",
       "</style>\n",
       "<table border=\"1\" class=\"dataframe\">\n",
       "  <thead>\n",
       "    <tr style=\"text-align: right;\">\n",
       "      <th>Category</th>\n",
       "      <th>A</th>\n",
       "      <th>B</th>\n",
       "    </tr>\n",
       "    <tr>\n",
       "      <th>Date</th>\n",
       "      <th></th>\n",
       "      <th></th>\n",
       "    </tr>\n",
       "  </thead>\n",
       "  <tbody>\n",
       "    <tr>\n",
       "      <th>2022-01-01</th>\n",
       "      <td>10</td>\n",
       "      <td>20</td>\n",
       "    </tr>\n",
       "    <tr>\n",
       "      <th>2022-01-02</th>\n",
       "      <td>30</td>\n",
       "      <td>40</td>\n",
       "    </tr>\n",
       "  </tbody>\n",
       "</table>\n",
       "</div>"
      ],
      "text/plain": [
       "Category     A   B\n",
       "Date              \n",
       "2022-01-01  10  20\n",
       "2022-01-02  30  40"
      ]
     },
     "execution_count": 152,
     "metadata": {},
     "output_type": "execute_result"
    }
   ],
   "source": [
    "pivot_table = df.pivot_table(values=\"Value\",index=\"Date\",columns=\"Category\",aggfunc=\"sum\")\n",
    "pivot_table"
   ]
  },
  {
   "cell_type": "code",
   "execution_count": 153,
   "id": "284cef1f",
   "metadata": {},
   "outputs": [
    {
     "data": {
      "text/html": [
       "<div>\n",
       "<style scoped>\n",
       "    .dataframe tbody tr th:only-of-type {\n",
       "        vertical-align: middle;\n",
       "    }\n",
       "\n",
       "    .dataframe tbody tr th {\n",
       "        vertical-align: top;\n",
       "    }\n",
       "\n",
       "    .dataframe thead th {\n",
       "        text-align: right;\n",
       "    }\n",
       "</style>\n",
       "<table border=\"1\" class=\"dataframe\">\n",
       "  <thead>\n",
       "    <tr style=\"text-align: right;\">\n",
       "      <th></th>\n",
       "      <th></th>\n",
       "      <th>Value</th>\n",
       "    </tr>\n",
       "    <tr>\n",
       "      <th>Date</th>\n",
       "      <th>Category</th>\n",
       "      <th></th>\n",
       "    </tr>\n",
       "  </thead>\n",
       "  <tbody>\n",
       "    <tr>\n",
       "      <th rowspan=\"2\" valign=\"top\">2022-01-01</th>\n",
       "      <th>A</th>\n",
       "      <td>10</td>\n",
       "    </tr>\n",
       "    <tr>\n",
       "      <th>B</th>\n",
       "      <td>20</td>\n",
       "    </tr>\n",
       "    <tr>\n",
       "      <th rowspan=\"2\" valign=\"top\">2022-01-02</th>\n",
       "      <th>A</th>\n",
       "      <td>30</td>\n",
       "    </tr>\n",
       "    <tr>\n",
       "      <th>B</th>\n",
       "      <td>40</td>\n",
       "    </tr>\n",
       "  </tbody>\n",
       "</table>\n",
       "</div>"
      ],
      "text/plain": [
       "                     Value\n",
       "Date       Category       \n",
       "2022-01-01 A            10\n",
       "           B            20\n",
       "2022-01-02 A            30\n",
       "           B            40"
      ]
     },
     "execution_count": 153,
     "metadata": {},
     "output_type": "execute_result"
    }
   ],
   "source": [
    "pivot_table = df.pivot_table(values=\"Value\",index=[\"Date\",\"Category\"],aggfunc=\"sum\")\n",
    "pivot_table"
   ]
  },
  {
   "cell_type": "code",
   "execution_count": 154,
   "id": "02d610e4",
   "metadata": {},
   "outputs": [
    {
     "data": {
      "text/html": [
       "<div>\n",
       "<style scoped>\n",
       "    .dataframe tbody tr th:only-of-type {\n",
       "        vertical-align: middle;\n",
       "    }\n",
       "\n",
       "    .dataframe tbody tr th {\n",
       "        vertical-align: top;\n",
       "    }\n",
       "\n",
       "    .dataframe thead th {\n",
       "        text-align: right;\n",
       "    }\n",
       "</style>\n",
       "<table border=\"1\" class=\"dataframe\">\n",
       "  <thead>\n",
       "    <tr style=\"text-align: right;\">\n",
       "      <th></th>\n",
       "      <th>colA</th>\n",
       "      <th>colB</th>\n",
       "      <th>colC</th>\n",
       "      <th>colD</th>\n",
       "      <th>colE</th>\n",
       "      <th>orderID</th>\n",
       "      <th>product</th>\n",
       "      <th>customer</th>\n",
       "    </tr>\n",
       "  </thead>\n",
       "  <tbody>\n",
       "    <tr>\n",
       "      <th>0</th>\n",
       "      <td>41</td>\n",
       "      <td>96</td>\n",
       "      <td>68</td>\n",
       "      <td>69</td>\n",
       "      <td>51</td>\n",
       "      <td>B</td>\n",
       "      <td>Product2</td>\n",
       "      <td>Customer3</td>\n",
       "    </tr>\n",
       "    <tr>\n",
       "      <th>1</th>\n",
       "      <td>16</td>\n",
       "      <td>76</td>\n",
       "      <td>5</td>\n",
       "      <td>47</td>\n",
       "      <td>5</td>\n",
       "      <td>C</td>\n",
       "      <td>Product2</td>\n",
       "      <td>Customer1</td>\n",
       "    </tr>\n",
       "    <tr>\n",
       "      <th>2</th>\n",
       "      <td>73</td>\n",
       "      <td>86</td>\n",
       "      <td>43</td>\n",
       "      <td>71</td>\n",
       "      <td>91</td>\n",
       "      <td>B</td>\n",
       "      <td>Product2</td>\n",
       "      <td>Customer1</td>\n",
       "    </tr>\n",
       "    <tr>\n",
       "      <th>3</th>\n",
       "      <td>23</td>\n",
       "      <td>48</td>\n",
       "      <td>52</td>\n",
       "      <td>96</td>\n",
       "      <td>64</td>\n",
       "      <td>B</td>\n",
       "      <td>Product3</td>\n",
       "      <td>Customer3</td>\n",
       "    </tr>\n",
       "    <tr>\n",
       "      <th>4</th>\n",
       "      <td>44</td>\n",
       "      <td>64</td>\n",
       "      <td>39</td>\n",
       "      <td>84</td>\n",
       "      <td>80</td>\n",
       "      <td>A</td>\n",
       "      <td>Product1</td>\n",
       "      <td>Customer3</td>\n",
       "    </tr>\n",
       "    <tr>\n",
       "      <th>5</th>\n",
       "      <td>83</td>\n",
       "      <td>32</td>\n",
       "      <td>34</td>\n",
       "      <td>32</td>\n",
       "      <td>50</td>\n",
       "      <td>B</td>\n",
       "      <td>Product3</td>\n",
       "      <td>Customer1</td>\n",
       "    </tr>\n",
       "    <tr>\n",
       "      <th>6</th>\n",
       "      <td>76</td>\n",
       "      <td>91</td>\n",
       "      <td>59</td>\n",
       "      <td>67</td>\n",
       "      <td>40</td>\n",
       "      <td>C</td>\n",
       "      <td>Product3</td>\n",
       "      <td>Customer3</td>\n",
       "    </tr>\n",
       "    <tr>\n",
       "      <th>7</th>\n",
       "      <td>8</td>\n",
       "      <td>21</td>\n",
       "      <td>68</td>\n",
       "      <td>81</td>\n",
       "      <td>47</td>\n",
       "      <td>A</td>\n",
       "      <td>Product1</td>\n",
       "      <td>Customer1</td>\n",
       "    </tr>\n",
       "    <tr>\n",
       "      <th>8</th>\n",
       "      <td>35</td>\n",
       "      <td>38</td>\n",
       "      <td>70</td>\n",
       "      <td>53</td>\n",
       "      <td>9</td>\n",
       "      <td>C</td>\n",
       "      <td>Product1</td>\n",
       "      <td>Customer2</td>\n",
       "    </tr>\n",
       "    <tr>\n",
       "      <th>9</th>\n",
       "      <td>50</td>\n",
       "      <td>40</td>\n",
       "      <td>89</td>\n",
       "      <td>77</td>\n",
       "      <td>51</td>\n",
       "      <td>B</td>\n",
       "      <td>Product3</td>\n",
       "      <td>Customer3</td>\n",
       "    </tr>\n",
       "  </tbody>\n",
       "</table>\n",
       "</div>"
      ],
      "text/plain": [
       "   colA  colB  colC  colD  colE orderID   product   customer\n",
       "0    41    96    68    69    51       B  Product2  Customer3\n",
       "1    16    76     5    47     5       C  Product2  Customer1\n",
       "2    73    86    43    71    91       B  Product2  Customer1\n",
       "3    23    48    52    96    64       B  Product3  Customer3\n",
       "4    44    64    39    84    80       A  Product1  Customer3\n",
       "5    83    32    34    32    50       B  Product3  Customer1\n",
       "6    76    91    59    67    40       C  Product3  Customer3\n",
       "7     8    21    68    81    47       A  Product1  Customer1\n",
       "8    35    38    70    53     9       C  Product1  Customer2\n",
       "9    50    40    89    77    51       B  Product3  Customer3"
      ]
     },
     "execution_count": 154,
     "metadata": {},
     "output_type": "execute_result"
    }
   ],
   "source": [
    "data = {}\n",
    "np.random.seed(2)\n",
    "\n",
    "for i in [chr(x) for x in range(65,70)]:\n",
    "    data[\"col\" + i] = np.random.randint(1,100,10)\n",
    "data[\"orderID\"] = np.random.choice([\"A\",\"B\",\"C\"],10)\n",
    "data[\"product\"] = np.random.choice([\"Product1\",\"Product2\",\"Product3\"],10)\n",
    "data[\"customer\"] = np.random.choice([\"Customer1\",\"Customer2\",\"Customer3\",\"Customer4\"],10)\n",
    "\n",
    "df = pd.DataFrame(data)\n",
    "df"
   ]
  },
  {
   "cell_type": "code",
   "execution_count": 155,
   "id": "d348375d",
   "metadata": {},
   "outputs": [
    {
     "data": {
      "text/html": [
       "<div>\n",
       "<style scoped>\n",
       "    .dataframe tbody tr th:only-of-type {\n",
       "        vertical-align: middle;\n",
       "    }\n",
       "\n",
       "    .dataframe tbody tr th {\n",
       "        vertical-align: top;\n",
       "    }\n",
       "\n",
       "    .dataframe thead th {\n",
       "        text-align: right;\n",
       "    }\n",
       "</style>\n",
       "<table border=\"1\" class=\"dataframe\">\n",
       "  <thead>\n",
       "    <tr style=\"text-align: right;\">\n",
       "      <th>product</th>\n",
       "      <th>Product1</th>\n",
       "      <th>Product2</th>\n",
       "      <th>Product3</th>\n",
       "    </tr>\n",
       "    <tr>\n",
       "      <th>orderID</th>\n",
       "      <th></th>\n",
       "      <th></th>\n",
       "      <th></th>\n",
       "    </tr>\n",
       "  </thead>\n",
       "  <tbody>\n",
       "    <tr>\n",
       "      <th>A</th>\n",
       "      <td>44.0</td>\n",
       "      <td>NaN</td>\n",
       "      <td>NaN</td>\n",
       "    </tr>\n",
       "    <tr>\n",
       "      <th>B</th>\n",
       "      <td>NaN</td>\n",
       "      <td>73.0</td>\n",
       "      <td>83.0</td>\n",
       "    </tr>\n",
       "    <tr>\n",
       "      <th>C</th>\n",
       "      <td>35.0</td>\n",
       "      <td>16.0</td>\n",
       "      <td>76.0</td>\n",
       "    </tr>\n",
       "  </tbody>\n",
       "</table>\n",
       "</div>"
      ],
      "text/plain": [
       "product  Product1  Product2  Product3\n",
       "orderID                              \n",
       "A            44.0       NaN       NaN\n",
       "B             NaN      73.0      83.0\n",
       "C            35.0      16.0      76.0"
      ]
     },
     "execution_count": 155,
     "metadata": {},
     "output_type": "execute_result"
    }
   ],
   "source": [
    "pivot_table = df.pivot_table(values = \"colA\",index = \"orderID\",columns = \"product\",aggfunc = \"max\")\n",
    "pivot_table"
   ]
  },
  {
   "cell_type": "code",
   "execution_count": 156,
   "id": "4330e09b",
   "metadata": {},
   "outputs": [
    {
     "data": {
      "text/html": [
       "<div>\n",
       "<style scoped>\n",
       "    .dataframe tbody tr th:only-of-type {\n",
       "        vertical-align: middle;\n",
       "    }\n",
       "\n",
       "    .dataframe tbody tr th {\n",
       "        vertical-align: top;\n",
       "    }\n",
       "\n",
       "    .dataframe thead th {\n",
       "        text-align: right;\n",
       "    }\n",
       "</style>\n",
       "<table border=\"1\" class=\"dataframe\">\n",
       "  <thead>\n",
       "    <tr style=\"text-align: right;\">\n",
       "      <th></th>\n",
       "      <th>product</th>\n",
       "      <th>Product1</th>\n",
       "      <th>Product2</th>\n",
       "      <th>Product3</th>\n",
       "    </tr>\n",
       "    <tr>\n",
       "      <th>orderID</th>\n",
       "      <th>customer</th>\n",
       "      <th></th>\n",
       "      <th></th>\n",
       "      <th></th>\n",
       "    </tr>\n",
       "  </thead>\n",
       "  <tbody>\n",
       "    <tr>\n",
       "      <th rowspan=\"2\" valign=\"top\">A</th>\n",
       "      <th>Customer1</th>\n",
       "      <td>8.0</td>\n",
       "      <td>NaN</td>\n",
       "      <td>NaN</td>\n",
       "    </tr>\n",
       "    <tr>\n",
       "      <th>Customer3</th>\n",
       "      <td>44.0</td>\n",
       "      <td>NaN</td>\n",
       "      <td>NaN</td>\n",
       "    </tr>\n",
       "    <tr>\n",
       "      <th rowspan=\"2\" valign=\"top\">B</th>\n",
       "      <th>Customer1</th>\n",
       "      <td>NaN</td>\n",
       "      <td>73.0</td>\n",
       "      <td>83.0</td>\n",
       "    </tr>\n",
       "    <tr>\n",
       "      <th>Customer3</th>\n",
       "      <td>NaN</td>\n",
       "      <td>41.0</td>\n",
       "      <td>50.0</td>\n",
       "    </tr>\n",
       "    <tr>\n",
       "      <th rowspan=\"3\" valign=\"top\">C</th>\n",
       "      <th>Customer1</th>\n",
       "      <td>NaN</td>\n",
       "      <td>16.0</td>\n",
       "      <td>NaN</td>\n",
       "    </tr>\n",
       "    <tr>\n",
       "      <th>Customer2</th>\n",
       "      <td>35.0</td>\n",
       "      <td>NaN</td>\n",
       "      <td>NaN</td>\n",
       "    </tr>\n",
       "    <tr>\n",
       "      <th>Customer3</th>\n",
       "      <td>NaN</td>\n",
       "      <td>NaN</td>\n",
       "      <td>76.0</td>\n",
       "    </tr>\n",
       "  </tbody>\n",
       "</table>\n",
       "</div>"
      ],
      "text/plain": [
       "product            Product1  Product2  Product3\n",
       "orderID customer                               \n",
       "A       Customer1       8.0       NaN       NaN\n",
       "        Customer3      44.0       NaN       NaN\n",
       "B       Customer1       NaN      73.0      83.0\n",
       "        Customer3       NaN      41.0      50.0\n",
       "C       Customer1       NaN      16.0       NaN\n",
       "        Customer2      35.0       NaN       NaN\n",
       "        Customer3       NaN       NaN      76.0"
      ]
     },
     "execution_count": 156,
     "metadata": {},
     "output_type": "execute_result"
    }
   ],
   "source": [
    "pivot_table = df.pivot_table(values = \"colA\",index = [\"orderID\",\"customer\"],columns = \"product\",aggfunc = \"max\")\n",
    "pivot_table"
   ]
  },
  {
   "cell_type": "code",
   "execution_count": 157,
   "id": "b0a94607",
   "metadata": {},
   "outputs": [
    {
     "data": {
      "text/html": [
       "<div>\n",
       "<style scoped>\n",
       "    .dataframe tbody tr th:only-of-type {\n",
       "        vertical-align: middle;\n",
       "    }\n",
       "\n",
       "    .dataframe tbody tr th {\n",
       "        vertical-align: top;\n",
       "    }\n",
       "\n",
       "    .dataframe thead th {\n",
       "        text-align: right;\n",
       "    }\n",
       "</style>\n",
       "<table border=\"1\" class=\"dataframe\">\n",
       "  <thead>\n",
       "    <tr style=\"text-align: right;\">\n",
       "      <th>product</th>\n",
       "      <th>Product1</th>\n",
       "      <th>Product2</th>\n",
       "      <th>Product3</th>\n",
       "    </tr>\n",
       "    <tr>\n",
       "      <th>orderID</th>\n",
       "      <th></th>\n",
       "      <th></th>\n",
       "      <th></th>\n",
       "    </tr>\n",
       "  </thead>\n",
       "  <tbody>\n",
       "    <tr>\n",
       "      <th>A</th>\n",
       "      <td>44</td>\n",
       "      <td>0</td>\n",
       "      <td>0</td>\n",
       "    </tr>\n",
       "    <tr>\n",
       "      <th>B</th>\n",
       "      <td>0</td>\n",
       "      <td>73</td>\n",
       "      <td>83</td>\n",
       "    </tr>\n",
       "    <tr>\n",
       "      <th>C</th>\n",
       "      <td>35</td>\n",
       "      <td>16</td>\n",
       "      <td>76</td>\n",
       "    </tr>\n",
       "  </tbody>\n",
       "</table>\n",
       "</div>"
      ],
      "text/plain": [
       "product  Product1  Product2  Product3\n",
       "orderID                              \n",
       "A              44         0         0\n",
       "B               0        73        83\n",
       "C              35        16        76"
      ]
     },
     "execution_count": 157,
     "metadata": {},
     "output_type": "execute_result"
    }
   ],
   "source": [
    "pivot_table = df.pivot_table(values = \"colA\",index = \"orderID\",columns = \"product\",aggfunc = \"max\",fill_value=0)\n",
    "pivot_table"
   ]
  },
  {
   "cell_type": "code",
   "execution_count": 158,
   "id": "d338460e",
   "metadata": {},
   "outputs": [
    {
     "data": {
      "text/html": [
       "<div>\n",
       "<style scoped>\n",
       "    .dataframe tbody tr th:only-of-type {\n",
       "        vertical-align: middle;\n",
       "    }\n",
       "\n",
       "    .dataframe tbody tr th {\n",
       "        vertical-align: top;\n",
       "    }\n",
       "\n",
       "    .dataframe thead th {\n",
       "        text-align: right;\n",
       "    }\n",
       "</style>\n",
       "<table border=\"1\" class=\"dataframe\">\n",
       "  <thead>\n",
       "    <tr style=\"text-align: right;\">\n",
       "      <th>product</th>\n",
       "      <th>Product1</th>\n",
       "      <th>Product2</th>\n",
       "      <th>Product3</th>\n",
       "    </tr>\n",
       "    <tr>\n",
       "      <th>orderID</th>\n",
       "      <th></th>\n",
       "      <th></th>\n",
       "      <th></th>\n",
       "    </tr>\n",
       "  </thead>\n",
       "  <tbody>\n",
       "    <tr>\n",
       "      <th>A</th>\n",
       "      <td>26.0</td>\n",
       "      <td>0.0</td>\n",
       "      <td>0.0</td>\n",
       "    </tr>\n",
       "    <tr>\n",
       "      <th>B</th>\n",
       "      <td>0.0</td>\n",
       "      <td>57.0</td>\n",
       "      <td>52.0</td>\n",
       "    </tr>\n",
       "    <tr>\n",
       "      <th>C</th>\n",
       "      <td>35.0</td>\n",
       "      <td>16.0</td>\n",
       "      <td>76.0</td>\n",
       "    </tr>\n",
       "  </tbody>\n",
       "</table>\n",
       "</div>"
      ],
      "text/plain": [
       "product  Product1  Product2  Product3\n",
       "orderID                              \n",
       "A            26.0       0.0       0.0\n",
       "B             0.0      57.0      52.0\n",
       "C            35.0      16.0      76.0"
      ]
     },
     "execution_count": 158,
     "metadata": {},
     "output_type": "execute_result"
    }
   ],
   "source": [
    "pivot_table = df.pivot_table(values = \"colA\",index = \"orderID\",columns = \"product\",aggfunc = \"mean\",fill_value = 0)\n",
    "pivot_table"
   ]
  },
  {
   "cell_type": "code",
   "execution_count": 159,
   "id": "f4fc0b69",
   "metadata": {},
   "outputs": [
    {
     "data": {
      "text/html": [
       "<div>\n",
       "<style scoped>\n",
       "    .dataframe tbody tr th:only-of-type {\n",
       "        vertical-align: middle;\n",
       "    }\n",
       "\n",
       "    .dataframe tbody tr th {\n",
       "        vertical-align: top;\n",
       "    }\n",
       "\n",
       "    .dataframe thead th {\n",
       "        text-align: right;\n",
       "    }\n",
       "</style>\n",
       "<table border=\"1\" class=\"dataframe\">\n",
       "  <thead>\n",
       "    <tr style=\"text-align: right;\">\n",
       "      <th></th>\n",
       "      <th>product</th>\n",
       "      <th>Product1</th>\n",
       "      <th>Product2</th>\n",
       "      <th>Product3</th>\n",
       "    </tr>\n",
       "    <tr>\n",
       "      <th>orderID</th>\n",
       "      <th>customer</th>\n",
       "      <th></th>\n",
       "      <th></th>\n",
       "      <th></th>\n",
       "    </tr>\n",
       "  </thead>\n",
       "  <tbody>\n",
       "    <tr>\n",
       "      <th rowspan=\"2\" valign=\"top\">A</th>\n",
       "      <th>Customer1</th>\n",
       "      <td>8</td>\n",
       "      <td>0</td>\n",
       "      <td>0</td>\n",
       "    </tr>\n",
       "    <tr>\n",
       "      <th>Customer3</th>\n",
       "      <td>44</td>\n",
       "      <td>0</td>\n",
       "      <td>0</td>\n",
       "    </tr>\n",
       "    <tr>\n",
       "      <th rowspan=\"2\" valign=\"top\">B</th>\n",
       "      <th>Customer1</th>\n",
       "      <td>0</td>\n",
       "      <td>73</td>\n",
       "      <td>83</td>\n",
       "    </tr>\n",
       "    <tr>\n",
       "      <th>Customer3</th>\n",
       "      <td>0</td>\n",
       "      <td>41</td>\n",
       "      <td>50</td>\n",
       "    </tr>\n",
       "    <tr>\n",
       "      <th rowspan=\"3\" valign=\"top\">C</th>\n",
       "      <th>Customer1</th>\n",
       "      <td>0</td>\n",
       "      <td>16</td>\n",
       "      <td>0</td>\n",
       "    </tr>\n",
       "    <tr>\n",
       "      <th>Customer2</th>\n",
       "      <td>35</td>\n",
       "      <td>0</td>\n",
       "      <td>0</td>\n",
       "    </tr>\n",
       "    <tr>\n",
       "      <th>Customer3</th>\n",
       "      <td>0</td>\n",
       "      <td>0</td>\n",
       "      <td>76</td>\n",
       "    </tr>\n",
       "  </tbody>\n",
       "</table>\n",
       "</div>"
      ],
      "text/plain": [
       "product            Product1  Product2  Product3\n",
       "orderID customer                               \n",
       "A       Customer1         8         0         0\n",
       "        Customer3        44         0         0\n",
       "B       Customer1         0        73        83\n",
       "        Customer3         0        41        50\n",
       "C       Customer1         0        16         0\n",
       "        Customer2        35         0         0\n",
       "        Customer3         0         0        76"
      ]
     },
     "execution_count": 159,
     "metadata": {},
     "output_type": "execute_result"
    }
   ],
   "source": [
    "pivot_table = df.pivot_table(values = \"colA\",index = [\"orderID\",\"customer\"],columns = \"product\",aggfunc = \"max\",fill_value = 0)\n",
    "pivot_table"
   ]
  },
  {
   "cell_type": "markdown",
   "id": "1adc4926",
   "metadata": {},
   "source": [
    "## Merge and Join"
   ]
  },
  {
   "cell_type": "code",
   "execution_count": 160,
   "id": "f2b79e96",
   "metadata": {},
   "outputs": [
    {
     "data": {
      "text/html": [
       "<div>\n",
       "<style scoped>\n",
       "    .dataframe tbody tr th:only-of-type {\n",
       "        vertical-align: middle;\n",
       "    }\n",
       "\n",
       "    .dataframe tbody tr th {\n",
       "        vertical-align: top;\n",
       "    }\n",
       "\n",
       "    .dataframe thead th {\n",
       "        text-align: right;\n",
       "    }\n",
       "</style>\n",
       "<table border=\"1\" class=\"dataframe\">\n",
       "  <thead>\n",
       "    <tr style=\"text-align: right;\">\n",
       "      <th></th>\n",
       "      <th>ID</th>\n",
       "      <th>Numbers</th>\n",
       "      <th>Letters</th>\n",
       "    </tr>\n",
       "  </thead>\n",
       "  <tbody>\n",
       "    <tr>\n",
       "      <th>0</th>\n",
       "      <td>10001</td>\n",
       "      <td>10</td>\n",
       "      <td>A</td>\n",
       "    </tr>\n",
       "    <tr>\n",
       "      <th>1</th>\n",
       "      <td>20002</td>\n",
       "      <td>20</td>\n",
       "      <td>B</td>\n",
       "    </tr>\n",
       "    <tr>\n",
       "      <th>2</th>\n",
       "      <td>30003</td>\n",
       "      <td>20</td>\n",
       "      <td>C</td>\n",
       "    </tr>\n",
       "    <tr>\n",
       "      <th>3</th>\n",
       "      <td>40004</td>\n",
       "      <td>40</td>\n",
       "      <td>D</td>\n",
       "    </tr>\n",
       "    <tr>\n",
       "      <th>4</th>\n",
       "      <td>50005</td>\n",
       "      <td>50</td>\n",
       "      <td>E</td>\n",
       "    </tr>\n",
       "  </tbody>\n",
       "</table>\n",
       "</div>"
      ],
      "text/plain": [
       "      ID  Numbers Letters\n",
       "0  10001       10       A\n",
       "1  20002       20       B\n",
       "2  30003       20       C\n",
       "3  40004       40       D\n",
       "4  50005       50       E"
      ]
     },
     "execution_count": 160,
     "metadata": {},
     "output_type": "execute_result"
    }
   ],
   "source": [
    "data1 = {\n",
    "    \"ID\":[10001,20002,30003,40004,50005],\n",
    "    \"Numbers\":[10,20,20,40,50],\n",
    "    \"Letters\":[\"A\",\"B\",\"C\",\"D\",\"E\"]\n",
    "}\n",
    "\n",
    "df1 = pd.DataFrame(data1)\n",
    "df1"
   ]
  },
  {
   "cell_type": "code",
   "execution_count": 161,
   "id": "9956c87b",
   "metadata": {},
   "outputs": [
    {
     "data": {
      "text/html": [
       "<div>\n",
       "<style scoped>\n",
       "    .dataframe tbody tr th:only-of-type {\n",
       "        vertical-align: middle;\n",
       "    }\n",
       "\n",
       "    .dataframe tbody tr th {\n",
       "        vertical-align: top;\n",
       "    }\n",
       "\n",
       "    .dataframe thead th {\n",
       "        text-align: right;\n",
       "    }\n",
       "</style>\n",
       "<table border=\"1\" class=\"dataframe\">\n",
       "  <thead>\n",
       "    <tr style=\"text-align: right;\">\n",
       "      <th></th>\n",
       "      <th>ID</th>\n",
       "      <th>Numbers</th>\n",
       "      <th>City</th>\n",
       "    </tr>\n",
       "  </thead>\n",
       "  <tbody>\n",
       "    <tr>\n",
       "      <th>0</th>\n",
       "      <td>10001</td>\n",
       "      <td>10</td>\n",
       "      <td>Lucknow</td>\n",
       "    </tr>\n",
       "    <tr>\n",
       "      <th>1</th>\n",
       "      <td>20002</td>\n",
       "      <td>20</td>\n",
       "      <td>Munnar</td>\n",
       "    </tr>\n",
       "    <tr>\n",
       "      <th>2</th>\n",
       "      <td>30003</td>\n",
       "      <td>30</td>\n",
       "      <td>Chennai</td>\n",
       "    </tr>\n",
       "    <tr>\n",
       "      <th>3</th>\n",
       "      <td>60006</td>\n",
       "      <td>40</td>\n",
       "      <td>Delhi</td>\n",
       "    </tr>\n",
       "    <tr>\n",
       "      <th>4</th>\n",
       "      <td>70007</td>\n",
       "      <td>60</td>\n",
       "      <td>Jaipur</td>\n",
       "    </tr>\n",
       "  </tbody>\n",
       "</table>\n",
       "</div>"
      ],
      "text/plain": [
       "      ID  Numbers     City\n",
       "0  10001       10  Lucknow\n",
       "1  20002       20   Munnar\n",
       "2  30003       30  Chennai\n",
       "3  60006       40    Delhi\n",
       "4  70007       60   Jaipur"
      ]
     },
     "execution_count": 161,
     "metadata": {},
     "output_type": "execute_result"
    }
   ],
   "source": [
    "data2 = {\n",
    "    \"ID\":[10001,20002,30003,60006,70007],\n",
    "    \"Numbers\":[10,20,30,40,60],\n",
    "    \"City\":[\"Lucknow\",\"Munnar\",\"Chennai\",\"Delhi\",\"Jaipur\"]\n",
    "}\n",
    "\n",
    "df2 = pd.DataFrame(data2)\n",
    "df2"
   ]
  },
  {
   "cell_type": "code",
   "execution_count": 162,
   "id": "546fbf55",
   "metadata": {},
   "outputs": [
    {
     "data": {
      "text/html": [
       "<div>\n",
       "<style scoped>\n",
       "    .dataframe tbody tr th:only-of-type {\n",
       "        vertical-align: middle;\n",
       "    }\n",
       "\n",
       "    .dataframe tbody tr th {\n",
       "        vertical-align: top;\n",
       "    }\n",
       "\n",
       "    .dataframe thead th {\n",
       "        text-align: right;\n",
       "    }\n",
       "</style>\n",
       "<table border=\"1\" class=\"dataframe\">\n",
       "  <thead>\n",
       "    <tr style=\"text-align: right;\">\n",
       "      <th></th>\n",
       "      <th>ID</th>\n",
       "      <th>Numbers</th>\n",
       "      <th>Letters</th>\n",
       "      <th>City</th>\n",
       "    </tr>\n",
       "  </thead>\n",
       "  <tbody>\n",
       "    <tr>\n",
       "      <th>0</th>\n",
       "      <td>10001</td>\n",
       "      <td>10</td>\n",
       "      <td>A</td>\n",
       "      <td>Lucknow</td>\n",
       "    </tr>\n",
       "    <tr>\n",
       "      <th>1</th>\n",
       "      <td>20002</td>\n",
       "      <td>20</td>\n",
       "      <td>B</td>\n",
       "      <td>Munnar</td>\n",
       "    </tr>\n",
       "  </tbody>\n",
       "</table>\n",
       "</div>"
      ],
      "text/plain": [
       "      ID  Numbers Letters     City\n",
       "0  10001       10       A  Lucknow\n",
       "1  20002       20       B   Munnar"
      ]
     },
     "execution_count": 162,
     "metadata": {},
     "output_type": "execute_result"
    }
   ],
   "source": [
    "merge_data1 = df1.merge(df2,how=\"inner\")\n",
    "merge_data1"
   ]
  },
  {
   "cell_type": "code",
   "execution_count": 163,
   "id": "66d54d97",
   "metadata": {},
   "outputs": [
    {
     "data": {
      "text/html": [
       "<div>\n",
       "<style scoped>\n",
       "    .dataframe tbody tr th:only-of-type {\n",
       "        vertical-align: middle;\n",
       "    }\n",
       "\n",
       "    .dataframe tbody tr th {\n",
       "        vertical-align: top;\n",
       "    }\n",
       "\n",
       "    .dataframe thead th {\n",
       "        text-align: right;\n",
       "    }\n",
       "</style>\n",
       "<table border=\"1\" class=\"dataframe\">\n",
       "  <thead>\n",
       "    <tr style=\"text-align: right;\">\n",
       "      <th></th>\n",
       "      <th>ID</th>\n",
       "      <th>Numbers_x</th>\n",
       "      <th>Letters</th>\n",
       "      <th>Numbers_y</th>\n",
       "      <th>City</th>\n",
       "    </tr>\n",
       "  </thead>\n",
       "  <tbody>\n",
       "    <tr>\n",
       "      <th>0</th>\n",
       "      <td>10001</td>\n",
       "      <td>10</td>\n",
       "      <td>A</td>\n",
       "      <td>10</td>\n",
       "      <td>Lucknow</td>\n",
       "    </tr>\n",
       "    <tr>\n",
       "      <th>1</th>\n",
       "      <td>20002</td>\n",
       "      <td>20</td>\n",
       "      <td>B</td>\n",
       "      <td>20</td>\n",
       "      <td>Munnar</td>\n",
       "    </tr>\n",
       "    <tr>\n",
       "      <th>2</th>\n",
       "      <td>30003</td>\n",
       "      <td>20</td>\n",
       "      <td>C</td>\n",
       "      <td>30</td>\n",
       "      <td>Chennai</td>\n",
       "    </tr>\n",
       "  </tbody>\n",
       "</table>\n",
       "</div>"
      ],
      "text/plain": [
       "      ID  Numbers_x Letters  Numbers_y     City\n",
       "0  10001         10       A         10  Lucknow\n",
       "1  20002         20       B         20   Munnar\n",
       "2  30003         20       C         30  Chennai"
      ]
     },
     "execution_count": 163,
     "metadata": {},
     "output_type": "execute_result"
    }
   ],
   "source": [
    "merge_data2 = df1.merge(df2,how=\"inner\",on=\"ID\")\n",
    "merge_data2"
   ]
  },
  {
   "cell_type": "code",
   "execution_count": 164,
   "id": "a189d874",
   "metadata": {},
   "outputs": [
    {
     "data": {
      "text/html": [
       "<div>\n",
       "<style scoped>\n",
       "    .dataframe tbody tr th:only-of-type {\n",
       "        vertical-align: middle;\n",
       "    }\n",
       "\n",
       "    .dataframe tbody tr th {\n",
       "        vertical-align: top;\n",
       "    }\n",
       "\n",
       "    .dataframe thead th {\n",
       "        text-align: right;\n",
       "    }\n",
       "</style>\n",
       "<table border=\"1\" class=\"dataframe\">\n",
       "  <thead>\n",
       "    <tr style=\"text-align: right;\">\n",
       "      <th></th>\n",
       "      <th>ID</th>\n",
       "      <th>Numbers</th>\n",
       "      <th>Letters</th>\n",
       "      <th>City</th>\n",
       "    </tr>\n",
       "  </thead>\n",
       "  <tbody>\n",
       "    <tr>\n",
       "      <th>0</th>\n",
       "      <td>10001</td>\n",
       "      <td>10</td>\n",
       "      <td>A</td>\n",
       "      <td>Lucknow</td>\n",
       "    </tr>\n",
       "    <tr>\n",
       "      <th>1</th>\n",
       "      <td>20002</td>\n",
       "      <td>20</td>\n",
       "      <td>B</td>\n",
       "      <td>Munnar</td>\n",
       "    </tr>\n",
       "    <tr>\n",
       "      <th>2</th>\n",
       "      <td>30003</td>\n",
       "      <td>20</td>\n",
       "      <td>C</td>\n",
       "      <td>NaN</td>\n",
       "    </tr>\n",
       "    <tr>\n",
       "      <th>3</th>\n",
       "      <td>30003</td>\n",
       "      <td>30</td>\n",
       "      <td>NaN</td>\n",
       "      <td>Chennai</td>\n",
       "    </tr>\n",
       "    <tr>\n",
       "      <th>4</th>\n",
       "      <td>40004</td>\n",
       "      <td>40</td>\n",
       "      <td>D</td>\n",
       "      <td>NaN</td>\n",
       "    </tr>\n",
       "    <tr>\n",
       "      <th>5</th>\n",
       "      <td>50005</td>\n",
       "      <td>50</td>\n",
       "      <td>E</td>\n",
       "      <td>NaN</td>\n",
       "    </tr>\n",
       "    <tr>\n",
       "      <th>6</th>\n",
       "      <td>60006</td>\n",
       "      <td>40</td>\n",
       "      <td>NaN</td>\n",
       "      <td>Delhi</td>\n",
       "    </tr>\n",
       "    <tr>\n",
       "      <th>7</th>\n",
       "      <td>70007</td>\n",
       "      <td>60</td>\n",
       "      <td>NaN</td>\n",
       "      <td>Jaipur</td>\n",
       "    </tr>\n",
       "  </tbody>\n",
       "</table>\n",
       "</div>"
      ],
      "text/plain": [
       "      ID  Numbers Letters     City\n",
       "0  10001       10       A  Lucknow\n",
       "1  20002       20       B   Munnar\n",
       "2  30003       20       C      NaN\n",
       "3  30003       30     NaN  Chennai\n",
       "4  40004       40       D      NaN\n",
       "5  50005       50       E      NaN\n",
       "6  60006       40     NaN    Delhi\n",
       "7  70007       60     NaN   Jaipur"
      ]
     },
     "execution_count": 164,
     "metadata": {},
     "output_type": "execute_result"
    }
   ],
   "source": [
    "merge_data3 = df1.merge(df2,how=\"outer\")\n",
    "merge_data3"
   ]
  },
  {
   "cell_type": "code",
   "execution_count": 165,
   "id": "3b7c792b",
   "metadata": {},
   "outputs": [
    {
     "data": {
      "text/html": [
       "<div>\n",
       "<style scoped>\n",
       "    .dataframe tbody tr th:only-of-type {\n",
       "        vertical-align: middle;\n",
       "    }\n",
       "\n",
       "    .dataframe tbody tr th {\n",
       "        vertical-align: top;\n",
       "    }\n",
       "\n",
       "    .dataframe thead th {\n",
       "        text-align: right;\n",
       "    }\n",
       "</style>\n",
       "<table border=\"1\" class=\"dataframe\">\n",
       "  <thead>\n",
       "    <tr style=\"text-align: right;\">\n",
       "      <th></th>\n",
       "      <th>ID</th>\n",
       "      <th>Numbers_x</th>\n",
       "      <th>Letters</th>\n",
       "      <th>Numbers_y</th>\n",
       "      <th>City</th>\n",
       "    </tr>\n",
       "  </thead>\n",
       "  <tbody>\n",
       "    <tr>\n",
       "      <th>0</th>\n",
       "      <td>10001</td>\n",
       "      <td>10.0</td>\n",
       "      <td>A</td>\n",
       "      <td>10.0</td>\n",
       "      <td>Lucknow</td>\n",
       "    </tr>\n",
       "    <tr>\n",
       "      <th>1</th>\n",
       "      <td>20002</td>\n",
       "      <td>20.0</td>\n",
       "      <td>B</td>\n",
       "      <td>20.0</td>\n",
       "      <td>Munnar</td>\n",
       "    </tr>\n",
       "    <tr>\n",
       "      <th>2</th>\n",
       "      <td>30003</td>\n",
       "      <td>20.0</td>\n",
       "      <td>C</td>\n",
       "      <td>30.0</td>\n",
       "      <td>Chennai</td>\n",
       "    </tr>\n",
       "    <tr>\n",
       "      <th>3</th>\n",
       "      <td>40004</td>\n",
       "      <td>40.0</td>\n",
       "      <td>D</td>\n",
       "      <td>NaN</td>\n",
       "      <td>NaN</td>\n",
       "    </tr>\n",
       "    <tr>\n",
       "      <th>4</th>\n",
       "      <td>50005</td>\n",
       "      <td>50.0</td>\n",
       "      <td>E</td>\n",
       "      <td>NaN</td>\n",
       "      <td>NaN</td>\n",
       "    </tr>\n",
       "    <tr>\n",
       "      <th>5</th>\n",
       "      <td>60006</td>\n",
       "      <td>NaN</td>\n",
       "      <td>NaN</td>\n",
       "      <td>40.0</td>\n",
       "      <td>Delhi</td>\n",
       "    </tr>\n",
       "    <tr>\n",
       "      <th>6</th>\n",
       "      <td>70007</td>\n",
       "      <td>NaN</td>\n",
       "      <td>NaN</td>\n",
       "      <td>60.0</td>\n",
       "      <td>Jaipur</td>\n",
       "    </tr>\n",
       "  </tbody>\n",
       "</table>\n",
       "</div>"
      ],
      "text/plain": [
       "      ID  Numbers_x Letters  Numbers_y     City\n",
       "0  10001       10.0       A       10.0  Lucknow\n",
       "1  20002       20.0       B       20.0   Munnar\n",
       "2  30003       20.0       C       30.0  Chennai\n",
       "3  40004       40.0       D        NaN      NaN\n",
       "4  50005       50.0       E        NaN      NaN\n",
       "5  60006        NaN     NaN       40.0    Delhi\n",
       "6  70007        NaN     NaN       60.0   Jaipur"
      ]
     },
     "execution_count": 165,
     "metadata": {},
     "output_type": "execute_result"
    }
   ],
   "source": [
    "merge_data4 = df1.merge(df2,how=\"outer\",on=\"ID\")\n",
    "merge_data4"
   ]
  },
  {
   "cell_type": "code",
   "execution_count": 166,
   "id": "27b640f6",
   "metadata": {},
   "outputs": [
    {
     "data": {
      "text/html": [
       "<div>\n",
       "<style scoped>\n",
       "    .dataframe tbody tr th:only-of-type {\n",
       "        vertical-align: middle;\n",
       "    }\n",
       "\n",
       "    .dataframe tbody tr th {\n",
       "        vertical-align: top;\n",
       "    }\n",
       "\n",
       "    .dataframe thead th {\n",
       "        text-align: right;\n",
       "    }\n",
       "</style>\n",
       "<table border=\"1\" class=\"dataframe\">\n",
       "  <thead>\n",
       "    <tr style=\"text-align: right;\">\n",
       "      <th></th>\n",
       "      <th>ID</th>\n",
       "      <th>Numbers</th>\n",
       "      <th>Letters</th>\n",
       "      <th>City</th>\n",
       "    </tr>\n",
       "  </thead>\n",
       "  <tbody>\n",
       "    <tr>\n",
       "      <th>0</th>\n",
       "      <td>10001</td>\n",
       "      <td>10</td>\n",
       "      <td>A</td>\n",
       "      <td>Lucknow</td>\n",
       "    </tr>\n",
       "    <tr>\n",
       "      <th>1</th>\n",
       "      <td>20002</td>\n",
       "      <td>20</td>\n",
       "      <td>B</td>\n",
       "      <td>Munnar</td>\n",
       "    </tr>\n",
       "    <tr>\n",
       "      <th>2</th>\n",
       "      <td>30003</td>\n",
       "      <td>20</td>\n",
       "      <td>C</td>\n",
       "      <td>NaN</td>\n",
       "    </tr>\n",
       "    <tr>\n",
       "      <th>3</th>\n",
       "      <td>40004</td>\n",
       "      <td>40</td>\n",
       "      <td>D</td>\n",
       "      <td>NaN</td>\n",
       "    </tr>\n",
       "    <tr>\n",
       "      <th>4</th>\n",
       "      <td>50005</td>\n",
       "      <td>50</td>\n",
       "      <td>E</td>\n",
       "      <td>NaN</td>\n",
       "    </tr>\n",
       "  </tbody>\n",
       "</table>\n",
       "</div>"
      ],
      "text/plain": [
       "      ID  Numbers Letters     City\n",
       "0  10001       10       A  Lucknow\n",
       "1  20002       20       B   Munnar\n",
       "2  30003       20       C      NaN\n",
       "3  40004       40       D      NaN\n",
       "4  50005       50       E      NaN"
      ]
     },
     "execution_count": 166,
     "metadata": {},
     "output_type": "execute_result"
    }
   ],
   "source": [
    "left_merge = pd.merge(df1,df2,how=\"left\")\n",
    "left_merge"
   ]
  },
  {
   "cell_type": "code",
   "execution_count": 167,
   "id": "44eb168d",
   "metadata": {},
   "outputs": [
    {
     "data": {
      "text/html": [
       "<div>\n",
       "<style scoped>\n",
       "    .dataframe tbody tr th:only-of-type {\n",
       "        vertical-align: middle;\n",
       "    }\n",
       "\n",
       "    .dataframe tbody tr th {\n",
       "        vertical-align: top;\n",
       "    }\n",
       "\n",
       "    .dataframe thead th {\n",
       "        text-align: right;\n",
       "    }\n",
       "</style>\n",
       "<table border=\"1\" class=\"dataframe\">\n",
       "  <thead>\n",
       "    <tr style=\"text-align: right;\">\n",
       "      <th></th>\n",
       "      <th>ID</th>\n",
       "      <th>Numbers</th>\n",
       "      <th>Letters</th>\n",
       "      <th>City</th>\n",
       "    </tr>\n",
       "  </thead>\n",
       "  <tbody>\n",
       "    <tr>\n",
       "      <th>0</th>\n",
       "      <td>10001</td>\n",
       "      <td>10</td>\n",
       "      <td>A</td>\n",
       "      <td>Lucknow</td>\n",
       "    </tr>\n",
       "    <tr>\n",
       "      <th>1</th>\n",
       "      <td>20002</td>\n",
       "      <td>20</td>\n",
       "      <td>B</td>\n",
       "      <td>Munnar</td>\n",
       "    </tr>\n",
       "    <tr>\n",
       "      <th>2</th>\n",
       "      <td>30003</td>\n",
       "      <td>30</td>\n",
       "      <td>NaN</td>\n",
       "      <td>Chennai</td>\n",
       "    </tr>\n",
       "    <tr>\n",
       "      <th>3</th>\n",
       "      <td>60006</td>\n",
       "      <td>40</td>\n",
       "      <td>NaN</td>\n",
       "      <td>Delhi</td>\n",
       "    </tr>\n",
       "    <tr>\n",
       "      <th>4</th>\n",
       "      <td>70007</td>\n",
       "      <td>60</td>\n",
       "      <td>NaN</td>\n",
       "      <td>Jaipur</td>\n",
       "    </tr>\n",
       "  </tbody>\n",
       "</table>\n",
       "</div>"
      ],
      "text/plain": [
       "      ID  Numbers Letters     City\n",
       "0  10001       10       A  Lucknow\n",
       "1  20002       20       B   Munnar\n",
       "2  30003       30     NaN  Chennai\n",
       "3  60006       40     NaN    Delhi\n",
       "4  70007       60     NaN   Jaipur"
      ]
     },
     "execution_count": 167,
     "metadata": {},
     "output_type": "execute_result"
    }
   ],
   "source": [
    "right_merge = pd.merge(df1,df2,how=\"right\")\n",
    "right_merge"
   ]
  },
  {
   "cell_type": "code",
   "execution_count": 168,
   "id": "d6d4585a",
   "metadata": {},
   "outputs": [
    {
     "data": {
      "text/html": [
       "<div>\n",
       "<style scoped>\n",
       "    .dataframe tbody tr th:only-of-type {\n",
       "        vertical-align: middle;\n",
       "    }\n",
       "\n",
       "    .dataframe tbody tr th {\n",
       "        vertical-align: top;\n",
       "    }\n",
       "\n",
       "    .dataframe thead th {\n",
       "        text-align: right;\n",
       "    }\n",
       "</style>\n",
       "<table border=\"1\" class=\"dataframe\">\n",
       "  <thead>\n",
       "    <tr style=\"text-align: right;\">\n",
       "      <th></th>\n",
       "      <th>ID_x</th>\n",
       "      <th>Numbers_x</th>\n",
       "      <th>Letters</th>\n",
       "      <th>ID_y</th>\n",
       "      <th>Numbers_y</th>\n",
       "      <th>City</th>\n",
       "    </tr>\n",
       "  </thead>\n",
       "  <tbody>\n",
       "    <tr>\n",
       "      <th>0</th>\n",
       "      <td>10001</td>\n",
       "      <td>10</td>\n",
       "      <td>A</td>\n",
       "      <td>10001</td>\n",
       "      <td>10</td>\n",
       "      <td>Lucknow</td>\n",
       "    </tr>\n",
       "    <tr>\n",
       "      <th>1</th>\n",
       "      <td>10001</td>\n",
       "      <td>10</td>\n",
       "      <td>A</td>\n",
       "      <td>20002</td>\n",
       "      <td>20</td>\n",
       "      <td>Munnar</td>\n",
       "    </tr>\n",
       "    <tr>\n",
       "      <th>2</th>\n",
       "      <td>10001</td>\n",
       "      <td>10</td>\n",
       "      <td>A</td>\n",
       "      <td>30003</td>\n",
       "      <td>30</td>\n",
       "      <td>Chennai</td>\n",
       "    </tr>\n",
       "    <tr>\n",
       "      <th>3</th>\n",
       "      <td>10001</td>\n",
       "      <td>10</td>\n",
       "      <td>A</td>\n",
       "      <td>60006</td>\n",
       "      <td>40</td>\n",
       "      <td>Delhi</td>\n",
       "    </tr>\n",
       "    <tr>\n",
       "      <th>4</th>\n",
       "      <td>10001</td>\n",
       "      <td>10</td>\n",
       "      <td>A</td>\n",
       "      <td>70007</td>\n",
       "      <td>60</td>\n",
       "      <td>Jaipur</td>\n",
       "    </tr>\n",
       "    <tr>\n",
       "      <th>5</th>\n",
       "      <td>20002</td>\n",
       "      <td>20</td>\n",
       "      <td>B</td>\n",
       "      <td>10001</td>\n",
       "      <td>10</td>\n",
       "      <td>Lucknow</td>\n",
       "    </tr>\n",
       "    <tr>\n",
       "      <th>6</th>\n",
       "      <td>20002</td>\n",
       "      <td>20</td>\n",
       "      <td>B</td>\n",
       "      <td>20002</td>\n",
       "      <td>20</td>\n",
       "      <td>Munnar</td>\n",
       "    </tr>\n",
       "    <tr>\n",
       "      <th>7</th>\n",
       "      <td>20002</td>\n",
       "      <td>20</td>\n",
       "      <td>B</td>\n",
       "      <td>30003</td>\n",
       "      <td>30</td>\n",
       "      <td>Chennai</td>\n",
       "    </tr>\n",
       "    <tr>\n",
       "      <th>8</th>\n",
       "      <td>20002</td>\n",
       "      <td>20</td>\n",
       "      <td>B</td>\n",
       "      <td>60006</td>\n",
       "      <td>40</td>\n",
       "      <td>Delhi</td>\n",
       "    </tr>\n",
       "    <tr>\n",
       "      <th>9</th>\n",
       "      <td>20002</td>\n",
       "      <td>20</td>\n",
       "      <td>B</td>\n",
       "      <td>70007</td>\n",
       "      <td>60</td>\n",
       "      <td>Jaipur</td>\n",
       "    </tr>\n",
       "    <tr>\n",
       "      <th>10</th>\n",
       "      <td>30003</td>\n",
       "      <td>20</td>\n",
       "      <td>C</td>\n",
       "      <td>10001</td>\n",
       "      <td>10</td>\n",
       "      <td>Lucknow</td>\n",
       "    </tr>\n",
       "    <tr>\n",
       "      <th>11</th>\n",
       "      <td>30003</td>\n",
       "      <td>20</td>\n",
       "      <td>C</td>\n",
       "      <td>20002</td>\n",
       "      <td>20</td>\n",
       "      <td>Munnar</td>\n",
       "    </tr>\n",
       "    <tr>\n",
       "      <th>12</th>\n",
       "      <td>30003</td>\n",
       "      <td>20</td>\n",
       "      <td>C</td>\n",
       "      <td>30003</td>\n",
       "      <td>30</td>\n",
       "      <td>Chennai</td>\n",
       "    </tr>\n",
       "    <tr>\n",
       "      <th>13</th>\n",
       "      <td>30003</td>\n",
       "      <td>20</td>\n",
       "      <td>C</td>\n",
       "      <td>60006</td>\n",
       "      <td>40</td>\n",
       "      <td>Delhi</td>\n",
       "    </tr>\n",
       "    <tr>\n",
       "      <th>14</th>\n",
       "      <td>30003</td>\n",
       "      <td>20</td>\n",
       "      <td>C</td>\n",
       "      <td>70007</td>\n",
       "      <td>60</td>\n",
       "      <td>Jaipur</td>\n",
       "    </tr>\n",
       "    <tr>\n",
       "      <th>15</th>\n",
       "      <td>40004</td>\n",
       "      <td>40</td>\n",
       "      <td>D</td>\n",
       "      <td>10001</td>\n",
       "      <td>10</td>\n",
       "      <td>Lucknow</td>\n",
       "    </tr>\n",
       "    <tr>\n",
       "      <th>16</th>\n",
       "      <td>40004</td>\n",
       "      <td>40</td>\n",
       "      <td>D</td>\n",
       "      <td>20002</td>\n",
       "      <td>20</td>\n",
       "      <td>Munnar</td>\n",
       "    </tr>\n",
       "    <tr>\n",
       "      <th>17</th>\n",
       "      <td>40004</td>\n",
       "      <td>40</td>\n",
       "      <td>D</td>\n",
       "      <td>30003</td>\n",
       "      <td>30</td>\n",
       "      <td>Chennai</td>\n",
       "    </tr>\n",
       "    <tr>\n",
       "      <th>18</th>\n",
       "      <td>40004</td>\n",
       "      <td>40</td>\n",
       "      <td>D</td>\n",
       "      <td>60006</td>\n",
       "      <td>40</td>\n",
       "      <td>Delhi</td>\n",
       "    </tr>\n",
       "    <tr>\n",
       "      <th>19</th>\n",
       "      <td>40004</td>\n",
       "      <td>40</td>\n",
       "      <td>D</td>\n",
       "      <td>70007</td>\n",
       "      <td>60</td>\n",
       "      <td>Jaipur</td>\n",
       "    </tr>\n",
       "    <tr>\n",
       "      <th>20</th>\n",
       "      <td>50005</td>\n",
       "      <td>50</td>\n",
       "      <td>E</td>\n",
       "      <td>10001</td>\n",
       "      <td>10</td>\n",
       "      <td>Lucknow</td>\n",
       "    </tr>\n",
       "    <tr>\n",
       "      <th>21</th>\n",
       "      <td>50005</td>\n",
       "      <td>50</td>\n",
       "      <td>E</td>\n",
       "      <td>20002</td>\n",
       "      <td>20</td>\n",
       "      <td>Munnar</td>\n",
       "    </tr>\n",
       "    <tr>\n",
       "      <th>22</th>\n",
       "      <td>50005</td>\n",
       "      <td>50</td>\n",
       "      <td>E</td>\n",
       "      <td>30003</td>\n",
       "      <td>30</td>\n",
       "      <td>Chennai</td>\n",
       "    </tr>\n",
       "    <tr>\n",
       "      <th>23</th>\n",
       "      <td>50005</td>\n",
       "      <td>50</td>\n",
       "      <td>E</td>\n",
       "      <td>60006</td>\n",
       "      <td>40</td>\n",
       "      <td>Delhi</td>\n",
       "    </tr>\n",
       "    <tr>\n",
       "      <th>24</th>\n",
       "      <td>50005</td>\n",
       "      <td>50</td>\n",
       "      <td>E</td>\n",
       "      <td>70007</td>\n",
       "      <td>60</td>\n",
       "      <td>Jaipur</td>\n",
       "    </tr>\n",
       "  </tbody>\n",
       "</table>\n",
       "</div>"
      ],
      "text/plain": [
       "     ID_x  Numbers_x Letters   ID_y  Numbers_y     City\n",
       "0   10001         10       A  10001         10  Lucknow\n",
       "1   10001         10       A  20002         20   Munnar\n",
       "2   10001         10       A  30003         30  Chennai\n",
       "3   10001         10       A  60006         40    Delhi\n",
       "4   10001         10       A  70007         60   Jaipur\n",
       "5   20002         20       B  10001         10  Lucknow\n",
       "6   20002         20       B  20002         20   Munnar\n",
       "7   20002         20       B  30003         30  Chennai\n",
       "8   20002         20       B  60006         40    Delhi\n",
       "9   20002         20       B  70007         60   Jaipur\n",
       "10  30003         20       C  10001         10  Lucknow\n",
       "11  30003         20       C  20002         20   Munnar\n",
       "12  30003         20       C  30003         30  Chennai\n",
       "13  30003         20       C  60006         40    Delhi\n",
       "14  30003         20       C  70007         60   Jaipur\n",
       "15  40004         40       D  10001         10  Lucknow\n",
       "16  40004         40       D  20002         20   Munnar\n",
       "17  40004         40       D  30003         30  Chennai\n",
       "18  40004         40       D  60006         40    Delhi\n",
       "19  40004         40       D  70007         60   Jaipur\n",
       "20  50005         50       E  10001         10  Lucknow\n",
       "21  50005         50       E  20002         20   Munnar\n",
       "22  50005         50       E  30003         30  Chennai\n",
       "23  50005         50       E  60006         40    Delhi\n",
       "24  50005         50       E  70007         60   Jaipur"
      ]
     },
     "execution_count": 168,
     "metadata": {},
     "output_type": "execute_result"
    }
   ],
   "source": [
    "cross_merge = df1.merge(df2,how=\"cross\")\n",
    "cross_merge"
   ]
  },
  {
   "cell_type": "code",
   "execution_count": 169,
   "id": "0928d6e6",
   "metadata": {},
   "outputs": [],
   "source": [
    "np.random.seed(42)\n",
    "temp_data = pd.DataFrame({'Date': pd.date_range(start='2023-02-1', end='2023-02-28').strftime('%d-%m-%Y'),\n",
    "                    'TempMax': np.random.uniform(16,30, size=28) })\n",
    "\n",
    "rainfall_data = pd.DataFrame({'Date': ['12-02-2023', '15-02-2023', '16-02-2023', '18-02-2023', '20-02-2023'],\n",
    "                    'Rainfall': [0, 3.6, 3.6, 39.8, 2.8 ] })"
   ]
  },
  {
   "cell_type": "code",
   "execution_count": 170,
   "id": "94821ae1",
   "metadata": {},
   "outputs": [
    {
     "data": {
      "text/html": [
       "<div>\n",
       "<style scoped>\n",
       "    .dataframe tbody tr th:only-of-type {\n",
       "        vertical-align: middle;\n",
       "    }\n",
       "\n",
       "    .dataframe tbody tr th {\n",
       "        vertical-align: top;\n",
       "    }\n",
       "\n",
       "    .dataframe thead th {\n",
       "        text-align: right;\n",
       "    }\n",
       "</style>\n",
       "<table border=\"1\" class=\"dataframe\">\n",
       "  <thead>\n",
       "    <tr style=\"text-align: right;\">\n",
       "      <th></th>\n",
       "      <th>Date</th>\n",
       "      <th>Rainfall</th>\n",
       "      <th>TempMax</th>\n",
       "    </tr>\n",
       "  </thead>\n",
       "  <tbody>\n",
       "    <tr>\n",
       "      <th>0</th>\n",
       "      <td>12-02-2023</td>\n",
       "      <td>0.0</td>\n",
       "      <td>29.578738</td>\n",
       "    </tr>\n",
       "    <tr>\n",
       "      <th>1</th>\n",
       "      <td>15-02-2023</td>\n",
       "      <td>3.6</td>\n",
       "      <td>18.545550</td>\n",
       "    </tr>\n",
       "    <tr>\n",
       "      <th>2</th>\n",
       "      <td>16-02-2023</td>\n",
       "      <td>3.6</td>\n",
       "      <td>18.567663</td>\n",
       "    </tr>\n",
       "    <tr>\n",
       "      <th>3</th>\n",
       "      <td>18-02-2023</td>\n",
       "      <td>39.8</td>\n",
       "      <td>23.346590</td>\n",
       "    </tr>\n",
       "    <tr>\n",
       "      <th>4</th>\n",
       "      <td>20-02-2023</td>\n",
       "      <td>2.8</td>\n",
       "      <td>20.077208</td>\n",
       "    </tr>\n",
       "  </tbody>\n",
       "</table>\n",
       "</div>"
      ],
      "text/plain": [
       "         Date  Rainfall    TempMax\n",
       "0  12-02-2023       0.0  29.578738\n",
       "1  15-02-2023       3.6  18.545550\n",
       "2  16-02-2023       3.6  18.567663\n",
       "3  18-02-2023      39.8  23.346590\n",
       "4  20-02-2023       2.8  20.077208"
      ]
     },
     "execution_count": 170,
     "metadata": {},
     "output_type": "execute_result"
    }
   ],
   "source": [
    "merge_data = rainfall_data.merge(temp_data,how=\"inner\",on=\"Date\")\n",
    "merge_data"
   ]
  },
  {
   "cell_type": "code",
   "execution_count": 171,
   "id": "19152ab2",
   "metadata": {},
   "outputs": [
    {
     "data": {
      "text/html": [
       "<div>\n",
       "<style scoped>\n",
       "    .dataframe tbody tr th:only-of-type {\n",
       "        vertical-align: middle;\n",
       "    }\n",
       "\n",
       "    .dataframe tbody tr th {\n",
       "        vertical-align: top;\n",
       "    }\n",
       "\n",
       "    .dataframe thead th {\n",
       "        text-align: right;\n",
       "    }\n",
       "</style>\n",
       "<table border=\"1\" class=\"dataframe\">\n",
       "  <thead>\n",
       "    <tr style=\"text-align: right;\">\n",
       "      <th></th>\n",
       "      <th>Date</th>\n",
       "      <th>TempMax</th>\n",
       "      <th>Rainfall</th>\n",
       "    </tr>\n",
       "  </thead>\n",
       "  <tbody>\n",
       "    <tr>\n",
       "      <th>0</th>\n",
       "      <td>01-02-2023</td>\n",
       "      <td>21.243562</td>\n",
       "      <td>NaN</td>\n",
       "    </tr>\n",
       "    <tr>\n",
       "      <th>1</th>\n",
       "      <td>02-02-2023</td>\n",
       "      <td>29.310000</td>\n",
       "      <td>NaN</td>\n",
       "    </tr>\n",
       "    <tr>\n",
       "      <th>2</th>\n",
       "      <td>03-02-2023</td>\n",
       "      <td>26.247915</td>\n",
       "      <td>NaN</td>\n",
       "    </tr>\n",
       "    <tr>\n",
       "      <th>3</th>\n",
       "      <td>04-02-2023</td>\n",
       "      <td>24.381219</td>\n",
       "      <td>NaN</td>\n",
       "    </tr>\n",
       "    <tr>\n",
       "      <th>4</th>\n",
       "      <td>05-02-2023</td>\n",
       "      <td>18.184261</td>\n",
       "      <td>NaN</td>\n",
       "    </tr>\n",
       "    <tr>\n",
       "      <th>5</th>\n",
       "      <td>06-02-2023</td>\n",
       "      <td>18.183923</td>\n",
       "      <td>NaN</td>\n",
       "    </tr>\n",
       "    <tr>\n",
       "      <th>6</th>\n",
       "      <td>07-02-2023</td>\n",
       "      <td>16.813171</td>\n",
       "      <td>NaN</td>\n",
       "    </tr>\n",
       "    <tr>\n",
       "      <th>7</th>\n",
       "      <td>08-02-2023</td>\n",
       "      <td>28.126466</td>\n",
       "      <td>NaN</td>\n",
       "    </tr>\n",
       "    <tr>\n",
       "      <th>8</th>\n",
       "      <td>09-02-2023</td>\n",
       "      <td>24.415610</td>\n",
       "      <td>NaN</td>\n",
       "    </tr>\n",
       "    <tr>\n",
       "      <th>9</th>\n",
       "      <td>10-02-2023</td>\n",
       "      <td>25.913016</td>\n",
       "      <td>NaN</td>\n",
       "    </tr>\n",
       "    <tr>\n",
       "      <th>10</th>\n",
       "      <td>11-02-2023</td>\n",
       "      <td>16.288183</td>\n",
       "      <td>NaN</td>\n",
       "    </tr>\n",
       "    <tr>\n",
       "      <th>11</th>\n",
       "      <td>12-02-2023</td>\n",
       "      <td>29.578738</td>\n",
       "      <td>0.0</td>\n",
       "    </tr>\n",
       "    <tr>\n",
       "      <th>12</th>\n",
       "      <td>13-02-2023</td>\n",
       "      <td>27.654197</td>\n",
       "      <td>NaN</td>\n",
       "    </tr>\n",
       "    <tr>\n",
       "      <th>13</th>\n",
       "      <td>14-02-2023</td>\n",
       "      <td>18.972748</td>\n",
       "      <td>NaN</td>\n",
       "    </tr>\n",
       "    <tr>\n",
       "      <th>14</th>\n",
       "      <td>15-02-2023</td>\n",
       "      <td>18.545550</td>\n",
       "      <td>3.6</td>\n",
       "    </tr>\n",
       "    <tr>\n",
       "      <th>15</th>\n",
       "      <td>16-02-2023</td>\n",
       "      <td>18.567663</td>\n",
       "      <td>3.6</td>\n",
       "    </tr>\n",
       "    <tr>\n",
       "      <th>16</th>\n",
       "      <td>17-02-2023</td>\n",
       "      <td>20.259391</td>\n",
       "      <td>NaN</td>\n",
       "    </tr>\n",
       "    <tr>\n",
       "      <th>17</th>\n",
       "      <td>18-02-2023</td>\n",
       "      <td>23.346590</td>\n",
       "      <td>39.8</td>\n",
       "    </tr>\n",
       "    <tr>\n",
       "      <th>18</th>\n",
       "      <td>19-02-2023</td>\n",
       "      <td>22.047230</td>\n",
       "      <td>NaN</td>\n",
       "    </tr>\n",
       "    <tr>\n",
       "      <th>19</th>\n",
       "      <td>20-02-2023</td>\n",
       "      <td>20.077208</td>\n",
       "      <td>2.8</td>\n",
       "    </tr>\n",
       "    <tr>\n",
       "      <th>20</th>\n",
       "      <td>21-02-2023</td>\n",
       "      <td>24.565941</td>\n",
       "      <td>NaN</td>\n",
       "    </tr>\n",
       "    <tr>\n",
       "      <th>21</th>\n",
       "      <td>22-02-2023</td>\n",
       "      <td>17.952914</td>\n",
       "      <td>NaN</td>\n",
       "    </tr>\n",
       "    <tr>\n",
       "      <th>22</th>\n",
       "      <td>23-02-2023</td>\n",
       "      <td>20.090025</td>\n",
       "      <td>NaN</td>\n",
       "    </tr>\n",
       "    <tr>\n",
       "      <th>23</th>\n",
       "      <td>24-02-2023</td>\n",
       "      <td>21.129066</td>\n",
       "      <td>NaN</td>\n",
       "    </tr>\n",
       "    <tr>\n",
       "      <th>24</th>\n",
       "      <td>25-02-2023</td>\n",
       "      <td>22.384980</td>\n",
       "      <td>NaN</td>\n",
       "    </tr>\n",
       "    <tr>\n",
       "      <th>25</th>\n",
       "      <td>26-02-2023</td>\n",
       "      <td>26.992463</td>\n",
       "      <td>NaN</td>\n",
       "    </tr>\n",
       "    <tr>\n",
       "      <th>26</th>\n",
       "      <td>27-02-2023</td>\n",
       "      <td>18.795433</td>\n",
       "      <td>NaN</td>\n",
       "    </tr>\n",
       "    <tr>\n",
       "      <th>27</th>\n",
       "      <td>28-02-2023</td>\n",
       "      <td>23.199282</td>\n",
       "      <td>NaN</td>\n",
       "    </tr>\n",
       "  </tbody>\n",
       "</table>\n",
       "</div>"
      ],
      "text/plain": [
       "          Date    TempMax  Rainfall\n",
       "0   01-02-2023  21.243562       NaN\n",
       "1   02-02-2023  29.310000       NaN\n",
       "2   03-02-2023  26.247915       NaN\n",
       "3   04-02-2023  24.381219       NaN\n",
       "4   05-02-2023  18.184261       NaN\n",
       "5   06-02-2023  18.183923       NaN\n",
       "6   07-02-2023  16.813171       NaN\n",
       "7   08-02-2023  28.126466       NaN\n",
       "8   09-02-2023  24.415610       NaN\n",
       "9   10-02-2023  25.913016       NaN\n",
       "10  11-02-2023  16.288183       NaN\n",
       "11  12-02-2023  29.578738       0.0\n",
       "12  13-02-2023  27.654197       NaN\n",
       "13  14-02-2023  18.972748       NaN\n",
       "14  15-02-2023  18.545550       3.6\n",
       "15  16-02-2023  18.567663       3.6\n",
       "16  17-02-2023  20.259391       NaN\n",
       "17  18-02-2023  23.346590      39.8\n",
       "18  19-02-2023  22.047230       NaN\n",
       "19  20-02-2023  20.077208       2.8\n",
       "20  21-02-2023  24.565941       NaN\n",
       "21  22-02-2023  17.952914       NaN\n",
       "22  23-02-2023  20.090025       NaN\n",
       "23  24-02-2023  21.129066       NaN\n",
       "24  25-02-2023  22.384980       NaN\n",
       "25  26-02-2023  26.992463       NaN\n",
       "26  27-02-2023  18.795433       NaN\n",
       "27  28-02-2023  23.199282       NaN"
      ]
     },
     "execution_count": 171,
     "metadata": {},
     "output_type": "execute_result"
    }
   ],
   "source": [
    "merge_data = temp_data.merge(rainfall_data,how=\"outer\")\n",
    "merge_data"
   ]
  },
  {
   "cell_type": "markdown",
   "id": "9b603c16",
   "metadata": {},
   "source": [
    "## Question1"
   ]
  },
  {
   "cell_type": "markdown",
   "id": "876bb00e",
   "metadata": {},
   "source": [
    "MetaData\n",
    "Airline:The name of the airline \n",
    "* Source: The source from which the service begins \n",
    "* Destination: The destination where the service ends \n",
    "* Route: Route the flight took. \n",
    "* Dep_Time: The time when the journey starts from the source. \n",
    "* Arrival_Time: Time of arrival at the destination. \n",
    "* Duration: Total duration of the flight. \n",
    "* Total_Stops: Total stops between the source and destination. \n",
    "* Additional_Info: Additional information about the flight \n",
    "* Price: The price of the ticket ▶▶▶ Target \n",
    "* Month: Month of journey. \n",
    "* WeekDay: Day at which journey started. \n",
    "* Day: Date of the start of journey."
   ]
  },
  {
   "cell_type": "code",
   "execution_count": 172,
   "id": "3cf29f29",
   "metadata": {},
   "outputs": [],
   "source": [
    "flight = pd.read_csv(\"flight.csv\")"
   ]
  },
  {
   "cell_type": "code",
   "execution_count": 173,
   "id": "db167d32",
   "metadata": {},
   "outputs": [
    {
     "data": {
      "text/plain": [
       "9027.9"
      ]
     },
     "execution_count": 173,
     "metadata": {},
     "output_type": "execute_result"
    }
   ],
   "source": [
    "# 1 What is the average of the flight ticket price? Write your answer correct to two decimal places.\n",
    "\n",
    "flight[\"Price\"].mean(axis=0).round(2)"
   ]
  },
  {
   "cell_type": "code",
   "execution_count": 174,
   "id": "29e47453",
   "metadata": {},
   "outputs": [
    {
     "data": {
      "text/plain": [
       "Month\n",
       "5    3092\n",
       "6    3044\n",
       "3    2388\n",
       "4     926\n",
       "Name: count, dtype: int64"
      ]
     },
     "execution_count": 174,
     "metadata": {},
     "output_type": "execute_result"
    }
   ],
   "source": [
    "# 2 During which month did the highest number of flights occur? Months are represented by numerical codes, with January \n",
    "# corresponding to 1, February to 2, and so forth.\n",
    "\n",
    "flight[\"Month\"].value_counts().sort_values(ascending=False)"
   ]
  },
  {
   "cell_type": "code",
   "execution_count": 175,
   "id": "b119dfac",
   "metadata": {},
   "outputs": [
    {
     "data": {
      "text/plain": [
       "True"
      ]
     },
     "execution_count": 175,
     "metadata": {},
     "output_type": "execute_result"
    }
   ],
   "source": [
    "# 3 Is the average price of flight tickets higher on weekends (Saturday and Sunday) or on weekdays (Remaining 5 days)?\n",
    "\n",
    "flight[(flight[\"WeekDay\"] == \"Saturday\") | (flight[\"WeekDay\"] == \"Sunday\")][\"Price\"].mean(axis=0) > flight[~((flight[\"WeekDay\"] == \"Saturday\") | (flight[\"WeekDay\"] == \"Sunday\"))][\"Price\"].mean(axis=0)"
   ]
  },
  {
   "cell_type": "code",
   "execution_count": 176,
   "id": "dcec7a16",
   "metadata": {},
   "outputs": [
    {
     "data": {
      "text/plain": [
       "1650"
      ]
     },
     "execution_count": 176,
     "metadata": {},
     "output_type": "execute_result"
    }
   ],
   "source": [
    "# 4 Two of the entries in the 'Additional_Info' column are 'No info' and 'No Info'. Replace all occurrences of 'No Info' with \n",
    "# 'No info'. How many flights fall under airline 'IndiGo' and have 'No info' as additional information?\n",
    "\n",
    "flight.loc[flight[\"Additional_Info\"] == \"No Info\",\"Additional_Info\"] = \"No info\"\n",
    "flight[(flight[\"Airline\"] == \"IndiGo\") & (flight[\"Additional_Info\"]==\"No info\")].shape[0]"
   ]
  },
  {
   "cell_type": "code",
   "execution_count": 177,
   "id": "e6d932bb",
   "metadata": {},
   "outputs": [
    {
     "data": {
      "text/plain": [
       "38957.93650793651"
      ]
     },
     "execution_count": 177,
     "metadata": {},
     "output_type": "execute_result"
    }
   ],
   "source": [
    "# 5 Convert the values of 'Duration' into seconds. Enter the average duration (in seconds) of a flight. Enter your answer \n",
    "# correct to two decimal places.\n",
    "\n",
    "def duration_second(time):\n",
    "    sec = 0\n",
    "    time = time.split(\" \")\n",
    "    for i in range(len(time)):\n",
    "        if(\"h\" in time[i]):\n",
    "            sec += int(time[i][:-1]) * 3600\n",
    "        if(\"m\" in time[i]):\n",
    "            sec += int(time[i][:-1]) * 60 \n",
    "    return sec\n",
    "\n",
    "flight[\"duration_second\"] = flight[\"Duration\"].apply(duration_second)\n",
    "flight[\"duration_second\"].mean(axis=0)"
   ]
  },
  {
   "cell_type": "code",
   "execution_count": 178,
   "id": "8d0000db",
   "metadata": {},
   "outputs": [
    {
     "data": {
      "text/plain": [
       "922"
      ]
     },
     "execution_count": 178,
     "metadata": {},
     "output_type": "execute_result"
    }
   ],
   "source": [
    "# 6 Apply the following functions to the columns Dep_Time and Arrival_Time:\n",
    "# Transform the values in the 'dep_time' and 'arrival_time' columns to represent the hour component. For instance, if an entry \n",
    "# is 10:05 June 13 or 10:05, the corresponding value should be 10. \n",
    "# Then convert the time into four categories as follows:\n",
    "# 5 <= hour < 12 = Morning \n",
    "# 12 <= hour < 17 = Afternoon \n",
    "# 17 <= hour < 20 = Evening \n",
    "# 20 <= hour < 5 = Night\n",
    "# Note: Please ensure that you make the changes directly within the dataset and continue to use that modified dataset for \n",
    "# subsequent questions.\n",
    "\n",
    "# How many flights started in the Morning and arrived the destination at Evening?\n",
    "\n",
    "def shift(time):\n",
    "    a = int(time.split(\":\")[0])\n",
    "    if(a >= 5 and a < 12):\n",
    "        return \"Morning\"\n",
    "    if(a >= 12 and a < 17):\n",
    "        return \"Afternoon\"\n",
    "    if(a >= 17 and a < 20):\n",
    "        return \"Evening\"\n",
    "    if(a >= 20 or a <=5):\n",
    "        return \"Night\"\n",
    "    \n",
    "\n",
    "flight[\"departure_shift\"] = flight[\"Dep_Time\"].apply(shift)\n",
    "flight[\"arrival_shift\"] = flight[\"Arrival_Time\"].apply(shift)\n",
    "flight[(flight[\"departure_shift\"] == \"Morning\") & (flight[\"arrival_shift\"] == \"Evening\")].shape[0]"
   ]
  },
  {
   "cell_type": "code",
   "execution_count": 179,
   "id": "bde9b370",
   "metadata": {},
   "outputs": [
    {
     "data": {
      "text/plain": [
       "WeekDay\n",
       "0    6651\n",
       "1    2799\n",
       "Name: count, dtype: int64"
      ]
     },
     "execution_count": 179,
     "metadata": {},
     "output_type": "execute_result"
    }
   ],
   "source": [
    "# 7 Encode the values of column 'WeekDay' as follows:\n",
    "# Weekends (Sunday, Saturday) = 1\n",
    "# all remaining five days = 0\n",
    "# What is the most frequent (mode) WeekDay?\n",
    "\n",
    "flight.loc[flight[\"WeekDay\"].isin([\"Saturday\",\"Sunday\"]),\"WeekDay\"] = 1\n",
    "flight.loc[~(flight[\"WeekDay\"] == 1),\"WeekDay\"] = 0\n",
    "\n",
    "flight[\"WeekDay\"].value_counts().sort_values(ascending=False)"
   ]
  },
  {
   "cell_type": "markdown",
   "id": "390cd816",
   "metadata": {},
   "source": [
    "## Question2"
   ]
  },
  {
   "cell_type": "code",
   "execution_count": 180,
   "id": "b27253e2",
   "metadata": {},
   "outputs": [],
   "source": [
    "house = pd.read_csv(\"house.csv\")"
   ]
  },
  {
   "cell_type": "code",
   "execution_count": 181,
   "id": "a73842f5",
   "metadata": {},
   "outputs": [],
   "source": [
    "# 1 How many unknown (\"?) values are present in the dataset? Remove/Delete unknown (\"?) values present in the dataset to make \n",
    "# it null value.\n",
    "# Remove/Delete - means it will show NAN in place of \"?\"\n",
    "# Note: If there is no value present in the dataset it is represented as NAN(read pandas documentation for all the other ways \n",
    "# to represent null values) in data\n",
    "\n",
    "(house == \"?\").sum().sum()\n",
    "house.replace(\"?\",np.nan,inplace=True)"
   ]
  },
  {
   "cell_type": "code",
   "execution_count": 182,
   "id": "b9a8d359",
   "metadata": {},
   "outputs": [
    {
     "data": {
      "text/plain": [
       "(10000, 12)"
      ]
     },
     "execution_count": 182,
     "metadata": {},
     "output_type": "execute_result"
    }
   ],
   "source": [
    "# 2 What is the shape of the dataset ?\n",
    "\n",
    "house.shape"
   ]
  },
  {
   "cell_type": "code",
   "execution_count": 183,
   "id": "ac039e01",
   "metadata": {},
   "outputs": [
    {
     "data": {
      "text/plain": [
       "'2009-11-16'"
      ]
     },
     "execution_count": 183,
     "metadata": {},
     "output_type": "execute_result"
    }
   ],
   "source": [
    "# 3 What is the value present at the 692th indexed row and 0th indexed column in the data ?\n",
    "# dataframe[692,0] (simply saying this in a matrix)\n",
    "# rows/ columns starts indexing from zero(0) in python\n",
    "\n",
    "house.iloc[692,0]"
   ]
  },
  {
   "cell_type": "code",
   "execution_count": 184,
   "id": "5f03c68d",
   "metadata": {},
   "outputs": [
    {
     "data": {
      "text/plain": [
       "3"
      ]
     },
     "execution_count": 184,
     "metadata": {},
     "output_type": "execute_result"
    }
   ],
   "source": [
    "# 4 What is the value present at the 546th indexed row and 7th indexed column in the data ?\n",
    "#  dataframe[546,7] (simply saying this in a matrix)\n",
    "#  rows/ columns starts indexing from zero(0) in python\n",
    "\n",
    "house.iloc[546,7]"
   ]
  },
  {
   "cell_type": "code",
   "execution_count": 185,
   "id": "84d829c3",
   "metadata": {},
   "outputs": [
    {
     "data": {
      "text/plain": [
       "array(['Waterbury', 'Bridgeport', 'Greenwich', 'Norwalk', nan,\n",
       "       'Fairfield', 'West Hartford', 'Stamford'], dtype=object)"
      ]
     },
     "execution_count": 185,
     "metadata": {},
     "output_type": "execute_result"
    }
   ],
   "source": [
    "# 5 What are the unique values present in the Locality feature of the dataset?\n",
    "\n",
    "house[\"Locality\"].unique()"
   ]
  },
  {
   "cell_type": "code",
   "execution_count": 186,
   "id": "cc207819",
   "metadata": {},
   "outputs": [
    {
     "data": {
      "text/plain": [
       "Date                    0\n",
       "Year                    0\n",
       "Locality             1253\n",
       "Estimated Value      1243\n",
       "Sale Price              0\n",
       "Property             1823\n",
       "Residential             0\n",
       "num_rooms               0\n",
       "num_bathrooms           0\n",
       "carpet_area          1229\n",
       "property_tax_rate       0\n",
       "Face                    0\n",
       "dtype: int64"
      ]
     },
     "execution_count": 186,
     "metadata": {},
     "output_type": "execute_result"
    }
   ],
   "source": [
    "# 6 Which of the following features have missing(NaN) values present in the dataset?\n",
    "# (Note: compute after removing \"?\")\n",
    "\n",
    "house.isnull().sum()"
   ]
  },
  {
   "cell_type": "code",
   "execution_count": 187,
   "id": "d1b39a76",
   "metadata": {},
   "outputs": [
    {
     "data": {
      "text/plain": [
       "Property             1823\n",
       "Locality             1253\n",
       "Estimated Value      1243\n",
       "carpet_area          1229\n",
       "Date                    0\n",
       "Year                    0\n",
       "Sale Price              0\n",
       "Residential             0\n",
       "num_rooms               0\n",
       "num_bathrooms           0\n",
       "property_tax_rate       0\n",
       "Face                    0\n",
       "dtype: int64"
      ]
     },
     "execution_count": 187,
     "metadata": {},
     "output_type": "execute_result"
    }
   ],
   "source": [
    "# 7 Which of the following feature has most missing(NaN) values present in the dataset?\n",
    "#  (Note: compute after removing \"?\") \n",
    "\n",
    "house.isnull().sum().sort_values(ascending=False)"
   ]
  },
  {
   "cell_type": "code",
   "execution_count": 188,
   "id": "884c0231",
   "metadata": {},
   "outputs": [
    {
     "data": {
      "text/plain": [
       "9917"
      ]
     },
     "execution_count": 188,
     "metadata": {},
     "output_type": "execute_result"
    }
   ],
   "source": [
    "# 8 Drop all the samples(rows) with missing values strictly greater than 2. How many samples remains after that ?\n",
    "# (Note: compute after removing \"?\") \n",
    "\n",
    "house.drop(index = house[house.isnull().sum(axis = 1) >  2].index,inplace=True)\n",
    "house.shape[0]"
   ]
  },
  {
   "cell_type": "code",
   "execution_count": 189,
   "id": "c590f923",
   "metadata": {},
   "outputs": [
    {
     "data": {
      "text/plain": [
       "5449"
      ]
     },
     "execution_count": 189,
     "metadata": {},
     "output_type": "execute_result"
    }
   ],
   "source": [
    "# 9 Drop all the samples(rows) with missing values in the original dataframe. How many samples remains after that ?\n",
    "# (Note: compute after removing \"?\") \n",
    "\n",
    "house.drop(index = house[house.isnull().sum(axis=1) > 0].index,inplace=True)\n",
    "house.shape[0]"
   ]
  },
  {
   "cell_type": "markdown",
   "id": "e62659df",
   "metadata": {},
   "source": [
    "## Question3"
   ]
  },
  {
   "cell_type": "code",
   "execution_count": 190,
   "id": "475fab32",
   "metadata": {},
   "outputs": [],
   "source": [
    "house = pd.read_csv(\"house1.csv\")"
   ]
  },
  {
   "cell_type": "code",
   "execution_count": 191,
   "id": "7a1aa98f",
   "metadata": {},
   "outputs": [
    {
     "data": {
      "text/plain": [
       "111440.0"
      ]
     },
     "execution_count": 191,
     "metadata": {},
     "output_type": "execute_result"
    }
   ],
   "source": [
    "# 1 Select all the even indexed rows from the given dataset. What is the value in the 3rd indexed column of the 0th indexed row\n",
    "# in the selected dataframe. (row/ column indexed from zero(0) in python/pandas)\n",
    "\n",
    "house[house.index % 2 == 0].reset_index(drop=True).iloc[0,3]"
   ]
  },
  {
   "cell_type": "code",
   "execution_count": 192,
   "id": "9cf2e0db",
   "metadata": {},
   "outputs": [
    {
     "data": {
      "text/plain": [
       "256200.0"
      ]
     },
     "execution_count": 192,
     "metadata": {},
     "output_type": "execute_result"
    }
   ],
   "source": [
    "# 2 Select all the even indexed rows from the given dataset. What is the value in the 3rd indexed column of the 332th indexed \n",
    "# row in the selected dataframe. (row/ column indexed from zero(0))\n",
    "\n",
    "house[house.index % 2 == 0].reset_index(drop=True).iloc[332,3]"
   ]
  },
  {
   "cell_type": "code",
   "execution_count": 193,
   "id": "fac879ed",
   "metadata": {},
   "outputs": [
    {
     "data": {
      "text/plain": [
       "352940.0"
      ]
     },
     "execution_count": 193,
     "metadata": {},
     "output_type": "execute_result"
    }
   ],
   "source": [
    "# 3 Select all the odd indexed rows from the given dataset. What is the value in the 3rd indexed column of the 332th indexed \n",
    "# row in the selected dataframe. (row/ column indexed from zero(0))\n",
    "#  Please consider case sensitivity while giving your solution capital letter ≠ small letter\n",
    "#  If it is a string don't write quotes in the solution.\n",
    "\n",
    "house[house.index % 2 == 1].reset_index(drop = True).iloc[332,3]"
   ]
  },
  {
   "cell_type": "code",
   "execution_count": 194,
   "id": "5efdf16f",
   "metadata": {},
   "outputs": [
    {
     "data": {
      "text/plain": [
       "'West'"
      ]
     },
     "execution_count": 194,
     "metadata": {},
     "output_type": "execute_result"
    }
   ],
   "source": [
    "# 4 Select all the odd indexed columns from the given dataset. What is the value in the 5th indexed column of the 100th indexed\n",
    "# row in the selected dataframe. (row/ column indexed from zero(0))\n",
    "# Please consider case sensitivity while giving your solution capital letter ≠ small letter\n",
    "# If it is a string don't write quotes in the solution.\n",
    "\n",
    "house.iloc[:,1::2].iloc[100,5]"
   ]
  },
  {
   "cell_type": "code",
   "execution_count": 195,
   "id": "4bbd34da",
   "metadata": {},
   "outputs": [
    {
     "data": {
      "text/plain": [
       "'Detached House'"
      ]
     },
     "execution_count": 195,
     "metadata": {},
     "output_type": "execute_result"
    }
   ],
   "source": [
    "# 5 Select all the even indexed columns and even indexed rows from the given dataset. What is the value in the 3th indexed \n",
    "# column of the 255th indexed row in the selected dataframe. (row/ column indexed/starts from zero(0))\n",
    "# Please consider case sensitivity while giving your solution capital letter ≠ small letter\n",
    "# If it is a string don't write quotes in the solution.\n",
    "\n",
    "house.iloc[::2,::2].reset_index(drop=True).iloc[255,3]"
   ]
  },
  {
   "cell_type": "code",
   "execution_count": 196,
   "id": "b0699b48",
   "metadata": {},
   "outputs": [
    {
     "data": {
      "text/plain": [
       "4749"
      ]
     },
     "execution_count": 196,
     "metadata": {},
     "output_type": "execute_result"
    }
   ],
   "source": [
    "# 6 Determine the number of samples (rows) in the dataset that belong to the six most recent years, based on the provided data.\n",
    "\n",
    "house[\"Year\"].value_counts().sort_index(ascending = False).iloc[0:6].sum()"
   ]
  },
  {
   "cell_type": "code",
   "execution_count": 197,
   "id": "bf39fe09",
   "metadata": {},
   "outputs": [
    {
     "data": {
      "text/plain": [
       "2730"
      ]
     },
     "execution_count": 197,
     "metadata": {},
     "output_type": "execute_result"
    }
   ],
   "source": [
    "# 7 Determine the number of samples (rows) in the dataset which has num_rooms = 3 and num_bathrooms = 3\n",
    "\n",
    "house[(house[\"num_rooms\"] == 3) & (house[\"num_bathrooms\"] == 3)].shape[0]"
   ]
  },
  {
   "cell_type": "code",
   "execution_count": 198,
   "id": "40fa3618",
   "metadata": {},
   "outputs": [
    {
     "data": {
      "text/plain": [
       "8591"
      ]
     },
     "execution_count": 198,
     "metadata": {},
     "output_type": "execute_result"
    }
   ],
   "source": [
    "# 8 Determine the number of samples (rows) in the dataset which has num_rooms = 3 or num_bathrooms = 3\n",
    "\n",
    "house[(house[\"num_rooms\"] == 3) | (house[\"num_bathrooms\"] == 3)].shape[0]"
   ]
  },
  {
   "cell_type": "code",
   "execution_count": 199,
   "id": "d2dc6dcc",
   "metadata": {},
   "outputs": [
    {
     "data": {
      "text/plain": [
       "42"
      ]
     },
     "execution_count": 199,
     "metadata": {},
     "output_type": "execute_result"
    }
   ],
   "source": [
    "# 9 In the Year 2022, how many houses (rows) located in the Greenwich Locality have exactly num_room == 3, and facing towards \n",
    "# either the North or East?\n",
    "\n",
    "temp = house[(house[\"Year\"] == 2022) & (house[\"Locality\"] == \"Greenwich\")]\n",
    "temp[(temp[\"num_rooms\"] == 3) & (temp[\"Face\"].isin([\"North\",\"East\"]))].shape[0]"
   ]
  },
  {
   "cell_type": "code",
   "execution_count": 200,
   "id": "0da083e8",
   "metadata": {},
   "outputs": [
    {
     "data": {
      "text/plain": [
       "1050"
      ]
     },
     "execution_count": 200,
     "metadata": {},
     "output_type": "execute_result"
    }
   ],
   "source": [
    "# 10 Calculate the number of samples(rows) that correspond to the month of August across all the years.?\n",
    "\n",
    "def month(date):\n",
    "    date = date.split(\"-\")\n",
    "    \n",
    "    if(int(date[1]) == 8):\n",
    "        return 1\n",
    "    else:\n",
    "        return 0\n",
    "    \n",
    "house[\"Month\"] = house[\"Date\"].apply(month)\n",
    "house[house[\"Month\"] == 1].shape[0]"
   ]
  },
  {
   "cell_type": "code",
   "execution_count": 201,
   "id": "449957ab",
   "metadata": {},
   "outputs": [
    {
     "data": {
      "text/plain": [
       "Locality\n",
       "Greenwich        2.270224e+06\n",
       "Fairfield        7.277225e+05\n",
       "Stamford         6.305313e+05\n",
       "Norwalk          5.590959e+05\n",
       "West Hartford    3.385472e+05\n",
       "Bridgeport       1.740953e+05\n",
       "Waterbury        1.062152e+05\n",
       "Name: Sale Price, dtype: float64"
      ]
     },
     "execution_count": 201,
     "metadata": {},
     "output_type": "execute_result"
    }
   ],
   "source": [
    "# 11 According to the data which Locality have highest average Sale Price?\n",
    "\n",
    "house.groupby(\"Locality\")[\"Sale Price\"].agg(\"mean\").sort_values(ascending = False)"
   ]
  },
  {
   "cell_type": "markdown",
   "id": "3047d6aa",
   "metadata": {},
   "source": [
    "## Question4"
   ]
  },
  {
   "cell_type": "code",
   "execution_count": 202,
   "id": "3d9b298e",
   "metadata": {},
   "outputs": [],
   "source": [
    "rating = pd.read_csv(\"ratings.csv\")\n",
    "books = pd.read_csv(\"books.csv\")\n",
    "book_tag = pd.read_csv(\"book_tags.csv\")\n",
    "read = pd.read_csv(\"toread.csv\")"
   ]
  },
  {
   "cell_type": "code",
   "execution_count": 203,
   "id": "f2a50950",
   "metadata": {},
   "outputs": [
    {
     "data": {
      "text/plain": [
       "627    The Almost Moon\n",
       "Name: title, dtype: object"
      ]
     },
     "execution_count": 203,
     "metadata": {},
     "output_type": "execute_result"
    }
   ],
   "source": [
    "# Q1 : Which book (title) has the minimum (average_rating) [books.csv], if more than 1 book have same average rating, sort the \n",
    "# books by ['title'] in alphabetical order and use the first book in the sorted list? (S)\n",
    "\n",
    "books[books[\"average_rating\"] == books[\"average_rating\"].min()][\"title\"]"
   ]
  },
  {
   "cell_type": "code",
   "execution_count": 204,
   "id": "716d10f8",
   "metadata": {},
   "outputs": [
    {
     "data": {
      "text/plain": [
       "22352"
      ]
     },
     "execution_count": 204,
     "metadata": {},
     "output_type": "execute_result"
    }
   ],
   "source": [
    "# Q2 : Which (tag_id) is the most frequently used ie. mapped with the highest number of books [book_tags.csv] ? (In case of more \n",
    "# than one tag, mention the tag id with the least numerical value) (N)\n",
    "\n",
    "df = book_tag.groupby(\"tag_id\")[\"goodreads_book_id\"].agg(\"count\")\n",
    "df.sort_values(ascending=False).head(1).index[0]"
   ]
  },
  {
   "cell_type": "code",
   "execution_count": 205,
   "id": "c35c38cf",
   "metadata": {},
   "outputs": [
    {
     "data": {
      "text/plain": [
       "54"
      ]
     },
     "execution_count": 205,
     "metadata": {},
     "output_type": "execute_result"
    }
   ],
   "source": [
    "# Q3 : How many books do not have an original title [books.csv] ? (N)\n",
    "\n",
    "books[\"original_title\"].isnull().sum()"
   ]
  },
  {
   "cell_type": "code",
   "execution_count": 206,
   "id": "a0305beb",
   "metadata": {},
   "outputs": [
    {
     "data": {
      "text/plain": [
       "array([\"Harry Potter and the Sorcerer's Stone (Harry Potter, #1)\"],\n",
       "      dtype=object)"
      ]
     },
     "execution_count": 206,
     "metadata": {},
     "output_type": "execute_result"
    }
   ],
   "source": [
    "# Q4 : Which book (title) has the maximum number of ratings based on (work_ratings_count) [books.csv] ? (S)\n",
    "\n",
    "books[books[\"work_ratings_count\"] == books[\"work_ratings_count\"].max()][\"title\"].values"
   ]
  },
  {
   "cell_type": "code",
   "execution_count": 207,
   "id": "841bc8f9",
   "metadata": {},
   "outputs": [
    {
     "data": {
      "text/plain": [
       "0"
      ]
     },
     "execution_count": 207,
     "metadata": {},
     "output_type": "execute_result"
    }
   ],
   "source": [
    "# Q5 : Which is the least used tag, i.e. mapped with the lowest number of books [book_tags.csv]? (In case of more than one tag, \n",
    "# mention the tag id with the least numerical value) (N)\n",
    "\n",
    "df = book_tag.groupby(\"tag_id\")[\"goodreads_book_id\"].agg(\"count\")\n",
    "df.sort_values().index[0]"
   ]
  },
  {
   "cell_type": "code",
   "execution_count": 208,
   "id": "4b4b1a95",
   "metadata": {},
   "outputs": [
    {
     "data": {
      "text/plain": [
       "3.98"
      ]
     },
     "execution_count": 208,
     "metadata": {},
     "output_type": "execute_result"
    }
   ],
   "source": [
    "# Q6 : What is the mean value of rating of all the books in the dataset based on (average_rating) [books.csv] ? (F)\n",
    "\n",
    "round(books[\"average_rating\"].mean(),2)"
   ]
  },
  {
   "cell_type": "code",
   "execution_count": 209,
   "id": "8b6a8524",
   "metadata": {},
   "outputs": [
    {
     "data": {
      "text/plain": [
       "13545345"
      ]
     },
     "execution_count": 209,
     "metadata": {},
     "output_type": "execute_result"
    }
   ],
   "source": [
    "# Q7 : Which book (goodreads_book_id) has the least number of count of tags given by the user ie. the book with minimum user \n",
    "# records including all tags [book_tags.csv] ? (N)\n",
    "\n",
    "df = book_tag.groupby(\"goodreads_book_id\")[\"count\"].agg(\"sum\")\n",
    "df.sort_values().index[0]"
   ]
  },
  {
   "cell_type": "code",
   "execution_count": 210,
   "id": "1426bf22",
   "metadata": {},
   "outputs": [
    {
     "data": {
      "text/plain": [
       "53323"
      ]
     },
     "execution_count": 210,
     "metadata": {},
     "output_type": "execute_result"
    }
   ],
   "source": [
    "# Q8 : How many unique users are present in the dataset [ratings.csv] ? (N)\n",
    "\n",
    "len(rating[\"user_id\"].unique())"
   ]
  },
  {
   "cell_type": "code",
   "execution_count": 211,
   "id": "97b151fd",
   "metadata": {},
   "outputs": [
    {
     "data": {
      "text/plain": [
       "8789"
      ]
     },
     "execution_count": 211,
     "metadata": {},
     "output_type": "execute_result"
    }
   ],
   "source": [
    "# Q9 : How many unique tags are there in the dataset [book_tags.csv] ? (N)\n",
    "\n",
    "len(book_tag[\"tag_id\"].unique())"
   ]
  },
  {
   "cell_type": "code",
   "execution_count": 212,
   "id": "d5fc04bc",
   "metadata": {},
   "outputs": [
    {
     "data": {
      "text/plain": [
       "1167"
      ]
     },
     "execution_count": 212,
     "metadata": {},
     "output_type": "execute_result"
    }
   ],
   "source": [
    "# Q10 : Predict sentiment using Textblob. How many positive titles (original_title) are there [books.csv] ? (cut-off >=0) N\n",
    "\n",
    "df = pd.DataFrame({\"original_title\":books[books[\"original_title\"].notnull()][\"original_title\"]})\n",
    "df[\"Subjectivity\"] = df[\"original_title\"].apply(lambda x : TextBlob(x).sentiment.subjectivity)\n",
    "df[\"Polarity\"] = df[\"original_title\"].apply(lambda x : TextBlob(x).sentiment.polarity)\n",
    "\n",
    "df[\"Sentiment\"] = df[\"Polarity\"].apply(lambda x : \"Negative\" if x<0 else \"Positive\")\n",
    "len(df[df[\"Sentiment\"] == \"Positive\"])"
   ]
  },
  {
   "cell_type": "markdown",
   "id": "cbfca479",
   "metadata": {},
   "source": [
    "## Getting and Knowing your Data\n",
    "\n",
    "## Question 5a"
   ]
  },
  {
   "cell_type": "code",
   "execution_count": 213,
   "id": "3d880539",
   "metadata": {},
   "outputs": [
    {
     "data": {
      "text/html": [
       "<div>\n",
       "<style scoped>\n",
       "    .dataframe tbody tr th:only-of-type {\n",
       "        vertical-align: middle;\n",
       "    }\n",
       "\n",
       "    .dataframe tbody tr th {\n",
       "        vertical-align: top;\n",
       "    }\n",
       "\n",
       "    .dataframe thead th {\n",
       "        text-align: right;\n",
       "    }\n",
       "</style>\n",
       "<table border=\"1\" class=\"dataframe\">\n",
       "  <thead>\n",
       "    <tr style=\"text-align: right;\">\n",
       "      <th></th>\n",
       "      <th>order_id</th>\n",
       "      <th>quantity</th>\n",
       "      <th>item_name</th>\n",
       "      <th>choice_description</th>\n",
       "      <th>item_price</th>\n",
       "    </tr>\n",
       "  </thead>\n",
       "  <tbody>\n",
       "    <tr>\n",
       "      <th>0</th>\n",
       "      <td>1</td>\n",
       "      <td>1</td>\n",
       "      <td>Chips and Fresh Tomato Salsa</td>\n",
       "      <td>NaN</td>\n",
       "      <td>$2.39</td>\n",
       "    </tr>\n",
       "    <tr>\n",
       "      <th>1</th>\n",
       "      <td>1</td>\n",
       "      <td>1</td>\n",
       "      <td>Izze</td>\n",
       "      <td>[Clementine]</td>\n",
       "      <td>$3.39</td>\n",
       "    </tr>\n",
       "    <tr>\n",
       "      <th>2</th>\n",
       "      <td>1</td>\n",
       "      <td>1</td>\n",
       "      <td>Nantucket Nectar</td>\n",
       "      <td>[Apple]</td>\n",
       "      <td>$3.39</td>\n",
       "    </tr>\n",
       "    <tr>\n",
       "      <th>3</th>\n",
       "      <td>1</td>\n",
       "      <td>1</td>\n",
       "      <td>Chips and Tomatillo-Green Chili Salsa</td>\n",
       "      <td>NaN</td>\n",
       "      <td>$2.39</td>\n",
       "    </tr>\n",
       "    <tr>\n",
       "      <th>4</th>\n",
       "      <td>2</td>\n",
       "      <td>2</td>\n",
       "      <td>Chicken Bowl</td>\n",
       "      <td>[Tomatillo-Red Chili Salsa (Hot), [Black Beans...</td>\n",
       "      <td>$16.98</td>\n",
       "    </tr>\n",
       "    <tr>\n",
       "      <th>...</th>\n",
       "      <td>...</td>\n",
       "      <td>...</td>\n",
       "      <td>...</td>\n",
       "      <td>...</td>\n",
       "      <td>...</td>\n",
       "    </tr>\n",
       "    <tr>\n",
       "      <th>4617</th>\n",
       "      <td>1833</td>\n",
       "      <td>1</td>\n",
       "      <td>Steak Burrito</td>\n",
       "      <td>[Fresh Tomato Salsa, [Rice, Black Beans, Sour ...</td>\n",
       "      <td>$11.75</td>\n",
       "    </tr>\n",
       "    <tr>\n",
       "      <th>4618</th>\n",
       "      <td>1833</td>\n",
       "      <td>1</td>\n",
       "      <td>Steak Burrito</td>\n",
       "      <td>[Fresh Tomato Salsa, [Rice, Sour Cream, Cheese...</td>\n",
       "      <td>$11.75</td>\n",
       "    </tr>\n",
       "    <tr>\n",
       "      <th>4619</th>\n",
       "      <td>1834</td>\n",
       "      <td>1</td>\n",
       "      <td>Chicken Salad Bowl</td>\n",
       "      <td>[Fresh Tomato Salsa, [Fajita Vegetables, Pinto...</td>\n",
       "      <td>$11.25</td>\n",
       "    </tr>\n",
       "    <tr>\n",
       "      <th>4620</th>\n",
       "      <td>1834</td>\n",
       "      <td>1</td>\n",
       "      <td>Chicken Salad Bowl</td>\n",
       "      <td>[Fresh Tomato Salsa, [Fajita Vegetables, Lettu...</td>\n",
       "      <td>$8.75</td>\n",
       "    </tr>\n",
       "    <tr>\n",
       "      <th>4621</th>\n",
       "      <td>1834</td>\n",
       "      <td>1</td>\n",
       "      <td>Chicken Salad Bowl</td>\n",
       "      <td>[Fresh Tomato Salsa, [Fajita Vegetables, Pinto...</td>\n",
       "      <td>$8.75</td>\n",
       "    </tr>\n",
       "  </tbody>\n",
       "</table>\n",
       "<p>4622 rows × 5 columns</p>\n",
       "</div>"
      ],
      "text/plain": [
       "      order_id  quantity                              item_name  \\\n",
       "0            1         1           Chips and Fresh Tomato Salsa   \n",
       "1            1         1                                   Izze   \n",
       "2            1         1                       Nantucket Nectar   \n",
       "3            1         1  Chips and Tomatillo-Green Chili Salsa   \n",
       "4            2         2                           Chicken Bowl   \n",
       "...        ...       ...                                    ...   \n",
       "4617      1833         1                          Steak Burrito   \n",
       "4618      1833         1                          Steak Burrito   \n",
       "4619      1834         1                     Chicken Salad Bowl   \n",
       "4620      1834         1                     Chicken Salad Bowl   \n",
       "4621      1834         1                     Chicken Salad Bowl   \n",
       "\n",
       "                                     choice_description item_price  \n",
       "0                                                   NaN     $2.39   \n",
       "1                                          [Clementine]     $3.39   \n",
       "2                                               [Apple]     $3.39   \n",
       "3                                                   NaN     $2.39   \n",
       "4     [Tomatillo-Red Chili Salsa (Hot), [Black Beans...    $16.98   \n",
       "...                                                 ...        ...  \n",
       "4617  [Fresh Tomato Salsa, [Rice, Black Beans, Sour ...    $11.75   \n",
       "4618  [Fresh Tomato Salsa, [Rice, Sour Cream, Cheese...    $11.75   \n",
       "4619  [Fresh Tomato Salsa, [Fajita Vegetables, Pinto...    $11.25   \n",
       "4620  [Fresh Tomato Salsa, [Fajita Vegetables, Lettu...     $8.75   \n",
       "4621  [Fresh Tomato Salsa, [Fajita Vegetables, Pinto...     $8.75   \n",
       "\n",
       "[4622 rows x 5 columns]"
      ]
     },
     "execution_count": 213,
     "metadata": {},
     "output_type": "execute_result"
    }
   ],
   "source": [
    "# 1 Import the dataset from this https://raw.githubusercontent.com/justmarkham/DAT8/master/data/chipotle.tsv\n",
    "# Assign it to a variable called chipo.\n",
    "\n",
    "chipo = pd.read_csv(\"https://raw.githubusercontent.com/justmarkham/DAT8/master/data/chipotle.tsv\",sep=\"\\t\")\n",
    "chipo"
   ]
  },
  {
   "cell_type": "code",
   "execution_count": 214,
   "id": "e141cb1c",
   "metadata": {},
   "outputs": [
    {
     "data": {
      "text/html": [
       "<div>\n",
       "<style scoped>\n",
       "    .dataframe tbody tr th:only-of-type {\n",
       "        vertical-align: middle;\n",
       "    }\n",
       "\n",
       "    .dataframe tbody tr th {\n",
       "        vertical-align: top;\n",
       "    }\n",
       "\n",
       "    .dataframe thead th {\n",
       "        text-align: right;\n",
       "    }\n",
       "</style>\n",
       "<table border=\"1\" class=\"dataframe\">\n",
       "  <thead>\n",
       "    <tr style=\"text-align: right;\">\n",
       "      <th></th>\n",
       "      <th>order_id</th>\n",
       "      <th>quantity</th>\n",
       "      <th>item_name</th>\n",
       "      <th>choice_description</th>\n",
       "      <th>item_price</th>\n",
       "    </tr>\n",
       "  </thead>\n",
       "  <tbody>\n",
       "    <tr>\n",
       "      <th>0</th>\n",
       "      <td>1</td>\n",
       "      <td>1</td>\n",
       "      <td>Chips and Fresh Tomato Salsa</td>\n",
       "      <td>NaN</td>\n",
       "      <td>$2.39</td>\n",
       "    </tr>\n",
       "    <tr>\n",
       "      <th>1</th>\n",
       "      <td>1</td>\n",
       "      <td>1</td>\n",
       "      <td>Izze</td>\n",
       "      <td>[Clementine]</td>\n",
       "      <td>$3.39</td>\n",
       "    </tr>\n",
       "    <tr>\n",
       "      <th>2</th>\n",
       "      <td>1</td>\n",
       "      <td>1</td>\n",
       "      <td>Nantucket Nectar</td>\n",
       "      <td>[Apple]</td>\n",
       "      <td>$3.39</td>\n",
       "    </tr>\n",
       "    <tr>\n",
       "      <th>3</th>\n",
       "      <td>1</td>\n",
       "      <td>1</td>\n",
       "      <td>Chips and Tomatillo-Green Chili Salsa</td>\n",
       "      <td>NaN</td>\n",
       "      <td>$2.39</td>\n",
       "    </tr>\n",
       "    <tr>\n",
       "      <th>4</th>\n",
       "      <td>2</td>\n",
       "      <td>2</td>\n",
       "      <td>Chicken Bowl</td>\n",
       "      <td>[Tomatillo-Red Chili Salsa (Hot), [Black Beans...</td>\n",
       "      <td>$16.98</td>\n",
       "    </tr>\n",
       "    <tr>\n",
       "      <th>5</th>\n",
       "      <td>3</td>\n",
       "      <td>1</td>\n",
       "      <td>Chicken Bowl</td>\n",
       "      <td>[Fresh Tomato Salsa (Mild), [Rice, Cheese, Sou...</td>\n",
       "      <td>$10.98</td>\n",
       "    </tr>\n",
       "    <tr>\n",
       "      <th>6</th>\n",
       "      <td>3</td>\n",
       "      <td>1</td>\n",
       "      <td>Side of Chips</td>\n",
       "      <td>NaN</td>\n",
       "      <td>$1.69</td>\n",
       "    </tr>\n",
       "    <tr>\n",
       "      <th>7</th>\n",
       "      <td>4</td>\n",
       "      <td>1</td>\n",
       "      <td>Steak Burrito</td>\n",
       "      <td>[Tomatillo Red Chili Salsa, [Fajita Vegetables...</td>\n",
       "      <td>$11.75</td>\n",
       "    </tr>\n",
       "    <tr>\n",
       "      <th>8</th>\n",
       "      <td>4</td>\n",
       "      <td>1</td>\n",
       "      <td>Steak Soft Tacos</td>\n",
       "      <td>[Tomatillo Green Chili Salsa, [Pinto Beans, Ch...</td>\n",
       "      <td>$9.25</td>\n",
       "    </tr>\n",
       "    <tr>\n",
       "      <th>9</th>\n",
       "      <td>5</td>\n",
       "      <td>1</td>\n",
       "      <td>Steak Burrito</td>\n",
       "      <td>[Fresh Tomato Salsa, [Rice, Black Beans, Pinto...</td>\n",
       "      <td>$9.25</td>\n",
       "    </tr>\n",
       "  </tbody>\n",
       "</table>\n",
       "</div>"
      ],
      "text/plain": [
       "   order_id  quantity                              item_name  \\\n",
       "0         1         1           Chips and Fresh Tomato Salsa   \n",
       "1         1         1                                   Izze   \n",
       "2         1         1                       Nantucket Nectar   \n",
       "3         1         1  Chips and Tomatillo-Green Chili Salsa   \n",
       "4         2         2                           Chicken Bowl   \n",
       "5         3         1                           Chicken Bowl   \n",
       "6         3         1                          Side of Chips   \n",
       "7         4         1                          Steak Burrito   \n",
       "8         4         1                       Steak Soft Tacos   \n",
       "9         5         1                          Steak Burrito   \n",
       "\n",
       "                                  choice_description item_price  \n",
       "0                                                NaN     $2.39   \n",
       "1                                       [Clementine]     $3.39   \n",
       "2                                            [Apple]     $3.39   \n",
       "3                                                NaN     $2.39   \n",
       "4  [Tomatillo-Red Chili Salsa (Hot), [Black Beans...    $16.98   \n",
       "5  [Fresh Tomato Salsa (Mild), [Rice, Cheese, Sou...    $10.98   \n",
       "6                                                NaN     $1.69   \n",
       "7  [Tomatillo Red Chili Salsa, [Fajita Vegetables...    $11.75   \n",
       "8  [Tomatillo Green Chili Salsa, [Pinto Beans, Ch...     $9.25   \n",
       "9  [Fresh Tomato Salsa, [Rice, Black Beans, Pinto...     $9.25   "
      ]
     },
     "execution_count": 214,
     "metadata": {},
     "output_type": "execute_result"
    }
   ],
   "source": [
    "# 2 See the first 10 entries\n",
    "\n",
    "chipo.head(n = 10)"
   ]
  },
  {
   "cell_type": "code",
   "execution_count": 215,
   "id": "8d18fa6e",
   "metadata": {},
   "outputs": [
    {
     "data": {
      "text/plain": [
       "4622"
      ]
     },
     "execution_count": 215,
     "metadata": {},
     "output_type": "execute_result"
    }
   ],
   "source": [
    "# 3 What is the number of observations in the dataset?\n",
    "\n",
    "chipo.shape[0]"
   ]
  },
  {
   "cell_type": "code",
   "execution_count": 216,
   "id": "1db679e9",
   "metadata": {},
   "outputs": [
    {
     "data": {
      "text/plain": [
       "5"
      ]
     },
     "execution_count": 216,
     "metadata": {},
     "output_type": "execute_result"
    }
   ],
   "source": [
    "# 4 What is the number of columns in the dataset?\n",
    "\n",
    "chipo.shape[1]"
   ]
  },
  {
   "cell_type": "code",
   "execution_count": 217,
   "id": "7f2e2e69",
   "metadata": {},
   "outputs": [
    {
     "data": {
      "text/plain": [
       "Index(['order_id', 'quantity', 'item_name', 'choice_description',\n",
       "       'item_price'],\n",
       "      dtype='object')"
      ]
     },
     "execution_count": 217,
     "metadata": {},
     "output_type": "execute_result"
    }
   ],
   "source": [
    "# 5 Print the name of all the columns.\n",
    "\n",
    "chipo.columns"
   ]
  },
  {
   "cell_type": "code",
   "execution_count": 218,
   "id": "b7db7820",
   "metadata": {},
   "outputs": [
    {
     "data": {
      "text/plain": [
       "RangeIndex(start=0, stop=4622, step=1)"
      ]
     },
     "execution_count": 218,
     "metadata": {},
     "output_type": "execute_result"
    }
   ],
   "source": [
    "# 6 How is the dataset indexed?\n",
    "\n",
    "chipo.index"
   ]
  },
  {
   "cell_type": "code",
   "execution_count": 219,
   "id": "e3808c9e",
   "metadata": {},
   "outputs": [
    {
     "data": {
      "text/plain": [
       "item_name\n",
       "Chicken Bowl    761\n",
       "Name: quantity, dtype: int64"
      ]
     },
     "execution_count": 219,
     "metadata": {},
     "output_type": "execute_result"
    }
   ],
   "source": [
    "# 7 Which was the most-ordered item?\n",
    "\n",
    "chipo.groupby(\"item_name\")[\"quantity\"].sum().sort_values(ascending=False).head(1)\n",
    "# chipo.groupby(\"item_name\").sum().sort_values([\"quantity\"],ascending=False).head(1)"
   ]
  },
  {
   "cell_type": "code",
   "execution_count": 220,
   "id": "98fea869",
   "metadata": {},
   "outputs": [
    {
     "data": {
      "text/plain": [
       "761"
      ]
     },
     "execution_count": 220,
     "metadata": {},
     "output_type": "execute_result"
    }
   ],
   "source": [
    "# 8 For the most-ordered item, how many items were ordered?\n",
    "\n",
    "chipo.groupby(\"item_name\")[\"quantity\"].sum().sort_values(ascending=False).head(n = 1).values[0]"
   ]
  },
  {
   "cell_type": "code",
   "execution_count": 221,
   "id": "fec2ecc9",
   "metadata": {},
   "outputs": [
    {
     "data": {
      "text/html": [
       "<div>\n",
       "<style scoped>\n",
       "    .dataframe tbody tr th:only-of-type {\n",
       "        vertical-align: middle;\n",
       "    }\n",
       "\n",
       "    .dataframe tbody tr th {\n",
       "        vertical-align: top;\n",
       "    }\n",
       "\n",
       "    .dataframe thead th {\n",
       "        text-align: right;\n",
       "    }\n",
       "</style>\n",
       "<table border=\"1\" class=\"dataframe\">\n",
       "  <thead>\n",
       "    <tr style=\"text-align: right;\">\n",
       "      <th></th>\n",
       "      <th>order_id</th>\n",
       "      <th>quantity</th>\n",
       "      <th>item_name</th>\n",
       "      <th>item_price</th>\n",
       "    </tr>\n",
       "    <tr>\n",
       "      <th>choice_description</th>\n",
       "      <th></th>\n",
       "      <th></th>\n",
       "      <th></th>\n",
       "      <th></th>\n",
       "    </tr>\n",
       "  </thead>\n",
       "  <tbody>\n",
       "    <tr>\n",
       "      <th>[Diet Coke]</th>\n",
       "      <td>123455</td>\n",
       "      <td>159</td>\n",
       "      <td>Canned SodaCanned SodaCanned Soda6 Pack Soft D...</td>\n",
       "      <td>$2.18 $1.09 $1.09 $6.49 $2.18 $1.25 $1.09 $6.4...</td>\n",
       "    </tr>\n",
       "  </tbody>\n",
       "</table>\n",
       "</div>"
      ],
      "text/plain": [
       "                    order_id  quantity  \\\n",
       "choice_description                       \n",
       "[Diet Coke]           123455       159   \n",
       "\n",
       "                                                            item_name  \\\n",
       "choice_description                                                      \n",
       "[Diet Coke]         Canned SodaCanned SodaCanned Soda6 Pack Soft D...   \n",
       "\n",
       "                                                           item_price  \n",
       "choice_description                                                     \n",
       "[Diet Coke]         $2.18 $1.09 $1.09 $6.49 $2.18 $1.25 $1.09 $6.4...  "
      ]
     },
     "execution_count": 221,
     "metadata": {},
     "output_type": "execute_result"
    }
   ],
   "source": [
    "# 9 What was the most ordered item in the choice_description column?\n",
    "\n",
    "chipo.groupby(\"choice_description\").sum().sort_values([\"quantity\"],ascending=False).head(1)"
   ]
  },
  {
   "cell_type": "code",
   "execution_count": 222,
   "id": "1b91416b",
   "metadata": {},
   "outputs": [
    {
     "data": {
      "text/plain": [
       "4972"
      ]
     },
     "execution_count": 222,
     "metadata": {},
     "output_type": "execute_result"
    }
   ],
   "source": [
    "# 10 How many items were orderd in total?\n",
    "\n",
    "chipo[\"quantity\"].sum()"
   ]
  },
  {
   "cell_type": "code",
   "execution_count": 223,
   "id": "dca8de20",
   "metadata": {},
   "outputs": [
    {
     "data": {
      "text/plain": [
       "dtype('float64')"
      ]
     },
     "execution_count": 223,
     "metadata": {},
     "output_type": "execute_result"
    }
   ],
   "source": [
    "# 11 Turn the item price into a float\n",
    "\n",
    "dollarizer = lambda x : float(x[1:-1])\n",
    "chipo[\"item_price\"] = chipo[\"item_price\"].apply(dollarizer)\n",
    "chipo[\"item_price\"].dtype"
   ]
  },
  {
   "cell_type": "code",
   "execution_count": 224,
   "id": "4c6018b9",
   "metadata": {},
   "outputs": [
    {
     "data": {
      "text/plain": [
       "39237.02"
      ]
     },
     "execution_count": 224,
     "metadata": {},
     "output_type": "execute_result"
    }
   ],
   "source": [
    "# 12 How much was the revenue for the period in the dataset?\n",
    "\n",
    "revenue = (chipo[\"quantity\"] * chipo[\"item_price\"]).sum()\n",
    "revenue"
   ]
  },
  {
   "cell_type": "code",
   "execution_count": 225,
   "id": "1263b284",
   "metadata": {},
   "outputs": [
    {
     "data": {
      "text/plain": [
       "1834"
      ]
     },
     "execution_count": 225,
     "metadata": {},
     "output_type": "execute_result"
    }
   ],
   "source": [
    "# 13 How many orders were made in the period?\n",
    "\n",
    "order = chipo[\"order_id\"].value_counts().count()\n",
    "order"
   ]
  },
  {
   "cell_type": "code",
   "execution_count": 226,
   "id": "e938b77f",
   "metadata": {},
   "outputs": [
    {
     "data": {
      "text/plain": [
       "21.39423118865867"
      ]
     },
     "execution_count": 226,
     "metadata": {},
     "output_type": "execute_result"
    }
   ],
   "source": [
    "# 14 What is the average revenue amount per order?\n",
    "\n",
    "average_revenue = revenue / order\n",
    "average_revenue"
   ]
  },
  {
   "cell_type": "code",
   "execution_count": 227,
   "id": "6e4b6dce",
   "metadata": {},
   "outputs": [
    {
     "data": {
      "text/plain": [
       "50"
      ]
     },
     "execution_count": 227,
     "metadata": {},
     "output_type": "execute_result"
    }
   ],
   "source": [
    "# 15 How many different items are sold?\n",
    "\n",
    "chipo[\"item_name\"].value_counts().count()"
   ]
  },
  {
   "cell_type": "markdown",
   "id": "169f0d15",
   "metadata": {},
   "source": [
    "## Question 5b"
   ]
  },
  {
   "cell_type": "code",
   "execution_count": 228,
   "id": "b7962a00",
   "metadata": {},
   "outputs": [],
   "source": [
    "# 1 Import the dataset from this https://raw.githubusercontent.com/justmarkham/DAT8/master/data/u.user.Assign it to a variable \n",
    "# called users and use the 'user_id' as index\n",
    "\n",
    "users = pd.read_csv(\"https://raw.githubusercontent.com/justmarkham/DAT8/master/data/u.user\",sep=\"|\",index_col=\"user_id\")"
   ]
  },
  {
   "cell_type": "code",
   "execution_count": 229,
   "id": "25d8ab7b",
   "metadata": {},
   "outputs": [
    {
     "data": {
      "text/html": [
       "<div>\n",
       "<style scoped>\n",
       "    .dataframe tbody tr th:only-of-type {\n",
       "        vertical-align: middle;\n",
       "    }\n",
       "\n",
       "    .dataframe tbody tr th {\n",
       "        vertical-align: top;\n",
       "    }\n",
       "\n",
       "    .dataframe thead th {\n",
       "        text-align: right;\n",
       "    }\n",
       "</style>\n",
       "<table border=\"1\" class=\"dataframe\">\n",
       "  <thead>\n",
       "    <tr style=\"text-align: right;\">\n",
       "      <th></th>\n",
       "      <th>age</th>\n",
       "      <th>gender</th>\n",
       "      <th>occupation</th>\n",
       "      <th>zip_code</th>\n",
       "    </tr>\n",
       "    <tr>\n",
       "      <th>user_id</th>\n",
       "      <th></th>\n",
       "      <th></th>\n",
       "      <th></th>\n",
       "      <th></th>\n",
       "    </tr>\n",
       "  </thead>\n",
       "  <tbody>\n",
       "    <tr>\n",
       "      <th>1</th>\n",
       "      <td>24</td>\n",
       "      <td>M</td>\n",
       "      <td>technician</td>\n",
       "      <td>85711</td>\n",
       "    </tr>\n",
       "    <tr>\n",
       "      <th>2</th>\n",
       "      <td>53</td>\n",
       "      <td>F</td>\n",
       "      <td>other</td>\n",
       "      <td>94043</td>\n",
       "    </tr>\n",
       "    <tr>\n",
       "      <th>3</th>\n",
       "      <td>23</td>\n",
       "      <td>M</td>\n",
       "      <td>writer</td>\n",
       "      <td>32067</td>\n",
       "    </tr>\n",
       "    <tr>\n",
       "      <th>4</th>\n",
       "      <td>24</td>\n",
       "      <td>M</td>\n",
       "      <td>technician</td>\n",
       "      <td>43537</td>\n",
       "    </tr>\n",
       "    <tr>\n",
       "      <th>5</th>\n",
       "      <td>33</td>\n",
       "      <td>F</td>\n",
       "      <td>other</td>\n",
       "      <td>15213</td>\n",
       "    </tr>\n",
       "    <tr>\n",
       "      <th>6</th>\n",
       "      <td>42</td>\n",
       "      <td>M</td>\n",
       "      <td>executive</td>\n",
       "      <td>98101</td>\n",
       "    </tr>\n",
       "    <tr>\n",
       "      <th>7</th>\n",
       "      <td>57</td>\n",
       "      <td>M</td>\n",
       "      <td>administrator</td>\n",
       "      <td>91344</td>\n",
       "    </tr>\n",
       "    <tr>\n",
       "      <th>8</th>\n",
       "      <td>36</td>\n",
       "      <td>M</td>\n",
       "      <td>administrator</td>\n",
       "      <td>05201</td>\n",
       "    </tr>\n",
       "    <tr>\n",
       "      <th>9</th>\n",
       "      <td>29</td>\n",
       "      <td>M</td>\n",
       "      <td>student</td>\n",
       "      <td>01002</td>\n",
       "    </tr>\n",
       "    <tr>\n",
       "      <th>10</th>\n",
       "      <td>53</td>\n",
       "      <td>M</td>\n",
       "      <td>lawyer</td>\n",
       "      <td>90703</td>\n",
       "    </tr>\n",
       "    <tr>\n",
       "      <th>11</th>\n",
       "      <td>39</td>\n",
       "      <td>F</td>\n",
       "      <td>other</td>\n",
       "      <td>30329</td>\n",
       "    </tr>\n",
       "    <tr>\n",
       "      <th>12</th>\n",
       "      <td>28</td>\n",
       "      <td>F</td>\n",
       "      <td>other</td>\n",
       "      <td>06405</td>\n",
       "    </tr>\n",
       "    <tr>\n",
       "      <th>13</th>\n",
       "      <td>47</td>\n",
       "      <td>M</td>\n",
       "      <td>educator</td>\n",
       "      <td>29206</td>\n",
       "    </tr>\n",
       "    <tr>\n",
       "      <th>14</th>\n",
       "      <td>45</td>\n",
       "      <td>M</td>\n",
       "      <td>scientist</td>\n",
       "      <td>55106</td>\n",
       "    </tr>\n",
       "    <tr>\n",
       "      <th>15</th>\n",
       "      <td>49</td>\n",
       "      <td>F</td>\n",
       "      <td>educator</td>\n",
       "      <td>97301</td>\n",
       "    </tr>\n",
       "    <tr>\n",
       "      <th>16</th>\n",
       "      <td>21</td>\n",
       "      <td>M</td>\n",
       "      <td>entertainment</td>\n",
       "      <td>10309</td>\n",
       "    </tr>\n",
       "    <tr>\n",
       "      <th>17</th>\n",
       "      <td>30</td>\n",
       "      <td>M</td>\n",
       "      <td>programmer</td>\n",
       "      <td>06355</td>\n",
       "    </tr>\n",
       "    <tr>\n",
       "      <th>18</th>\n",
       "      <td>35</td>\n",
       "      <td>F</td>\n",
       "      <td>other</td>\n",
       "      <td>37212</td>\n",
       "    </tr>\n",
       "    <tr>\n",
       "      <th>19</th>\n",
       "      <td>40</td>\n",
       "      <td>M</td>\n",
       "      <td>librarian</td>\n",
       "      <td>02138</td>\n",
       "    </tr>\n",
       "    <tr>\n",
       "      <th>20</th>\n",
       "      <td>42</td>\n",
       "      <td>F</td>\n",
       "      <td>homemaker</td>\n",
       "      <td>95660</td>\n",
       "    </tr>\n",
       "    <tr>\n",
       "      <th>21</th>\n",
       "      <td>26</td>\n",
       "      <td>M</td>\n",
       "      <td>writer</td>\n",
       "      <td>30068</td>\n",
       "    </tr>\n",
       "    <tr>\n",
       "      <th>22</th>\n",
       "      <td>25</td>\n",
       "      <td>M</td>\n",
       "      <td>writer</td>\n",
       "      <td>40206</td>\n",
       "    </tr>\n",
       "    <tr>\n",
       "      <th>23</th>\n",
       "      <td>30</td>\n",
       "      <td>F</td>\n",
       "      <td>artist</td>\n",
       "      <td>48197</td>\n",
       "    </tr>\n",
       "    <tr>\n",
       "      <th>24</th>\n",
       "      <td>21</td>\n",
       "      <td>F</td>\n",
       "      <td>artist</td>\n",
       "      <td>94533</td>\n",
       "    </tr>\n",
       "    <tr>\n",
       "      <th>25</th>\n",
       "      <td>39</td>\n",
       "      <td>M</td>\n",
       "      <td>engineer</td>\n",
       "      <td>55107</td>\n",
       "    </tr>\n",
       "  </tbody>\n",
       "</table>\n",
       "</div>"
      ],
      "text/plain": [
       "         age gender     occupation zip_code\n",
       "user_id                                    \n",
       "1         24      M     technician    85711\n",
       "2         53      F          other    94043\n",
       "3         23      M         writer    32067\n",
       "4         24      M     technician    43537\n",
       "5         33      F          other    15213\n",
       "6         42      M      executive    98101\n",
       "7         57      M  administrator    91344\n",
       "8         36      M  administrator    05201\n",
       "9         29      M        student    01002\n",
       "10        53      M         lawyer    90703\n",
       "11        39      F          other    30329\n",
       "12        28      F          other    06405\n",
       "13        47      M       educator    29206\n",
       "14        45      M      scientist    55106\n",
       "15        49      F       educator    97301\n",
       "16        21      M  entertainment    10309\n",
       "17        30      M     programmer    06355\n",
       "18        35      F          other    37212\n",
       "19        40      M      librarian    02138\n",
       "20        42      F      homemaker    95660\n",
       "21        26      M         writer    30068\n",
       "22        25      M         writer    40206\n",
       "23        30      F         artist    48197\n",
       "24        21      F         artist    94533\n",
       "25        39      M       engineer    55107"
      ]
     },
     "execution_count": 229,
     "metadata": {},
     "output_type": "execute_result"
    }
   ],
   "source": [
    "# 2 See the first 25 entries\n",
    "\n",
    "users.head(n = 25)"
   ]
  },
  {
   "cell_type": "code",
   "execution_count": 230,
   "id": "a823375f",
   "metadata": {},
   "outputs": [
    {
     "data": {
      "text/html": [
       "<div>\n",
       "<style scoped>\n",
       "    .dataframe tbody tr th:only-of-type {\n",
       "        vertical-align: middle;\n",
       "    }\n",
       "\n",
       "    .dataframe tbody tr th {\n",
       "        vertical-align: top;\n",
       "    }\n",
       "\n",
       "    .dataframe thead th {\n",
       "        text-align: right;\n",
       "    }\n",
       "</style>\n",
       "<table border=\"1\" class=\"dataframe\">\n",
       "  <thead>\n",
       "    <tr style=\"text-align: right;\">\n",
       "      <th></th>\n",
       "      <th>original_title</th>\n",
       "      <th>Subjectivity</th>\n",
       "      <th>Polarity</th>\n",
       "      <th>Sentiment</th>\n",
       "    </tr>\n",
       "  </thead>\n",
       "  <tbody>\n",
       "    <tr>\n",
       "      <th>1299</th>\n",
       "      <td>Divine Madness</td>\n",
       "      <td>0.000000</td>\n",
       "      <td>0.000000</td>\n",
       "      <td>Positive</td>\n",
       "    </tr>\n",
       "    <tr>\n",
       "      <th>1300</th>\n",
       "      <td>Such a Rush</td>\n",
       "      <td>0.500000</td>\n",
       "      <td>0.000000</td>\n",
       "      <td>Positive</td>\n",
       "    </tr>\n",
       "    <tr>\n",
       "      <th>1301</th>\n",
       "      <td>Blue Noon (Midnighters, #3)</td>\n",
       "      <td>0.100000</td>\n",
       "      <td>0.000000</td>\n",
       "      <td>Positive</td>\n",
       "    </tr>\n",
       "    <tr>\n",
       "      <th>1302</th>\n",
       "      <td>Hidden</td>\n",
       "      <td>0.333333</td>\n",
       "      <td>-0.166667</td>\n",
       "      <td>Negative</td>\n",
       "    </tr>\n",
       "    <tr>\n",
       "      <th>1303</th>\n",
       "      <td>Thank You for Smoking</td>\n",
       "      <td>0.000000</td>\n",
       "      <td>0.000000</td>\n",
       "      <td>Positive</td>\n",
       "    </tr>\n",
       "    <tr>\n",
       "      <th>1304</th>\n",
       "      <td>Thirteen Moons</td>\n",
       "      <td>0.000000</td>\n",
       "      <td>0.000000</td>\n",
       "      <td>Positive</td>\n",
       "    </tr>\n",
       "    <tr>\n",
       "      <th>1305</th>\n",
       "      <td>The Bridge Across Forever: A True Love Story</td>\n",
       "      <td>0.625000</td>\n",
       "      <td>0.425000</td>\n",
       "      <td>Positive</td>\n",
       "    </tr>\n",
       "    <tr>\n",
       "      <th>1306</th>\n",
       "      <td>Magonia</td>\n",
       "      <td>0.000000</td>\n",
       "      <td>0.000000</td>\n",
       "      <td>Positive</td>\n",
       "    </tr>\n",
       "    <tr>\n",
       "      <th>1307</th>\n",
       "      <td>The Mime Order</td>\n",
       "      <td>0.000000</td>\n",
       "      <td>0.000000</td>\n",
       "      <td>Positive</td>\n",
       "    </tr>\n",
       "    <tr>\n",
       "      <th>1308</th>\n",
       "      <td>Bagombo Snuff Box</td>\n",
       "      <td>0.000000</td>\n",
       "      <td>0.000000</td>\n",
       "      <td>Positive</td>\n",
       "    </tr>\n",
       "  </tbody>\n",
       "</table>\n",
       "</div>"
      ],
      "text/plain": [
       "                                    original_title  Subjectivity  Polarity  \\\n",
       "1299                                Divine Madness      0.000000  0.000000   \n",
       "1300                                   Such a Rush      0.500000  0.000000   \n",
       "1301                   Blue Noon (Midnighters, #3)      0.100000  0.000000   \n",
       "1302                                        Hidden      0.333333 -0.166667   \n",
       "1303                         Thank You for Smoking      0.000000  0.000000   \n",
       "1304                                Thirteen Moons      0.000000  0.000000   \n",
       "1305  The Bridge Across Forever: A True Love Story      0.625000  0.425000   \n",
       "1306                                       Magonia      0.000000  0.000000   \n",
       "1307                                The Mime Order      0.000000  0.000000   \n",
       "1308                             Bagombo Snuff Box      0.000000  0.000000   \n",
       "\n",
       "     Sentiment  \n",
       "1299  Positive  \n",
       "1300  Positive  \n",
       "1301  Positive  \n",
       "1302  Negative  \n",
       "1303  Positive  \n",
       "1304  Positive  \n",
       "1305  Positive  \n",
       "1306  Positive  \n",
       "1307  Positive  \n",
       "1308  Positive  "
      ]
     },
     "execution_count": 230,
     "metadata": {},
     "output_type": "execute_result"
    }
   ],
   "source": [
    "# 3 See the last 10 entries\n",
    "\n",
    "df.tail(n = 10)"
   ]
  },
  {
   "cell_type": "code",
   "execution_count": 231,
   "id": "70f613b3",
   "metadata": {},
   "outputs": [
    {
     "data": {
      "text/plain": [
       "943"
      ]
     },
     "execution_count": 231,
     "metadata": {},
     "output_type": "execute_result"
    }
   ],
   "source": [
    "# 4 What is the number of observations in the dataset?\n",
    "\n",
    "users.shape[0]"
   ]
  },
  {
   "cell_type": "code",
   "execution_count": 232,
   "id": "a16dc79a",
   "metadata": {},
   "outputs": [
    {
     "data": {
      "text/plain": [
       "4"
      ]
     },
     "execution_count": 232,
     "metadata": {},
     "output_type": "execute_result"
    }
   ],
   "source": [
    "# 5 What is the number of columns in the dataset?\n",
    "\n",
    "users.shape[1]"
   ]
  },
  {
   "cell_type": "code",
   "execution_count": 233,
   "id": "997479ec",
   "metadata": {},
   "outputs": [
    {
     "data": {
      "text/plain": [
       "Index(['age', 'gender', 'occupation', 'zip_code'], dtype='object')"
      ]
     },
     "execution_count": 233,
     "metadata": {},
     "output_type": "execute_result"
    }
   ],
   "source": [
    "# 6 Print the name of all the columns.\n",
    "\n",
    "users.columns"
   ]
  },
  {
   "cell_type": "code",
   "execution_count": 234,
   "id": "2c1f51aa",
   "metadata": {},
   "outputs": [
    {
     "data": {
      "text/plain": [
       "Index([  1,   2,   3,   4,   5,   6,   7,   8,   9,  10,\n",
       "       ...\n",
       "       934, 935, 936, 937, 938, 939, 940, 941, 942, 943],\n",
       "      dtype='int64', name='user_id', length=943)"
      ]
     },
     "execution_count": 234,
     "metadata": {},
     "output_type": "execute_result"
    }
   ],
   "source": [
    "# 7 How is the dataset indexed?\n",
    "\n",
    "users.index"
   ]
  },
  {
   "cell_type": "code",
   "execution_count": 235,
   "id": "10a40187",
   "metadata": {},
   "outputs": [
    {
     "data": {
      "text/plain": [
       "age            int64\n",
       "gender        object\n",
       "occupation    object\n",
       "zip_code      object\n",
       "dtype: object"
      ]
     },
     "execution_count": 235,
     "metadata": {},
     "output_type": "execute_result"
    }
   ],
   "source": [
    "# 8 What is the data type of each column?\n",
    "\n",
    "users.dtypes"
   ]
  },
  {
   "cell_type": "code",
   "execution_count": 236,
   "id": "d6be7825",
   "metadata": {},
   "outputs": [
    {
     "data": {
      "text/plain": [
       "user_id\n",
       "1         technician\n",
       "2              other\n",
       "3             writer\n",
       "4         technician\n",
       "5              other\n",
       "           ...      \n",
       "939          student\n",
       "940    administrator\n",
       "941          student\n",
       "942        librarian\n",
       "943          student\n",
       "Name: occupation, Length: 943, dtype: object"
      ]
     },
     "execution_count": 236,
     "metadata": {},
     "output_type": "execute_result"
    }
   ],
   "source": [
    "# 9 Print only the occupation column\n",
    "\n",
    "users[\"occupation\"]"
   ]
  },
  {
   "cell_type": "code",
   "execution_count": 237,
   "id": "eee4f7be",
   "metadata": {},
   "outputs": [
    {
     "data": {
      "text/plain": [
       "21"
      ]
     },
     "execution_count": 237,
     "metadata": {},
     "output_type": "execute_result"
    }
   ],
   "source": [
    "# 10 How many different occupations are in this dataset?\n",
    "\n",
    "users[\"occupation\"].nunique()"
   ]
  },
  {
   "cell_type": "code",
   "execution_count": 238,
   "id": "8f86648a",
   "metadata": {},
   "outputs": [
    {
     "data": {
      "text/plain": [
       "'student'"
      ]
     },
     "execution_count": 238,
     "metadata": {},
     "output_type": "execute_result"
    }
   ],
   "source": [
    "# 11 What is the most frequent occupation?\n",
    "\n",
    "users[\"occupation\"].value_counts().sort_values(ascending = False).head(1).index[0]"
   ]
  },
  {
   "cell_type": "code",
   "execution_count": 239,
   "id": "014090e1",
   "metadata": {},
   "outputs": [
    {
     "data": {
      "text/html": [
       "<div>\n",
       "<style scoped>\n",
       "    .dataframe tbody tr th:only-of-type {\n",
       "        vertical-align: middle;\n",
       "    }\n",
       "\n",
       "    .dataframe tbody tr th {\n",
       "        vertical-align: top;\n",
       "    }\n",
       "\n",
       "    .dataframe thead th {\n",
       "        text-align: right;\n",
       "    }\n",
       "</style>\n",
       "<table border=\"1\" class=\"dataframe\">\n",
       "  <thead>\n",
       "    <tr style=\"text-align: right;\">\n",
       "      <th></th>\n",
       "      <th>age</th>\n",
       "    </tr>\n",
       "  </thead>\n",
       "  <tbody>\n",
       "    <tr>\n",
       "      <th>count</th>\n",
       "      <td>943.000000</td>\n",
       "    </tr>\n",
       "    <tr>\n",
       "      <th>mean</th>\n",
       "      <td>34.051962</td>\n",
       "    </tr>\n",
       "    <tr>\n",
       "      <th>std</th>\n",
       "      <td>12.192740</td>\n",
       "    </tr>\n",
       "    <tr>\n",
       "      <th>min</th>\n",
       "      <td>7.000000</td>\n",
       "    </tr>\n",
       "    <tr>\n",
       "      <th>25%</th>\n",
       "      <td>25.000000</td>\n",
       "    </tr>\n",
       "    <tr>\n",
       "      <th>50%</th>\n",
       "      <td>31.000000</td>\n",
       "    </tr>\n",
       "    <tr>\n",
       "      <th>75%</th>\n",
       "      <td>43.000000</td>\n",
       "    </tr>\n",
       "    <tr>\n",
       "      <th>max</th>\n",
       "      <td>73.000000</td>\n",
       "    </tr>\n",
       "  </tbody>\n",
       "</table>\n",
       "</div>"
      ],
      "text/plain": [
       "              age\n",
       "count  943.000000\n",
       "mean    34.051962\n",
       "std     12.192740\n",
       "min      7.000000\n",
       "25%     25.000000\n",
       "50%     31.000000\n",
       "75%     43.000000\n",
       "max     73.000000"
      ]
     },
     "execution_count": 239,
     "metadata": {},
     "output_type": "execute_result"
    }
   ],
   "source": [
    "# 12 Summarize the DataFrame.\n",
    "\n",
    "users.describe()"
   ]
  },
  {
   "cell_type": "code",
   "execution_count": 240,
   "id": "bc393e55",
   "metadata": {},
   "outputs": [
    {
     "data": {
      "text/html": [
       "<div>\n",
       "<style scoped>\n",
       "    .dataframe tbody tr th:only-of-type {\n",
       "        vertical-align: middle;\n",
       "    }\n",
       "\n",
       "    .dataframe tbody tr th {\n",
       "        vertical-align: top;\n",
       "    }\n",
       "\n",
       "    .dataframe thead th {\n",
       "        text-align: right;\n",
       "    }\n",
       "</style>\n",
       "<table border=\"1\" class=\"dataframe\">\n",
       "  <thead>\n",
       "    <tr style=\"text-align: right;\">\n",
       "      <th></th>\n",
       "      <th>age</th>\n",
       "      <th>gender</th>\n",
       "      <th>occupation</th>\n",
       "      <th>zip_code</th>\n",
       "    </tr>\n",
       "  </thead>\n",
       "  <tbody>\n",
       "    <tr>\n",
       "      <th>count</th>\n",
       "      <td>943.000000</td>\n",
       "      <td>943</td>\n",
       "      <td>943</td>\n",
       "      <td>943</td>\n",
       "    </tr>\n",
       "    <tr>\n",
       "      <th>unique</th>\n",
       "      <td>NaN</td>\n",
       "      <td>2</td>\n",
       "      <td>21</td>\n",
       "      <td>795</td>\n",
       "    </tr>\n",
       "    <tr>\n",
       "      <th>top</th>\n",
       "      <td>NaN</td>\n",
       "      <td>M</td>\n",
       "      <td>student</td>\n",
       "      <td>55414</td>\n",
       "    </tr>\n",
       "    <tr>\n",
       "      <th>freq</th>\n",
       "      <td>NaN</td>\n",
       "      <td>670</td>\n",
       "      <td>196</td>\n",
       "      <td>9</td>\n",
       "    </tr>\n",
       "    <tr>\n",
       "      <th>mean</th>\n",
       "      <td>34.051962</td>\n",
       "      <td>NaN</td>\n",
       "      <td>NaN</td>\n",
       "      <td>NaN</td>\n",
       "    </tr>\n",
       "    <tr>\n",
       "      <th>std</th>\n",
       "      <td>12.192740</td>\n",
       "      <td>NaN</td>\n",
       "      <td>NaN</td>\n",
       "      <td>NaN</td>\n",
       "    </tr>\n",
       "    <tr>\n",
       "      <th>min</th>\n",
       "      <td>7.000000</td>\n",
       "      <td>NaN</td>\n",
       "      <td>NaN</td>\n",
       "      <td>NaN</td>\n",
       "    </tr>\n",
       "    <tr>\n",
       "      <th>25%</th>\n",
       "      <td>25.000000</td>\n",
       "      <td>NaN</td>\n",
       "      <td>NaN</td>\n",
       "      <td>NaN</td>\n",
       "    </tr>\n",
       "    <tr>\n",
       "      <th>50%</th>\n",
       "      <td>31.000000</td>\n",
       "      <td>NaN</td>\n",
       "      <td>NaN</td>\n",
       "      <td>NaN</td>\n",
       "    </tr>\n",
       "    <tr>\n",
       "      <th>75%</th>\n",
       "      <td>43.000000</td>\n",
       "      <td>NaN</td>\n",
       "      <td>NaN</td>\n",
       "      <td>NaN</td>\n",
       "    </tr>\n",
       "    <tr>\n",
       "      <th>max</th>\n",
       "      <td>73.000000</td>\n",
       "      <td>NaN</td>\n",
       "      <td>NaN</td>\n",
       "      <td>NaN</td>\n",
       "    </tr>\n",
       "  </tbody>\n",
       "</table>\n",
       "</div>"
      ],
      "text/plain": [
       "               age gender occupation zip_code\n",
       "count   943.000000    943        943      943\n",
       "unique         NaN      2         21      795\n",
       "top            NaN      M    student    55414\n",
       "freq           NaN    670        196        9\n",
       "mean     34.051962    NaN        NaN      NaN\n",
       "std      12.192740    NaN        NaN      NaN\n",
       "min       7.000000    NaN        NaN      NaN\n",
       "25%      25.000000    NaN        NaN      NaN\n",
       "50%      31.000000    NaN        NaN      NaN\n",
       "75%      43.000000    NaN        NaN      NaN\n",
       "max      73.000000    NaN        NaN      NaN"
      ]
     },
     "execution_count": 240,
     "metadata": {},
     "output_type": "execute_result"
    }
   ],
   "source": [
    "# 13 Summarize all the columns\n",
    "\n",
    "users.describe(include = \"all\")"
   ]
  },
  {
   "cell_type": "code",
   "execution_count": 241,
   "id": "69b005a9",
   "metadata": {},
   "outputs": [
    {
     "data": {
      "text/plain": [
       "count         943\n",
       "unique         21\n",
       "top       student\n",
       "freq          196\n",
       "Name: occupation, dtype: object"
      ]
     },
     "execution_count": 241,
     "metadata": {},
     "output_type": "execute_result"
    }
   ],
   "source": [
    "# 14 Summarize only the occupation column\n",
    "\n",
    "users[\"occupation\"].describe()"
   ]
  },
  {
   "cell_type": "code",
   "execution_count": 242,
   "id": "53ecfdd7",
   "metadata": {},
   "outputs": [
    {
     "data": {
      "text/plain": [
       "34.05"
      ]
     },
     "execution_count": 242,
     "metadata": {},
     "output_type": "execute_result"
    }
   ],
   "source": [
    "# 15 What is the mean age of users?\n",
    "\n",
    "np.round(users[\"age\"].mean(),2)"
   ]
  },
  {
   "cell_type": "code",
   "execution_count": 243,
   "id": "47f90973",
   "metadata": {},
   "outputs": [
    {
     "data": {
      "text/plain": [
       "age\n",
       "7     1\n",
       "66    1\n",
       "11    1\n",
       "10    1\n",
       "73    1\n",
       "Name: count, dtype: int64"
      ]
     },
     "execution_count": 243,
     "metadata": {},
     "output_type": "execute_result"
    }
   ],
   "source": [
    "# 16 What is the age with least occurrence?\n",
    "\n",
    "users[\"age\"].value_counts().tail()"
   ]
  },
  {
   "cell_type": "markdown",
   "id": "10f2d4f3",
   "metadata": {},
   "source": [
    "## Question 5c"
   ]
  },
  {
   "cell_type": "code",
   "execution_count": 244,
   "id": "1a22c196",
   "metadata": {},
   "outputs": [
    {
     "name": "stderr",
     "output_type": "stream",
     "text": [
      "C:\\Users\\ASUS\\AppData\\Local\\Temp\\ipykernel_12960\\4146839227.py:3: DtypeWarning: Columns (0,3,5,19,20,24,25,26,27,28,36,37,38,39,48) have mixed types. Specify dtype option on import or set low_memory=False.\n",
      "  food = pd.read_csv(\"food.tsv\",sep=\"\\t\")\n"
     ]
    }
   ],
   "source": [
    "# 1 Use the tsv file and assign it to a dataframe called food\n",
    "\n",
    "food = pd.read_csv(\"food.tsv\",sep=\"\\t\")"
   ]
  },
  {
   "cell_type": "code",
   "execution_count": 245,
   "id": "abfa668d",
   "metadata": {},
   "outputs": [
    {
     "data": {
      "text/html": [
       "<div>\n",
       "<style scoped>\n",
       "    .dataframe tbody tr th:only-of-type {\n",
       "        vertical-align: middle;\n",
       "    }\n",
       "\n",
       "    .dataframe tbody tr th {\n",
       "        vertical-align: top;\n",
       "    }\n",
       "\n",
       "    .dataframe thead th {\n",
       "        text-align: right;\n",
       "    }\n",
       "</style>\n",
       "<table border=\"1\" class=\"dataframe\">\n",
       "  <thead>\n",
       "    <tr style=\"text-align: right;\">\n",
       "      <th></th>\n",
       "      <th>code</th>\n",
       "      <th>url</th>\n",
       "      <th>creator</th>\n",
       "      <th>created_t</th>\n",
       "      <th>created_datetime</th>\n",
       "      <th>last_modified_t</th>\n",
       "      <th>last_modified_datetime</th>\n",
       "      <th>product_name</th>\n",
       "      <th>generic_name</th>\n",
       "      <th>quantity</th>\n",
       "      <th>...</th>\n",
       "      <th>fruits-vegetables-nuts_100g</th>\n",
       "      <th>fruits-vegetables-nuts-estimate_100g</th>\n",
       "      <th>collagen-meat-protein-ratio_100g</th>\n",
       "      <th>cocoa_100g</th>\n",
       "      <th>chlorophyl_100g</th>\n",
       "      <th>carbon-footprint_100g</th>\n",
       "      <th>nutrition-score-fr_100g</th>\n",
       "      <th>nutrition-score-uk_100g</th>\n",
       "      <th>glycemic-index_100g</th>\n",
       "      <th>water-hardness_100g</th>\n",
       "    </tr>\n",
       "  </thead>\n",
       "  <tbody>\n",
       "    <tr>\n",
       "      <th>0</th>\n",
       "      <td>3087</td>\n",
       "      <td>http://world-en.openfoodfacts.org/product/0000...</td>\n",
       "      <td>openfoodfacts-contributors</td>\n",
       "      <td>1474103866</td>\n",
       "      <td>2016-09-17T09:17:46Z</td>\n",
       "      <td>1474103893</td>\n",
       "      <td>2016-09-17T09:18:13Z</td>\n",
       "      <td>Farine de blé noir</td>\n",
       "      <td>NaN</td>\n",
       "      <td>1kg</td>\n",
       "      <td>...</td>\n",
       "      <td>NaN</td>\n",
       "      <td>NaN</td>\n",
       "      <td>NaN</td>\n",
       "      <td>NaN</td>\n",
       "      <td>NaN</td>\n",
       "      <td>NaN</td>\n",
       "      <td>NaN</td>\n",
       "      <td>NaN</td>\n",
       "      <td>NaN</td>\n",
       "      <td>NaN</td>\n",
       "    </tr>\n",
       "    <tr>\n",
       "      <th>1</th>\n",
       "      <td>4530</td>\n",
       "      <td>http://world-en.openfoodfacts.org/product/0000...</td>\n",
       "      <td>usda-ndb-import</td>\n",
       "      <td>1489069957</td>\n",
       "      <td>2017-03-09T14:32:37Z</td>\n",
       "      <td>1489069957</td>\n",
       "      <td>2017-03-09T14:32:37Z</td>\n",
       "      <td>Banana Chips Sweetened (Whole)</td>\n",
       "      <td>NaN</td>\n",
       "      <td>NaN</td>\n",
       "      <td>...</td>\n",
       "      <td>NaN</td>\n",
       "      <td>NaN</td>\n",
       "      <td>NaN</td>\n",
       "      <td>NaN</td>\n",
       "      <td>NaN</td>\n",
       "      <td>NaN</td>\n",
       "      <td>14.0</td>\n",
       "      <td>14.0</td>\n",
       "      <td>NaN</td>\n",
       "      <td>NaN</td>\n",
       "    </tr>\n",
       "    <tr>\n",
       "      <th>2</th>\n",
       "      <td>4559</td>\n",
       "      <td>http://world-en.openfoodfacts.org/product/0000...</td>\n",
       "      <td>usda-ndb-import</td>\n",
       "      <td>1489069957</td>\n",
       "      <td>2017-03-09T14:32:37Z</td>\n",
       "      <td>1489069957</td>\n",
       "      <td>2017-03-09T14:32:37Z</td>\n",
       "      <td>Peanuts</td>\n",
       "      <td>NaN</td>\n",
       "      <td>NaN</td>\n",
       "      <td>...</td>\n",
       "      <td>NaN</td>\n",
       "      <td>NaN</td>\n",
       "      <td>NaN</td>\n",
       "      <td>NaN</td>\n",
       "      <td>NaN</td>\n",
       "      <td>NaN</td>\n",
       "      <td>0.0</td>\n",
       "      <td>0.0</td>\n",
       "      <td>NaN</td>\n",
       "      <td>NaN</td>\n",
       "    </tr>\n",
       "    <tr>\n",
       "      <th>3</th>\n",
       "      <td>16087</td>\n",
       "      <td>http://world-en.openfoodfacts.org/product/0000...</td>\n",
       "      <td>usda-ndb-import</td>\n",
       "      <td>1489055731</td>\n",
       "      <td>2017-03-09T10:35:31Z</td>\n",
       "      <td>1489055731</td>\n",
       "      <td>2017-03-09T10:35:31Z</td>\n",
       "      <td>Organic Salted Nut Mix</td>\n",
       "      <td>NaN</td>\n",
       "      <td>NaN</td>\n",
       "      <td>...</td>\n",
       "      <td>NaN</td>\n",
       "      <td>NaN</td>\n",
       "      <td>NaN</td>\n",
       "      <td>NaN</td>\n",
       "      <td>NaN</td>\n",
       "      <td>NaN</td>\n",
       "      <td>12.0</td>\n",
       "      <td>12.0</td>\n",
       "      <td>NaN</td>\n",
       "      <td>NaN</td>\n",
       "    </tr>\n",
       "    <tr>\n",
       "      <th>4</th>\n",
       "      <td>16094</td>\n",
       "      <td>http://world-en.openfoodfacts.org/product/0000...</td>\n",
       "      <td>usda-ndb-import</td>\n",
       "      <td>1489055653</td>\n",
       "      <td>2017-03-09T10:34:13Z</td>\n",
       "      <td>1489055653</td>\n",
       "      <td>2017-03-09T10:34:13Z</td>\n",
       "      <td>Organic Polenta</td>\n",
       "      <td>NaN</td>\n",
       "      <td>NaN</td>\n",
       "      <td>...</td>\n",
       "      <td>NaN</td>\n",
       "      <td>NaN</td>\n",
       "      <td>NaN</td>\n",
       "      <td>NaN</td>\n",
       "      <td>NaN</td>\n",
       "      <td>NaN</td>\n",
       "      <td>NaN</td>\n",
       "      <td>NaN</td>\n",
       "      <td>NaN</td>\n",
       "      <td>NaN</td>\n",
       "    </tr>\n",
       "  </tbody>\n",
       "</table>\n",
       "<p>5 rows × 163 columns</p>\n",
       "</div>"
      ],
      "text/plain": [
       "    code                                                url  \\\n",
       "0   3087  http://world-en.openfoodfacts.org/product/0000...   \n",
       "1   4530  http://world-en.openfoodfacts.org/product/0000...   \n",
       "2   4559  http://world-en.openfoodfacts.org/product/0000...   \n",
       "3  16087  http://world-en.openfoodfacts.org/product/0000...   \n",
       "4  16094  http://world-en.openfoodfacts.org/product/0000...   \n",
       "\n",
       "                      creator   created_t      created_datetime  \\\n",
       "0  openfoodfacts-contributors  1474103866  2016-09-17T09:17:46Z   \n",
       "1             usda-ndb-import  1489069957  2017-03-09T14:32:37Z   \n",
       "2             usda-ndb-import  1489069957  2017-03-09T14:32:37Z   \n",
       "3             usda-ndb-import  1489055731  2017-03-09T10:35:31Z   \n",
       "4             usda-ndb-import  1489055653  2017-03-09T10:34:13Z   \n",
       "\n",
       "  last_modified_t last_modified_datetime                    product_name  \\\n",
       "0      1474103893   2016-09-17T09:18:13Z              Farine de blé noir   \n",
       "1      1489069957   2017-03-09T14:32:37Z  Banana Chips Sweetened (Whole)   \n",
       "2      1489069957   2017-03-09T14:32:37Z                         Peanuts   \n",
       "3      1489055731   2017-03-09T10:35:31Z          Organic Salted Nut Mix   \n",
       "4      1489055653   2017-03-09T10:34:13Z                 Organic Polenta   \n",
       "\n",
       "  generic_name quantity  ... fruits-vegetables-nuts_100g  \\\n",
       "0          NaN      1kg  ...                         NaN   \n",
       "1          NaN      NaN  ...                         NaN   \n",
       "2          NaN      NaN  ...                         NaN   \n",
       "3          NaN      NaN  ...                         NaN   \n",
       "4          NaN      NaN  ...                         NaN   \n",
       "\n",
       "  fruits-vegetables-nuts-estimate_100g collagen-meat-protein-ratio_100g  \\\n",
       "0                                  NaN                              NaN   \n",
       "1                                  NaN                              NaN   \n",
       "2                                  NaN                              NaN   \n",
       "3                                  NaN                              NaN   \n",
       "4                                  NaN                              NaN   \n",
       "\n",
       "  cocoa_100g chlorophyl_100g carbon-footprint_100g nutrition-score-fr_100g  \\\n",
       "0        NaN             NaN                   NaN                     NaN   \n",
       "1        NaN             NaN                   NaN                    14.0   \n",
       "2        NaN             NaN                   NaN                     0.0   \n",
       "3        NaN             NaN                   NaN                    12.0   \n",
       "4        NaN             NaN                   NaN                     NaN   \n",
       "\n",
       "  nutrition-score-uk_100g glycemic-index_100g water-hardness_100g  \n",
       "0                     NaN                 NaN                 NaN  \n",
       "1                    14.0                 NaN                 NaN  \n",
       "2                     0.0                 NaN                 NaN  \n",
       "3                    12.0                 NaN                 NaN  \n",
       "4                     NaN                 NaN                 NaN  \n",
       "\n",
       "[5 rows x 163 columns]"
      ]
     },
     "execution_count": 245,
     "metadata": {},
     "output_type": "execute_result"
    }
   ],
   "source": [
    "# 2 See the first 5 entries\n",
    "\n",
    "food.head()"
   ]
  },
  {
   "cell_type": "code",
   "execution_count": 246,
   "id": "4dd9dabf",
   "metadata": {},
   "outputs": [
    {
     "data": {
      "text/plain": [
       "356027"
      ]
     },
     "execution_count": 246,
     "metadata": {},
     "output_type": "execute_result"
    }
   ],
   "source": [
    "# 3 What is the number of observations in the dataset?\n",
    "\n",
    "food.shape[0]"
   ]
  },
  {
   "cell_type": "code",
   "execution_count": 247,
   "id": "9cea2d68",
   "metadata": {},
   "outputs": [
    {
     "data": {
      "text/plain": [
       "163"
      ]
     },
     "execution_count": 247,
     "metadata": {},
     "output_type": "execute_result"
    }
   ],
   "source": [
    "# 4 What is the number of columns in the dataset?\n",
    "\n",
    "food.shape[1]"
   ]
  },
  {
   "cell_type": "code",
   "execution_count": 248,
   "id": "ff9d0f7d",
   "metadata": {},
   "outputs": [
    {
     "data": {
      "text/plain": [
       "Index(['code', 'url', 'creator', 'created_t', 'created_datetime',\n",
       "       'last_modified_t', 'last_modified_datetime', 'product_name',\n",
       "       'generic_name', 'quantity',\n",
       "       ...\n",
       "       'fruits-vegetables-nuts_100g', 'fruits-vegetables-nuts-estimate_100g',\n",
       "       'collagen-meat-protein-ratio_100g', 'cocoa_100g', 'chlorophyl_100g',\n",
       "       'carbon-footprint_100g', 'nutrition-score-fr_100g',\n",
       "       'nutrition-score-uk_100g', 'glycemic-index_100g',\n",
       "       'water-hardness_100g'],\n",
       "      dtype='object', length=163)"
      ]
     },
     "execution_count": 248,
     "metadata": {},
     "output_type": "execute_result"
    }
   ],
   "source": [
    "# 5 Print the name of all the columns.\n",
    "\n",
    "food.columns"
   ]
  },
  {
   "cell_type": "code",
   "execution_count": 249,
   "id": "cc8d3a26",
   "metadata": {},
   "outputs": [
    {
     "data": {
      "text/plain": [
       "'-fructose_100g'"
      ]
     },
     "execution_count": 249,
     "metadata": {},
     "output_type": "execute_result"
    }
   ],
   "source": [
    "# 6 What is the name of 105th column?\n",
    "\n",
    "food.columns[105]"
   ]
  },
  {
   "cell_type": "code",
   "execution_count": 250,
   "id": "9a8ec3e8",
   "metadata": {},
   "outputs": [
    {
     "name": "stderr",
     "output_type": "stream",
     "text": [
      "C:\\Users\\ASUS\\AppData\\Local\\Temp\\ipykernel_12960\\3430787833.py:3: FutureWarning: Series.__getitem__ treating keys as positions is deprecated. In a future version, integer keys will always be treated as labels (consistent with DataFrame behavior). To access a value by position, use `ser.iloc[pos]`\n",
      "  food.dtypes[105]\n"
     ]
    },
    {
     "data": {
      "text/plain": [
       "dtype('float64')"
      ]
     },
     "execution_count": 250,
     "metadata": {},
     "output_type": "execute_result"
    }
   ],
   "source": [
    "# 7 What is the type of the observations of the 105th column?\n",
    "\n",
    "food.dtypes[105]"
   ]
  },
  {
   "cell_type": "code",
   "execution_count": 251,
   "id": "d7797061",
   "metadata": {},
   "outputs": [
    {
     "data": {
      "text/plain": [
       "RangeIndex(start=0, stop=356027, step=1)"
      ]
     },
     "execution_count": 251,
     "metadata": {},
     "output_type": "execute_result"
    }
   ],
   "source": [
    "# 8 How is the dataset indexed?\n",
    "\n",
    "food.index"
   ]
  },
  {
   "cell_type": "code",
   "execution_count": 252,
   "id": "14f9ca11",
   "metadata": {},
   "outputs": [
    {
     "data": {
      "text/plain": [
       "'Lotus Organic Brown Jasmine Rice'"
      ]
     },
     "execution_count": 252,
     "metadata": {},
     "output_type": "execute_result"
    }
   ],
   "source": [
    "# 9 What is the product name of the 19th observation?\n",
    "\n",
    "food.loc[18,\"product_name\"]"
   ]
  }
 ],
 "metadata": {
  "kernelspec": {
   "display_name": "Python 3 (ipykernel)",
   "language": "python",
   "name": "python3"
  },
  "language_info": {
   "codemirror_mode": {
    "name": "ipython",
    "version": 3
   },
   "file_extension": ".py",
   "mimetype": "text/x-python",
   "name": "python",
   "nbconvert_exporter": "python",
   "pygments_lexer": "ipython3",
   "version": "3.11.5"
  }
 },
 "nbformat": 4,
 "nbformat_minor": 5
}
